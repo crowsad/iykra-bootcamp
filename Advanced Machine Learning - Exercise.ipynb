{
 "cells": [
  {
   "cell_type": "markdown",
   "metadata": {},
   "source": [
    "# Advanced Machine Learning "
   ]
  },
  {
   "cell_type": "code",
   "execution_count": 12,
   "metadata": {
    "ExecuteTime": {
     "end_time": "2019-11-08T02:07:38.243000Z",
     "start_time": "2019-11-08T02:07:38.199000Z"
    }
   },
   "outputs": [],
   "source": [
    "# Load dataset (iris), split into X_train, y_train, X_test, y_test!\n",
    "# Write your code here\n",
    "import pandas as pd\n",
    "from sklearn.datasets import load_iris\n",
    "\n",
    "iris = load_iris()\n",
    "data = pd.DataFrame(iris.data, columns=iris.feature_names)\n",
    "data['target'] = pd.Series(iris.target)"
   ]
  },
  {
   "cell_type": "code",
   "execution_count": 14,
   "metadata": {
    "ExecuteTime": {
     "end_time": "2019-11-08T02:09:20.516000Z",
     "start_time": "2019-11-08T02:09:20.477000Z"
    }
   },
   "outputs": [],
   "source": [
    "from sklearn.model_selection import train_test_split\n",
    "\n",
    "X = data.drop('target', axis=1)\n",
    "y = data['target']\n",
    "X_train, X_test, y_train, y_test = train_test_split(X, y, test_size=0.3, random_state=42)"
   ]
  },
  {
   "cell_type": "markdown",
   "metadata": {},
   "source": [
    "## 1. Voting "
   ]
  },
  {
   "cell_type": "code",
   "execution_count": 34,
   "metadata": {
    "ExecuteTime": {
     "end_time": "2019-11-08T02:32:53.440000Z",
     "start_time": "2019-11-08T02:32:53.365000Z"
    }
   },
   "outputs": [
    {
     "name": "stdout",
     "output_type": "stream",
     "text": [
      "Accuracy: 100%\n"
     ]
    },
    {
     "name": "stderr",
     "output_type": "stream",
     "text": [
      "C:\\Users\\mpadmanagara\\AppData\\Local\\Continuum\\anaconda3\\lib\\site-packages\\sklearn\\linear_model\\logistic.py:432: FutureWarning: Default solver will be changed to 'lbfgs' in 0.22. Specify a solver to silence this warning.\n",
      "  FutureWarning)\n",
      "C:\\Users\\mpadmanagara\\AppData\\Local\\Continuum\\anaconda3\\lib\\site-packages\\sklearn\\linear_model\\logistic.py:469: FutureWarning: Default multi_class will be changed to 'auto' in 0.22. Specify the multi_class option to silence this warning.\n",
      "  \"this warning.\", FutureWarning)\n"
     ]
    }
   ],
   "source": [
    "from sklearn.ensemble import VotingClassifier\n",
    "from sklearn.neighbors import KNeighborsClassifier\n",
    "from sklearn.tree import DecisionTreeClassifier\n",
    "from sklearn.linear_model import LogisticRegression\n",
    "from sklearn.metrics import accuracy_score\n",
    "# Hint: \n",
    "# clf_voting = VotingClassifier( estimators=[('label1', clf_1),\n",
    "#('label2', clf_2),\n",
    "#('labelN', clf_N)]) \n",
    "\n",
    "# Create the individual models\n",
    "clf_knn = KNeighborsClassifier(5)\n",
    "clf_dt = DecisionTreeClassifier()\n",
    "clf_lr = LogisticRegression()\n",
    "\n",
    "# Create voting classifier\n",
    "clf_voting = VotingClassifier(estimators=[\n",
    "('knn', clf_knn),\n",
    "('dt', clf_dt),\n",
    "('lr', clf_lr)])\n",
    "\n",
    "# Fit it to the training set and predict\n",
    "clf_voting.fit(X_train, y_train)\n",
    "y_pred = clf_voting.predict(X_test)\n",
    "\n",
    "# Get the accuracy score\n",
    "acc = accuracy_score(y_test, y_pred)\n",
    "print(\"Accuracy: {:.0f}%\".format(acc*100))"
   ]
  },
  {
   "cell_type": "markdown",
   "metadata": {},
   "source": [
    "## 2. Averaging "
   ]
  },
  {
   "cell_type": "code",
   "execution_count": 24,
   "metadata": {
    "ExecuteTime": {
     "end_time": "2019-11-08T02:18:45.208000Z",
     "start_time": "2019-11-08T02:18:45.142000Z"
    }
   },
   "outputs": [
    {
     "name": "stdout",
     "output_type": "stream",
     "text": [
      "Accuracy: 100%\n"
     ]
    },
    {
     "name": "stderr",
     "output_type": "stream",
     "text": [
      "C:\\Users\\mpadmanagara\\AppData\\Local\\Continuum\\anaconda3\\lib\\site-packages\\sklearn\\linear_model\\logistic.py:432: FutureWarning: Default solver will be changed to 'lbfgs' in 0.22. Specify a solver to silence this warning.\n",
      "  FutureWarning)\n",
      "C:\\Users\\mpadmanagara\\AppData\\Local\\Continuum\\anaconda3\\lib\\site-packages\\sklearn\\linear_model\\logistic.py:469: FutureWarning: Default multi_class will be changed to 'auto' in 0.22. Specify the multi_class option to silence this warning.\n",
      "  \"this warning.\", FutureWarning)\n"
     ]
    }
   ],
   "source": [
    "# Template for averaging Classifier \n",
    "\n",
    "from sklearn.ensemble import VotingClassifier\n",
    "\n",
    "# clf_voting = VotingClassifier(\n",
    "# estimators=[\n",
    "#('label1', clf_1),\n",
    "#('label2', clf_2),\n",
    "#...\n",
    "#('labelN', clf_N)],\n",
    "#voting='soft',\n",
    "#weights=[w_1, w_2, ..., w_N]\n",
    "#)\n",
    "\n",
    "clf_voting = VotingClassifier(estimators=[\n",
    "('knn', clf_knn),\n",
    "('dt', clf_dt),\n",
    "('lr', clf_lr)], voting='soft')\n",
    "\n",
    "# Fit it to the training set and predict\n",
    "clf_voting.fit(X_train, y_train)\n",
    "y_pred = clf_voting.predict(X_test)\n",
    "\n",
    "# Get the accuracy score\n",
    "acc = accuracy_score(y_test, y_pred)\n",
    "print(\"Accuracy: {:.0f}%\".format(acc*100))"
   ]
  },
  {
   "cell_type": "code",
   "execution_count": null,
   "metadata": {},
   "outputs": [],
   "source": [
    "# Initiate the individual models \n",
    "\n",
    "# Write your code here! \n",
    "\n",
    "# Create averaging classifier\n",
    "\n",
    "# Write your code here! "
   ]
  },
  {
   "cell_type": "markdown",
   "metadata": {},
   "source": [
    "## 3. Bagging"
   ]
  },
  {
   "cell_type": "code",
   "execution_count": 42,
   "metadata": {
    "ExecuteTime": {
     "end_time": "2019-11-08T04:06:04.185000Z",
     "start_time": "2019-11-08T04:06:04.072000Z"
    }
   },
   "outputs": [
    {
     "data": {
      "text/html": [
       "<div>\n",
       "<style scoped>\n",
       "    .dataframe tbody tr th:only-of-type {\n",
       "        vertical-align: middle;\n",
       "    }\n",
       "\n",
       "    .dataframe tbody tr th {\n",
       "        vertical-align: top;\n",
       "    }\n",
       "\n",
       "    .dataframe thead th {\n",
       "        text-align: right;\n",
       "    }\n",
       "</style>\n",
       "<table border=\"1\" class=\"dataframe\">\n",
       "  <thead>\n",
       "    <tr style=\"text-align: right;\">\n",
       "      <th></th>\n",
       "      <th>mean radius</th>\n",
       "      <th>mean texture</th>\n",
       "      <th>mean perimeter</th>\n",
       "      <th>mean area</th>\n",
       "      <th>mean smoothness</th>\n",
       "      <th>mean compactness</th>\n",
       "      <th>mean concavity</th>\n",
       "      <th>mean concave points</th>\n",
       "      <th>mean symmetry</th>\n",
       "      <th>mean fractal dimension</th>\n",
       "      <th>radius error</th>\n",
       "      <th>texture error</th>\n",
       "      <th>perimeter error</th>\n",
       "      <th>area error</th>\n",
       "      <th>smoothness error</th>\n",
       "      <th>compactness error</th>\n",
       "      <th>concavity error</th>\n",
       "      <th>concave points error</th>\n",
       "      <th>symmetry error</th>\n",
       "      <th>fractal dimension error</th>\n",
       "      <th>worst radius</th>\n",
       "      <th>worst texture</th>\n",
       "      <th>worst perimeter</th>\n",
       "      <th>worst area</th>\n",
       "      <th>worst smoothness</th>\n",
       "      <th>worst compactness</th>\n",
       "      <th>worst concavity</th>\n",
       "      <th>worst concave points</th>\n",
       "      <th>worst symmetry</th>\n",
       "      <th>worst fractal dimension</th>\n",
       "      <th>target</th>\n",
       "    </tr>\n",
       "  </thead>\n",
       "  <tbody>\n",
       "    <tr>\n",
       "      <th>316</th>\n",
       "      <td>12.18</td>\n",
       "      <td>14.08</td>\n",
       "      <td>77.25</td>\n",
       "      <td>461.4</td>\n",
       "      <td>0.07734</td>\n",
       "      <td>0.03212</td>\n",
       "      <td>0.01123</td>\n",
       "      <td>0.005051</td>\n",
       "      <td>0.1673</td>\n",
       "      <td>0.05649</td>\n",
       "      <td>0.2113</td>\n",
       "      <td>0.5996</td>\n",
       "      <td>1.438</td>\n",
       "      <td>15.82</td>\n",
       "      <td>0.005343</td>\n",
       "      <td>0.005767</td>\n",
       "      <td>0.011230</td>\n",
       "      <td>0.005051</td>\n",
       "      <td>0.01977</td>\n",
       "      <td>0.000950</td>\n",
       "      <td>12.85</td>\n",
       "      <td>16.47</td>\n",
       "      <td>81.60</td>\n",
       "      <td>513.1</td>\n",
       "      <td>0.1001</td>\n",
       "      <td>0.05332</td>\n",
       "      <td>0.04116</td>\n",
       "      <td>0.01852</td>\n",
       "      <td>0.2293</td>\n",
       "      <td>0.06037</td>\n",
       "      <td>1</td>\n",
       "    </tr>\n",
       "    <tr>\n",
       "      <th>405</th>\n",
       "      <td>10.94</td>\n",
       "      <td>18.59</td>\n",
       "      <td>70.39</td>\n",
       "      <td>370.0</td>\n",
       "      <td>0.10040</td>\n",
       "      <td>0.07460</td>\n",
       "      <td>0.04944</td>\n",
       "      <td>0.029320</td>\n",
       "      <td>0.1486</td>\n",
       "      <td>0.06615</td>\n",
       "      <td>0.3796</td>\n",
       "      <td>1.7430</td>\n",
       "      <td>3.018</td>\n",
       "      <td>25.78</td>\n",
       "      <td>0.009519</td>\n",
       "      <td>0.021340</td>\n",
       "      <td>0.019900</td>\n",
       "      <td>0.011550</td>\n",
       "      <td>0.02079</td>\n",
       "      <td>0.002701</td>\n",
       "      <td>12.40</td>\n",
       "      <td>25.58</td>\n",
       "      <td>82.76</td>\n",
       "      <td>472.4</td>\n",
       "      <td>0.1363</td>\n",
       "      <td>0.16440</td>\n",
       "      <td>0.14120</td>\n",
       "      <td>0.07887</td>\n",
       "      <td>0.2251</td>\n",
       "      <td>0.07732</td>\n",
       "      <td>1</td>\n",
       "    </tr>\n",
       "    <tr>\n",
       "      <th>235</th>\n",
       "      <td>14.03</td>\n",
       "      <td>21.25</td>\n",
       "      <td>89.79</td>\n",
       "      <td>603.4</td>\n",
       "      <td>0.09070</td>\n",
       "      <td>0.06945</td>\n",
       "      <td>0.01462</td>\n",
       "      <td>0.018960</td>\n",
       "      <td>0.1517</td>\n",
       "      <td>0.05835</td>\n",
       "      <td>0.2589</td>\n",
       "      <td>1.5030</td>\n",
       "      <td>1.667</td>\n",
       "      <td>22.07</td>\n",
       "      <td>0.007389</td>\n",
       "      <td>0.013830</td>\n",
       "      <td>0.007302</td>\n",
       "      <td>0.010040</td>\n",
       "      <td>0.01263</td>\n",
       "      <td>0.002925</td>\n",
       "      <td>15.33</td>\n",
       "      <td>30.28</td>\n",
       "      <td>98.27</td>\n",
       "      <td>715.5</td>\n",
       "      <td>0.1287</td>\n",
       "      <td>0.15130</td>\n",
       "      <td>0.06231</td>\n",
       "      <td>0.07963</td>\n",
       "      <td>0.2226</td>\n",
       "      <td>0.07617</td>\n",
       "      <td>1</td>\n",
       "    </tr>\n",
       "    <tr>\n",
       "      <th>81</th>\n",
       "      <td>13.34</td>\n",
       "      <td>15.86</td>\n",
       "      <td>86.49</td>\n",
       "      <td>520.0</td>\n",
       "      <td>0.10780</td>\n",
       "      <td>0.15350</td>\n",
       "      <td>0.11690</td>\n",
       "      <td>0.069870</td>\n",
       "      <td>0.1942</td>\n",
       "      <td>0.06902</td>\n",
       "      <td>0.2860</td>\n",
       "      <td>1.0160</td>\n",
       "      <td>1.535</td>\n",
       "      <td>12.96</td>\n",
       "      <td>0.006794</td>\n",
       "      <td>0.035750</td>\n",
       "      <td>0.039800</td>\n",
       "      <td>0.013830</td>\n",
       "      <td>0.02134</td>\n",
       "      <td>0.004603</td>\n",
       "      <td>15.53</td>\n",
       "      <td>23.19</td>\n",
       "      <td>96.66</td>\n",
       "      <td>614.9</td>\n",
       "      <td>0.1536</td>\n",
       "      <td>0.47910</td>\n",
       "      <td>0.48580</td>\n",
       "      <td>0.17080</td>\n",
       "      <td>0.3527</td>\n",
       "      <td>0.10160</td>\n",
       "      <td>1</td>\n",
       "    </tr>\n",
       "    <tr>\n",
       "      <th>498</th>\n",
       "      <td>18.49</td>\n",
       "      <td>17.52</td>\n",
       "      <td>121.30</td>\n",
       "      <td>1068.0</td>\n",
       "      <td>0.10120</td>\n",
       "      <td>0.13170</td>\n",
       "      <td>0.14910</td>\n",
       "      <td>0.091830</td>\n",
       "      <td>0.1832</td>\n",
       "      <td>0.06697</td>\n",
       "      <td>0.7923</td>\n",
       "      <td>1.0450</td>\n",
       "      <td>4.851</td>\n",
       "      <td>95.77</td>\n",
       "      <td>0.007974</td>\n",
       "      <td>0.032140</td>\n",
       "      <td>0.044350</td>\n",
       "      <td>0.015730</td>\n",
       "      <td>0.01617</td>\n",
       "      <td>0.005255</td>\n",
       "      <td>22.75</td>\n",
       "      <td>22.88</td>\n",
       "      <td>146.40</td>\n",
       "      <td>1600.0</td>\n",
       "      <td>0.1412</td>\n",
       "      <td>0.30890</td>\n",
       "      <td>0.35330</td>\n",
       "      <td>0.16630</td>\n",
       "      <td>0.2510</td>\n",
       "      <td>0.09445</td>\n",
       "      <td>0</td>\n",
       "    </tr>\n",
       "  </tbody>\n",
       "</table>\n",
       "</div>"
      ],
      "text/plain": [
       "     mean radius  mean texture  mean perimeter  mean area  mean smoothness  \\\n",
       "316        12.18         14.08           77.25      461.4          0.07734   \n",
       "405        10.94         18.59           70.39      370.0          0.10040   \n",
       "235        14.03         21.25           89.79      603.4          0.09070   \n",
       "81         13.34         15.86           86.49      520.0          0.10780   \n",
       "498        18.49         17.52          121.30     1068.0          0.10120   \n",
       "\n",
       "     mean compactness  mean concavity  mean concave points  mean symmetry  \\\n",
       "316           0.03212         0.01123             0.005051         0.1673   \n",
       "405           0.07460         0.04944             0.029320         0.1486   \n",
       "235           0.06945         0.01462             0.018960         0.1517   \n",
       "81            0.15350         0.11690             0.069870         0.1942   \n",
       "498           0.13170         0.14910             0.091830         0.1832   \n",
       "\n",
       "     mean fractal dimension  radius error  texture error  perimeter error  \\\n",
       "316                 0.05649        0.2113         0.5996            1.438   \n",
       "405                 0.06615        0.3796         1.7430            3.018   \n",
       "235                 0.05835        0.2589         1.5030            1.667   \n",
       "81                  0.06902        0.2860         1.0160            1.535   \n",
       "498                 0.06697        0.7923         1.0450            4.851   \n",
       "\n",
       "     area error  smoothness error  compactness error  concavity error  \\\n",
       "316       15.82          0.005343           0.005767         0.011230   \n",
       "405       25.78          0.009519           0.021340         0.019900   \n",
       "235       22.07          0.007389           0.013830         0.007302   \n",
       "81        12.96          0.006794           0.035750         0.039800   \n",
       "498       95.77          0.007974           0.032140         0.044350   \n",
       "\n",
       "     concave points error  symmetry error  fractal dimension error  \\\n",
       "316              0.005051         0.01977                 0.000950   \n",
       "405              0.011550         0.02079                 0.002701   \n",
       "235              0.010040         0.01263                 0.002925   \n",
       "81               0.013830         0.02134                 0.004603   \n",
       "498              0.015730         0.01617                 0.005255   \n",
       "\n",
       "     worst radius  worst texture  worst perimeter  worst area  \\\n",
       "316         12.85          16.47            81.60       513.1   \n",
       "405         12.40          25.58            82.76       472.4   \n",
       "235         15.33          30.28            98.27       715.5   \n",
       "81          15.53          23.19            96.66       614.9   \n",
       "498         22.75          22.88           146.40      1600.0   \n",
       "\n",
       "     worst smoothness  worst compactness  worst concavity  \\\n",
       "316            0.1001            0.05332          0.04116   \n",
       "405            0.1363            0.16440          0.14120   \n",
       "235            0.1287            0.15130          0.06231   \n",
       "81             0.1536            0.47910          0.48580   \n",
       "498            0.1412            0.30890          0.35330   \n",
       "\n",
       "     worst concave points  worst symmetry  worst fractal dimension  target  \n",
       "316               0.01852          0.2293                  0.06037       1  \n",
       "405               0.07887          0.2251                  0.07732       1  \n",
       "235               0.07963          0.2226                  0.07617       1  \n",
       "81                0.17080          0.3527                  0.10160       1  \n",
       "498               0.16630          0.2510                  0.09445       0  "
      ]
     },
     "execution_count": 42,
     "metadata": {},
     "output_type": "execute_result"
    }
   ],
   "source": [
    "from sklearn.datasets import load_breast_cancer\n",
    "from IPython.display import display, Markdown\n",
    "pd.options.display.max_columns = None\n",
    "pd.options.display.max_rows = 15\n",
    "\n",
    "bc = load_breast_cancer()\n",
    "data = pd.DataFrame(bc.data, columns=bc.feature_names)\n",
    "data['target'] = pd.Series(bc.target)\n",
    "data.sample(5)"
   ]
  },
  {
   "cell_type": "code",
   "execution_count": 43,
   "metadata": {
    "ExecuteTime": {
     "end_time": "2019-11-08T04:08:23.641000Z",
     "start_time": "2019-11-08T04:08:23.620000Z"
    }
   },
   "outputs": [],
   "source": [
    "X = data.drop('target', axis=1)\n",
    "y = data['target']\n",
    "\n",
    "X_train, X_test, y_train, y_test = train_test_split(X, y, test_size=0.3)"
   ]
  },
  {
   "cell_type": "code",
   "execution_count": 69,
   "metadata": {
    "ExecuteTime": {
     "end_time": "2019-11-08T04:28:27.442000Z",
     "start_time": "2019-11-08T04:28:27.347000Z"
    }
   },
   "outputs": [],
   "source": [
    "from sklearn.ensemble import BaggingClassifier\n",
    "from sklearn.neighbors import KNeighborsClassifier\n",
    "from sklearn.metrics import confusion_matrix\n",
    "\n",
    "bagging = BaggingClassifier(KNeighborsClassifier(3),\n",
    "                           max_samples=0.5, max_features=0.5)\n",
    "bagging.fit(X_train, y_train)\n",
    "y_pred = bagging.predict(X_test)"
   ]
  },
  {
   "cell_type": "code",
   "execution_count": 47,
   "metadata": {
    "ExecuteTime": {
     "end_time": "2019-11-08T04:14:29.018000Z",
     "start_time": "2019-11-08T04:14:28.961000Z"
    }
   },
   "outputs": [],
   "source": [
    "import matplotlib.pyplot as plt\n",
    "def plot_confusion_matrix(y_true, y_pred, classes,\n",
    "                          normalize=False,\n",
    "                          title=None,\n",
    "                          cmap=plt.cm.Blues):\n",
    "    \"\"\"\n",
    "    This function prints and plots the confusion matrix.\n",
    "    Normalization can be applied by setting `normalize=True`.\n",
    "    \"\"\"\n",
    "    if not title:\n",
    "        if normalize:\n",
    "            title = 'Normalized confusion matrix'\n",
    "        else:\n",
    "            title = 'Confusion matrix, without normalization'\n",
    "\n",
    "    # Compute confusion matrix\n",
    "    cm = confusion_matrix(y_true, y_pred)\n",
    "    # Only use the labels that appear in the data\n",
    "    classes = classes[unique_labels(y_true, y_pred)]\n",
    "    if normalize:\n",
    "        cm = cm.astype('float') / cm.sum(axis=1)[:, np.newaxis]\n",
    "        print(\"Normalized confusion matrix\")\n",
    "    else:\n",
    "        print('Confusion matrix, without normalization')\n",
    "\n",
    "    print(cm)\n",
    "\n",
    "    fig, ax = plt.subplots()\n",
    "    im = ax.imshow(cm, interpolation='nearest', cmap=cmap)\n",
    "    ax.figure.colorbar(im, ax=ax)\n",
    "    # We want to show all ticks...\n",
    "    ax.set(xticks=np.arange(cm.shape[1]),\n",
    "           yticks=np.arange(cm.shape[0]),\n",
    "           # ... and label them with the respective list entries\n",
    "           xticklabels=classes, yticklabels=classes,\n",
    "           title=title,\n",
    "           ylabel='True label',\n",
    "           xlabel='Predicted label')\n",
    "\n",
    "    # Rotate the tick labels and set their alignment.\n",
    "    plt.setp(ax.get_xticklabels(), rotation=45, ha=\"right\",\n",
    "             rotation_mode=\"anchor\")\n",
    "\n",
    "    # Loop over data dimensions and create text annotations.\n",
    "    fmt = '.2f' if normalize else 'd'\n",
    "    thresh = cm.max() / 2.\n",
    "    for i in range(cm.shape[0]):\n",
    "        for j in range(cm.shape[1]):\n",
    "            ax.text(j, i, format(cm[i, j], fmt),\n",
    "                    ha=\"center\", va=\"center\",\n",
    "                    color=\"white\" if cm[i, j] > thresh else \"black\")\n",
    "    fig.tight_layout()\n",
    "    return ax"
   ]
  },
  {
   "cell_type": "code",
   "execution_count": 55,
   "metadata": {
    "ExecuteTime": {
     "end_time": "2019-11-08T04:18:05.008000Z",
     "start_time": "2019-11-08T04:18:04.953000Z"
    }
   },
   "outputs": [],
   "source": [
    "cname = load_breast_cancer().target_names"
   ]
  },
  {
   "cell_type": "code",
   "execution_count": 58,
   "metadata": {
    "ExecuteTime": {
     "end_time": "2019-11-08T04:18:32.376000Z",
     "start_time": "2019-11-08T04:18:32.130000Z"
    }
   },
   "outputs": [
    {
     "name": "stdout",
     "output_type": "stream",
     "text": [
      "Confusion matrix, without normalization\n",
      "[[57 11]\n",
      " [ 4 99]]\n"
     ]
    },
    {
     "data": {
      "image/png": "[encoded data removed]",
      "text/plain": [
       "<Figure size 432x288 with 2 Axes>"
      ]
     },
     "metadata": {
      "needs_background": "light"
     },
     "output_type": "display_data"
    }
   ],
   "source": [
    "from sklearn.metrics import confusion_matrix\n",
    "from sklearn.utils.multiclass import unique_labels\n",
    "import numpy as np\n",
    "\n",
    "plot_confusion_matrix(y_test, y_pred, cname)\n",
    "plt.show()"
   ]
  },
  {
   "cell_type": "code",
   "execution_count": 70,
   "metadata": {
    "ExecuteTime": {
     "end_time": "2019-11-08T04:28:32.059000Z",
     "start_time": "2019-11-08T04:28:32.032000Z"
    }
   },
   "outputs": [
    {
     "data": {
      "text/plain": [
       "0.9122807017543859"
      ]
     },
     "execution_count": 70,
     "metadata": {},
     "output_type": "execute_result"
    }
   ],
   "source": [
    "accuracy_score(y_test, y_pred)"
   ]
  },
  {
   "cell_type": "code",
   "execution_count": 74,
   "metadata": {
    "ExecuteTime": {
     "end_time": "2019-11-08T04:31:34.767000Z",
     "start_time": "2019-11-08T04:31:34.703000Z"
    }
   },
   "outputs": [],
   "source": [
    "from sklearn.tree import DecisionTreeClassifier\n",
    "# Write your code here if base classifier = decision tree!\n",
    "\n",
    "bagging_dtc = BaggingClassifier(DecisionTreeClassifier(), max_features=0.5, max_samples=0.5)\n",
    "bagging_dtc.fit(X_train, y_train)\n",
    "y_pred = bagging_dtc.predict(X_test)"
   ]
  },
  {
   "cell_type": "code",
   "execution_count": 75,
   "metadata": {
    "ExecuteTime": {
     "end_time": "2019-11-08T04:31:48.728000Z",
     "start_time": "2019-11-08T04:31:48.466000Z"
    }
   },
   "outputs": [
    {
     "name": "stdout",
     "output_type": "stream",
     "text": [
      "Confusion matrix, without normalization\n",
      "[[66  2]\n",
      " [ 7 96]]\n"
     ]
    },
    {
     "data": {
      "image/png": "[encoded data removed]",
      "text/plain": [
       "<Figure size 432x288 with 2 Axes>"
      ]
     },
     "metadata": {
      "needs_background": "light"
     },
     "output_type": "display_data"
    }
   ],
   "source": [
    "plot_confusion_matrix(y_test, y_pred, cname)\n",
    "plt.show()"
   ]
  },
  {
   "cell_type": "code",
   "execution_count": 71,
   "metadata": {
    "ExecuteTime": {
     "end_time": "2019-11-08T04:28:41.040000Z",
     "start_time": "2019-11-08T04:28:40.791000Z"
    }
   },
   "outputs": [
    {
     "name": "stderr",
     "output_type": "stream",
     "text": [
      "C:\\Users\\mpadmanagara\\AppData\\Local\\Continuum\\anaconda3\\lib\\site-packages\\sklearn\\ensemble\\forest.py:245: FutureWarning: The default value of n_estimators will change from 10 in version 0.20 to 100 in 0.22.\n",
      "  \"10 in version 0.20 to 100 in 0.22.\", FutureWarning)\n",
      "C:\\Users\\mpadmanagara\\AppData\\Local\\Continuum\\anaconda3\\lib\\site-packages\\sklearn\\ensemble\\forest.py:245: FutureWarning: The default value of n_estimators will change from 10 in version 0.20 to 100 in 0.22.\n",
      "  \"10 in version 0.20 to 100 in 0.22.\", FutureWarning)\n",
      "C:\\Users\\mpadmanagara\\AppData\\Local\\Continuum\\anaconda3\\lib\\site-packages\\sklearn\\ensemble\\forest.py:245: FutureWarning: The default value of n_estimators will change from 10 in version 0.20 to 100 in 0.22.\n",
      "  \"10 in version 0.20 to 100 in 0.22.\", FutureWarning)\n",
      "C:\\Users\\mpadmanagara\\AppData\\Local\\Continuum\\anaconda3\\lib\\site-packages\\sklearn\\ensemble\\forest.py:245: FutureWarning: The default value of n_estimators will change from 10 in version 0.20 to 100 in 0.22.\n",
      "  \"10 in version 0.20 to 100 in 0.22.\", FutureWarning)\n",
      "C:\\Users\\mpadmanagara\\AppData\\Local\\Continuum\\anaconda3\\lib\\site-packages\\sklearn\\ensemble\\forest.py:245: FutureWarning: The default value of n_estimators will change from 10 in version 0.20 to 100 in 0.22.\n",
      "  \"10 in version 0.20 to 100 in 0.22.\", FutureWarning)\n",
      "C:\\Users\\mpadmanagara\\AppData\\Local\\Continuum\\anaconda3\\lib\\site-packages\\sklearn\\ensemble\\forest.py:245: FutureWarning: The default value of n_estimators will change from 10 in version 0.20 to 100 in 0.22.\n",
      "  \"10 in version 0.20 to 100 in 0.22.\", FutureWarning)\n",
      "C:\\Users\\mpadmanagara\\AppData\\Local\\Continuum\\anaconda3\\lib\\site-packages\\sklearn\\ensemble\\forest.py:245: FutureWarning: The default value of n_estimators will change from 10 in version 0.20 to 100 in 0.22.\n",
      "  \"10 in version 0.20 to 100 in 0.22.\", FutureWarning)\n",
      "C:\\Users\\mpadmanagara\\AppData\\Local\\Continuum\\anaconda3\\lib\\site-packages\\sklearn\\ensemble\\forest.py:245: FutureWarning: The default value of n_estimators will change from 10 in version 0.20 to 100 in 0.22.\n",
      "  \"10 in version 0.20 to 100 in 0.22.\", FutureWarning)\n",
      "C:\\Users\\mpadmanagara\\AppData\\Local\\Continuum\\anaconda3\\lib\\site-packages\\sklearn\\ensemble\\forest.py:245: FutureWarning: The default value of n_estimators will change from 10 in version 0.20 to 100 in 0.22.\n",
      "  \"10 in version 0.20 to 100 in 0.22.\", FutureWarning)\n",
      "C:\\Users\\mpadmanagara\\AppData\\Local\\Continuum\\anaconda3\\lib\\site-packages\\sklearn\\ensemble\\forest.py:245: FutureWarning: The default value of n_estimators will change from 10 in version 0.20 to 100 in 0.22.\n",
      "  \"10 in version 0.20 to 100 in 0.22.\", FutureWarning)\n"
     ]
    }
   ],
   "source": [
    "# Write your code here if you use RandomForest, compare with above!\n",
    "\n",
    "from sklearn.ensemble import RandomForestClassifier\n",
    "\n",
    "bagging_rfc = BaggingClassifier(RandomForestClassifier(),\n",
    "                           max_samples=0.5, max_features=0.5)\n",
    "bagging_rfc.fit(X_train, y_train)\n",
    "y_pred = bagging_rfc.predict(X_test)"
   ]
  },
  {
   "cell_type": "code",
   "execution_count": 73,
   "metadata": {
    "ExecuteTime": {
     "end_time": "2019-11-08T04:29:01.413000Z",
     "start_time": "2019-11-08T04:29:01.367000Z"
    }
   },
   "outputs": [
    {
     "data": {
      "text/plain": [
       "0.9473684210526315"
      ]
     },
     "execution_count": 73,
     "metadata": {},
     "output_type": "execute_result"
    }
   ],
   "source": [
    "accuracy_score(y_test, y_pred)"
   ]
  },
  {
   "cell_type": "code",
   "execution_count": 72,
   "metadata": {
    "ExecuteTime": {
     "end_time": "2019-11-08T04:28:46.833000Z",
     "start_time": "2019-11-08T04:28:46.540000Z"
    }
   },
   "outputs": [
    {
     "name": "stdout",
     "output_type": "stream",
     "text": [
      "Confusion matrix, without normalization\n",
      "[[63  5]\n",
      " [ 4 99]]\n"
     ]
    },
    {
     "data": {
      "image/png": "[encoded data removed]",
      "text/plain": [
       "<Figure size 432x288 with 2 Axes>"
      ]
     },
     "metadata": {
      "needs_background": "light"
     },
     "output_type": "display_data"
    }
   ],
   "source": [
    "from sklearn.metrics import confusion_matrix\n",
    "from sklearn.utils.multiclass import unique_labels\n",
    "import numpy as np\n",
    "\n",
    "plot_confusion_matrix(y_test, y_pred, cname)\n",
    "plt.show()"
   ]
  },
  {
   "cell_type": "markdown",
   "metadata": {},
   "source": [
    "## 4. Boosting\n",
    "Source: https://scikit-learn.org/stable/modules/ensemble.html"
   ]
  },
  {
   "cell_type": "code",
   "execution_count": 83,
   "metadata": {
    "ExecuteTime": {
     "end_time": "2019-11-08T06:49:05.063000Z",
     "start_time": "2019-11-08T06:49:04.900000Z"
    }
   },
   "outputs": [],
   "source": [
    "from sklearn.ensemble import AdaBoostClassifier\n",
    "# clf_ada = AdaBoostClassifier(\n",
    "# base_estimator,\n",
    "# n_estimators,\n",
    "# learning_rate\n",
    "# )\n",
    "\n",
    "# base_estimator\n",
    "# Default: Decision Tree (max_depth=1)\n",
    "# n_estimators\n",
    "# Default: 50\n",
    "# learning_rate\n",
    "# Default: 1.0\n",
    "# Trade-off between n_estimators and\n",
    "# learning_rate\n",
    "# clf_ada = AdaBoostClassifier()\n",
    "clf_ada = AdaBoostClassifier(base_estimator=DecisionTreeClassifier(max_depth=1), n_estimators=50, learning_rate=1.0)\n",
    "clf_ada.fit(X_train, y_train)\n",
    "y_pred = clf_ada.predict(X_test)"
   ]
  },
  {
   "cell_type": "code",
   "execution_count": 84,
   "metadata": {
    "ExecuteTime": {
     "end_time": "2019-11-08T06:49:06.489000Z",
     "start_time": "2019-11-08T06:49:06.118000Z"
    }
   },
   "outputs": [
    {
     "name": "stdout",
     "output_type": "stream",
     "text": [
      "Confusion matrix, without normalization\n",
      "[[ 63   5]\n",
      " [  3 100]]\n"
     ]
    },
    {
     "data": {
      "image/png": "[encoded data removed]",
      "text/plain": [
       "<Figure size 432x288 with 2 Axes>"
      ]
     },
     "metadata": {
      "needs_background": "light"
     },
     "output_type": "display_data"
    }
   ],
   "source": [
    "plot_confusion_matrix(y_test, y_pred, cname)\n",
    "plt.show()"
   ]
  },
  {
   "cell_type": "markdown",
   "metadata": {},
   "source": [
    "### Create AdaBoost Classifier for iris dataset!"
   ]
  },
  {
   "cell_type": "code",
   "execution_count": null,
   "metadata": {},
   "outputs": [],
   "source": [
    "# Write your code here!"
   ]
  },
  {
   "cell_type": "code",
   "execution_count": null,
   "metadata": {},
   "outputs": [],
   "source": [
    "from sklearn.ensemble import AdaBoostRegressor\n",
    "\n",
    "# reg_ada = AdaBoostRegressor(\n",
    "# base_estimator,\n",
    "# n_estimators,\n",
    "# learning_rate,\n",
    "# loss\n",
    "# )\n",
    "\n",
    "# base_estimator\n",
    "# Default: Decision Tree (max_depth=3)\n",
    "# loss\n",
    "# linear (default)\n",
    "# square\n",
    "# exponential"
   ]
  },
  {
   "cell_type": "code",
   "execution_count": 86,
   "metadata": {
    "ExecuteTime": {
     "end_time": "2019-11-08T07:09:07.422000Z",
     "start_time": "2019-11-08T07:09:07.164000Z"
    }
   },
   "outputs": [],
   "source": [
    "from sklearn.ensemble import GradientBoostingClassifier\n",
    "\n",
    "clf_gbc = GradientBoostingClassifier()\n",
    "clf_gbc.fit(X_train, y_train)\n",
    "y_pred = clf_gbc.predict(X_test)"
   ]
  },
  {
   "cell_type": "code",
   "execution_count": 87,
   "metadata": {
    "ExecuteTime": {
     "end_time": "2019-11-08T07:09:20.656000Z",
     "start_time": "2019-11-08T07:09:20.360000Z"
    }
   },
   "outputs": [
    {
     "name": "stdout",
     "output_type": "stream",
     "text": [
      "Confusion matrix, without normalization\n",
      "[[65  3]\n",
      " [ 4 99]]\n"
     ]
    },
    {
     "data": {
      "image/png": "[encoded data removed]",
      "text/plain": [
       "<Figure size 432x288 with 2 Axes>"
      ]
     },
     "metadata": {
      "needs_background": "light"
     },
     "output_type": "display_data"
    }
   ],
   "source": [
    "plot_confusion_matrix(y_test, y_pred, cname)\n",
    "plt.show()"
   ]
  },
  {
   "cell_type": "markdown",
   "metadata": {},
   "source": [
    "### Create GradientBoostingClassifier for iris Dataset!"
   ]
  },
  {
   "cell_type": "code",
   "execution_count": 5,
   "metadata": {},
   "outputs": [],
   "source": [
    "# Write your code here!"
   ]
  },
  {
   "cell_type": "code",
   "execution_count": 94,
   "metadata": {
    "ExecuteTime": {
     "end_time": "2019-11-08T08:04:22.877000Z",
     "start_time": "2019-11-08T08:04:22.417000Z"
    }
   },
   "outputs": [],
   "source": [
    "# import xgboost as xgb => ini mesti install dulu \n",
    "import lightgbm as lgb\n",
    "import catboost as cb\n",
    "# Cek di sini: \n",
    "# https://stackoverflow.com/questions/35139108/how-to-install-xgboost-in-anaconda-python-windows-platform"
   ]
  },
  {
   "cell_type": "markdown",
   "metadata": {},
   "source": [
    "### Create XGBoost, lightgbm, catboost for iris Dataset"
   ]
  },
  {
   "cell_type": "markdown",
   "metadata": {},
   "source": [
    "## 5. Stacking  "
   ]
  },
  {
   "cell_type": "code",
   "execution_count": 90,
   "metadata": {
    "ExecuteTime": {
     "end_time": "2019-11-08T07:13:33.573000Z",
     "start_time": "2019-11-08T07:13:33.401000Z"
    }
   },
   "outputs": [],
   "source": [
    "import xgboost as xgb\n",
    "\n",
    "clf_xgb = xgb.XGBClassifier()\n",
    "clf_xgb.fit(X_train, y_train)\n",
    "y_pred = clf_xgb.predict(X_test)"
   ]
  },
  {
   "cell_type": "code",
   "execution_count": 92,
   "metadata": {
    "ExecuteTime": {
     "end_time": "2019-11-08T07:13:59.649000Z",
     "start_time": "2019-11-08T07:13:59.355000Z"
    }
   },
   "outputs": [
    {
     "name": "stdout",
     "output_type": "stream",
     "text": [
      "Confusion matrix, without normalization\n",
      "[[66  2]\n",
      " [ 5 98]]\n"
     ]
    },
    {
     "data": {
      "text/plain": [
       "<matplotlib.axes._subplots.AxesSubplot at 0x11e36550>"
      ]
     },
     "execution_count": 92,
     "metadata": {},
     "output_type": "execute_result"
    },
    {
     "data": {
      "image/png": "[encoded data removed]",
      "text/plain": [
       "<Figure size 432x288 with 2 Axes>"
      ]
     },
     "metadata": {
      "needs_background": "light"
     },
     "output_type": "display_data"
    }
   ],
   "source": [
    "plot_confusion_matrix(y_test, y_pred, cname)"
   ]
  },
  {
   "cell_type": "code",
   "execution_count": null,
   "metadata": {},
   "outputs": [],
   "source": [
    "# from mlxtend.classifier import StackingClassifier => ini mesti install dulu "
   ]
  },
  {
   "cell_type": "code",
   "execution_count": null,
   "metadata": {},
   "outputs": [],
   "source": [
    "# Instantiate the 1st-layer classifiers\n",
    "# clf1 = Classifier1(params1)\n",
    "# clf2 = Classifier2(params2)\n",
    "# ...\n",
    "# clfN = ClassifierN(paramsN)\n",
    "\n",
    "# Instantiate the 2nd-layer classifier\n",
    "# clf_meta = ClassifierMeta(paramsMeta)\n",
    "\n",
    "# Build the Stacking classifier\n",
    "# clf_stack = StackingClassifier(\n",
    "# classifiers=[clf1, clf2, ... clfN],\n",
    "# meta_classifier=clf_meta,\n",
    "# use_probas=False,\n",
    "# use_features_in_secondary=False)\n",
    "\n",
    "# Use the fit and predict methods\n",
    "# like with scikit-learn estimators\n",
    "# clf_stack.fit(X_train, y_train)\n",
    "# pred = clf_stack.predict(X_test)"
   ]
  },
  {
   "cell_type": "code",
   "execution_count": 96,
   "metadata": {
    "ExecuteTime": {
     "end_time": "2019-11-08T08:12:32.157000Z",
     "start_time": "2019-11-08T08:12:32.147000Z"
    }
   },
   "outputs": [],
   "source": [
    "from mlxtend.classifier import StackingClassifier\n",
    "StackingClassifier()"
   ]
  },
  {
   "cell_type": "code",
   "execution_count": 97,
   "metadata": {
    "ExecuteTime": {
     "end_time": "2019-11-08T08:14:21.091000Z",
     "start_time": "2019-11-08T08:14:09.455000Z"
    }
   },
   "outputs": [
    {
     "name": "stdout",
     "output_type": "stream",
     "text": [
      "0:\tlearn: 0.6789006\ttotal: 90.8ms\tremaining: 1m 30s\n",
      "1:\tlearn: 0.6679205\ttotal: 116ms\tremaining: 58.1s\n",
      "2:\tlearn: 0.6568430\ttotal: 137ms\tremaining: 45.6s\n",
      "3:\tlearn: 0.6408498\ttotal: 149ms\tremaining: 37.2s\n",
      "4:\tlearn: 0.6304313\ttotal: 164ms\tremaining: 32.7s\n",
      "5:\tlearn: 0.6224410\ttotal: 176ms\tremaining: 29.1s\n",
      "6:\tlearn: 0.6164270\ttotal: 185ms\tremaining: 26.2s\n",
      "7:\tlearn: 0.6081447\ttotal: 194ms\tremaining: 24.1s\n",
      "8:\tlearn: 0.6045429\ttotal: 204ms\tremaining: 22.4s\n",
      "9:\tlearn: 0.6004690\ttotal: 213ms\tremaining: 21.1s\n",
      "10:\tlearn: 0.5953489\ttotal: 225ms\tremaining: 20.2s\n",
      "11:\tlearn: 0.5910620\ttotal: 235ms\tremaining: 19.4s\n",
      "12:\tlearn: 0.5870446\ttotal: 245ms\tremaining: 18.6s\n",
      "13:\tlearn: 0.5824473\ttotal: 255ms\tremaining: 17.9s\n",
      "14:\tlearn: 0.5777530\ttotal: 267ms\tremaining: 17.5s\n",
      "15:\tlearn: 0.5705907\ttotal: 283ms\tremaining: 17.4s\n",
      "16:\tlearn: 0.5649639\ttotal: 293ms\tremaining: 17s\n",
      "17:\tlearn: 0.5594818\ttotal: 306ms\tremaining: 16.7s\n",
      "18:\tlearn: 0.5567547\ttotal: 316ms\tremaining: 16.3s\n",
      "19:\tlearn: 0.5527602\ttotal: 325ms\tremaining: 15.9s\n",
      "20:\tlearn: 0.5475328\ttotal: 335ms\tremaining: 15.6s\n",
      "21:\tlearn: 0.5427155\ttotal: 344ms\tremaining: 15.3s\n",
      "22:\tlearn: 0.5411054\ttotal: 353ms\tremaining: 15s\n",
      "23:\tlearn: 0.5361102\ttotal: 363ms\tremaining: 14.7s\n",
      "24:\tlearn: 0.5340020\ttotal: 372ms\tremaining: 14.5s\n",
      "25:\tlearn: 0.5279272\ttotal: 382ms\tremaining: 14.3s\n",
      "26:\tlearn: 0.5259380\ttotal: 391ms\tremaining: 14.1s\n",
      "27:\tlearn: 0.5239179\ttotal: 401ms\tremaining: 13.9s\n",
      "28:\tlearn: 0.5214533\ttotal: 410ms\tremaining: 13.7s\n",
      "29:\tlearn: 0.5190709\ttotal: 419ms\tremaining: 13.6s\n",
      "30:\tlearn: 0.5154024\ttotal: 429ms\tremaining: 13.4s\n",
      "31:\tlearn: 0.5137299\ttotal: 439ms\tremaining: 13.3s\n",
      "32:\tlearn: 0.5108983\ttotal: 448ms\tremaining: 13.1s\n",
      "33:\tlearn: 0.5078003\ttotal: 460ms\tremaining: 13.1s\n",
      "34:\tlearn: 0.5048283\ttotal: 472ms\tremaining: 13s\n",
      "35:\tlearn: 0.4990008\ttotal: 483ms\tremaining: 12.9s\n",
      "36:\tlearn: 0.4952804\ttotal: 493ms\tremaining: 12.8s\n",
      "37:\tlearn: 0.4912680\ttotal: 503ms\tremaining: 12.7s\n",
      "38:\tlearn: 0.4875066\ttotal: 512ms\tremaining: 12.6s\n",
      "39:\tlearn: 0.4838495\ttotal: 522ms\tremaining: 12.5s\n",
      "40:\tlearn: 0.4809269\ttotal: 531ms\tremaining: 12.4s\n",
      "41:\tlearn: 0.4779619\ttotal: 540ms\tremaining: 12.3s\n",
      "42:\tlearn: 0.4757067\ttotal: 550ms\tremaining: 12.2s\n",
      "43:\tlearn: 0.4731478\ttotal: 559ms\tremaining: 12.1s\n",
      "44:\tlearn: 0.4707044\ttotal: 569ms\tremaining: 12.1s\n",
      "45:\tlearn: 0.4649611\ttotal: 578ms\tremaining: 12s\n",
      "46:\tlearn: 0.4594609\ttotal: 588ms\tremaining: 11.9s\n",
      "47:\tlearn: 0.4555328\ttotal: 597ms\tremaining: 11.8s\n",
      "48:\tlearn: 0.4534761\ttotal: 606ms\tremaining: 11.8s\n",
      "49:\tlearn: 0.4490590\ttotal: 616ms\tremaining: 11.7s\n",
      "50:\tlearn: 0.4468161\ttotal: 625ms\tremaining: 11.6s\n",
      "51:\tlearn: 0.4447511\ttotal: 637ms\tremaining: 11.6s\n",
      "52:\tlearn: 0.4414805\ttotal: 648ms\tremaining: 11.6s\n",
      "53:\tlearn: 0.4393588\ttotal: 660ms\tremaining: 11.6s\n",
      "54:\tlearn: 0.4366890\ttotal: 670ms\tremaining: 11.5s\n",
      "55:\tlearn: 0.4337917\ttotal: 680ms\tremaining: 11.5s\n",
      "56:\tlearn: 0.4326380\ttotal: 689ms\tremaining: 11.4s\n",
      "57:\tlearn: 0.4312563\ttotal: 698ms\tremaining: 11.3s\n",
      "58:\tlearn: 0.4288344\ttotal: 708ms\tremaining: 11.3s\n",
      "59:\tlearn: 0.4250260\ttotal: 717ms\tremaining: 11.2s\n",
      "60:\tlearn: 0.4221121\ttotal: 726ms\tremaining: 11.2s\n",
      "61:\tlearn: 0.4200026\ttotal: 736ms\tremaining: 11.1s\n",
      "62:\tlearn: 0.4179246\ttotal: 745ms\tremaining: 11.1s\n",
      "63:\tlearn: 0.4150298\ttotal: 755ms\tremaining: 11s\n",
      "64:\tlearn: 0.4127096\ttotal: 764ms\tremaining: 11s\n",
      "65:\tlearn: 0.4097095\ttotal: 774ms\tremaining: 10.9s\n",
      "66:\tlearn: 0.4080397\ttotal: 783ms\tremaining: 10.9s\n",
      "67:\tlearn: 0.4051401\ttotal: 793ms\tremaining: 10.9s\n",
      "68:\tlearn: 0.4001776\ttotal: 802ms\tremaining: 10.8s\n",
      "69:\tlearn: 0.3965706\ttotal: 812ms\tremaining: 10.8s\n",
      "70:\tlearn: 0.3920867\ttotal: 826ms\tremaining: 10.8s\n",
      "71:\tlearn: 0.3900961\ttotal: 839ms\tremaining: 10.8s\n",
      "72:\tlearn: 0.3867355\ttotal: 851ms\tremaining: 10.8s\n",
      "73:\tlearn: 0.3841956\ttotal: 860ms\tremaining: 10.8s\n",
      "74:\tlearn: 0.3803380\ttotal: 869ms\tremaining: 10.7s\n",
      "75:\tlearn: 0.3775829\ttotal: 879ms\tremaining: 10.7s\n",
      "76:\tlearn: 0.3751068\ttotal: 889ms\tremaining: 10.7s\n",
      "77:\tlearn: 0.3700425\ttotal: 899ms\tremaining: 10.6s\n",
      "78:\tlearn: 0.3657493\ttotal: 908ms\tremaining: 10.6s\n",
      "79:\tlearn: 0.3621821\ttotal: 918ms\tremaining: 10.6s\n",
      "80:\tlearn: 0.3558319\ttotal: 928ms\tremaining: 10.5s\n",
      "81:\tlearn: 0.3514956\ttotal: 938ms\tremaining: 10.5s\n",
      "82:\tlearn: 0.3485194\ttotal: 947ms\tremaining: 10.5s\n",
      "83:\tlearn: 0.3458662\ttotal: 957ms\tremaining: 10.4s\n",
      "84:\tlearn: 0.3430837\ttotal: 967ms\tremaining: 10.4s\n",
      "85:\tlearn: 0.3395710\ttotal: 978ms\tremaining: 10.4s\n",
      "86:\tlearn: 0.3358393\ttotal: 992ms\tremaining: 10.4s\n",
      "87:\tlearn: 0.3308785\ttotal: 1s\tremaining: 10.4s\n",
      "88:\tlearn: 0.3293696\ttotal: 1.02s\tremaining: 10.4s\n",
      "89:\tlearn: 0.3261603\ttotal: 1.03s\tremaining: 10.4s\n",
      "90:\tlearn: 0.3237916\ttotal: 1.04s\tremaining: 10.4s\n",
      "91:\tlearn: 0.3205042\ttotal: 1.05s\tremaining: 10.4s\n",
      "92:\tlearn: 0.3182275\ttotal: 1.06s\tremaining: 10.4s\n",
      "93:\tlearn: 0.3152808\ttotal: 1.07s\tremaining: 10.3s\n",
      "94:\tlearn: 0.3115866\ttotal: 1.08s\tremaining: 10.3s\n",
      "95:\tlearn: 0.3073606\ttotal: 1.09s\tremaining: 10.3s\n",
      "96:\tlearn: 0.3015514\ttotal: 1.1s\tremaining: 10.3s\n",
      "97:\tlearn: 0.2991365\ttotal: 1.12s\tremaining: 10.3s\n",
      "98:\tlearn: 0.2969016\ttotal: 1.13s\tremaining: 10.3s\n",
      "99:\tlearn: 0.2963601\ttotal: 1.15s\tremaining: 10.3s\n",
      "100:\tlearn: 0.2940654\ttotal: 1.16s\tremaining: 10.3s\n",
      "101:\tlearn: 0.2913555\ttotal: 1.17s\tremaining: 10.3s\n",
      "102:\tlearn: 0.2877266\ttotal: 1.18s\tremaining: 10.3s\n",
      "103:\tlearn: 0.2848549\ttotal: 1.2s\tremaining: 10.3s\n",
      "104:\tlearn: 0.2831060\ttotal: 1.21s\tremaining: 10.3s\n",
      "105:\tlearn: 0.2812318\ttotal: 1.22s\tremaining: 10.3s\n",
      "106:\tlearn: 0.2795460\ttotal: 1.23s\tremaining: 10.3s\n",
      "107:\tlearn: 0.2773665\ttotal: 1.24s\tremaining: 10.3s\n",
      "108:\tlearn: 0.2745448\ttotal: 1.25s\tremaining: 10.2s\n",
      "109:\tlearn: 0.2721205\ttotal: 1.26s\tremaining: 10.2s\n",
      "110:\tlearn: 0.2706276\ttotal: 1.27s\tremaining: 10.2s\n",
      "111:\tlearn: 0.2692757\ttotal: 1.28s\tremaining: 10.2s\n",
      "112:\tlearn: 0.2665894\ttotal: 1.29s\tremaining: 10.1s\n",
      "113:\tlearn: 0.2653797\ttotal: 1.3s\tremaining: 10.1s\n",
      "114:\tlearn: 0.2621041\ttotal: 1.31s\tremaining: 10.1s\n",
      "115:\tlearn: 0.2602344\ttotal: 1.32s\tremaining: 10.1s\n",
      "116:\tlearn: 0.2572255\ttotal: 1.33s\tremaining: 10s\n",
      "117:\tlearn: 0.2564250\ttotal: 1.34s\tremaining: 10s\n",
      "118:\tlearn: 0.2545630\ttotal: 1.35s\tremaining: 9.98s\n",
      "119:\tlearn: 0.2532225\ttotal: 1.36s\tremaining: 9.97s\n",
      "120:\tlearn: 0.2509641\ttotal: 1.37s\tremaining: 9.96s\n",
      "121:\tlearn: 0.2502998\ttotal: 1.38s\tremaining: 9.96s\n",
      "122:\tlearn: 0.2469297\ttotal: 1.4s\tremaining: 9.95s\n",
      "123:\tlearn: 0.2457296\ttotal: 1.41s\tremaining: 9.96s\n",
      "124:\tlearn: 0.2438439\ttotal: 1.42s\tremaining: 9.94s\n",
      "125:\tlearn: 0.2423835\ttotal: 1.43s\tremaining: 9.91s\n",
      "126:\tlearn: 0.2396485\ttotal: 1.44s\tremaining: 9.89s\n",
      "127:\tlearn: 0.2373082\ttotal: 1.45s\tremaining: 9.86s\n",
      "128:\tlearn: 0.2353523\ttotal: 1.46s\tremaining: 9.84s\n",
      "129:\tlearn: 0.2319508\ttotal: 1.47s\tremaining: 9.81s\n",
      "130:\tlearn: 0.2306390\ttotal: 1.48s\tremaining: 9.79s\n",
      "131:\tlearn: 0.2283496\ttotal: 1.49s\tremaining: 9.77s\n",
      "132:\tlearn: 0.2275959\ttotal: 1.49s\tremaining: 9.74s\n",
      "133:\tlearn: 0.2243562\ttotal: 1.5s\tremaining: 9.72s\n",
      "134:\tlearn: 0.2222535\ttotal: 1.51s\tremaining: 9.7s\n",
      "135:\tlearn: 0.2201809\ttotal: 1.52s\tremaining: 9.68s\n",
      "136:\tlearn: 0.2181478\ttotal: 1.53s\tremaining: 9.67s\n",
      "137:\tlearn: 0.2168137\ttotal: 1.55s\tremaining: 9.66s\n",
      "138:\tlearn: 0.2141224\ttotal: 1.56s\tremaining: 9.65s\n",
      "139:\tlearn: 0.2126858\ttotal: 1.57s\tremaining: 9.64s\n",
      "140:\tlearn: 0.2114049\ttotal: 1.58s\tremaining: 9.62s\n",
      "141:\tlearn: 0.2105849\ttotal: 1.59s\tremaining: 9.6s\n",
      "142:\tlearn: 0.2097126\ttotal: 1.6s\tremaining: 9.57s\n",
      "143:\tlearn: 0.2075043\ttotal: 1.61s\tremaining: 9.56s\n",
      "144:\tlearn: 0.2055941\ttotal: 1.62s\tremaining: 9.56s\n",
      "145:\tlearn: 0.2049953\ttotal: 1.63s\tremaining: 9.54s\n",
      "146:\tlearn: 0.2032164\ttotal: 1.64s\tremaining: 9.52s\n",
      "147:\tlearn: 0.2021367\ttotal: 1.65s\tremaining: 9.5s\n",
      "148:\tlearn: 0.2012169\ttotal: 1.66s\tremaining: 9.48s\n",
      "149:\tlearn: 0.2004047\ttotal: 1.67s\tremaining: 9.47s\n",
      "150:\tlearn: 0.1986040\ttotal: 1.68s\tremaining: 9.45s\n",
      "151:\tlearn: 0.1968357\ttotal: 1.69s\tremaining: 9.43s\n",
      "152:\tlearn: 0.1958953\ttotal: 1.7s\tremaining: 9.41s\n",
      "153:\tlearn: 0.1944559\ttotal: 1.71s\tremaining: 9.4s\n",
      "154:\tlearn: 0.1934604\ttotal: 1.72s\tremaining: 9.39s\n",
      "155:\tlearn: 0.1917486\ttotal: 1.74s\tremaining: 9.39s\n",
      "156:\tlearn: 0.1893207\ttotal: 1.75s\tremaining: 9.38s\n",
      "157:\tlearn: 0.1878599\ttotal: 1.76s\tremaining: 9.36s\n",
      "158:\tlearn: 0.1868287\ttotal: 1.77s\tremaining: 9.34s\n",
      "159:\tlearn: 0.1861752\ttotal: 1.77s\tremaining: 9.32s\n",
      "160:\tlearn: 0.1844129\ttotal: 1.78s\tremaining: 9.3s\n",
      "161:\tlearn: 0.1832476\ttotal: 1.79s\tremaining: 9.29s\n",
      "162:\tlearn: 0.1827359\ttotal: 1.8s\tremaining: 9.27s\n",
      "163:\tlearn: 0.1809340\ttotal: 1.82s\tremaining: 9.26s\n",
      "164:\tlearn: 0.1801934\ttotal: 1.83s\tremaining: 9.26s\n",
      "165:\tlearn: 0.1785438\ttotal: 1.84s\tremaining: 9.24s\n",
      "166:\tlearn: 0.1766999\ttotal: 1.85s\tremaining: 9.22s\n",
      "167:\tlearn: 0.1763031\ttotal: 1.86s\tremaining: 9.2s\n",
      "168:\tlearn: 0.1746096\ttotal: 1.87s\tremaining: 9.18s\n",
      "169:\tlearn: 0.1730422\ttotal: 1.88s\tremaining: 9.17s\n"
     ]
    },
    {
     "name": "stdout",
     "output_type": "stream",
     "text": [
      "170:\tlearn: 0.1713483\ttotal: 1.89s\tremaining: 9.15s\n",
      "171:\tlearn: 0.1690441\ttotal: 1.9s\tremaining: 9.15s\n",
      "172:\tlearn: 0.1673267\ttotal: 1.91s\tremaining: 9.15s\n",
      "173:\tlearn: 0.1662283\ttotal: 1.92s\tremaining: 9.13s\n",
      "174:\tlearn: 0.1653605\ttotal: 1.93s\tremaining: 9.12s\n",
      "175:\tlearn: 0.1639914\ttotal: 1.94s\tremaining: 9.1s\n",
      "176:\tlearn: 0.1638055\ttotal: 1.95s\tremaining: 9.08s\n",
      "177:\tlearn: 0.1620165\ttotal: 1.96s\tremaining: 9.06s\n",
      "178:\tlearn: 0.1609344\ttotal: 1.97s\tremaining: 9.04s\n",
      "179:\tlearn: 0.1592531\ttotal: 1.98s\tremaining: 9.03s\n",
      "180:\tlearn: 0.1589444\ttotal: 1.99s\tremaining: 9.01s\n",
      "181:\tlearn: 0.1582476\ttotal: 2s\tremaining: 8.99s\n",
      "182:\tlearn: 0.1569840\ttotal: 2.01s\tremaining: 8.97s\n",
      "183:\tlearn: 0.1563321\ttotal: 2.02s\tremaining: 8.95s\n",
      "184:\tlearn: 0.1553989\ttotal: 2.03s\tremaining: 8.93s\n",
      "185:\tlearn: 0.1541482\ttotal: 2.04s\tremaining: 8.91s\n",
      "186:\tlearn: 0.1535104\ttotal: 2.05s\tremaining: 8.9s\n",
      "187:\tlearn: 0.1518571\ttotal: 2.06s\tremaining: 8.88s\n",
      "188:\tlearn: 0.1505191\ttotal: 2.07s\tremaining: 8.87s\n",
      "189:\tlearn: 0.1502941\ttotal: 2.08s\tremaining: 8.87s\n",
      "190:\tlearn: 0.1482107\ttotal: 2.09s\tremaining: 8.86s\n",
      "191:\tlearn: 0.1473330\ttotal: 2.1s\tremaining: 8.84s\n",
      "192:\tlearn: 0.1466897\ttotal: 2.11s\tremaining: 8.82s\n",
      "193:\tlearn: 0.1451729\ttotal: 2.12s\tremaining: 8.8s\n",
      "194:\tlearn: 0.1447640\ttotal: 2.13s\tremaining: 8.79s\n",
      "195:\tlearn: 0.1437174\ttotal: 2.14s\tremaining: 8.77s\n",
      "196:\tlearn: 0.1422069\ttotal: 2.15s\tremaining: 8.75s\n",
      "197:\tlearn: 0.1410323\ttotal: 2.16s\tremaining: 8.74s\n",
      "198:\tlearn: 0.1397174\ttotal: 2.17s\tremaining: 8.73s\n",
      "199:\tlearn: 0.1388081\ttotal: 2.18s\tremaining: 8.72s\n",
      "200:\tlearn: 0.1382446\ttotal: 2.19s\tremaining: 8.71s\n",
      "201:\tlearn: 0.1378142\ttotal: 2.2s\tremaining: 8.7s\n",
      "202:\tlearn: 0.1370084\ttotal: 2.21s\tremaining: 8.7s\n",
      "203:\tlearn: 0.1361677\ttotal: 2.23s\tremaining: 8.69s\n",
      "204:\tlearn: 0.1348398\ttotal: 2.24s\tremaining: 8.67s\n",
      "205:\tlearn: 0.1335663\ttotal: 2.25s\tremaining: 8.66s\n",
      "206:\tlearn: 0.1321412\ttotal: 2.26s\tremaining: 8.65s\n",
      "207:\tlearn: 0.1318342\ttotal: 2.27s\tremaining: 8.64s\n",
      "208:\tlearn: 0.1308197\ttotal: 2.28s\tremaining: 8.64s\n",
      "209:\tlearn: 0.1298153\ttotal: 2.29s\tremaining: 8.62s\n",
      "210:\tlearn: 0.1293902\ttotal: 2.3s\tremaining: 8.61s\n",
      "211:\tlearn: 0.1283353\ttotal: 2.31s\tremaining: 8.59s\n",
      "212:\tlearn: 0.1278063\ttotal: 2.32s\tremaining: 8.57s\n",
      "213:\tlearn: 0.1264547\ttotal: 2.33s\tremaining: 8.56s\n",
      "214:\tlearn: 0.1252646\ttotal: 2.34s\tremaining: 8.54s\n",
      "215:\tlearn: 0.1248993\ttotal: 2.35s\tremaining: 8.53s\n",
      "216:\tlearn: 0.1240705\ttotal: 2.36s\tremaining: 8.51s\n",
      "217:\tlearn: 0.1225460\ttotal: 2.37s\tremaining: 8.49s\n",
      "218:\tlearn: 0.1218307\ttotal: 2.38s\tremaining: 8.48s\n",
      "219:\tlearn: 0.1212372\ttotal: 2.39s\tremaining: 8.46s\n",
      "220:\tlearn: 0.1203758\ttotal: 2.4s\tremaining: 8.45s\n",
      "221:\tlearn: 0.1190467\ttotal: 2.41s\tremaining: 8.43s\n",
      "222:\tlearn: 0.1182345\ttotal: 2.42s\tremaining: 8.42s\n",
      "223:\tlearn: 0.1176338\ttotal: 2.43s\tremaining: 8.41s\n",
      "224:\tlearn: 0.1165351\ttotal: 2.44s\tremaining: 8.42s\n",
      "225:\tlearn: 0.1148833\ttotal: 2.46s\tremaining: 8.44s\n",
      "226:\tlearn: 0.1139516\ttotal: 2.48s\tremaining: 8.44s\n",
      "227:\tlearn: 0.1135078\ttotal: 2.49s\tremaining: 8.43s\n",
      "228:\tlearn: 0.1125535\ttotal: 2.5s\tremaining: 8.42s\n",
      "229:\tlearn: 0.1118549\ttotal: 2.51s\tremaining: 8.4s\n",
      "230:\tlearn: 0.1106642\ttotal: 2.52s\tremaining: 8.39s\n",
      "231:\tlearn: 0.1097779\ttotal: 2.53s\tremaining: 8.37s\n",
      "232:\tlearn: 0.1092910\ttotal: 2.54s\tremaining: 8.36s\n",
      "233:\tlearn: 0.1085071\ttotal: 2.55s\tremaining: 8.34s\n",
      "234:\tlearn: 0.1077745\ttotal: 2.56s\tremaining: 8.32s\n",
      "235:\tlearn: 0.1069590\ttotal: 2.57s\tremaining: 8.31s\n",
      "236:\tlearn: 0.1060818\ttotal: 2.58s\tremaining: 8.3s\n",
      "237:\tlearn: 0.1057932\ttotal: 2.59s\tremaining: 8.28s\n",
      "238:\tlearn: 0.1055295\ttotal: 2.6s\tremaining: 8.27s\n",
      "239:\tlearn: 0.1052088\ttotal: 2.61s\tremaining: 8.25s\n",
      "240:\tlearn: 0.1051475\ttotal: 2.62s\tremaining: 8.24s\n",
      "241:\tlearn: 0.1049763\ttotal: 2.63s\tremaining: 8.23s\n",
      "242:\tlearn: 0.1043690\ttotal: 2.64s\tremaining: 8.23s\n",
      "243:\tlearn: 0.1041397\ttotal: 2.65s\tremaining: 8.22s\n",
      "244:\tlearn: 0.1030449\ttotal: 2.66s\tremaining: 8.2s\n",
      "245:\tlearn: 0.1023976\ttotal: 2.67s\tremaining: 8.19s\n",
      "246:\tlearn: 0.1015618\ttotal: 2.68s\tremaining: 8.17s\n",
      "247:\tlearn: 0.1005104\ttotal: 2.69s\tremaining: 8.16s\n",
      "248:\tlearn: 0.1001602\ttotal: 2.7s\tremaining: 8.14s\n",
      "249:\tlearn: 0.0998363\ttotal: 2.71s\tremaining: 8.13s\n",
      "250:\tlearn: 0.0992336\ttotal: 2.72s\tremaining: 8.11s\n",
      "251:\tlearn: 0.0984235\ttotal: 2.73s\tremaining: 8.1s\n",
      "252:\tlearn: 0.0977693\ttotal: 2.74s\tremaining: 8.08s\n",
      "253:\tlearn: 0.0971223\ttotal: 2.75s\tremaining: 8.07s\n",
      "254:\tlearn: 0.0966165\ttotal: 2.76s\tremaining: 8.05s\n",
      "255:\tlearn: 0.0960445\ttotal: 2.77s\tremaining: 8.04s\n",
      "256:\tlearn: 0.0955109\ttotal: 2.77s\tremaining: 8.02s\n",
      "257:\tlearn: 0.0951251\ttotal: 2.78s\tremaining: 8.01s\n",
      "258:\tlearn: 0.0945553\ttotal: 2.79s\tremaining: 7.99s\n",
      "259:\tlearn: 0.0940884\ttotal: 2.8s\tremaining: 7.98s\n",
      "260:\tlearn: 0.0935886\ttotal: 2.81s\tremaining: 7.97s\n",
      "261:\tlearn: 0.0928646\ttotal: 2.83s\tremaining: 7.96s\n",
      "262:\tlearn: 0.0924869\ttotal: 2.84s\tremaining: 7.95s\n",
      "263:\tlearn: 0.0919307\ttotal: 2.85s\tremaining: 7.93s\n",
      "264:\tlearn: 0.0913260\ttotal: 2.85s\tremaining: 7.92s\n",
      "265:\tlearn: 0.0908867\ttotal: 2.87s\tremaining: 7.91s\n",
      "266:\tlearn: 0.0901645\ttotal: 2.87s\tremaining: 7.89s\n",
      "267:\tlearn: 0.0896149\ttotal: 2.88s\tremaining: 7.88s\n",
      "268:\tlearn: 0.0889198\ttotal: 2.89s\tremaining: 7.86s\n",
      "269:\tlearn: 0.0883800\ttotal: 2.9s\tremaining: 7.85s\n",
      "270:\tlearn: 0.0880678\ttotal: 2.91s\tremaining: 7.83s\n",
      "271:\tlearn: 0.0875062\ttotal: 2.92s\tremaining: 7.82s\n",
      "272:\tlearn: 0.0871166\ttotal: 2.93s\tremaining: 7.81s\n",
      "273:\tlearn: 0.0868420\ttotal: 2.94s\tremaining: 7.8s\n",
      "274:\tlearn: 0.0861993\ttotal: 2.95s\tremaining: 7.78s\n",
      "275:\tlearn: 0.0853714\ttotal: 2.96s\tremaining: 7.77s\n",
      "276:\tlearn: 0.0852113\ttotal: 2.97s\tremaining: 7.76s\n",
      "277:\tlearn: 0.0847366\ttotal: 2.98s\tremaining: 7.75s\n",
      "278:\tlearn: 0.0841774\ttotal: 3s\tremaining: 7.74s\n",
      "279:\tlearn: 0.0839474\ttotal: 3.01s\tremaining: 7.74s\n",
      "280:\tlearn: 0.0836578\ttotal: 3.02s\tremaining: 7.72s\n",
      "281:\tlearn: 0.0832892\ttotal: 3.03s\tremaining: 7.71s\n",
      "282:\tlearn: 0.0824557\ttotal: 3.04s\tremaining: 7.7s\n",
      "283:\tlearn: 0.0821927\ttotal: 3.05s\tremaining: 7.68s\n",
      "284:\tlearn: 0.0818314\ttotal: 3.06s\tremaining: 7.67s\n",
      "285:\tlearn: 0.0813248\ttotal: 3.07s\tremaining: 7.66s\n",
      "286:\tlearn: 0.0808785\ttotal: 3.08s\tremaining: 7.64s\n",
      "287:\tlearn: 0.0806245\ttotal: 3.08s\tremaining: 7.63s\n",
      "288:\tlearn: 0.0804341\ttotal: 3.09s\tremaining: 7.61s\n",
      "289:\tlearn: 0.0797536\ttotal: 3.1s\tremaining: 7.6s\n",
      "290:\tlearn: 0.0790838\ttotal: 3.11s\tremaining: 7.59s\n",
      "291:\tlearn: 0.0781711\ttotal: 3.12s\tremaining: 7.57s\n",
      "292:\tlearn: 0.0781277\ttotal: 3.13s\tremaining: 7.56s\n",
      "293:\tlearn: 0.0776760\ttotal: 3.16s\tremaining: 7.59s\n",
      "294:\tlearn: 0.0772616\ttotal: 3.17s\tremaining: 7.58s\n",
      "295:\tlearn: 0.0767094\ttotal: 3.18s\tremaining: 7.57s\n",
      "296:\tlearn: 0.0764622\ttotal: 3.19s\tremaining: 7.56s\n",
      "297:\tlearn: 0.0760015\ttotal: 3.2s\tremaining: 7.55s\n",
      "298:\tlearn: 0.0756240\ttotal: 3.21s\tremaining: 7.53s\n",
      "299:\tlearn: 0.0754634\ttotal: 3.22s\tremaining: 7.52s\n",
      "300:\tlearn: 0.0752135\ttotal: 3.23s\tremaining: 7.51s\n",
      "301:\tlearn: 0.0747665\ttotal: 3.24s\tremaining: 7.49s\n",
      "302:\tlearn: 0.0742240\ttotal: 3.25s\tremaining: 7.48s\n",
      "303:\tlearn: 0.0741108\ttotal: 3.26s\tremaining: 7.47s\n",
      "304:\tlearn: 0.0737397\ttotal: 3.27s\tremaining: 7.46s\n",
      "305:\tlearn: 0.0736914\ttotal: 3.29s\tremaining: 7.46s\n",
      "306:\tlearn: 0.0732297\ttotal: 3.3s\tremaining: 7.44s\n",
      "307:\tlearn: 0.0728349\ttotal: 3.31s\tremaining: 7.43s\n",
      "308:\tlearn: 0.0724711\ttotal: 3.32s\tremaining: 7.42s\n",
      "309:\tlearn: 0.0721311\ttotal: 3.33s\tremaining: 7.41s\n",
      "310:\tlearn: 0.0716870\ttotal: 3.34s\tremaining: 7.39s\n",
      "311:\tlearn: 0.0711989\ttotal: 3.35s\tremaining: 7.38s\n",
      "312:\tlearn: 0.0707130\ttotal: 3.36s\tremaining: 7.37s\n",
      "313:\tlearn: 0.0702054\ttotal: 3.37s\tremaining: 7.36s\n",
      "314:\tlearn: 0.0698964\ttotal: 3.38s\tremaining: 7.35s\n",
      "315:\tlearn: 0.0695292\ttotal: 3.39s\tremaining: 7.34s\n",
      "316:\tlearn: 0.0690917\ttotal: 3.4s\tremaining: 7.33s\n",
      "317:\tlearn: 0.0689808\ttotal: 3.41s\tremaining: 7.31s\n",
      "318:\tlearn: 0.0687998\ttotal: 3.42s\tremaining: 7.3s\n",
      "319:\tlearn: 0.0686564\ttotal: 3.43s\tremaining: 7.29s\n",
      "320:\tlearn: 0.0686229\ttotal: 3.44s\tremaining: 7.28s\n",
      "321:\tlearn: 0.0682466\ttotal: 3.45s\tremaining: 7.26s\n",
      "322:\tlearn: 0.0679051\ttotal: 3.46s\tremaining: 7.25s\n",
      "323:\tlearn: 0.0676429\ttotal: 3.47s\tremaining: 7.24s\n",
      "324:\tlearn: 0.0673651\ttotal: 3.48s\tremaining: 7.22s\n",
      "325:\tlearn: 0.0670761\ttotal: 3.49s\tremaining: 7.21s\n",
      "326:\tlearn: 0.0665970\ttotal: 3.5s\tremaining: 7.2s\n",
      "327:\tlearn: 0.0665145\ttotal: 3.51s\tremaining: 7.18s\n",
      "328:\tlearn: 0.0661569\ttotal: 3.52s\tremaining: 7.17s\n"
     ]
    },
    {
     "name": "stdout",
     "output_type": "stream",
     "text": [
      "329:\tlearn: 0.0658246\ttotal: 3.53s\tremaining: 7.16s\n",
      "330:\tlearn: 0.0655058\ttotal: 3.54s\tremaining: 7.15s\n",
      "331:\tlearn: 0.0652773\ttotal: 3.55s\tremaining: 7.14s\n",
      "332:\tlearn: 0.0649139\ttotal: 3.56s\tremaining: 7.13s\n",
      "333:\tlearn: 0.0645993\ttotal: 3.57s\tremaining: 7.12s\n",
      "334:\tlearn: 0.0645491\ttotal: 3.58s\tremaining: 7.1s\n",
      "335:\tlearn: 0.0644804\ttotal: 3.59s\tremaining: 7.09s\n",
      "336:\tlearn: 0.0642457\ttotal: 3.6s\tremaining: 7.08s\n",
      "337:\tlearn: 0.0642053\ttotal: 3.61s\tremaining: 7.06s\n",
      "338:\tlearn: 0.0638785\ttotal: 3.62s\tremaining: 7.05s\n",
      "339:\tlearn: 0.0634327\ttotal: 3.62s\tremaining: 7.04s\n",
      "340:\tlearn: 0.0631110\ttotal: 3.63s\tremaining: 7.02s\n",
      "341:\tlearn: 0.0628834\ttotal: 3.64s\tremaining: 7.01s\n",
      "342:\tlearn: 0.0627411\ttotal: 3.65s\tremaining: 7s\n",
      "343:\tlearn: 0.0623652\ttotal: 3.66s\tremaining: 6.99s\n",
      "344:\tlearn: 0.0623273\ttotal: 3.67s\tremaining: 6.97s\n",
      "345:\tlearn: 0.0619789\ttotal: 3.68s\tremaining: 6.96s\n",
      "346:\tlearn: 0.0618742\ttotal: 3.69s\tremaining: 6.95s\n",
      "347:\tlearn: 0.0613932\ttotal: 3.7s\tremaining: 6.94s\n",
      "348:\tlearn: 0.0610089\ttotal: 3.72s\tremaining: 6.93s\n",
      "349:\tlearn: 0.0605535\ttotal: 3.73s\tremaining: 6.92s\n",
      "350:\tlearn: 0.0601260\ttotal: 3.74s\tremaining: 6.91s\n",
      "351:\tlearn: 0.0596749\ttotal: 3.75s\tremaining: 6.9s\n",
      "352:\tlearn: 0.0596532\ttotal: 3.76s\tremaining: 6.88s\n",
      "353:\tlearn: 0.0594283\ttotal: 3.77s\tremaining: 6.87s\n",
      "354:\tlearn: 0.0590748\ttotal: 3.78s\tremaining: 6.86s\n",
      "355:\tlearn: 0.0586880\ttotal: 3.79s\tremaining: 6.85s\n",
      "356:\tlearn: 0.0584737\ttotal: 3.79s\tremaining: 6.84s\n",
      "357:\tlearn: 0.0582169\ttotal: 3.81s\tremaining: 6.82s\n",
      "358:\tlearn: 0.0579560\ttotal: 3.81s\tremaining: 6.81s\n",
      "359:\tlearn: 0.0576505\ttotal: 3.82s\tremaining: 6.8s\n",
      "360:\tlearn: 0.0572534\ttotal: 3.83s\tremaining: 6.79s\n",
      "361:\tlearn: 0.0570877\ttotal: 3.84s\tremaining: 6.77s\n",
      "362:\tlearn: 0.0569010\ttotal: 3.85s\tremaining: 6.76s\n",
      "363:\tlearn: 0.0565640\ttotal: 3.86s\tremaining: 6.75s\n",
      "364:\tlearn: 0.0565256\ttotal: 3.87s\tremaining: 6.74s\n",
      "365:\tlearn: 0.0563916\ttotal: 3.88s\tremaining: 6.72s\n",
      "366:\tlearn: 0.0559841\ttotal: 3.9s\tremaining: 6.72s\n",
      "367:\tlearn: 0.0557117\ttotal: 3.9s\tremaining: 6.71s\n",
      "368:\tlearn: 0.0555405\ttotal: 3.92s\tremaining: 6.7s\n",
      "369:\tlearn: 0.0552461\ttotal: 3.92s\tremaining: 6.68s\n",
      "370:\tlearn: 0.0549190\ttotal: 3.93s\tremaining: 6.67s\n",
      "371:\tlearn: 0.0547147\ttotal: 3.94s\tremaining: 6.66s\n",
      "372:\tlearn: 0.0545211\ttotal: 3.95s\tremaining: 6.65s\n",
      "373:\tlearn: 0.0542543\ttotal: 3.96s\tremaining: 6.64s\n",
      "374:\tlearn: 0.0538029\ttotal: 3.97s\tremaining: 6.62s\n",
      "375:\tlearn: 0.0535350\ttotal: 3.98s\tremaining: 6.61s\n",
      "376:\tlearn: 0.0533064\ttotal: 3.99s\tremaining: 6.6s\n",
      "377:\tlearn: 0.0528815\ttotal: 4s\tremaining: 6.59s\n",
      "378:\tlearn: 0.0527253\ttotal: 4.01s\tremaining: 6.58s\n",
      "379:\tlearn: 0.0524049\ttotal: 4.02s\tremaining: 6.56s\n",
      "380:\tlearn: 0.0521386\ttotal: 4.03s\tremaining: 6.55s\n",
      "381:\tlearn: 0.0518410\ttotal: 4.04s\tremaining: 6.54s\n",
      "382:\tlearn: 0.0516093\ttotal: 4.05s\tremaining: 6.53s\n",
      "383:\tlearn: 0.0512554\ttotal: 4.07s\tremaining: 6.52s\n",
      "384:\tlearn: 0.0512257\ttotal: 4.08s\tremaining: 6.51s\n",
      "385:\tlearn: 0.0510535\ttotal: 4.09s\tremaining: 6.5s\n",
      "386:\tlearn: 0.0509391\ttotal: 4.1s\tremaining: 6.49s\n",
      "387:\tlearn: 0.0506923\ttotal: 4.11s\tremaining: 6.48s\n",
      "388:\tlearn: 0.0505460\ttotal: 4.12s\tremaining: 6.48s\n",
      "389:\tlearn: 0.0502147\ttotal: 4.13s\tremaining: 6.46s\n",
      "390:\tlearn: 0.0500553\ttotal: 4.14s\tremaining: 6.45s\n",
      "391:\tlearn: 0.0497933\ttotal: 4.15s\tremaining: 6.44s\n",
      "392:\tlearn: 0.0496486\ttotal: 4.16s\tremaining: 6.43s\n",
      "393:\tlearn: 0.0494041\ttotal: 4.17s\tremaining: 6.42s\n",
      "394:\tlearn: 0.0491465\ttotal: 4.18s\tremaining: 6.4s\n",
      "395:\tlearn: 0.0489543\ttotal: 4.19s\tremaining: 6.39s\n",
      "396:\tlearn: 0.0487806\ttotal: 4.2s\tremaining: 6.38s\n",
      "397:\tlearn: 0.0485169\ttotal: 4.21s\tremaining: 6.37s\n",
      "398:\tlearn: 0.0482695\ttotal: 4.22s\tremaining: 6.36s\n",
      "399:\tlearn: 0.0481073\ttotal: 4.23s\tremaining: 6.34s\n",
      "400:\tlearn: 0.0478541\ttotal: 4.24s\tremaining: 6.34s\n",
      "401:\tlearn: 0.0477866\ttotal: 4.25s\tremaining: 6.33s\n",
      "402:\tlearn: 0.0474692\ttotal: 4.26s\tremaining: 6.32s\n",
      "403:\tlearn: 0.0472594\ttotal: 4.27s\tremaining: 6.3s\n",
      "404:\tlearn: 0.0470361\ttotal: 4.28s\tremaining: 6.29s\n",
      "405:\tlearn: 0.0468092\ttotal: 4.29s\tremaining: 6.28s\n",
      "406:\tlearn: 0.0467896\ttotal: 4.3s\tremaining: 6.27s\n",
      "407:\tlearn: 0.0464966\ttotal: 4.31s\tremaining: 6.26s\n",
      "408:\tlearn: 0.0464313\ttotal: 4.32s\tremaining: 6.24s\n",
      "409:\tlearn: 0.0463016\ttotal: 4.33s\tremaining: 6.23s\n",
      "410:\tlearn: 0.0461358\ttotal: 4.34s\tremaining: 6.22s\n",
      "411:\tlearn: 0.0459860\ttotal: 4.35s\tremaining: 6.21s\n",
      "412:\tlearn: 0.0458682\ttotal: 4.36s\tremaining: 6.19s\n",
      "413:\tlearn: 0.0457616\ttotal: 4.37s\tremaining: 6.18s\n",
      "414:\tlearn: 0.0456111\ttotal: 4.38s\tremaining: 6.17s\n",
      "415:\tlearn: 0.0454738\ttotal: 4.39s\tremaining: 6.16s\n",
      "416:\tlearn: 0.0453074\ttotal: 4.4s\tremaining: 6.15s\n",
      "417:\tlearn: 0.0450245\ttotal: 4.41s\tremaining: 6.13s\n",
      "418:\tlearn: 0.0447245\ttotal: 4.42s\tremaining: 6.12s\n",
      "419:\tlearn: 0.0446841\ttotal: 4.42s\tremaining: 6.11s\n",
      "420:\tlearn: 0.0445755\ttotal: 4.44s\tremaining: 6.1s\n",
      "421:\tlearn: 0.0443750\ttotal: 4.45s\tremaining: 6.1s\n",
      "422:\tlearn: 0.0441238\ttotal: 4.46s\tremaining: 6.08s\n",
      "423:\tlearn: 0.0439453\ttotal: 4.47s\tremaining: 6.07s\n",
      "424:\tlearn: 0.0437990\ttotal: 4.48s\tremaining: 6.06s\n",
      "425:\tlearn: 0.0436328\ttotal: 4.49s\tremaining: 6.05s\n",
      "426:\tlearn: 0.0435758\ttotal: 4.5s\tremaining: 6.04s\n",
      "427:\tlearn: 0.0434880\ttotal: 4.51s\tremaining: 6.03s\n",
      "428:\tlearn: 0.0434048\ttotal: 4.52s\tremaining: 6.01s\n",
      "429:\tlearn: 0.0432119\ttotal: 4.53s\tremaining: 6s\n",
      "430:\tlearn: 0.0430474\ttotal: 4.54s\tremaining: 5.99s\n",
      "431:\tlearn: 0.0428841\ttotal: 4.55s\tremaining: 5.98s\n",
      "432:\tlearn: 0.0427548\ttotal: 4.56s\tremaining: 5.97s\n",
      "433:\tlearn: 0.0426423\ttotal: 4.57s\tremaining: 5.95s\n",
      "434:\tlearn: 0.0423878\ttotal: 4.58s\tremaining: 5.94s\n",
      "435:\tlearn: 0.0421938\ttotal: 4.58s\tremaining: 5.93s\n",
      "436:\tlearn: 0.0420001\ttotal: 4.59s\tremaining: 5.92s\n",
      "437:\tlearn: 0.0418694\ttotal: 4.6s\tremaining: 5.91s\n",
      "438:\tlearn: 0.0417505\ttotal: 4.62s\tremaining: 5.9s\n",
      "439:\tlearn: 0.0415553\ttotal: 4.63s\tremaining: 5.89s\n",
      "440:\tlearn: 0.0414694\ttotal: 4.64s\tremaining: 5.88s\n",
      "441:\tlearn: 0.0412574\ttotal: 4.65s\tremaining: 5.87s\n",
      "442:\tlearn: 0.0410753\ttotal: 4.66s\tremaining: 5.86s\n",
      "443:\tlearn: 0.0410143\ttotal: 4.67s\tremaining: 5.84s\n",
      "444:\tlearn: 0.0408217\ttotal: 4.68s\tremaining: 5.83s\n",
      "445:\tlearn: 0.0405576\ttotal: 4.69s\tremaining: 5.82s\n",
      "446:\tlearn: 0.0404226\ttotal: 4.7s\tremaining: 5.81s\n",
      "447:\tlearn: 0.0402726\ttotal: 4.71s\tremaining: 5.8s\n",
      "448:\tlearn: 0.0401543\ttotal: 4.71s\tremaining: 5.79s\n",
      "449:\tlearn: 0.0400094\ttotal: 4.72s\tremaining: 5.77s\n",
      "450:\tlearn: 0.0399208\ttotal: 4.73s\tremaining: 5.76s\n",
      "451:\tlearn: 0.0397752\ttotal: 4.74s\tremaining: 5.75s\n",
      "452:\tlearn: 0.0395938\ttotal: 4.75s\tremaining: 5.74s\n",
      "453:\tlearn: 0.0395196\ttotal: 4.76s\tremaining: 5.72s\n",
      "454:\tlearn: 0.0393024\ttotal: 4.77s\tremaining: 5.71s\n",
      "455:\tlearn: 0.0392087\ttotal: 4.78s\tremaining: 5.7s\n",
      "456:\tlearn: 0.0389151\ttotal: 4.79s\tremaining: 5.69s\n",
      "457:\tlearn: 0.0388086\ttotal: 4.8s\tremaining: 5.68s\n",
      "458:\tlearn: 0.0386332\ttotal: 4.81s\tremaining: 5.67s\n",
      "459:\tlearn: 0.0384582\ttotal: 4.82s\tremaining: 5.66s\n",
      "460:\tlearn: 0.0382998\ttotal: 4.83s\tremaining: 5.65s\n",
      "461:\tlearn: 0.0381684\ttotal: 4.84s\tremaining: 5.64s\n",
      "462:\tlearn: 0.0380317\ttotal: 4.85s\tremaining: 5.63s\n",
      "463:\tlearn: 0.0378998\ttotal: 4.86s\tremaining: 5.62s\n",
      "464:\tlearn: 0.0377958\ttotal: 4.87s\tremaining: 5.61s\n",
      "465:\tlearn: 0.0376759\ttotal: 4.88s\tremaining: 5.59s\n",
      "466:\tlearn: 0.0376508\ttotal: 4.89s\tremaining: 5.58s\n",
      "467:\tlearn: 0.0375218\ttotal: 4.9s\tremaining: 5.57s\n",
      "468:\tlearn: 0.0371848\ttotal: 4.91s\tremaining: 5.56s\n",
      "469:\tlearn: 0.0371122\ttotal: 4.92s\tremaining: 5.55s\n",
      "470:\tlearn: 0.0369924\ttotal: 4.93s\tremaining: 5.53s\n",
      "471:\tlearn: 0.0368717\ttotal: 4.94s\tremaining: 5.52s\n",
      "472:\tlearn: 0.0367480\ttotal: 4.95s\tremaining: 5.51s\n",
      "473:\tlearn: 0.0366949\ttotal: 4.96s\tremaining: 5.5s\n",
      "474:\tlearn: 0.0365482\ttotal: 4.97s\tremaining: 5.49s\n",
      "475:\tlearn: 0.0363262\ttotal: 4.98s\tremaining: 5.49s\n",
      "476:\tlearn: 0.0362419\ttotal: 5s\tremaining: 5.48s\n",
      "477:\tlearn: 0.0360858\ttotal: 5.01s\tremaining: 5.47s\n",
      "478:\tlearn: 0.0360110\ttotal: 5.02s\tremaining: 5.46s\n",
      "479:\tlearn: 0.0358547\ttotal: 5.03s\tremaining: 5.45s\n",
      "480:\tlearn: 0.0357081\ttotal: 5.04s\tremaining: 5.43s\n",
      "481:\tlearn: 0.0355269\ttotal: 5.05s\tremaining: 5.42s\n",
      "482:\tlearn: 0.0354143\ttotal: 5.06s\tremaining: 5.41s\n",
      "483:\tlearn: 0.0352330\ttotal: 5.07s\tremaining: 5.4s\n",
      "484:\tlearn: 0.0350790\ttotal: 5.08s\tremaining: 5.39s\n",
      "485:\tlearn: 0.0349295\ttotal: 5.09s\tremaining: 5.38s\n",
      "486:\tlearn: 0.0348164\ttotal: 5.1s\tremaining: 5.37s\n",
      "487:\tlearn: 0.0346310\ttotal: 5.11s\tremaining: 5.36s\n",
      "488:\tlearn: 0.0345594\ttotal: 5.12s\tremaining: 5.35s\n",
      "489:\tlearn: 0.0344010\ttotal: 5.13s\tremaining: 5.34s\n"
     ]
    },
    {
     "name": "stdout",
     "output_type": "stream",
     "text": [
      "490:\tlearn: 0.0342779\ttotal: 5.14s\tremaining: 5.33s\n",
      "491:\tlearn: 0.0341443\ttotal: 5.15s\tremaining: 5.32s\n",
      "492:\tlearn: 0.0340885\ttotal: 5.16s\tremaining: 5.31s\n",
      "493:\tlearn: 0.0340265\ttotal: 5.18s\tremaining: 5.3s\n",
      "494:\tlearn: 0.0338599\ttotal: 5.2s\tremaining: 5.3s\n",
      "495:\tlearn: 0.0337631\ttotal: 5.21s\tremaining: 5.29s\n",
      "496:\tlearn: 0.0337243\ttotal: 5.22s\tremaining: 5.29s\n",
      "497:\tlearn: 0.0336123\ttotal: 5.24s\tremaining: 5.28s\n",
      "498:\tlearn: 0.0334404\ttotal: 5.25s\tremaining: 5.27s\n",
      "499:\tlearn: 0.0333203\ttotal: 5.26s\tremaining: 5.26s\n",
      "500:\tlearn: 0.0332767\ttotal: 5.27s\tremaining: 5.25s\n",
      "501:\tlearn: 0.0331638\ttotal: 5.28s\tremaining: 5.24s\n",
      "502:\tlearn: 0.0330586\ttotal: 5.29s\tremaining: 5.23s\n",
      "503:\tlearn: 0.0329794\ttotal: 5.31s\tremaining: 5.22s\n",
      "504:\tlearn: 0.0329320\ttotal: 5.32s\tremaining: 5.21s\n",
      "505:\tlearn: 0.0328319\ttotal: 5.33s\tremaining: 5.21s\n",
      "506:\tlearn: 0.0327122\ttotal: 5.35s\tremaining: 5.2s\n",
      "507:\tlearn: 0.0326018\ttotal: 5.37s\tremaining: 5.2s\n",
      "508:\tlearn: 0.0324326\ttotal: 5.38s\tremaining: 5.19s\n",
      "509:\tlearn: 0.0323988\ttotal: 5.39s\tremaining: 5.18s\n",
      "510:\tlearn: 0.0323544\ttotal: 5.41s\tremaining: 5.18s\n",
      "511:\tlearn: 0.0322898\ttotal: 5.42s\tremaining: 5.17s\n",
      "512:\tlearn: 0.0321802\ttotal: 5.43s\tremaining: 5.16s\n",
      "513:\tlearn: 0.0320536\ttotal: 5.44s\tremaining: 5.15s\n",
      "514:\tlearn: 0.0319110\ttotal: 5.45s\tremaining: 5.13s\n",
      "515:\tlearn: 0.0318526\ttotal: 5.46s\tremaining: 5.12s\n",
      "516:\tlearn: 0.0318089\ttotal: 5.47s\tremaining: 5.11s\n",
      "517:\tlearn: 0.0317568\ttotal: 5.48s\tremaining: 5.1s\n",
      "518:\tlearn: 0.0316641\ttotal: 5.49s\tremaining: 5.09s\n",
      "519:\tlearn: 0.0315480\ttotal: 5.5s\tremaining: 5.08s\n",
      "520:\tlearn: 0.0314895\ttotal: 5.51s\tremaining: 5.07s\n",
      "521:\tlearn: 0.0313420\ttotal: 5.53s\tremaining: 5.06s\n",
      "522:\tlearn: 0.0312313\ttotal: 5.54s\tremaining: 5.05s\n",
      "523:\tlearn: 0.0311673\ttotal: 5.55s\tremaining: 5.04s\n",
      "524:\tlearn: 0.0310247\ttotal: 5.56s\tremaining: 5.03s\n",
      "525:\tlearn: 0.0309030\ttotal: 5.57s\tremaining: 5.01s\n",
      "526:\tlearn: 0.0308591\ttotal: 5.57s\tremaining: 5s\n",
      "527:\tlearn: 0.0307409\ttotal: 5.58s\tremaining: 4.99s\n",
      "528:\tlearn: 0.0307295\ttotal: 5.59s\tremaining: 4.98s\n",
      "529:\tlearn: 0.0306843\ttotal: 5.6s\tremaining: 4.97s\n",
      "530:\tlearn: 0.0305819\ttotal: 5.61s\tremaining: 4.96s\n",
      "531:\tlearn: 0.0304955\ttotal: 5.62s\tremaining: 4.94s\n",
      "532:\tlearn: 0.0303549\ttotal: 5.63s\tremaining: 4.93s\n",
      "533:\tlearn: 0.0303120\ttotal: 5.64s\tremaining: 4.92s\n",
      "534:\tlearn: 0.0302127\ttotal: 5.65s\tremaining: 4.91s\n",
      "535:\tlearn: 0.0301807\ttotal: 5.66s\tremaining: 4.9s\n",
      "536:\tlearn: 0.0301305\ttotal: 5.67s\tremaining: 4.88s\n",
      "537:\tlearn: 0.0300492\ttotal: 5.68s\tremaining: 4.88s\n",
      "538:\tlearn: 0.0299682\ttotal: 5.69s\tremaining: 4.87s\n",
      "539:\tlearn: 0.0299403\ttotal: 5.7s\tremaining: 4.86s\n",
      "540:\tlearn: 0.0298844\ttotal: 5.71s\tremaining: 4.85s\n",
      "541:\tlearn: 0.0298407\ttotal: 5.73s\tremaining: 4.84s\n",
      "542:\tlearn: 0.0297407\ttotal: 5.74s\tremaining: 4.83s\n",
      "543:\tlearn: 0.0296685\ttotal: 5.75s\tremaining: 4.82s\n",
      "544:\tlearn: 0.0295736\ttotal: 5.77s\tremaining: 4.81s\n",
      "545:\tlearn: 0.0294969\ttotal: 5.78s\tremaining: 4.8s\n",
      "546:\tlearn: 0.0294082\ttotal: 5.79s\tremaining: 4.8s\n",
      "547:\tlearn: 0.0293132\ttotal: 5.8s\tremaining: 4.79s\n",
      "548:\tlearn: 0.0292149\ttotal: 5.82s\tremaining: 4.78s\n",
      "549:\tlearn: 0.0291361\ttotal: 5.83s\tremaining: 4.77s\n",
      "550:\tlearn: 0.0290922\ttotal: 5.84s\tremaining: 4.76s\n",
      "551:\tlearn: 0.0290145\ttotal: 5.85s\tremaining: 4.75s\n",
      "552:\tlearn: 0.0289154\ttotal: 5.87s\tremaining: 4.74s\n",
      "553:\tlearn: 0.0288064\ttotal: 5.88s\tremaining: 4.73s\n",
      "554:\tlearn: 0.0286186\ttotal: 5.89s\tremaining: 4.73s\n",
      "555:\tlearn: 0.0285147\ttotal: 5.91s\tremaining: 4.72s\n",
      "556:\tlearn: 0.0283787\ttotal: 5.92s\tremaining: 4.71s\n",
      "557:\tlearn: 0.0283295\ttotal: 5.94s\tremaining: 4.7s\n",
      "558:\tlearn: 0.0282115\ttotal: 5.95s\tremaining: 4.69s\n",
      "559:\tlearn: 0.0281309\ttotal: 5.96s\tremaining: 4.68s\n",
      "560:\tlearn: 0.0280535\ttotal: 5.97s\tremaining: 4.67s\n",
      "561:\tlearn: 0.0279925\ttotal: 5.98s\tremaining: 4.66s\n",
      "562:\tlearn: 0.0279826\ttotal: 5.99s\tremaining: 4.64s\n",
      "563:\tlearn: 0.0278996\ttotal: 6s\tremaining: 4.63s\n",
      "564:\tlearn: 0.0278863\ttotal: 6s\tremaining: 4.62s\n",
      "565:\tlearn: 0.0278467\ttotal: 6.01s\tremaining: 4.61s\n",
      "566:\tlearn: 0.0277722\ttotal: 6.03s\tremaining: 4.6s\n",
      "567:\tlearn: 0.0276576\ttotal: 6.04s\tremaining: 4.59s\n",
      "568:\tlearn: 0.0276061\ttotal: 6.05s\tremaining: 4.58s\n",
      "569:\tlearn: 0.0275787\ttotal: 6.07s\tremaining: 4.58s\n",
      "570:\tlearn: 0.0275635\ttotal: 6.08s\tremaining: 4.57s\n",
      "571:\tlearn: 0.0275267\ttotal: 6.09s\tremaining: 4.56s\n",
      "572:\tlearn: 0.0274302\ttotal: 6.1s\tremaining: 4.55s\n",
      "573:\tlearn: 0.0274033\ttotal: 6.11s\tremaining: 4.54s\n",
      "574:\tlearn: 0.0273652\ttotal: 6.12s\tremaining: 4.52s\n",
      "575:\tlearn: 0.0273578\ttotal: 6.13s\tremaining: 4.51s\n",
      "576:\tlearn: 0.0273216\ttotal: 6.14s\tremaining: 4.5s\n",
      "577:\tlearn: 0.0272829\ttotal: 6.15s\tremaining: 4.49s\n",
      "578:\tlearn: 0.0272214\ttotal: 6.16s\tremaining: 4.48s\n",
      "579:\tlearn: 0.0271572\ttotal: 6.17s\tremaining: 4.46s\n",
      "580:\tlearn: 0.0270982\ttotal: 6.18s\tremaining: 4.45s\n",
      "581:\tlearn: 0.0270220\ttotal: 6.18s\tremaining: 4.44s\n",
      "582:\tlearn: 0.0269835\ttotal: 6.2s\tremaining: 4.43s\n",
      "583:\tlearn: 0.0269406\ttotal: 6.21s\tremaining: 4.42s\n",
      "584:\tlearn: 0.0268853\ttotal: 6.22s\tremaining: 4.41s\n",
      "585:\tlearn: 0.0267844\ttotal: 6.23s\tremaining: 4.4s\n",
      "586:\tlearn: 0.0266862\ttotal: 6.24s\tremaining: 4.39s\n",
      "587:\tlearn: 0.0265900\ttotal: 6.26s\tremaining: 4.38s\n",
      "588:\tlearn: 0.0265281\ttotal: 6.27s\tremaining: 4.38s\n",
      "589:\tlearn: 0.0264799\ttotal: 6.28s\tremaining: 4.36s\n",
      "590:\tlearn: 0.0264582\ttotal: 6.29s\tremaining: 4.35s\n",
      "591:\tlearn: 0.0263883\ttotal: 6.3s\tremaining: 4.34s\n",
      "592:\tlearn: 0.0263549\ttotal: 6.31s\tremaining: 4.33s\n",
      "593:\tlearn: 0.0262655\ttotal: 6.32s\tremaining: 4.32s\n",
      "594:\tlearn: 0.0261932\ttotal: 6.33s\tremaining: 4.31s\n",
      "595:\tlearn: 0.0261361\ttotal: 6.35s\tremaining: 4.3s\n",
      "596:\tlearn: 0.0260821\ttotal: 6.36s\tremaining: 4.29s\n",
      "597:\tlearn: 0.0260228\ttotal: 6.37s\tremaining: 4.28s\n",
      "598:\tlearn: 0.0259706\ttotal: 6.38s\tremaining: 4.27s\n",
      "599:\tlearn: 0.0259580\ttotal: 6.4s\tremaining: 4.26s\n",
      "600:\tlearn: 0.0258752\ttotal: 6.41s\tremaining: 4.26s\n",
      "601:\tlearn: 0.0258501\ttotal: 6.42s\tremaining: 4.25s\n",
      "602:\tlearn: 0.0257866\ttotal: 6.44s\tremaining: 4.24s\n",
      "603:\tlearn: 0.0257409\ttotal: 6.45s\tremaining: 4.23s\n",
      "604:\tlearn: 0.0256434\ttotal: 6.46s\tremaining: 4.22s\n",
      "605:\tlearn: 0.0255113\ttotal: 6.47s\tremaining: 4.21s\n",
      "606:\tlearn: 0.0254497\ttotal: 6.49s\tremaining: 4.2s\n",
      "607:\tlearn: 0.0253883\ttotal: 6.5s\tremaining: 4.19s\n",
      "608:\tlearn: 0.0252952\ttotal: 6.51s\tremaining: 4.18s\n",
      "609:\tlearn: 0.0252583\ttotal: 6.52s\tremaining: 4.17s\n",
      "610:\tlearn: 0.0251506\ttotal: 6.54s\tremaining: 4.16s\n",
      "611:\tlearn: 0.0250497\ttotal: 6.55s\tremaining: 4.15s\n",
      "612:\tlearn: 0.0249849\ttotal: 6.56s\tremaining: 4.14s\n",
      "613:\tlearn: 0.0249443\ttotal: 6.57s\tremaining: 4.13s\n",
      "614:\tlearn: 0.0248893\ttotal: 6.58s\tremaining: 4.12s\n",
      "615:\tlearn: 0.0248198\ttotal: 6.59s\tremaining: 4.11s\n",
      "616:\tlearn: 0.0247463\ttotal: 6.6s\tremaining: 4.1s\n",
      "617:\tlearn: 0.0246631\ttotal: 6.61s\tremaining: 4.09s\n",
      "618:\tlearn: 0.0246098\ttotal: 6.63s\tremaining: 4.08s\n",
      "619:\tlearn: 0.0245666\ttotal: 6.63s\tremaining: 4.07s\n",
      "620:\tlearn: 0.0244814\ttotal: 6.65s\tremaining: 4.06s\n",
      "621:\tlearn: 0.0244638\ttotal: 6.66s\tremaining: 4.04s\n",
      "622:\tlearn: 0.0244047\ttotal: 6.67s\tremaining: 4.03s\n",
      "623:\tlearn: 0.0243343\ttotal: 6.68s\tremaining: 4.02s\n",
      "624:\tlearn: 0.0242610\ttotal: 6.69s\tremaining: 4.01s\n",
      "625:\tlearn: 0.0241865\ttotal: 6.7s\tremaining: 4s\n",
      "626:\tlearn: 0.0240345\ttotal: 6.7s\tremaining: 3.99s\n",
      "627:\tlearn: 0.0239750\ttotal: 6.71s\tremaining: 3.98s\n",
      "628:\tlearn: 0.0238898\ttotal: 6.72s\tremaining: 3.96s\n",
      "629:\tlearn: 0.0238614\ttotal: 6.73s\tremaining: 3.95s\n",
      "630:\tlearn: 0.0237885\ttotal: 6.74s\tremaining: 3.94s\n",
      "631:\tlearn: 0.0237279\ttotal: 6.75s\tremaining: 3.93s\n",
      "632:\tlearn: 0.0235999\ttotal: 6.76s\tremaining: 3.92s\n",
      "633:\tlearn: 0.0235132\ttotal: 6.77s\tremaining: 3.91s\n",
      "634:\tlearn: 0.0234721\ttotal: 6.78s\tremaining: 3.9s\n",
      "635:\tlearn: 0.0234372\ttotal: 6.8s\tremaining: 3.89s\n",
      "636:\tlearn: 0.0233539\ttotal: 6.81s\tremaining: 3.88s\n",
      "637:\tlearn: 0.0233196\ttotal: 6.83s\tremaining: 3.87s\n",
      "638:\tlearn: 0.0232878\ttotal: 6.83s\tremaining: 3.86s\n",
      "639:\tlearn: 0.0232557\ttotal: 6.84s\tremaining: 3.85s\n",
      "640:\tlearn: 0.0231900\ttotal: 6.85s\tremaining: 3.84s\n",
      "641:\tlearn: 0.0231521\ttotal: 6.86s\tremaining: 3.83s\n",
      "642:\tlearn: 0.0231147\ttotal: 6.87s\tremaining: 3.82s\n",
      "643:\tlearn: 0.0230380\ttotal: 6.88s\tremaining: 3.81s\n",
      "644:\tlearn: 0.0230018\ttotal: 6.89s\tremaining: 3.79s\n",
      "645:\tlearn: 0.0229356\ttotal: 6.9s\tremaining: 3.78s\n",
      "646:\tlearn: 0.0228498\ttotal: 6.91s\tremaining: 3.77s\n",
      "647:\tlearn: 0.0228063\ttotal: 6.92s\tremaining: 3.76s\n",
      "648:\tlearn: 0.0227632\ttotal: 6.93s\tremaining: 3.75s\n",
      "649:\tlearn: 0.0227140\ttotal: 6.94s\tremaining: 3.74s\n"
     ]
    },
    {
     "name": "stdout",
     "output_type": "stream",
     "text": [
      "650:\tlearn: 0.0226483\ttotal: 6.95s\tremaining: 3.73s\n",
      "651:\tlearn: 0.0226336\ttotal: 6.96s\tremaining: 3.72s\n",
      "652:\tlearn: 0.0225901\ttotal: 6.98s\tremaining: 3.71s\n",
      "653:\tlearn: 0.0225531\ttotal: 6.99s\tremaining: 3.7s\n",
      "654:\tlearn: 0.0225322\ttotal: 7s\tremaining: 3.69s\n",
      "655:\tlearn: 0.0224712\ttotal: 7.02s\tremaining: 3.68s\n",
      "656:\tlearn: 0.0224126\ttotal: 7.04s\tremaining: 3.67s\n",
      "657:\tlearn: 0.0223503\ttotal: 7.05s\tremaining: 3.66s\n",
      "658:\tlearn: 0.0222892\ttotal: 7.06s\tremaining: 3.65s\n",
      "659:\tlearn: 0.0222494\ttotal: 7.07s\tremaining: 3.64s\n",
      "660:\tlearn: 0.0221744\ttotal: 7.08s\tremaining: 3.63s\n",
      "661:\tlearn: 0.0221060\ttotal: 7.09s\tremaining: 3.62s\n",
      "662:\tlearn: 0.0220528\ttotal: 7.1s\tremaining: 3.61s\n",
      "663:\tlearn: 0.0219605\ttotal: 7.11s\tremaining: 3.6s\n",
      "664:\tlearn: 0.0219085\ttotal: 7.12s\tremaining: 3.59s\n",
      "665:\tlearn: 0.0218918\ttotal: 7.13s\tremaining: 3.58s\n",
      "666:\tlearn: 0.0218314\ttotal: 7.14s\tremaining: 3.57s\n",
      "667:\tlearn: 0.0218198\ttotal: 7.16s\tremaining: 3.56s\n",
      "668:\tlearn: 0.0217585\ttotal: 7.17s\tremaining: 3.55s\n",
      "669:\tlearn: 0.0216725\ttotal: 7.18s\tremaining: 3.54s\n",
      "670:\tlearn: 0.0216129\ttotal: 7.19s\tremaining: 3.53s\n",
      "671:\tlearn: 0.0215707\ttotal: 7.2s\tremaining: 3.51s\n",
      "672:\tlearn: 0.0215146\ttotal: 7.21s\tremaining: 3.5s\n",
      "673:\tlearn: 0.0214893\ttotal: 7.22s\tremaining: 3.49s\n",
      "674:\tlearn: 0.0214150\ttotal: 7.23s\tremaining: 3.48s\n",
      "675:\tlearn: 0.0213527\ttotal: 7.24s\tremaining: 3.47s\n",
      "676:\tlearn: 0.0213239\ttotal: 7.25s\tremaining: 3.46s\n",
      "677:\tlearn: 0.0213083\ttotal: 7.26s\tremaining: 3.45s\n",
      "678:\tlearn: 0.0212641\ttotal: 7.27s\tremaining: 3.44s\n",
      "679:\tlearn: 0.0212043\ttotal: 7.28s\tremaining: 3.42s\n",
      "680:\tlearn: 0.0211793\ttotal: 7.29s\tremaining: 3.41s\n",
      "681:\tlearn: 0.0211277\ttotal: 7.29s\tremaining: 3.4s\n",
      "682:\tlearn: 0.0211021\ttotal: 7.3s\tremaining: 3.39s\n",
      "683:\tlearn: 0.0210640\ttotal: 7.31s\tremaining: 3.38s\n",
      "684:\tlearn: 0.0210314\ttotal: 7.33s\tremaining: 3.37s\n",
      "685:\tlearn: 0.0209586\ttotal: 7.34s\tremaining: 3.36s\n",
      "686:\tlearn: 0.0209116\ttotal: 7.35s\tremaining: 3.35s\n",
      "687:\tlearn: 0.0208946\ttotal: 7.36s\tremaining: 3.34s\n",
      "688:\tlearn: 0.0208571\ttotal: 7.37s\tremaining: 3.33s\n",
      "689:\tlearn: 0.0208420\ttotal: 7.38s\tremaining: 3.32s\n",
      "690:\tlearn: 0.0208010\ttotal: 7.39s\tremaining: 3.31s\n",
      "691:\tlearn: 0.0207441\ttotal: 7.4s\tremaining: 3.29s\n",
      "692:\tlearn: 0.0206717\ttotal: 7.41s\tremaining: 3.28s\n",
      "693:\tlearn: 0.0205993\ttotal: 7.42s\tremaining: 3.27s\n",
      "694:\tlearn: 0.0205824\ttotal: 7.43s\tremaining: 3.26s\n",
      "695:\tlearn: 0.0205582\ttotal: 7.44s\tremaining: 3.25s\n",
      "696:\tlearn: 0.0205253\ttotal: 7.45s\tremaining: 3.24s\n",
      "697:\tlearn: 0.0204843\ttotal: 7.46s\tremaining: 3.23s\n",
      "698:\tlearn: 0.0204394\ttotal: 7.47s\tremaining: 3.21s\n",
      "699:\tlearn: 0.0204291\ttotal: 7.47s\tremaining: 3.2s\n",
      "700:\tlearn: 0.0203750\ttotal: 7.49s\tremaining: 3.19s\n",
      "701:\tlearn: 0.0203211\ttotal: 7.49s\tremaining: 3.18s\n",
      "702:\tlearn: 0.0202738\ttotal: 7.5s\tremaining: 3.17s\n",
      "703:\tlearn: 0.0202124\ttotal: 7.51s\tremaining: 3.16s\n",
      "704:\tlearn: 0.0201655\ttotal: 7.53s\tremaining: 3.15s\n",
      "705:\tlearn: 0.0200947\ttotal: 7.54s\tremaining: 3.14s\n",
      "706:\tlearn: 0.0200673\ttotal: 7.55s\tremaining: 3.13s\n",
      "707:\tlearn: 0.0199816\ttotal: 7.56s\tremaining: 3.12s\n",
      "708:\tlearn: 0.0199322\ttotal: 7.57s\tremaining: 3.11s\n",
      "709:\tlearn: 0.0198926\ttotal: 7.58s\tremaining: 3.1s\n",
      "710:\tlearn: 0.0198818\ttotal: 7.59s\tremaining: 3.08s\n",
      "711:\tlearn: 0.0198038\ttotal: 7.6s\tremaining: 3.07s\n",
      "712:\tlearn: 0.0197621\ttotal: 7.61s\tremaining: 3.06s\n",
      "713:\tlearn: 0.0197301\ttotal: 7.62s\tremaining: 3.05s\n",
      "714:\tlearn: 0.0196397\ttotal: 7.63s\tremaining: 3.04s\n",
      "715:\tlearn: 0.0196075\ttotal: 7.63s\tremaining: 3.03s\n",
      "716:\tlearn: 0.0195624\ttotal: 7.64s\tremaining: 3.02s\n",
      "717:\tlearn: 0.0195408\ttotal: 7.65s\tremaining: 3.01s\n",
      "718:\tlearn: 0.0194994\ttotal: 7.66s\tremaining: 3s\n",
      "719:\tlearn: 0.0194823\ttotal: 7.68s\tremaining: 2.98s\n",
      "720:\tlearn: 0.0194218\ttotal: 7.69s\tremaining: 2.97s\n",
      "721:\tlearn: 0.0193661\ttotal: 7.7s\tremaining: 2.96s\n",
      "722:\tlearn: 0.0193515\ttotal: 7.71s\tremaining: 2.95s\n",
      "723:\tlearn: 0.0193170\ttotal: 7.72s\tremaining: 2.94s\n",
      "724:\tlearn: 0.0192613\ttotal: 7.73s\tremaining: 2.93s\n",
      "725:\tlearn: 0.0192068\ttotal: 7.74s\tremaining: 2.92s\n",
      "726:\tlearn: 0.0191933\ttotal: 7.75s\tremaining: 2.91s\n",
      "727:\tlearn: 0.0191294\ttotal: 7.76s\tremaining: 2.9s\n",
      "728:\tlearn: 0.0190645\ttotal: 7.77s\tremaining: 2.89s\n",
      "729:\tlearn: 0.0190145\ttotal: 7.78s\tremaining: 2.88s\n",
      "730:\tlearn: 0.0189694\ttotal: 7.79s\tremaining: 2.87s\n",
      "731:\tlearn: 0.0189213\ttotal: 7.8s\tremaining: 2.85s\n",
      "732:\tlearn: 0.0188861\ttotal: 7.81s\tremaining: 2.84s\n",
      "733:\tlearn: 0.0188494\ttotal: 7.82s\tremaining: 2.83s\n",
      "734:\tlearn: 0.0188297\ttotal: 7.83s\tremaining: 2.82s\n",
      "735:\tlearn: 0.0187884\ttotal: 7.84s\tremaining: 2.81s\n",
      "736:\tlearn: 0.0186905\ttotal: 7.85s\tremaining: 2.8s\n",
      "737:\tlearn: 0.0186384\ttotal: 7.86s\tremaining: 2.79s\n",
      "738:\tlearn: 0.0185696\ttotal: 7.87s\tremaining: 2.78s\n",
      "739:\tlearn: 0.0185555\ttotal: 7.88s\tremaining: 2.77s\n",
      "740:\tlearn: 0.0185398\ttotal: 7.89s\tremaining: 2.76s\n",
      "741:\tlearn: 0.0184870\ttotal: 7.91s\tremaining: 2.75s\n",
      "742:\tlearn: 0.0184653\ttotal: 7.92s\tremaining: 2.74s\n",
      "743:\tlearn: 0.0184082\ttotal: 7.92s\tremaining: 2.73s\n",
      "744:\tlearn: 0.0183966\ttotal: 7.93s\tremaining: 2.71s\n",
      "745:\tlearn: 0.0183368\ttotal: 7.95s\tremaining: 2.71s\n",
      "746:\tlearn: 0.0182999\ttotal: 7.96s\tremaining: 2.69s\n",
      "747:\tlearn: 0.0182821\ttotal: 7.97s\tremaining: 2.68s\n",
      "748:\tlearn: 0.0182425\ttotal: 7.97s\tremaining: 2.67s\n",
      "749:\tlearn: 0.0182036\ttotal: 7.98s\tremaining: 2.66s\n",
      "750:\tlearn: 0.0181894\ttotal: 7.99s\tremaining: 2.65s\n",
      "751:\tlearn: 0.0181525\ttotal: 8s\tremaining: 2.64s\n",
      "752:\tlearn: 0.0181236\ttotal: 8.02s\tremaining: 2.63s\n",
      "753:\tlearn: 0.0180915\ttotal: 8.03s\tremaining: 2.62s\n",
      "754:\tlearn: 0.0180458\ttotal: 8.04s\tremaining: 2.61s\n",
      "755:\tlearn: 0.0180331\ttotal: 8.05s\tremaining: 2.6s\n",
      "756:\tlearn: 0.0179646\ttotal: 8.06s\tremaining: 2.59s\n",
      "757:\tlearn: 0.0179500\ttotal: 8.07s\tremaining: 2.58s\n",
      "758:\tlearn: 0.0179391\ttotal: 8.08s\tremaining: 2.56s\n",
      "759:\tlearn: 0.0179031\ttotal: 8.09s\tremaining: 2.55s\n",
      "760:\tlearn: 0.0178608\ttotal: 8.1s\tremaining: 2.54s\n",
      "761:\tlearn: 0.0178288\ttotal: 8.11s\tremaining: 2.53s\n",
      "762:\tlearn: 0.0177439\ttotal: 8.12s\tremaining: 2.52s\n",
      "763:\tlearn: 0.0176961\ttotal: 8.13s\tremaining: 2.51s\n",
      "764:\tlearn: 0.0176713\ttotal: 8.13s\tremaining: 2.5s\n",
      "765:\tlearn: 0.0176341\ttotal: 8.14s\tremaining: 2.49s\n",
      "766:\tlearn: 0.0176278\ttotal: 8.16s\tremaining: 2.48s\n",
      "767:\tlearn: 0.0176178\ttotal: 8.17s\tremaining: 2.47s\n",
      "768:\tlearn: 0.0175716\ttotal: 8.18s\tremaining: 2.46s\n",
      "769:\tlearn: 0.0174996\ttotal: 8.19s\tremaining: 2.44s\n",
      "770:\tlearn: 0.0174712\ttotal: 8.2s\tremaining: 2.43s\n",
      "771:\tlearn: 0.0174498\ttotal: 8.21s\tremaining: 2.42s\n",
      "772:\tlearn: 0.0174260\ttotal: 8.21s\tremaining: 2.41s\n",
      "773:\tlearn: 0.0173915\ttotal: 8.22s\tremaining: 2.4s\n",
      "774:\tlearn: 0.0173365\ttotal: 8.23s\tremaining: 2.39s\n",
      "775:\tlearn: 0.0173035\ttotal: 8.25s\tremaining: 2.38s\n",
      "776:\tlearn: 0.0172784\ttotal: 8.26s\tremaining: 2.37s\n",
      "777:\tlearn: 0.0172414\ttotal: 8.27s\tremaining: 2.36s\n",
      "778:\tlearn: 0.0172075\ttotal: 8.28s\tremaining: 2.35s\n",
      "779:\tlearn: 0.0171719\ttotal: 8.29s\tremaining: 2.34s\n",
      "780:\tlearn: 0.0171125\ttotal: 8.3s\tremaining: 2.33s\n",
      "781:\tlearn: 0.0170804\ttotal: 8.31s\tremaining: 2.31s\n",
      "782:\tlearn: 0.0170447\ttotal: 8.31s\tremaining: 2.3s\n",
      "783:\tlearn: 0.0170242\ttotal: 8.32s\tremaining: 2.29s\n",
      "784:\tlearn: 0.0169966\ttotal: 8.33s\tremaining: 2.28s\n",
      "785:\tlearn: 0.0169724\ttotal: 8.34s\tremaining: 2.27s\n",
      "786:\tlearn: 0.0169243\ttotal: 8.35s\tremaining: 2.26s\n",
      "787:\tlearn: 0.0169057\ttotal: 8.36s\tremaining: 2.25s\n",
      "788:\tlearn: 0.0168821\ttotal: 8.37s\tremaining: 2.24s\n",
      "789:\tlearn: 0.0168396\ttotal: 8.38s\tremaining: 2.23s\n",
      "790:\tlearn: 0.0168331\ttotal: 8.39s\tremaining: 2.22s\n",
      "791:\tlearn: 0.0167521\ttotal: 8.4s\tremaining: 2.21s\n",
      "792:\tlearn: 0.0167240\ttotal: 8.41s\tremaining: 2.19s\n",
      "793:\tlearn: 0.0167029\ttotal: 8.42s\tremaining: 2.19s\n",
      "794:\tlearn: 0.0166589\ttotal: 8.43s\tremaining: 2.17s\n",
      "795:\tlearn: 0.0166081\ttotal: 8.44s\tremaining: 2.16s\n",
      "796:\tlearn: 0.0165729\ttotal: 8.45s\tremaining: 2.15s\n",
      "797:\tlearn: 0.0165408\ttotal: 8.46s\tremaining: 2.14s\n",
      "798:\tlearn: 0.0164779\ttotal: 8.47s\tremaining: 2.13s\n",
      "799:\tlearn: 0.0164491\ttotal: 8.48s\tremaining: 2.12s\n",
      "800:\tlearn: 0.0164045\ttotal: 8.49s\tremaining: 2.11s\n",
      "801:\tlearn: 0.0163793\ttotal: 8.5s\tremaining: 2.1s\n",
      "802:\tlearn: 0.0163631\ttotal: 8.51s\tremaining: 2.09s\n",
      "803:\tlearn: 0.0163405\ttotal: 8.52s\tremaining: 2.08s\n",
      "804:\tlearn: 0.0163321\ttotal: 8.53s\tremaining: 2.06s\n",
      "805:\tlearn: 0.0162861\ttotal: 8.54s\tremaining: 2.06s\n",
      "806:\tlearn: 0.0162570\ttotal: 8.55s\tremaining: 2.04s\n",
      "807:\tlearn: 0.0162189\ttotal: 8.56s\tremaining: 2.03s\n",
      "808:\tlearn: 0.0161904\ttotal: 8.57s\tremaining: 2.02s\n",
      "809:\tlearn: 0.0161666\ttotal: 8.57s\tremaining: 2.01s\n"
     ]
    },
    {
     "name": "stdout",
     "output_type": "stream",
     "text": [
      "810:\tlearn: 0.0161426\ttotal: 8.59s\tremaining: 2s\n",
      "811:\tlearn: 0.0161107\ttotal: 8.6s\tremaining: 1.99s\n",
      "812:\tlearn: 0.0161048\ttotal: 8.61s\tremaining: 1.98s\n",
      "813:\tlearn: 0.0160998\ttotal: 8.62s\tremaining: 1.97s\n",
      "814:\tlearn: 0.0160852\ttotal: 8.63s\tremaining: 1.96s\n",
      "815:\tlearn: 0.0160256\ttotal: 8.64s\tremaining: 1.95s\n",
      "816:\tlearn: 0.0159615\ttotal: 8.65s\tremaining: 1.94s\n",
      "817:\tlearn: 0.0159364\ttotal: 8.65s\tremaining: 1.93s\n",
      "818:\tlearn: 0.0159134\ttotal: 8.66s\tremaining: 1.92s\n",
      "819:\tlearn: 0.0158917\ttotal: 8.67s\tremaining: 1.9s\n",
      "820:\tlearn: 0.0158510\ttotal: 8.68s\tremaining: 1.89s\n",
      "821:\tlearn: 0.0158352\ttotal: 8.69s\tremaining: 1.88s\n",
      "822:\tlearn: 0.0157990\ttotal: 8.7s\tremaining: 1.87s\n",
      "823:\tlearn: 0.0157926\ttotal: 8.71s\tremaining: 1.86s\n",
      "824:\tlearn: 0.0157664\ttotal: 8.72s\tremaining: 1.85s\n",
      "825:\tlearn: 0.0157296\ttotal: 8.73s\tremaining: 1.84s\n",
      "826:\tlearn: 0.0157127\ttotal: 8.74s\tremaining: 1.83s\n",
      "827:\tlearn: 0.0156724\ttotal: 8.75s\tremaining: 1.82s\n",
      "828:\tlearn: 0.0156499\ttotal: 8.76s\tremaining: 1.81s\n",
      "829:\tlearn: 0.0156350\ttotal: 8.78s\tremaining: 1.8s\n",
      "830:\tlearn: 0.0155643\ttotal: 8.79s\tremaining: 1.79s\n",
      "831:\tlearn: 0.0155254\ttotal: 8.8s\tremaining: 1.78s\n",
      "832:\tlearn: 0.0154565\ttotal: 8.81s\tremaining: 1.76s\n",
      "833:\tlearn: 0.0154405\ttotal: 8.82s\tremaining: 1.75s\n",
      "834:\tlearn: 0.0154214\ttotal: 8.83s\tremaining: 1.74s\n",
      "835:\tlearn: 0.0153759\ttotal: 8.84s\tremaining: 1.73s\n",
      "836:\tlearn: 0.0153487\ttotal: 8.85s\tremaining: 1.72s\n",
      "837:\tlearn: 0.0153049\ttotal: 8.86s\tremaining: 1.71s\n",
      "838:\tlearn: 0.0152749\ttotal: 8.87s\tremaining: 1.7s\n",
      "839:\tlearn: 0.0152510\ttotal: 8.88s\tremaining: 1.69s\n",
      "840:\tlearn: 0.0152418\ttotal: 8.89s\tremaining: 1.68s\n",
      "841:\tlearn: 0.0152148\ttotal: 8.9s\tremaining: 1.67s\n",
      "842:\tlearn: 0.0151775\ttotal: 8.91s\tremaining: 1.66s\n",
      "843:\tlearn: 0.0151459\ttotal: 8.92s\tremaining: 1.65s\n",
      "844:\tlearn: 0.0151197\ttotal: 8.93s\tremaining: 1.64s\n",
      "845:\tlearn: 0.0151051\ttotal: 8.95s\tremaining: 1.63s\n",
      "846:\tlearn: 0.0150617\ttotal: 8.97s\tremaining: 1.62s\n",
      "847:\tlearn: 0.0150286\ttotal: 9.02s\tremaining: 1.62s\n",
      "848:\tlearn: 0.0150043\ttotal: 9.03s\tremaining: 1.61s\n",
      "849:\tlearn: 0.0149978\ttotal: 9.04s\tremaining: 1.59s\n",
      "850:\tlearn: 0.0149818\ttotal: 9.05s\tremaining: 1.58s\n",
      "851:\tlearn: 0.0149416\ttotal: 9.06s\tremaining: 1.57s\n",
      "852:\tlearn: 0.0149075\ttotal: 9.07s\tremaining: 1.56s\n",
      "853:\tlearn: 0.0148940\ttotal: 9.08s\tremaining: 1.55s\n",
      "854:\tlearn: 0.0148797\ttotal: 9.09s\tremaining: 1.54s\n",
      "855:\tlearn: 0.0148194\ttotal: 9.1s\tremaining: 1.53s\n",
      "856:\tlearn: 0.0147926\ttotal: 9.11s\tremaining: 1.52s\n",
      "857:\tlearn: 0.0147614\ttotal: 9.12s\tremaining: 1.51s\n",
      "858:\tlearn: 0.0147506\ttotal: 9.13s\tremaining: 1.5s\n",
      "859:\tlearn: 0.0147124\ttotal: 9.14s\tremaining: 1.49s\n",
      "860:\tlearn: 0.0146792\ttotal: 9.15s\tremaining: 1.48s\n",
      "861:\tlearn: 0.0146357\ttotal: 9.16s\tremaining: 1.47s\n",
      "862:\tlearn: 0.0146223\ttotal: 9.17s\tremaining: 1.46s\n",
      "863:\tlearn: 0.0145926\ttotal: 9.18s\tremaining: 1.45s\n",
      "864:\tlearn: 0.0145836\ttotal: 9.19s\tremaining: 1.43s\n",
      "865:\tlearn: 0.0145701\ttotal: 9.2s\tremaining: 1.42s\n",
      "866:\tlearn: 0.0145256\ttotal: 9.21s\tremaining: 1.41s\n",
      "867:\tlearn: 0.0144807\ttotal: 9.22s\tremaining: 1.4s\n",
      "868:\tlearn: 0.0144438\ttotal: 9.23s\tremaining: 1.39s\n",
      "869:\tlearn: 0.0144250\ttotal: 9.24s\tremaining: 1.38s\n",
      "870:\tlearn: 0.0143786\ttotal: 9.25s\tremaining: 1.37s\n",
      "871:\tlearn: 0.0143557\ttotal: 9.26s\tremaining: 1.36s\n",
      "872:\tlearn: 0.0143452\ttotal: 9.27s\tremaining: 1.35s\n",
      "873:\tlearn: 0.0143250\ttotal: 9.28s\tremaining: 1.34s\n",
      "874:\tlearn: 0.0142839\ttotal: 9.29s\tremaining: 1.33s\n",
      "875:\tlearn: 0.0142615\ttotal: 9.3s\tremaining: 1.32s\n",
      "876:\tlearn: 0.0142367\ttotal: 9.31s\tremaining: 1.31s\n",
      "877:\tlearn: 0.0142069\ttotal: 9.32s\tremaining: 1.29s\n",
      "878:\tlearn: 0.0141709\ttotal: 9.34s\tremaining: 1.28s\n",
      "879:\tlearn: 0.0141593\ttotal: 9.35s\tremaining: 1.27s\n",
      "880:\tlearn: 0.0141148\ttotal: 9.35s\tremaining: 1.26s\n",
      "881:\tlearn: 0.0140803\ttotal: 9.36s\tremaining: 1.25s\n",
      "882:\tlearn: 0.0140389\ttotal: 9.37s\tremaining: 1.24s\n",
      "883:\tlearn: 0.0140317\ttotal: 9.38s\tremaining: 1.23s\n",
      "884:\tlearn: 0.0140042\ttotal: 9.39s\tremaining: 1.22s\n",
      "885:\tlearn: 0.0139526\ttotal: 9.4s\tremaining: 1.21s\n",
      "886:\tlearn: 0.0139246\ttotal: 9.41s\tremaining: 1.2s\n",
      "887:\tlearn: 0.0138705\ttotal: 9.43s\tremaining: 1.19s\n",
      "888:\tlearn: 0.0138531\ttotal: 9.43s\tremaining: 1.18s\n",
      "889:\tlearn: 0.0138410\ttotal: 9.45s\tremaining: 1.17s\n",
      "890:\tlearn: 0.0138348\ttotal: 9.46s\tremaining: 1.16s\n",
      "891:\tlearn: 0.0137998\ttotal: 9.47s\tremaining: 1.15s\n",
      "892:\tlearn: 0.0137850\ttotal: 9.48s\tremaining: 1.14s\n",
      "893:\tlearn: 0.0137548\ttotal: 9.49s\tremaining: 1.13s\n",
      "894:\tlearn: 0.0137096\ttotal: 9.51s\tremaining: 1.11s\n",
      "895:\tlearn: 0.0136870\ttotal: 9.52s\tremaining: 1.1s\n",
      "896:\tlearn: 0.0136801\ttotal: 9.53s\tremaining: 1.09s\n",
      "897:\tlearn: 0.0136391\ttotal: 9.55s\tremaining: 1.08s\n",
      "898:\tlearn: 0.0136173\ttotal: 9.56s\tremaining: 1.07s\n",
      "899:\tlearn: 0.0135825\ttotal: 9.57s\tremaining: 1.06s\n",
      "900:\tlearn: 0.0135608\ttotal: 9.58s\tremaining: 1.05s\n",
      "901:\tlearn: 0.0135313\ttotal: 9.59s\tremaining: 1.04s\n",
      "902:\tlearn: 0.0135082\ttotal: 9.61s\tremaining: 1.03s\n",
      "903:\tlearn: 0.0134988\ttotal: 9.62s\tremaining: 1.02s\n",
      "904:\tlearn: 0.0134774\ttotal: 9.63s\tremaining: 1.01s\n",
      "905:\tlearn: 0.0134450\ttotal: 9.64s\tremaining: 1s\n",
      "906:\tlearn: 0.0134333\ttotal: 9.65s\tremaining: 990ms\n",
      "907:\tlearn: 0.0134059\ttotal: 9.67s\tremaining: 979ms\n",
      "908:\tlearn: 0.0133932\ttotal: 9.68s\tremaining: 969ms\n",
      "909:\tlearn: 0.0133792\ttotal: 9.69s\tremaining: 958ms\n",
      "910:\tlearn: 0.0133687\ttotal: 9.7s\tremaining: 948ms\n",
      "911:\tlearn: 0.0133397\ttotal: 9.72s\tremaining: 938ms\n",
      "912:\tlearn: 0.0133304\ttotal: 9.73s\tremaining: 927ms\n",
      "913:\tlearn: 0.0133072\ttotal: 9.74s\tremaining: 916ms\n",
      "914:\tlearn: 0.0132944\ttotal: 9.75s\tremaining: 906ms\n",
      "915:\tlearn: 0.0132750\ttotal: 9.76s\tremaining: 895ms\n",
      "916:\tlearn: 0.0132300\ttotal: 9.77s\tremaining: 885ms\n",
      "917:\tlearn: 0.0131822\ttotal: 9.78s\tremaining: 874ms\n",
      "918:\tlearn: 0.0131517\ttotal: 9.79s\tremaining: 863ms\n",
      "919:\tlearn: 0.0131203\ttotal: 9.8s\tremaining: 852ms\n",
      "920:\tlearn: 0.0130929\ttotal: 9.81s\tremaining: 842ms\n",
      "921:\tlearn: 0.0130889\ttotal: 9.82s\tremaining: 831ms\n",
      "922:\tlearn: 0.0130554\ttotal: 9.83s\tremaining: 820ms\n",
      "923:\tlearn: 0.0130392\ttotal: 9.85s\tremaining: 810ms\n",
      "924:\tlearn: 0.0130191\ttotal: 9.87s\tremaining: 800ms\n",
      "925:\tlearn: 0.0129996\ttotal: 9.88s\tremaining: 790ms\n",
      "926:\tlearn: 0.0129804\ttotal: 9.89s\tremaining: 779ms\n",
      "927:\tlearn: 0.0129662\ttotal: 9.9s\tremaining: 768ms\n",
      "928:\tlearn: 0.0129454\ttotal: 9.91s\tremaining: 758ms\n",
      "929:\tlearn: 0.0129191\ttotal: 9.92s\tremaining: 747ms\n",
      "930:\tlearn: 0.0129103\ttotal: 9.93s\tremaining: 736ms\n",
      "931:\tlearn: 0.0128881\ttotal: 9.94s\tremaining: 725ms\n",
      "932:\tlearn: 0.0128812\ttotal: 9.95s\tremaining: 715ms\n",
      "933:\tlearn: 0.0128658\ttotal: 9.96s\tremaining: 704ms\n",
      "934:\tlearn: 0.0128421\ttotal: 9.97s\tremaining: 693ms\n",
      "935:\tlearn: 0.0128257\ttotal: 9.98s\tremaining: 683ms\n",
      "936:\tlearn: 0.0128032\ttotal: 9.99s\tremaining: 672ms\n",
      "937:\tlearn: 0.0127816\ttotal: 10s\tremaining: 661ms\n",
      "938:\tlearn: 0.0127576\ttotal: 10s\tremaining: 650ms\n",
      "939:\tlearn: 0.0127403\ttotal: 10s\tremaining: 640ms\n",
      "940:\tlearn: 0.0127226\ttotal: 10s\tremaining: 629ms\n",
      "941:\tlearn: 0.0127106\ttotal: 10s\tremaining: 619ms\n",
      "942:\tlearn: 0.0126797\ttotal: 10.1s\tremaining: 608ms\n",
      "943:\tlearn: 0.0126474\ttotal: 10.1s\tremaining: 597ms\n",
      "944:\tlearn: 0.0126323\ttotal: 10.1s\tremaining: 587ms\n",
      "945:\tlearn: 0.0125962\ttotal: 10.1s\tremaining: 576ms\n",
      "946:\tlearn: 0.0125659\ttotal: 10.1s\tremaining: 565ms\n",
      "947:\tlearn: 0.0125591\ttotal: 10.1s\tremaining: 554ms\n",
      "948:\tlearn: 0.0125407\ttotal: 10.1s\tremaining: 544ms\n",
      "949:\tlearn: 0.0125295\ttotal: 10.1s\tremaining: 533ms\n",
      "950:\tlearn: 0.0125174\ttotal: 10.1s\tremaining: 523ms\n",
      "951:\tlearn: 0.0125022\ttotal: 10.2s\tremaining: 512ms\n",
      "952:\tlearn: 0.0124763\ttotal: 10.2s\tremaining: 501ms\n",
      "953:\tlearn: 0.0124542\ttotal: 10.2s\tremaining: 491ms\n",
      "954:\tlearn: 0.0124416\ttotal: 10.2s\tremaining: 480ms\n",
      "955:\tlearn: 0.0124233\ttotal: 10.2s\tremaining: 469ms\n",
      "956:\tlearn: 0.0123988\ttotal: 10.2s\tremaining: 459ms\n",
      "957:\tlearn: 0.0123744\ttotal: 10.2s\tremaining: 448ms\n",
      "958:\tlearn: 0.0123699\ttotal: 10.2s\tremaining: 438ms\n",
      "959:\tlearn: 0.0123450\ttotal: 10.2s\tremaining: 427ms\n",
      "960:\tlearn: 0.0123326\ttotal: 10.3s\tremaining: 416ms\n",
      "961:\tlearn: 0.0123142\ttotal: 10.3s\tremaining: 406ms\n",
      "962:\tlearn: 0.0122910\ttotal: 10.3s\tremaining: 395ms\n",
      "963:\tlearn: 0.0122708\ttotal: 10.3s\tremaining: 384ms\n",
      "964:\tlearn: 0.0122584\ttotal: 10.3s\tremaining: 373ms\n",
      "965:\tlearn: 0.0122381\ttotal: 10.3s\tremaining: 363ms\n",
      "966:\tlearn: 0.0122043\ttotal: 10.3s\tremaining: 352ms\n",
      "967:\tlearn: 0.0121919\ttotal: 10.3s\tremaining: 341ms\n",
      "968:\tlearn: 0.0121699\ttotal: 10.3s\tremaining: 331ms\n",
      "969:\tlearn: 0.0121526\ttotal: 10.3s\tremaining: 320ms\n",
      "970:\tlearn: 0.0121283\ttotal: 10.4s\tremaining: 309ms\n",
      "971:\tlearn: 0.0121247\ttotal: 10.4s\tremaining: 299ms\n"
     ]
    },
    {
     "name": "stdout",
     "output_type": "stream",
     "text": [
      "972:\tlearn: 0.0121054\ttotal: 10.4s\tremaining: 288ms\n",
      "973:\tlearn: 0.0120774\ttotal: 10.4s\tremaining: 277ms\n",
      "974:\tlearn: 0.0120601\ttotal: 10.4s\tremaining: 267ms\n",
      "975:\tlearn: 0.0120425\ttotal: 10.4s\tremaining: 256ms\n",
      "976:\tlearn: 0.0120374\ttotal: 10.4s\tremaining: 245ms\n",
      "977:\tlearn: 0.0120145\ttotal: 10.4s\tremaining: 235ms\n",
      "978:\tlearn: 0.0119903\ttotal: 10.4s\tremaining: 224ms\n",
      "979:\tlearn: 0.0119703\ttotal: 10.5s\tremaining: 213ms\n",
      "980:\tlearn: 0.0119632\ttotal: 10.5s\tremaining: 203ms\n",
      "981:\tlearn: 0.0119550\ttotal: 10.5s\tremaining: 192ms\n",
      "982:\tlearn: 0.0119301\ttotal: 10.5s\tremaining: 181ms\n",
      "983:\tlearn: 0.0119063\ttotal: 10.5s\tremaining: 171ms\n",
      "984:\tlearn: 0.0118927\ttotal: 10.5s\tremaining: 160ms\n",
      "985:\tlearn: 0.0118702\ttotal: 10.5s\tremaining: 149ms\n",
      "986:\tlearn: 0.0118501\ttotal: 10.5s\tremaining: 139ms\n",
      "987:\tlearn: 0.0118281\ttotal: 10.5s\tremaining: 128ms\n",
      "988:\tlearn: 0.0118212\ttotal: 10.5s\tremaining: 117ms\n",
      "989:\tlearn: 0.0117941\ttotal: 10.6s\tremaining: 107ms\n",
      "990:\tlearn: 0.0117698\ttotal: 10.6s\tremaining: 95.9ms\n",
      "991:\tlearn: 0.0117506\ttotal: 10.6s\tremaining: 85.3ms\n",
      "992:\tlearn: 0.0117334\ttotal: 10.6s\tremaining: 74.6ms\n",
      "993:\tlearn: 0.0116949\ttotal: 10.6s\tremaining: 64ms\n",
      "994:\tlearn: 0.0116846\ttotal: 10.6s\tremaining: 53.3ms\n",
      "995:\tlearn: 0.0116639\ttotal: 10.6s\tremaining: 42.6ms\n",
      "996:\tlearn: 0.0116468\ttotal: 10.6s\tremaining: 32ms\n",
      "997:\tlearn: 0.0116157\ttotal: 10.6s\tremaining: 21.3ms\n",
      "998:\tlearn: 0.0116027\ttotal: 10.6s\tremaining: 10.7ms\n",
      "999:\tlearn: 0.0115924\ttotal: 10.7s\tremaining: 0us\n"
     ]
    },
    {
     "name": "stderr",
     "output_type": "stream",
     "text": [
      "C:\\Users\\mpadmanagara\\AppData\\Local\\Continuum\\anaconda3\\lib\\site-packages\\sklearn\\linear_model\\logistic.py:432: FutureWarning: Default solver will be changed to 'lbfgs' in 0.22. Specify a solver to silence this warning.\n",
      "  FutureWarning)\n"
     ]
    }
   ],
   "source": [
    "from mlxtend.classifier import StackingClassifier\n",
    "import lightgbm as lgb\n",
    "import catboost as cb\n",
    "import xgboost as xgb\n",
    "from sklearn.linear_model import LogisticRegression\n",
    "\n",
    "clf1 = lgb.LGBMClassifier(learning_rate=0.1)\n",
    "clf2 = cb.CatBoostClassifier(learning_rate=0.1)\n",
    "clf3 = xgb.XGBClassifier(learning_rate=0.1)\n",
    "lr = LogisticRegression()\n",
    "\n",
    "sclf = StackingClassifier(classifiers=[clf1, clf2, clf3], meta_classifier=lr)\n",
    "sclf.fit(X_train, y_train)\n",
    "y_pred = sclf.predict(X_test)"
   ]
  },
  {
   "cell_type": "code",
   "execution_count": 102,
   "metadata": {
    "ExecuteTime": {
     "end_time": "2019-11-08T08:23:21.994000Z",
     "start_time": "2019-11-08T08:23:21.691000Z"
    }
   },
   "outputs": [
    {
     "name": "stdout",
     "output_type": "stream",
     "text": [
      "Normalized confusion matrix\n",
      "[[0.94117647 0.05882353]\n",
      " [0.02912621 0.97087379]]\n"
     ]
    },
    {
     "data": {
      "image/png": "[encoded data removed]",
      "text/plain": [
       "<Figure size 432x288 with 2 Axes>"
      ]
     },
     "metadata": {
      "needs_background": "light"
     },
     "output_type": "display_data"
    }
   ],
   "source": [
    "plot_confusion_matrix(y_test, y_pred, cname, normalize=True)\n",
    "plt.show()"
   ]
  }
 ],
 "metadata": {
  "kernelspec": {
   "display_name": "Python 3",
   "language": "python",
   "name": "python3"
  },
  "language_info": {
   "codemirror_mode": {
    "name": "ipython",
    "version": 3
   },
   "file_extension": ".py",
   "mimetype": "text/x-python",
   "name": "python",
   "nbconvert_exporter": "python",
   "pygments_lexer": "ipython3",
   "version": "3.7.3"
  },
  "latex_envs": {
   "LaTeX_envs_menu_present": true,
   "autoclose": false,
   "autocomplete": true,
   "bibliofile": "biblio.bib",
   "cite_by": "apalike",
   "current_citInitial": 1,
   "eqLabelWithNumbers": true,
   "eqNumInitial": 1,
   "hotkeys": {
    "equation": "Ctrl-E",
    "itemize": "Ctrl-I"
   },
   "labels_anchors": false,
   "latex_user_defs": false,
   "report_style_numbering": false,
   "user_envs_cfg": false
  },
  "toc": {
   "base_numbering": 1,
   "nav_menu": {},
   "number_sections": true,
   "sideBar": true,
   "skip_h1_title": false,
   "title_cell": "Table of Contents",
   "title_sidebar": "Contents",
   "toc_cell": false,
   "toc_position": {},
   "toc_section_display": true,
   "toc_window_display": false
  }
 },
 "nbformat": 4,
 "nbformat_minor": 2
}
