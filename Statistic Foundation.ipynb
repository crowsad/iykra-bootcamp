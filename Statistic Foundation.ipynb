{
 "cells": [
  {
   "cell_type": "markdown",
   "metadata": {},
   "source": [
    "# Exercise"
   ]
  },
  {
   "cell_type": "code",
   "execution_count": 1,
   "metadata": {
    "ExecuteTime": {
     "end_time": "2019-10-25T09:40:17.702000Z",
     "start_time": "2019-10-25T09:40:16.456000Z"
    }
   },
   "outputs": [],
   "source": [
    "# Import the libraries\n",
    "import pandas as pd\n",
    "import numpy as np"
   ]
  },
  {
   "cell_type": "code",
   "execution_count": 23,
   "metadata": {
    "ExecuteTime": {
     "end_time": "2019-10-25T10:19:19.427000Z",
     "start_time": "2019-10-25T10:19:10.912000Z"
    }
   },
   "outputs": [
    {
     "name": "stdout",
     "output_type": "stream",
     "text": [
      "(28293, 23)\n"
     ]
    },
    {
     "data": {
      "text/html": [
       "<div>\n",
       "<style scoped>\n",
       "    .dataframe tbody tr th:only-of-type {\n",
       "        vertical-align: middle;\n",
       "    }\n",
       "\n",
       "    .dataframe tbody tr th {\n",
       "        vertical-align: top;\n",
       "    }\n",
       "\n",
       "    .dataframe thead th {\n",
       "        text-align: right;\n",
       "    }\n",
       "</style>\n",
       "<table border=\"1\" class=\"dataframe\">\n",
       "  <thead>\n",
       "    <tr style=\"text-align: right;\">\n",
       "      <th></th>\n",
       "      <th>Kontrak</th>\n",
       "      <th>Tipe_Kendaraan</th>\n",
       "      <th>Pekerjaan</th>\n",
       "      <th>Area</th>\n",
       "      <th>Tenor</th>\n",
       "      <th>Bucket_Collectability</th>\n",
       "      <th>NPF</th>\n",
       "      <th>Total_AR</th>\n",
       "      <th>LTV</th>\n",
       "      <th>OTR</th>\n",
       "      <th>...</th>\n",
       "      <th>DP</th>\n",
       "      <th>AF</th>\n",
       "      <th>Tujuan</th>\n",
       "      <th>Pendidikan</th>\n",
       "      <th>Tanggungan</th>\n",
       "      <th>Status</th>\n",
       "      <th>Gender</th>\n",
       "      <th>Paket</th>\n",
       "      <th>Inflasi</th>\n",
       "      <th>Segmen</th>\n",
       "    </tr>\n",
       "  </thead>\n",
       "  <tbody>\n",
       "    <tr>\n",
       "      <th>0</th>\n",
       "      <td>1</td>\n",
       "      <td>OTHERS</td>\n",
       "      <td>Karyawan</td>\n",
       "      <td>Jawa</td>\n",
       "      <td>12</td>\n",
       "      <td>&gt;90 - 120 hari</td>\n",
       "      <td>Ya</td>\n",
       "      <td>2.763126</td>\n",
       "      <td>100.00</td>\n",
       "      <td>2.76</td>\n",
       "      <td>...</td>\n",
       "      <td>0.0</td>\n",
       "      <td>2.76</td>\n",
       "      <td>Private</td>\n",
       "      <td>Sarjana</td>\n",
       "      <td>Tidak ada</td>\n",
       "      <td>OTHERS</td>\n",
       "      <td>Laki-laki</td>\n",
       "      <td>Ya</td>\n",
       "      <td>3.58</td>\n",
       "      <td>Jasa &amp; Perdagangan</td>\n",
       "    </tr>\n",
       "    <tr>\n",
       "      <th>1</th>\n",
       "      <td>2</td>\n",
       "      <td>OTHERS</td>\n",
       "      <td>Wiraswasta</td>\n",
       "      <td>Jawa</td>\n",
       "      <td>12</td>\n",
       "      <td>0 - 30 hari</td>\n",
       "      <td>Tidak</td>\n",
       "      <td>2.805000</td>\n",
       "      <td>103.70</td>\n",
       "      <td>2.71</td>\n",
       "      <td>...</td>\n",
       "      <td>0.0</td>\n",
       "      <td>2.81</td>\n",
       "      <td>Private</td>\n",
       "      <td>Others</td>\n",
       "      <td>Tidak ada</td>\n",
       "      <td>MENIKAH</td>\n",
       "      <td>Laki-laki</td>\n",
       "      <td>Ya</td>\n",
       "      <td>3.58</td>\n",
       "      <td>Others</td>\n",
       "    </tr>\n",
       "    <tr>\n",
       "      <th>2</th>\n",
       "      <td>3</td>\n",
       "      <td>OTHERS</td>\n",
       "      <td>Wiraswasta</td>\n",
       "      <td>Jawa</td>\n",
       "      <td>12</td>\n",
       "      <td>0 - 30 hari</td>\n",
       "      <td>Tidak</td>\n",
       "      <td>3.104000</td>\n",
       "      <td>103.33</td>\n",
       "      <td>3.00</td>\n",
       "      <td>...</td>\n",
       "      <td>0.0</td>\n",
       "      <td>3.10</td>\n",
       "      <td>Private</td>\n",
       "      <td>Sarjana</td>\n",
       "      <td>Tidak ada</td>\n",
       "      <td>OTHERS</td>\n",
       "      <td>Perempuan</td>\n",
       "      <td>Ya</td>\n",
       "      <td>4.17</td>\n",
       "      <td>Others</td>\n",
       "    </tr>\n",
       "    <tr>\n",
       "      <th>3</th>\n",
       "      <td>4</td>\n",
       "      <td>OTHERS</td>\n",
       "      <td>Karyawan</td>\n",
       "      <td>Jawa</td>\n",
       "      <td>12</td>\n",
       "      <td>0 - 30 hari</td>\n",
       "      <td>Tidak</td>\n",
       "      <td>4.088100</td>\n",
       "      <td>102.51</td>\n",
       "      <td>3.98</td>\n",
       "      <td>...</td>\n",
       "      <td>0.0</td>\n",
       "      <td>4.08</td>\n",
       "      <td>Private</td>\n",
       "      <td>Sarjana</td>\n",
       "      <td>Ada</td>\n",
       "      <td>OTHERS</td>\n",
       "      <td>Laki-laki</td>\n",
       "      <td>Ya</td>\n",
       "      <td>3.61</td>\n",
       "      <td>Jasa &amp; Perdagangan</td>\n",
       "    </tr>\n",
       "    <tr>\n",
       "      <th>4</th>\n",
       "      <td>5</td>\n",
       "      <td>OTHERS</td>\n",
       "      <td>Karyawan</td>\n",
       "      <td>Jawa</td>\n",
       "      <td>12</td>\n",
       "      <td>0 - 30 hari</td>\n",
       "      <td>Tidak</td>\n",
       "      <td>4.607100</td>\n",
       "      <td>102.22</td>\n",
       "      <td>4.50</td>\n",
       "      <td>...</td>\n",
       "      <td>0.0</td>\n",
       "      <td>4.60</td>\n",
       "      <td>Private</td>\n",
       "      <td>Sarjana</td>\n",
       "      <td>Tidak ada</td>\n",
       "      <td>OTHERS</td>\n",
       "      <td>Perempuan</td>\n",
       "      <td>Ya</td>\n",
       "      <td>3.30</td>\n",
       "      <td>Jasa &amp; Perdagangan</td>\n",
       "    </tr>\n",
       "  </tbody>\n",
       "</table>\n",
       "<p>5 rows × 23 columns</p>\n",
       "</div>"
      ],
      "text/plain": [
       "   Kontrak Tipe_Kendaraan   Pekerjaan  Area  Tenor Bucket_Collectability  \\\n",
       "0        1         OTHERS    Karyawan  Jawa     12        >90 - 120 hari   \n",
       "1        2         OTHERS  Wiraswasta  Jawa     12           0 - 30 hari   \n",
       "2        3         OTHERS  Wiraswasta  Jawa     12           0 - 30 hari   \n",
       "3        4         OTHERS    Karyawan  Jawa     12           0 - 30 hari   \n",
       "4        5         OTHERS    Karyawan  Jawa     12           0 - 30 hari   \n",
       "\n",
       "     NPF  Total_AR     LTV   OTR  ...   DP    AF   Tujuan  Pendidikan  \\\n",
       "0     Ya  2.763126  100.00  2.76  ...  0.0  2.76  Private     Sarjana   \n",
       "1  Tidak  2.805000  103.70  2.71  ...  0.0  2.81  Private      Others   \n",
       "2  Tidak  3.104000  103.33  3.00  ...  0.0  3.10  Private     Sarjana   \n",
       "3  Tidak  4.088100  102.51  3.98  ...  0.0  4.08  Private     Sarjana   \n",
       "4  Tidak  4.607100  102.22  4.50  ...  0.0  4.60  Private     Sarjana   \n",
       "\n",
       "   Tanggungan   Status     Gender Paket Inflasi              Segmen  \n",
       "0   Tidak ada   OTHERS  Laki-laki    Ya    3.58  Jasa & Perdagangan  \n",
       "1   Tidak ada  MENIKAH  Laki-laki    Ya    3.58              Others  \n",
       "2   Tidak ada   OTHERS  Perempuan    Ya    4.17              Others  \n",
       "3         Ada   OTHERS  Laki-laki    Ya    3.61  Jasa & Perdagangan  \n",
       "4   Tidak ada   OTHERS  Perempuan    Ya    3.30  Jasa & Perdagangan  \n",
       "\n",
       "[5 rows x 23 columns]"
      ]
     },
     "metadata": {},
     "output_type": "display_data"
    },
    {
     "data": {
      "text/html": [
       "<div>\n",
       "<style scoped>\n",
       "    .dataframe tbody tr th:only-of-type {\n",
       "        vertical-align: middle;\n",
       "    }\n",
       "\n",
       "    .dataframe tbody tr th {\n",
       "        vertical-align: top;\n",
       "    }\n",
       "\n",
       "    .dataframe thead th {\n",
       "        text-align: right;\n",
       "    }\n",
       "</style>\n",
       "<table border=\"1\" class=\"dataframe\">\n",
       "  <thead>\n",
       "    <tr style=\"text-align: right;\">\n",
       "      <th></th>\n",
       "      <th>Kontrak</th>\n",
       "      <th>Tipe_Kendaraan</th>\n",
       "      <th>Pekerjaan</th>\n",
       "      <th>Area</th>\n",
       "      <th>Tenor</th>\n",
       "      <th>Bucket_Collectability</th>\n",
       "      <th>NPF</th>\n",
       "      <th>Total_AR</th>\n",
       "      <th>LTV</th>\n",
       "      <th>OTR</th>\n",
       "      <th>...</th>\n",
       "      <th>DP</th>\n",
       "      <th>AF</th>\n",
       "      <th>Tujuan</th>\n",
       "      <th>Pendidikan</th>\n",
       "      <th>Tanggungan</th>\n",
       "      <th>Status</th>\n",
       "      <th>Gender</th>\n",
       "      <th>Paket</th>\n",
       "      <th>Inflasi</th>\n",
       "      <th>Segmen</th>\n",
       "    </tr>\n",
       "  </thead>\n",
       "  <tbody>\n",
       "    <tr>\n",
       "      <th>28288</th>\n",
       "      <td>28289</td>\n",
       "      <td>MINIBUS</td>\n",
       "      <td>Wiraswasta</td>\n",
       "      <td>Sumatera</td>\n",
       "      <td>60</td>\n",
       "      <td>&gt; 150 hari</td>\n",
       "      <td>Ya</td>\n",
       "      <td>468.719995</td>\n",
       "      <td>90.34</td>\n",
       "      <td>347.50</td>\n",
       "      <td>...</td>\n",
       "      <td>69.50</td>\n",
       "      <td>313.95</td>\n",
       "      <td>Private</td>\n",
       "      <td>Sarjana</td>\n",
       "      <td>Tidak ada</td>\n",
       "      <td>OTHERS</td>\n",
       "      <td>Laki-laki</td>\n",
       "      <td>Ya</td>\n",
       "      <td>3.61</td>\n",
       "      <td>Jasa &amp; Perdagangan</td>\n",
       "    </tr>\n",
       "    <tr>\n",
       "      <th>28289</th>\n",
       "      <td>28290</td>\n",
       "      <td>MINIBUS</td>\n",
       "      <td>Wiraswasta</td>\n",
       "      <td>Sumatera</td>\n",
       "      <td>60</td>\n",
       "      <td>&gt; 150 hari</td>\n",
       "      <td>Ya</td>\n",
       "      <td>435.840003</td>\n",
       "      <td>92.16</td>\n",
       "      <td>304.00</td>\n",
       "      <td>...</td>\n",
       "      <td>60.80</td>\n",
       "      <td>280.16</td>\n",
       "      <td>Private</td>\n",
       "      <td>Others</td>\n",
       "      <td>Tidak ada</td>\n",
       "      <td>MENIKAH</td>\n",
       "      <td>Perempuan</td>\n",
       "      <td>Tidak</td>\n",
       "      <td>3.61</td>\n",
       "      <td>Jasa &amp; Perdagangan</td>\n",
       "    </tr>\n",
       "    <tr>\n",
       "      <th>28290</th>\n",
       "      <td>28291</td>\n",
       "      <td>MINIBUS</td>\n",
       "      <td>Karyawan</td>\n",
       "      <td>Sumatera</td>\n",
       "      <td>60</td>\n",
       "      <td>&gt;120 - 150 hari</td>\n",
       "      <td>Ya</td>\n",
       "      <td>536.339999</td>\n",
       "      <td>87.01</td>\n",
       "      <td>432.00</td>\n",
       "      <td>...</td>\n",
       "      <td>108.00</td>\n",
       "      <td>375.86</td>\n",
       "      <td>Private</td>\n",
       "      <td>Sarjana</td>\n",
       "      <td>Ada</td>\n",
       "      <td>OTHERS</td>\n",
       "      <td>Perempuan</td>\n",
       "      <td>Ya</td>\n",
       "      <td>3.61</td>\n",
       "      <td>Others</td>\n",
       "    </tr>\n",
       "    <tr>\n",
       "      <th>28291</th>\n",
       "      <td>28292</td>\n",
       "      <td>MINIBUS</td>\n",
       "      <td>Wiraswasta</td>\n",
       "      <td>Sumatera</td>\n",
       "      <td>60</td>\n",
       "      <td>&gt; 150 hari</td>\n",
       "      <td>Ya</td>\n",
       "      <td>584.880008</td>\n",
       "      <td>92.34</td>\n",
       "      <td>407.30</td>\n",
       "      <td>...</td>\n",
       "      <td>81.46</td>\n",
       "      <td>376.10</td>\n",
       "      <td>Private</td>\n",
       "      <td>Others</td>\n",
       "      <td>Tidak ada</td>\n",
       "      <td>MENIKAH</td>\n",
       "      <td>Laki-laki</td>\n",
       "      <td>Tidak</td>\n",
       "      <td>3.61</td>\n",
       "      <td>Jasa &amp; Perdagangan</td>\n",
       "    </tr>\n",
       "    <tr>\n",
       "      <th>28292</th>\n",
       "      <td>28293</td>\n",
       "      <td>OTHERS</td>\n",
       "      <td>Wiraswasta</td>\n",
       "      <td>Jawa</td>\n",
       "      <td>60</td>\n",
       "      <td>&gt; 150 hari</td>\n",
       "      <td>Ya</td>\n",
       "      <td>670.020007</td>\n",
       "      <td>89.59</td>\n",
       "      <td>515.74</td>\n",
       "      <td>...</td>\n",
       "      <td>103.17</td>\n",
       "      <td>462.05</td>\n",
       "      <td>Private</td>\n",
       "      <td>Others</td>\n",
       "      <td>Ada</td>\n",
       "      <td>MENIKAH</td>\n",
       "      <td>Perempuan</td>\n",
       "      <td>Tidak</td>\n",
       "      <td>3.61</td>\n",
       "      <td>Jasa &amp; Perdagangan</td>\n",
       "    </tr>\n",
       "  </tbody>\n",
       "</table>\n",
       "<p>5 rows × 23 columns</p>\n",
       "</div>"
      ],
      "text/plain": [
       "       Kontrak Tipe_Kendaraan   Pekerjaan      Area  Tenor  \\\n",
       "28288    28289        MINIBUS  Wiraswasta  Sumatera     60   \n",
       "28289    28290        MINIBUS  Wiraswasta  Sumatera     60   \n",
       "28290    28291        MINIBUS    Karyawan  Sumatera     60   \n",
       "28291    28292        MINIBUS  Wiraswasta  Sumatera     60   \n",
       "28292    28293         OTHERS  Wiraswasta      Jawa     60   \n",
       "\n",
       "      Bucket_Collectability NPF    Total_AR    LTV     OTR  ...      DP  \\\n",
       "28288            > 150 hari  Ya  468.719995  90.34  347.50  ...   69.50   \n",
       "28289            > 150 hari  Ya  435.840003  92.16  304.00  ...   60.80   \n",
       "28290       >120 - 150 hari  Ya  536.339999  87.01  432.00  ...  108.00   \n",
       "28291            > 150 hari  Ya  584.880008  92.34  407.30  ...   81.46   \n",
       "28292            > 150 hari  Ya  670.020007  89.59  515.74  ...  103.17   \n",
       "\n",
       "           AF   Tujuan  Pendidikan  Tanggungan   Status     Gender  Paket  \\\n",
       "28288  313.95  Private     Sarjana   Tidak ada   OTHERS  Laki-laki     Ya   \n",
       "28289  280.16  Private      Others   Tidak ada  MENIKAH  Perempuan  Tidak   \n",
       "28290  375.86  Private     Sarjana         Ada   OTHERS  Perempuan     Ya   \n",
       "28291  376.10  Private      Others   Tidak ada  MENIKAH  Laki-laki  Tidak   \n",
       "28292  462.05  Private      Others         Ada  MENIKAH  Perempuan  Tidak   \n",
       "\n",
       "      Inflasi              Segmen  \n",
       "28288    3.61  Jasa & Perdagangan  \n",
       "28289    3.61  Jasa & Perdagangan  \n",
       "28290    3.61              Others  \n",
       "28291    3.61  Jasa & Perdagangan  \n",
       "28292    3.61  Jasa & Perdagangan  \n",
       "\n",
       "[5 rows x 23 columns]"
      ]
     },
     "metadata": {},
     "output_type": "display_data"
    }
   ],
   "source": [
    "# Load the dataset and show some data\n",
    "df_loan = pd.read_excel('./data loan.xlsx')\n",
    "print(df_loan.shape)\n",
    "display(df_loan.head())\n",
    "display(df_loan.tail())"
   ]
  },
  {
   "cell_type": "markdown",
   "metadata": {},
   "source": [
    "- Kontrak \t\t: nomor kontrak\n",
    "- Tipe_Kendaraan \t\t: tipe kendaraan yang dibeli\n",
    "- Pekerjaan \t\t: jenis pekerjaan\n",
    "- Area \t\t\t: area kantor tempat kredit diberikan\n",
    "- Tenor \t\t\t: jangka waktu hutang yang diajukan (bulan)\n",
    "- Bucket_Collectability \t: keterlambatan membayar hutang (hari)\n",
    "- NPF\t\t\t: non performing financing\n",
    "- Total_AR \t\t: jumlah pinjaman yang diterima (juta rupiah)\n",
    "- LTV \t\t\t: loan to value (%)\n",
    "- OTR \t\t\t: harga beli mobil setelah ditambahkan dengan seluruh pajak dan berbagai dokumen lainnya (puluh juta rupiah)\n",
    "- Age \t\t\t: usia (tahun)\n",
    "- Interest_Rate \t\t: suku bunga bank indonesia (%)\n",
    "- Income \t\t\t: pendapatan (juta rupiah)\n",
    "- DP \t\t\t: uang muka (juta rupiah)\n",
    "- AF \t\t\t: amount financed (juta rupiah)\n",
    "- Tujuan \t\t\t: tujuan pembelian\n",
    "- Pendidikan \t\t: tingkat pendidikan\n",
    "- Tanggungan \t\t: jumlah tanggungan keluarga\n",
    "- Status \t\t\t: status pernikahan peminjam\n",
    "- Gender \t\t\t: gender peminjam\n",
    "- Paket \t\t\t: paket kredit\n",
    "- Inflasi \t\t: tingkat inflasi (%)\n",
    "- Segmen \t\t\t: segmentasi transaksi"
   ]
  },
  {
   "cell_type": "markdown",
   "metadata": {},
   "source": [
    "**1. Ambil sampel secara acak dari data loan sebanyak 80% dari banyaknya data.**"
   ]
  },
  {
   "cell_type": "code",
   "execution_count": 25,
   "metadata": {
    "ExecuteTime": {
     "end_time": "2019-10-25T10:20:17.022000Z",
     "start_time": "2019-10-25T10:20:16.946000Z"
    }
   },
   "outputs": [
    {
     "name": "stdout",
     "output_type": "stream",
     "text": [
      "(22634, 23)\n"
     ]
    },
    {
     "data": {
      "text/html": [
       "<div>\n",
       "<style scoped>\n",
       "    .dataframe tbody tr th:only-of-type {\n",
       "        vertical-align: middle;\n",
       "    }\n",
       "\n",
       "    .dataframe tbody tr th {\n",
       "        vertical-align: top;\n",
       "    }\n",
       "\n",
       "    .dataframe thead th {\n",
       "        text-align: right;\n",
       "    }\n",
       "</style>\n",
       "<table border=\"1\" class=\"dataframe\">\n",
       "  <thead>\n",
       "    <tr style=\"text-align: right;\">\n",
       "      <th></th>\n",
       "      <th>Kontrak</th>\n",
       "      <th>Tipe_Kendaraan</th>\n",
       "      <th>Pekerjaan</th>\n",
       "      <th>Area</th>\n",
       "      <th>Tenor</th>\n",
       "      <th>Bucket_Collectability</th>\n",
       "      <th>NPF</th>\n",
       "      <th>Total_AR</th>\n",
       "      <th>LTV</th>\n",
       "      <th>OTR</th>\n",
       "      <th>...</th>\n",
       "      <th>DP</th>\n",
       "      <th>AF</th>\n",
       "      <th>Tujuan</th>\n",
       "      <th>Pendidikan</th>\n",
       "      <th>Tanggungan</th>\n",
       "      <th>Status</th>\n",
       "      <th>Gender</th>\n",
       "      <th>Paket</th>\n",
       "      <th>Inflasi</th>\n",
       "      <th>Segmen</th>\n",
       "    </tr>\n",
       "  </thead>\n",
       "  <tbody>\n",
       "    <tr>\n",
       "      <th>7862</th>\n",
       "      <td>7863</td>\n",
       "      <td>LCGC</td>\n",
       "      <td>Wiraswasta</td>\n",
       "      <td>Jawa</td>\n",
       "      <td>36</td>\n",
       "      <td>&gt; 150 hari</td>\n",
       "      <td>Ya</td>\n",
       "      <td>119.365710</td>\n",
       "      <td>81.90</td>\n",
       "      <td>120.75</td>\n",
       "      <td>...</td>\n",
       "      <td>30.19</td>\n",
       "      <td>98.89</td>\n",
       "      <td>Private</td>\n",
       "      <td>Others</td>\n",
       "      <td>Tidak ada</td>\n",
       "      <td>OTHERS</td>\n",
       "      <td>Laki-laki</td>\n",
       "      <td>Ya</td>\n",
       "      <td>8.22</td>\n",
       "      <td>Others</td>\n",
       "    </tr>\n",
       "    <tr>\n",
       "      <th>13553</th>\n",
       "      <td>13554</td>\n",
       "      <td>MINIBUS</td>\n",
       "      <td>Karyawan</td>\n",
       "      <td>Jawa</td>\n",
       "      <td>48</td>\n",
       "      <td>0 - 30 hari</td>\n",
       "      <td>Tidak</td>\n",
       "      <td>175.167799</td>\n",
       "      <td>80.38</td>\n",
       "      <td>174.45</td>\n",
       "      <td>...</td>\n",
       "      <td>55.15</td>\n",
       "      <td>140.22</td>\n",
       "      <td>Private</td>\n",
       "      <td>Sarjana</td>\n",
       "      <td>Tidak ada</td>\n",
       "      <td>MENIKAH</td>\n",
       "      <td>Laki-laki</td>\n",
       "      <td>Tidak</td>\n",
       "      <td>7.75</td>\n",
       "      <td>Others</td>\n",
       "    </tr>\n",
       "    <tr>\n",
       "      <th>14661</th>\n",
       "      <td>14662</td>\n",
       "      <td>LCGC</td>\n",
       "      <td>Karyawan</td>\n",
       "      <td>Jawa</td>\n",
       "      <td>60</td>\n",
       "      <td>&gt;30 - 90 hari</td>\n",
       "      <td>Tidak</td>\n",
       "      <td>183.900003</td>\n",
       "      <td>96.83</td>\n",
       "      <td>118.25</td>\n",
       "      <td>...</td>\n",
       "      <td>23.65</td>\n",
       "      <td>114.50</td>\n",
       "      <td>Private</td>\n",
       "      <td>Others</td>\n",
       "      <td>Ada</td>\n",
       "      <td>OTHERS</td>\n",
       "      <td>Laki-laki</td>\n",
       "      <td>Ya</td>\n",
       "      <td>3.33</td>\n",
       "      <td>Others</td>\n",
       "    </tr>\n",
       "    <tr>\n",
       "      <th>2027</th>\n",
       "      <td>2028</td>\n",
       "      <td>MINIBUS</td>\n",
       "      <td>Karyawan</td>\n",
       "      <td>Jawa</td>\n",
       "      <td>36</td>\n",
       "      <td>0 - 30 hari</td>\n",
       "      <td>Tidak</td>\n",
       "      <td>176.111998</td>\n",
       "      <td>69.98</td>\n",
       "      <td>216.00</td>\n",
       "      <td>...</td>\n",
       "      <td>80.92</td>\n",
       "      <td>151.15</td>\n",
       "      <td>Private</td>\n",
       "      <td>Others</td>\n",
       "      <td>Tidak ada</td>\n",
       "      <td>OTHERS</td>\n",
       "      <td>Perempuan</td>\n",
       "      <td>Tidak</td>\n",
       "      <td>3.35</td>\n",
       "      <td>Others</td>\n",
       "    </tr>\n",
       "    <tr>\n",
       "      <th>10756</th>\n",
       "      <td>10757</td>\n",
       "      <td>LCGC</td>\n",
       "      <td>Karyawan</td>\n",
       "      <td>Sumatera</td>\n",
       "      <td>48</td>\n",
       "      <td>&gt; 150 hari</td>\n",
       "      <td>Ya</td>\n",
       "      <td>151.632000</td>\n",
       "      <td>90.10</td>\n",
       "      <td>119.70</td>\n",
       "      <td>...</td>\n",
       "      <td>29.93</td>\n",
       "      <td>107.85</td>\n",
       "      <td>Private</td>\n",
       "      <td>Others</td>\n",
       "      <td>Ada</td>\n",
       "      <td>OTHERS</td>\n",
       "      <td>Perempuan</td>\n",
       "      <td>Ya</td>\n",
       "      <td>7.26</td>\n",
       "      <td>Jasa &amp; Perdagangan</td>\n",
       "    </tr>\n",
       "  </tbody>\n",
       "</table>\n",
       "<p>5 rows × 23 columns</p>\n",
       "</div>"
      ],
      "text/plain": [
       "       Kontrak Tipe_Kendaraan   Pekerjaan      Area  Tenor  \\\n",
       "7862      7863           LCGC  Wiraswasta      Jawa     36   \n",
       "13553    13554        MINIBUS    Karyawan      Jawa     48   \n",
       "14661    14662           LCGC    Karyawan      Jawa     60   \n",
       "2027      2028        MINIBUS    Karyawan      Jawa     36   \n",
       "10756    10757           LCGC    Karyawan  Sumatera     48   \n",
       "\n",
       "      Bucket_Collectability    NPF    Total_AR    LTV     OTR  ...     DP  \\\n",
       "7862             > 150 hari     Ya  119.365710  81.90  120.75  ...  30.19   \n",
       "13553           0 - 30 hari  Tidak  175.167799  80.38  174.45  ...  55.15   \n",
       "14661         >30 - 90 hari  Tidak  183.900003  96.83  118.25  ...  23.65   \n",
       "2027            0 - 30 hari  Tidak  176.111998  69.98  216.00  ...  80.92   \n",
       "10756            > 150 hari     Ya  151.632000  90.10  119.70  ...  29.93   \n",
       "\n",
       "           AF   Tujuan  Pendidikan  Tanggungan   Status     Gender  Paket  \\\n",
       "7862    98.89  Private      Others   Tidak ada   OTHERS  Laki-laki     Ya   \n",
       "13553  140.22  Private     Sarjana   Tidak ada  MENIKAH  Laki-laki  Tidak   \n",
       "14661  114.50  Private      Others         Ada   OTHERS  Laki-laki     Ya   \n",
       "2027   151.15  Private      Others   Tidak ada   OTHERS  Perempuan  Tidak   \n",
       "10756  107.85  Private      Others         Ada   OTHERS  Perempuan     Ya   \n",
       "\n",
       "      Inflasi              Segmen  \n",
       "7862     8.22              Others  \n",
       "13553    7.75              Others  \n",
       "14661    3.33              Others  \n",
       "2027     3.35              Others  \n",
       "10756    7.26  Jasa & Perdagangan  \n",
       "\n",
       "[5 rows x 23 columns]"
      ]
     },
     "metadata": {},
     "output_type": "display_data"
    }
   ],
   "source": [
    "df_loan_80 = df_loan.sample(frac=0.8)\n",
    "print(df_loan_80.shape)\n",
    "display(df_loan_80.head())"
   ]
  },
  {
   "cell_type": "code",
   "execution_count": 26,
   "metadata": {
    "ExecuteTime": {
     "end_time": "2019-10-25T10:20:20.139000Z",
     "start_time": "2019-10-25T10:20:20.028000Z"
    }
   },
   "outputs": [
    {
     "name": "stdout",
     "output_type": "stream",
     "text": [
      "<class 'pandas.core.frame.DataFrame'>\n",
      "Int64Index: 22634 entries, 7862 to 10549\n",
      "Data columns (total 23 columns):\n",
      "Kontrak                  22634 non-null int64\n",
      "Tipe_Kendaraan           22634 non-null object\n",
      "Pekerjaan                22634 non-null object\n",
      "Area                     22634 non-null object\n",
      "Tenor                    22634 non-null int64\n",
      "Bucket_Collectability    22634 non-null object\n",
      "NPF                      22634 non-null object\n",
      "Total_AR                 22634 non-null float64\n",
      "LTV                      22634 non-null float64\n",
      "OTR                      22634 non-null float64\n",
      "Age                      22634 non-null int64\n",
      "Interest_Rate            22634 non-null float64\n",
      "Income                   22634 non-null int64\n",
      "DP                       22634 non-null float64\n",
      "AF                       22634 non-null float64\n",
      "Tujuan                   22634 non-null object\n",
      "Pendidikan               22634 non-null object\n",
      "Tanggungan               22634 non-null object\n",
      "Status                   22634 non-null object\n",
      "Gender                   22634 non-null object\n",
      "Paket                    22634 non-null object\n",
      "Inflasi                  22634 non-null float64\n",
      "Segmen                   22634 non-null object\n",
      "dtypes: float64(7), int64(4), object(12)\n",
      "memory usage: 4.1+ MB\n"
     ]
    }
   ],
   "source": [
    "# Check the data info\n",
    "df_loan_80.info()"
   ]
  },
  {
   "cell_type": "code",
   "execution_count": 31,
   "metadata": {
    "ExecuteTime": {
     "end_time": "2019-10-25T10:32:47.816000Z",
     "start_time": "2019-10-25T10:32:47.791000Z"
    }
   },
   "outputs": [
    {
     "data": {
      "text/plain": [
       "Kontrak                  0\n",
       "Tipe_Kendaraan           0\n",
       "Pekerjaan                0\n",
       "Area                     0\n",
       "Tenor                    0\n",
       "Bucket_Collectability    0\n",
       "NPF                      0\n",
       "Total_AR                 0\n",
       "LTV                      0\n",
       "OTR                      0\n",
       "Age                      0\n",
       "Interest_Rate            0\n",
       "Income                   0\n",
       "DP                       0\n",
       "AF                       0\n",
       "Tujuan                   0\n",
       "Pendidikan               0\n",
       "Tanggungan               0\n",
       "Status                   0\n",
       "Gender                   0\n",
       "Paket                    0\n",
       "Inflasi                  0\n",
       "Segmen                   0\n",
       "dtype: int64"
      ]
     },
     "execution_count": 31,
     "metadata": {},
     "output_type": "execute_result"
    }
   ],
   "source": [
    "# Check any missing value from the data\n",
    "df_loan_80.isnull().sum()"
   ]
  },
  {
   "cell_type": "markdown",
   "metadata": {},
   "source": [
    "No missing value, good sign"
   ]
  },
  {
   "cell_type": "code",
   "execution_count": 33,
   "metadata": {
    "ExecuteTime": {
     "end_time": "2019-10-25T10:35:00.095000Z",
     "start_time": "2019-10-25T10:35:00.077000Z"
    }
   },
   "outputs": [
    {
     "data": {
      "text/plain": [
       "object     12\n",
       "float64     7\n",
       "int64       4\n",
       "dtype: int64"
      ]
     },
     "execution_count": 33,
     "metadata": {},
     "output_type": "execute_result"
    }
   ],
   "source": [
    "# Show the value counts of the datatypes\n",
    "df_loan_80.dtypes.value_counts()"
   ]
  },
  {
   "cell_type": "code",
   "execution_count": 34,
   "metadata": {
    "ExecuteTime": {
     "end_time": "2019-10-25T10:37:46.701000Z",
     "start_time": "2019-10-25T10:37:46.604000Z"
    }
   },
   "outputs": [
    {
     "data": {
      "text/plain": [
       "Tipe_Kendaraan           4\n",
       "Pekerjaan                3\n",
       "Area                     3\n",
       "Bucket_Collectability    5\n",
       "NPF                      2\n",
       "Tujuan                   2\n",
       "Pendidikan               2\n",
       "Tanggungan               2\n",
       "Status                   2\n",
       "Gender                   2\n",
       "Paket                    2\n",
       "Segmen                   2\n",
       "dtype: int64"
      ]
     },
     "execution_count": 34,
     "metadata": {},
     "output_type": "execute_result"
    }
   ],
   "source": [
    "# Show how many categories for each object columns\n",
    "df_loan_80.select_dtypes('object').apply(pd.Series.nunique, axis = 0)"
   ]
  },
  {
   "cell_type": "code",
   "execution_count": 39,
   "metadata": {
    "ExecuteTime": {
     "end_time": "2019-10-25T10:47:07.179000Z",
     "start_time": "2019-10-25T10:47:07.057000Z"
    }
   },
   "outputs": [
    {
     "name": "stdout",
     "output_type": "stream",
     "text": [
      "7 columns were label encoded.\n"
     ]
    }
   ],
   "source": [
    "# Encoding categorical variables\n",
    "# Create a label encoder object\n",
    "from sklearn.preprocessing import LabelEncoder\n",
    "le = LabelEncoder()\n",
    "le_count = 0\n",
    "\n",
    "# Iterate through the columns\n",
    "for col in df_loan_80:\n",
    "    if df_loan_80[col].dtype == 'object':\n",
    "        # If 2 or fewer unique categories\n",
    "        if len(list(df_loan_80[col].unique())) <= 2:\n",
    "            # Train on the training data\n",
    "            le.fit(df_loan_80[col])\n",
    "            # Transform both training and testing data\n",
    "            df_loan_80[col] = le.transform(df_loan_80[col])\n",
    "            \n",
    "            # Keep track of how many columns were label encoded\n",
    "            le_count += 1\n",
    "            \n",
    "print('{} columns were label encoded.'.format(le_count))"
   ]
  },
  {
   "cell_type": "code",
   "execution_count": 43,
   "metadata": {
    "ExecuteTime": {
     "end_time": "2019-10-25T10:49:59.222000Z",
     "start_time": "2019-10-25T10:49:59.143000Z"
    }
   },
   "outputs": [
    {
     "name": "stdout",
     "output_type": "stream",
     "text": [
      "data shape:  (22634, 34)\n"
     ]
    }
   ],
   "source": [
    "# one-hot encoding of categorical variables\n",
    "df_loan_80 = pd.get_dummies(df_loan_80)\n",
    "\n",
    "print('data shape: ', df_loan_80.shape)"
   ]
  },
  {
   "cell_type": "code",
   "execution_count": 59,
   "metadata": {
    "ExecuteTime": {
     "end_time": "2019-10-25T11:03:59.183000Z",
     "start_time": "2019-10-25T11:03:58.900000Z"
    },
    "scrolled": false
   },
   "outputs": [
    {
     "data": {
      "text/plain": [
       "count    22634.000000\n",
       "mean     14181.384289\n",
       "std       8172.863352\n",
       "min          1.000000\n",
       "25%       7120.500000\n",
       "50%      14189.500000\n",
       "75%      21261.750000\n",
       "max      28293.000000\n",
       "Name: Kontrak, dtype: float64"
      ]
     },
     "metadata": {},
     "output_type": "display_data"
    },
    {
     "data": {
      "text/plain": [
       "count    22634.000000\n",
       "mean        45.117964\n",
       "std         13.271745\n",
       "min         12.000000\n",
       "25%         36.000000\n",
       "50%         48.000000\n",
       "75%         60.000000\n",
       "max         60.000000\n",
       "Name: Tenor, dtype: float64"
      ]
     },
     "metadata": {},
     "output_type": "display_data"
    },
    {
     "data": {
      "text/plain": [
       "count    22634.000000\n",
       "mean         0.494080\n",
       "std          0.499976\n",
       "min          0.000000\n",
       "25%          0.000000\n",
       "50%          0.000000\n",
       "75%          1.000000\n",
       "max          1.000000\n",
       "Name: NPF, dtype: float64"
      ]
     },
     "metadata": {},
     "output_type": "display_data"
    },
    {
     "data": {
      "text/plain": [
       "count    22634.000000\n",
       "mean       214.946865\n",
       "std         88.321269\n",
       "min          1.803600\n",
       "25%        156.199020\n",
       "50%        201.373468\n",
       "75%        266.496000\n",
       "max       1854.341300\n",
       "Name: Total_AR, dtype: float64"
      ]
     },
     "metadata": {},
     "output_type": "display_data"
    },
    {
     "data": {
      "text/plain": [
       "count    22634.000000\n",
       "mean        81.160968\n",
       "std         14.938956\n",
       "min          5.110000\n",
       "25%         77.870000\n",
       "50%         83.850000\n",
       "75%         89.347500\n",
       "max        111.830000\n",
       "Name: LTV, dtype: float64"
      ]
     },
     "metadata": {},
     "output_type": "display_data"
    },
    {
     "data": {
      "text/plain": [
       "count    22634.000000\n",
       "mean       204.457447\n",
       "std         79.792604\n",
       "min          1.690000\n",
       "25%        157.950000\n",
       "50%        187.800000\n",
       "75%        231.200000\n",
       "max       1508.400000\n",
       "Name: OTR, dtype: float64"
      ]
     },
     "metadata": {},
     "output_type": "display_data"
    },
    {
     "data": {
      "text/plain": [
       "count    22634.000000\n",
       "mean        40.654370\n",
       "std          9.580267\n",
       "min         19.000000\n",
       "25%         34.000000\n",
       "50%         40.000000\n",
       "75%         47.000000\n",
       "max         82.000000\n",
       "Name: Age, dtype: float64"
      ]
     },
     "metadata": {},
     "output_type": "display_data"
    },
    {
     "data": {
      "text/plain": [
       "count    22634.000000\n",
       "mean        13.739359\n",
       "std          3.524860\n",
       "min          0.000000\n",
       "25%         11.190000\n",
       "50%         13.450000\n",
       "75%         16.210000\n",
       "max         27.400000\n",
       "Name: Interest_Rate, dtype: float64"
      ]
     },
     "metadata": {},
     "output_type": "display_data"
    },
    {
     "data": {
      "text/plain": [
       "count    22634.000000\n",
       "mean        19.503181\n",
       "std         75.953808\n",
       "min          1.000000\n",
       "25%          9.000000\n",
       "50%         15.000000\n",
       "75%         20.000000\n",
       "max      10000.000000\n",
       "Name: Income, dtype: float64"
      ]
     },
     "metadata": {},
     "output_type": "display_data"
    },
    {
     "data": {
      "text/plain": [
       "count    22634.000000\n",
       "mean        59.101817\n",
       "std         40.749186\n",
       "min          0.000000\n",
       "25%         37.790000\n",
       "50%         47.705000\n",
       "75%         67.750000\n",
       "max        721.350000\n",
       "Name: DP, dtype: float64"
      ]
     },
     "metadata": {},
     "output_type": "display_data"
    },
    {
     "data": {
      "text/plain": [
       "count    22634.000000\n",
       "mean       163.665990\n",
       "std         64.105168\n",
       "min          1.790000\n",
       "25%        122.630000\n",
       "50%        153.405000\n",
       "75%        193.657500\n",
       "max       1312.810000\n",
       "Name: AF, dtype: float64"
      ]
     },
     "metadata": {},
     "output_type": "display_data"
    },
    {
     "data": {
      "text/plain": [
       "count    22634.000000\n",
       "mean         0.879297\n",
       "std          0.325789\n",
       "min          0.000000\n",
       "25%          1.000000\n",
       "50%          1.000000\n",
       "75%          1.000000\n",
       "max          1.000000\n",
       "Name: Tujuan, dtype: float64"
      ]
     },
     "metadata": {},
     "output_type": "display_data"
    },
    {
     "data": {
      "text/plain": [
       "count    22634.000000\n",
       "mean         0.433198\n",
       "std          0.495528\n",
       "min          0.000000\n",
       "25%          0.000000\n",
       "50%          0.000000\n",
       "75%          1.000000\n",
       "max          1.000000\n",
       "Name: Pendidikan, dtype: float64"
      ]
     },
     "metadata": {},
     "output_type": "display_data"
    },
    {
     "data": {
      "text/plain": [
       "count    22634.000000\n",
       "mean         0.555580\n",
       "std          0.496912\n",
       "min          0.000000\n",
       "25%          0.000000\n",
       "50%          1.000000\n",
       "75%          1.000000\n",
       "max          1.000000\n",
       "Name: Tanggungan, dtype: float64"
      ]
     },
     "metadata": {},
     "output_type": "display_data"
    },
    {
     "data": {
      "text/plain": [
       "count    22634.000000\n",
       "mean         0.502518\n",
       "std          0.500005\n",
       "min          0.000000\n",
       "25%          0.000000\n",
       "50%          1.000000\n",
       "75%          1.000000\n",
       "max          1.000000\n",
       "Name: Status, dtype: float64"
      ]
     },
     "metadata": {},
     "output_type": "display_data"
    },
    {
     "data": {
      "text/plain": [
       "count    22634.000000\n",
       "mean         0.259698\n",
       "std          0.438478\n",
       "min          0.000000\n",
       "25%          0.000000\n",
       "50%          0.000000\n",
       "75%          1.000000\n",
       "max          1.000000\n",
       "Name: Gender, dtype: float64"
      ]
     },
     "metadata": {},
     "output_type": "display_data"
    },
    {
     "data": {
      "text/plain": [
       "count    22634.000000\n",
       "mean         0.435451\n",
       "std          0.495827\n",
       "min          0.000000\n",
       "25%          0.000000\n",
       "50%          0.000000\n",
       "75%          1.000000\n",
       "max          1.000000\n",
       "Name: Paket, dtype: float64"
      ]
     },
     "metadata": {},
     "output_type": "display_data"
    },
    {
     "data": {
      "text/plain": [
       "count    22634.000000\n",
       "mean         5.537273\n",
       "std          1.798595\n",
       "min          3.210000\n",
       "25%          3.830000\n",
       "50%          5.310000\n",
       "75%          7.250000\n",
       "max          8.790000\n",
       "Name: Inflasi, dtype: float64"
      ]
     },
     "metadata": {},
     "output_type": "display_data"
    },
    {
     "data": {
      "text/plain": [
       "count    22634.000000\n",
       "mean         0.434081\n",
       "std          0.495647\n",
       "min          0.000000\n",
       "25%          0.000000\n",
       "50%          0.000000\n",
       "75%          1.000000\n",
       "max          1.000000\n",
       "Name: Segmen, dtype: float64"
      ]
     },
     "metadata": {},
     "output_type": "display_data"
    }
   ],
   "source": [
    "# Check if there is any outliers\n",
    "for col in df_loan_80.columns[:19]:\n",
    "    display(df_loan_80[col].describe())"
   ]
  },
  {
   "cell_type": "code",
   "execution_count": 47,
   "metadata": {
    "ExecuteTime": {
     "end_time": "2019-10-25T10:58:14.248000Z",
     "start_time": "2019-10-25T10:58:14.003000Z"
    }
   },
   "outputs": [
    {
     "data": {
      "image/png": "[encoded data removed]",
      "text/plain": [
       "<Figure size 432x288 with 1 Axes>"
      ]
     },
     "metadata": {
      "needs_background": "light"
     },
     "output_type": "display_data"
    }
   ],
   "source": [
    "# Check\n",
    "df_loan_80['Income'].plot.hist(title = 'Income Histogram');\n",
    "plt.xlabel('Income');"
   ]
  },
  {
   "cell_type": "code",
   "execution_count": 64,
   "metadata": {
    "ExecuteTime": {
     "end_time": "2019-10-25T11:23:40.758000Z",
     "start_time": "2019-10-25T11:23:40.711000Z"
    }
   },
   "outputs": [
    {
     "name": "stdout",
     "output_type": "stream",
     "text": [
      "The non-anomalies default on 66.67% of loans\n",
      "The anomalies default on 49.41% of loans\n",
      "There are 22631 anomalous income\n"
     ]
    }
   ],
   "source": [
    "# Check the outliers default rate\n",
    "anom = df_loan_80[df_loan_80['Income'] < 2000]\n",
    "non_anom = df_loan_80[df_loan_80['Income'] >= 2000]\n",
    "print('The non-anomalies default on %0.2f%% of loans' % (100 * non_anom['NPF'].mean()))\n",
    "print('The anomalies default on %0.2f%% of loans' % (100 * anom['NPF'].mean()))\n",
    "print('There are %d anomalous income' % len(anom))"
   ]
  },
  {
   "cell_type": "code",
   "execution_count": 67,
   "metadata": {
    "ExecuteTime": {
     "end_time": "2019-10-25T11:28:49.383000Z",
     "start_time": "2019-10-25T11:28:49.218000Z"
    }
   },
   "outputs": [
    {
     "name": "stdout",
     "output_type": "stream",
     "text": [
      "Most Positive Correlations:\n",
      " AF                                       0.176272\n",
      "Kontrak                                  0.216685\n",
      "Bucket_Collectability_>120 - 150 hari    0.222295\n",
      "Total_AR                                 0.279751\n",
      "Bucket_Collectability_>90 - 120 hari     0.280587\n",
      "Tenor                                    0.321035\n",
      "LTV                                      0.371456\n",
      "Interest_Rate                            0.417378\n",
      "Bucket_Collectability_> 150 hari         0.786578\n",
      "NPF                                      1.000000\n",
      "Name: NPF, dtype: float64\n",
      "\n",
      "Most Negative Correlations:\n",
      " Bucket_Collectability_0 - 30 hari     -0.871115\n",
      "Bucket_Collectability_>30 - 90 hari   -0.268317\n",
      "DP                                    -0.251540\n",
      "Age                                   -0.105081\n",
      "Pendidikan                            -0.104051\n",
      "Pekerjaan_Karyawan                    -0.096233\n",
      "Tujuan                                -0.084949\n",
      "Inflasi                               -0.067024\n",
      "Area_Jawa                             -0.064224\n",
      "Tipe_Kendaraan_MINIBUS                -0.048121\n",
      "Name: NPF, dtype: float64\n"
     ]
    }
   ],
   "source": [
    "# Find correlations with the target and sort\n",
    "correlations = df_loan_80.corr()['NPF'].sort_values()\n",
    "\n",
    "# Display correlations\n",
    "print('Most Positive Correlations:\\n', correlations.tail(10))\n",
    "print('\\nMost Negative Correlations:\\n', correlations.head(10))"
   ]
  },
  {
   "cell_type": "markdown",
   "metadata": {},
   "source": [
    "It looks like some features have negative relationship, lets take a look"
   ]
  },
  {
   "cell_type": "code",
   "execution_count": 75,
   "metadata": {
    "ExecuteTime": {
     "end_time": "2019-10-25T12:00:58.556000Z",
     "start_time": "2019-10-25T12:00:57.564000Z"
    }
   },
   "outputs": [
    {
     "name": "stderr",
     "output_type": "stream",
     "text": [
      "C:\\Users\\mpadmanagara\\AppData\\Local\\Continuum\\anaconda3\\lib\\site-packages\\ipykernel_launcher.py:6: SettingWithCopyWarning: \n",
      "A value is trying to be set on a copy of a slice from a DataFrame.\n",
      "Try using .loc[row_indexer,col_indexer] = value instead\n",
      "\n",
      "See the caveats in the documentation: http://pandas.pydata.org/pandas-docs/stable/indexing.html#indexing-view-versus-copy\n",
      "  \n"
     ]
    },
    {
     "data": {
      "text/html": [
       "<div>\n",
       "<style scoped>\n",
       "    .dataframe tbody tr th:only-of-type {\n",
       "        vertical-align: middle;\n",
       "    }\n",
       "\n",
       "    .dataframe tbody tr th {\n",
       "        vertical-align: top;\n",
       "    }\n",
       "\n",
       "    .dataframe thead th {\n",
       "        text-align: right;\n",
       "    }\n",
       "</style>\n",
       "<table border=\"1\" class=\"dataframe\">\n",
       "  <thead>\n",
       "    <tr style=\"text-align: right;\">\n",
       "      <th></th>\n",
       "      <th>NPF</th>\n",
       "      <th>Age</th>\n",
       "      <th>age_binned</th>\n",
       "    </tr>\n",
       "  </thead>\n",
       "  <tbody>\n",
       "    <tr>\n",
       "      <th>7862</th>\n",
       "      <td>1</td>\n",
       "      <td>46</td>\n",
       "      <td>(44.2, 50.5]</td>\n",
       "    </tr>\n",
       "    <tr>\n",
       "      <th>13553</th>\n",
       "      <td>0</td>\n",
       "      <td>38</td>\n",
       "      <td>(37.9, 44.2]</td>\n",
       "    </tr>\n",
       "    <tr>\n",
       "      <th>14661</th>\n",
       "      <td>0</td>\n",
       "      <td>27</td>\n",
       "      <td>(25.3, 31.6]</td>\n",
       "    </tr>\n",
       "    <tr>\n",
       "      <th>2027</th>\n",
       "      <td>0</td>\n",
       "      <td>50</td>\n",
       "      <td>(44.2, 50.5]</td>\n",
       "    </tr>\n",
       "    <tr>\n",
       "      <th>10756</th>\n",
       "      <td>1</td>\n",
       "      <td>29</td>\n",
       "      <td>(25.3, 31.6]</td>\n",
       "    </tr>\n",
       "    <tr>\n",
       "      <th>14862</th>\n",
       "      <td>0</td>\n",
       "      <td>23</td>\n",
       "      <td>(19.0, 25.3]</td>\n",
       "    </tr>\n",
       "    <tr>\n",
       "      <th>17754</th>\n",
       "      <td>1</td>\n",
       "      <td>37</td>\n",
       "      <td>(31.6, 37.9]</td>\n",
       "    </tr>\n",
       "    <tr>\n",
       "      <th>5332</th>\n",
       "      <td>0</td>\n",
       "      <td>25</td>\n",
       "      <td>(19.0, 25.3]</td>\n",
       "    </tr>\n",
       "    <tr>\n",
       "      <th>8153</th>\n",
       "      <td>1</td>\n",
       "      <td>38</td>\n",
       "      <td>(37.9, 44.2]</td>\n",
       "    </tr>\n",
       "    <tr>\n",
       "      <th>7037</th>\n",
       "      <td>0</td>\n",
       "      <td>55</td>\n",
       "      <td>(50.5, 56.8]</td>\n",
       "    </tr>\n",
       "  </tbody>\n",
       "</table>\n",
       "</div>"
      ],
      "text/plain": [
       "       NPF  Age    age_binned\n",
       "7862     1   46  (44.2, 50.5]\n",
       "13553    0   38  (37.9, 44.2]\n",
       "14661    0   27  (25.3, 31.6]\n",
       "2027     0   50  (44.2, 50.5]\n",
       "10756    1   29  (25.3, 31.6]\n",
       "14862    0   23  (19.0, 25.3]\n",
       "17754    1   37  (31.6, 37.9]\n",
       "5332     0   25  (19.0, 25.3]\n",
       "8153     1   38  (37.9, 44.2]\n",
       "7037     0   55  (50.5, 56.8]"
      ]
     },
     "execution_count": 75,
     "metadata": {},
     "output_type": "execute_result"
    }
   ],
   "source": [
    "# Bin the age data to see the npf for each bin\n",
    "# Age information into a separate dataframe\n",
    "age_data = df_loan_80[['NPF', 'Age']]\n",
    "\n",
    "# Bin the age data\n",
    "age_data['age_binned'] = pd.cut(age_data['Age'], bins = np.linspace(19, 82, num = 11))\n",
    "age_data.head(10)"
   ]
  },
  {
   "cell_type": "code",
   "execution_count": 76,
   "metadata": {
    "ExecuteTime": {
     "end_time": "2019-10-25T12:01:01.073000Z",
     "start_time": "2019-10-25T12:01:01.027000Z"
    }
   },
   "outputs": [
    {
     "data": {
      "text/html": [
       "<div>\n",
       "<style scoped>\n",
       "    .dataframe tbody tr th:only-of-type {\n",
       "        vertical-align: middle;\n",
       "    }\n",
       "\n",
       "    .dataframe tbody tr th {\n",
       "        vertical-align: top;\n",
       "    }\n",
       "\n",
       "    .dataframe thead th {\n",
       "        text-align: right;\n",
       "    }\n",
       "</style>\n",
       "<table border=\"1\" class=\"dataframe\">\n",
       "  <thead>\n",
       "    <tr style=\"text-align: right;\">\n",
       "      <th></th>\n",
       "      <th>NPF</th>\n",
       "      <th>Age</th>\n",
       "    </tr>\n",
       "    <tr>\n",
       "      <th>age_binned</th>\n",
       "      <th></th>\n",
       "      <th></th>\n",
       "    </tr>\n",
       "  </thead>\n",
       "  <tbody>\n",
       "    <tr>\n",
       "      <th>(19.0, 25.3]</th>\n",
       "      <td>0.548646</td>\n",
       "      <td>23.377131</td>\n",
       "    </tr>\n",
       "    <tr>\n",
       "      <th>(25.3, 31.6]</th>\n",
       "      <td>0.542648</td>\n",
       "      <td>28.832272</td>\n",
       "    </tr>\n",
       "    <tr>\n",
       "      <th>(31.6, 37.9]</th>\n",
       "      <td>0.541959</td>\n",
       "      <td>34.642700</td>\n",
       "    </tr>\n",
       "    <tr>\n",
       "      <th>(37.9, 44.2]</th>\n",
       "      <td>0.502014</td>\n",
       "      <td>40.932586</td>\n",
       "    </tr>\n",
       "    <tr>\n",
       "      <th>(44.2, 50.5]</th>\n",
       "      <td>0.452830</td>\n",
       "      <td>47.380126</td>\n",
       "    </tr>\n",
       "    <tr>\n",
       "      <th>(50.5, 56.8]</th>\n",
       "      <td>0.434646</td>\n",
       "      <td>53.168504</td>\n",
       "    </tr>\n",
       "    <tr>\n",
       "      <th>(56.8, 63.1]</th>\n",
       "      <td>0.362183</td>\n",
       "      <td>59.174036</td>\n",
       "    </tr>\n",
       "    <tr>\n",
       "      <th>(63.1, 69.4]</th>\n",
       "      <td>0.302632</td>\n",
       "      <td>65.611842</td>\n",
       "    </tr>\n",
       "    <tr>\n",
       "      <th>(69.4, 75.7]</th>\n",
       "      <td>0.193548</td>\n",
       "      <td>71.838710</td>\n",
       "    </tr>\n",
       "    <tr>\n",
       "      <th>(75.7, 82.0]</th>\n",
       "      <td>0.250000</td>\n",
       "      <td>79.000000</td>\n",
       "    </tr>\n",
       "  </tbody>\n",
       "</table>\n",
       "</div>"
      ],
      "text/plain": [
       "                   NPF        Age\n",
       "age_binned                       \n",
       "(19.0, 25.3]  0.548646  23.377131\n",
       "(25.3, 31.6]  0.542648  28.832272\n",
       "(31.6, 37.9]  0.541959  34.642700\n",
       "(37.9, 44.2]  0.502014  40.932586\n",
       "(44.2, 50.5]  0.452830  47.380126\n",
       "(50.5, 56.8]  0.434646  53.168504\n",
       "(56.8, 63.1]  0.362183  59.174036\n",
       "(63.1, 69.4]  0.302632  65.611842\n",
       "(69.4, 75.7]  0.193548  71.838710\n",
       "(75.7, 82.0]  0.250000  79.000000"
      ]
     },
     "execution_count": 76,
     "metadata": {},
     "output_type": "execute_result"
    }
   ],
   "source": [
    "# Group by the bin and calculate averages\n",
    "age_groups  = age_data.groupby('age_binned').mean()\n",
    "age_groups"
   ]
  },
  {
   "cell_type": "code",
   "execution_count": 77,
   "metadata": {
    "ExecuteTime": {
     "end_time": "2019-10-25T12:01:03.180000Z",
     "start_time": "2019-10-25T12:01:02.840000Z"
    }
   },
   "outputs": [
    {
     "data": {
      "image/png": "[encoded data removed]",
      "text/plain": [
       "<Figure size 576x576 with 1 Axes>"
      ]
     },
     "metadata": {
      "needs_background": "light"
     },
     "output_type": "display_data"
    }
   ],
   "source": [
    "plt.figure(figsize = (8, 8))\n",
    "\n",
    "# Graph the age bins and the average of the target as a bar plot\n",
    "plt.bar(age_groups.index.astype(str), 100 * age_groups['NPF'])\n",
    "\n",
    "# Plot labeling\n",
    "plt.xticks(rotation = 75); plt.xlabel('Age Group (years)'); plt.ylabel('Failure to Repay (%)')\n",
    "plt.title('Failure to Repay by Age Group');"
   ]
  },
  {
   "cell_type": "markdown",
   "metadata": {},
   "source": [
    "As we can see the data showed that the older customer tend to have good NPF"
   ]
  },
  {
   "cell_type": "code",
   "execution_count": 87,
   "metadata": {
    "ExecuteTime": {
     "end_time": "2019-10-25T12:28:02.404000Z",
     "start_time": "2019-10-25T12:28:02.245000Z"
    }
   },
   "outputs": [
    {
     "name": "stdout",
     "output_type": "stream",
     "text": [
      "Training data shape:  (15843, 33)\n",
      "Testing data shape:  (6791, 33)\n"
     ]
    },
    {
     "name": "stderr",
     "output_type": "stream",
     "text": [
      "C:\\Users\\mpadmanagara\\AppData\\Local\\Continuum\\anaconda3\\lib\\site-packages\\sklearn\\utils\\deprecation.py:58: DeprecationWarning: Class Imputer is deprecated; Imputer was deprecated in version 0.20 and will be removed in 0.22. Import impute.SimpleImputer from sklearn instead.\n",
      "  warnings.warn(msg, category=DeprecationWarning)\n"
     ]
    }
   ],
   "source": [
    "from sklearn.preprocessing import MinMaxScaler, Imputer\n",
    "from sklearn.model_selection import train_test_split\n",
    "\n",
    "# Drop the target from the training data\n",
    "# if 'NPF' in df_loan_80:\n",
    "#     train = df_loan_80.drop(columns = ['NPF'])\n",
    "# else:\n",
    "#     train = df_loan_80.copy()\n",
    "\n",
    "data_train = df_loan_80.copy()\n",
    "data_train = data_train.drop(columns = ['NPF'])\n",
    "\n",
    "X_train, X_test, y_train, y_test = train_test_split(data_train, df_loan_80['NPF'], test_size=0.3, random_state=42)\n",
    "    \n",
    "# Feature names\n",
    "features = list(X_train.columns)\n",
    "\n",
    "# Median imputation of missing values\n",
    "imputer = Imputer(strategy = 'median')\n",
    "\n",
    "# Scale each feature to 0-1\n",
    "scaler = MinMaxScaler(feature_range = (0, 1))\n",
    "\n",
    "# Fit on the training data\n",
    "imputer.fit(X_train)\n",
    "\n",
    "# Transform both training and testing data\n",
    "train = imputer.transform(X_train)\n",
    "test = imputer.transform(X_test)\n",
    "\n",
    "# Repeat with the scaler\n",
    "scaler.fit(train)\n",
    "train = scaler.transform(train)\n",
    "test = scaler.transform(test)\n",
    "\n",
    "print('Training data shape: ', train.shape)\n",
    "print('Testing data shape: ', test.shape)"
   ]
  },
  {
   "cell_type": "code",
   "execution_count": 88,
   "metadata": {
    "ExecuteTime": {
     "end_time": "2019-10-25T12:28:55.591000Z",
     "start_time": "2019-10-25T12:28:55.387000Z"
    }
   },
   "outputs": [
    {
     "name": "stderr",
     "output_type": "stream",
     "text": [
      "C:\\Users\\mpadmanagara\\AppData\\Local\\Continuum\\anaconda3\\lib\\site-packages\\sklearn\\linear_model\\logistic.py:433: FutureWarning: Default solver will be changed to 'lbfgs' in 0.22. Specify a solver to silence this warning.\n",
      "  FutureWarning)\n"
     ]
    },
    {
     "data": {
      "text/plain": [
       "LogisticRegression(C=0.0001, class_weight=None, dual=False,\n",
       "          fit_intercept=True, intercept_scaling=1, max_iter=100,\n",
       "          multi_class='warn', n_jobs=None, penalty='l2', random_state=None,\n",
       "          solver='warn', tol=0.0001, verbose=0, warm_start=False)"
      ]
     },
     "execution_count": 88,
     "metadata": {},
     "output_type": "execute_result"
    }
   ],
   "source": [
    "from sklearn.linear_model import LogisticRegression\n",
    "\n",
    "# Make the model with the specified regularization parameter\n",
    "log_reg = LogisticRegression(C = 0.0001)\n",
    "\n",
    "# Train on the training data\n",
    "log_reg.fit(train, y_train)"
   ]
  },
  {
   "cell_type": "code",
   "execution_count": 89,
   "metadata": {
    "ExecuteTime": {
     "end_time": "2019-10-25T12:29:09.790000Z",
     "start_time": "2019-10-25T12:29:09.750000Z"
    }
   },
   "outputs": [],
   "source": [
    "# Make predictions\n",
    "# Make sure to select the second column only\n",
    "log_reg_pred = log_reg.predict_proba(test)[:, 1]"
   ]
  },
  {
   "cell_type": "code",
   "execution_count": 92,
   "metadata": {
    "ExecuteTime": {
     "end_time": "2019-10-25T12:30:21.342000Z",
     "start_time": "2019-10-25T12:30:20.506000Z"
    }
   },
   "outputs": [
    {
     "name": "stderr",
     "output_type": "stream",
     "text": [
      "C:\\Users\\mpadmanagara\\AppData\\Local\\Continuum\\anaconda3\\lib\\site-packages\\ipykernel_launcher.py:3: SettingWithCopyWarning: \n",
      "A value is trying to be set on a copy of a slice from a DataFrame.\n",
      "Try using .loc[row_indexer,col_indexer] = value instead\n",
      "\n",
      "See the caveats in the documentation: http://pandas.pydata.org/pandas-docs/stable/indexing.html#indexing-view-versus-copy\n",
      "  This is separate from the ipykernel package so we can avoid doing imports until\n"
     ]
    },
    {
     "data": {
      "text/html": [
       "<div>\n",
       "<style scoped>\n",
       "    .dataframe tbody tr th:only-of-type {\n",
       "        vertical-align: middle;\n",
       "    }\n",
       "\n",
       "    .dataframe tbody tr th {\n",
       "        vertical-align: top;\n",
       "    }\n",
       "\n",
       "    .dataframe thead th {\n",
       "        text-align: right;\n",
       "    }\n",
       "</style>\n",
       "<table border=\"1\" class=\"dataframe\">\n",
       "  <thead>\n",
       "    <tr style=\"text-align: right;\">\n",
       "      <th></th>\n",
       "      <th>Kontrak</th>\n",
       "      <th>NPF</th>\n",
       "    </tr>\n",
       "  </thead>\n",
       "  <tbody>\n",
       "    <tr>\n",
       "      <th>5245</th>\n",
       "      <td>5246</td>\n",
       "      <td>0.567679</td>\n",
       "    </tr>\n",
       "    <tr>\n",
       "      <th>13869</th>\n",
       "      <td>13870</td>\n",
       "      <td>0.566453</td>\n",
       "    </tr>\n",
       "    <tr>\n",
       "      <th>7248</th>\n",
       "      <td>7249</td>\n",
       "      <td>0.413141</td>\n",
       "    </tr>\n",
       "    <tr>\n",
       "      <th>22320</th>\n",
       "      <td>22321</td>\n",
       "      <td>0.509704</td>\n",
       "    </tr>\n",
       "    <tr>\n",
       "      <th>27490</th>\n",
       "      <td>27491</td>\n",
       "      <td>0.446605</td>\n",
       "    </tr>\n",
       "  </tbody>\n",
       "</table>\n",
       "</div>"
      ],
      "text/plain": [
       "       Kontrak       NPF\n",
       "5245      5246  0.567679\n",
       "13869    13870  0.566453\n",
       "7248      7249  0.413141\n",
       "22320    22321  0.509704\n",
       "27490    27491  0.446605"
      ]
     },
     "execution_count": 92,
     "metadata": {},
     "output_type": "execute_result"
    }
   ],
   "source": [
    "# Submission dataframe\n",
    "submit = X_test[['Kontrak']]\n",
    "submit['NPF'] = log_reg_pred\n",
    "\n",
    "submit.head()"
   ]
  },
  {
   "cell_type": "markdown",
   "metadata": {},
   "source": [
    "Above shown, are some example of score predicted by the model."
   ]
  }
 ],
 "metadata": {
  "kernelspec": {
   "display_name": "Python 3",
   "language": "python",
   "name": "python3"
  },
  "language_info": {
   "codemirror_mode": {
    "name": "ipython",
    "version": 3
   },
   "file_extension": ".py",
   "mimetype": "text/x-python",
   "name": "python",
   "nbconvert_exporter": "python",
   "pygments_lexer": "ipython3",
   "version": "3.7.3"
  },
  "latex_envs": {
   "LaTeX_envs_menu_present": true,
   "autoclose": false,
   "autocomplete": true,
   "bibliofile": "biblio.bib",
   "cite_by": "apalike",
   "current_citInitial": 1,
   "eqLabelWithNumbers": true,
   "eqNumInitial": 1,
   "hotkeys": {
    "equation": "Ctrl-E",
    "itemize": "Ctrl-I"
   },
   "labels_anchors": false,
   "latex_user_defs": false,
   "report_style_numbering": false,
   "user_envs_cfg": false
  },
  "toc": {
   "base_numbering": 1,
   "nav_menu": {},
   "number_sections": true,
   "sideBar": true,
   "skip_h1_title": false,
   "title_cell": "Table of Contents",
   "title_sidebar": "Contents",
   "toc_cell": false,
   "toc_position": {},
   "toc_section_display": true,
   "toc_window_display": false
  }
 },
 "nbformat": 4,
 "nbformat_minor": 2
}
