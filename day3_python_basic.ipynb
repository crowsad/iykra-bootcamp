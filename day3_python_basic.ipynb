{
 "cells": [
  {
   "cell_type": "markdown",
   "metadata": {},
   "source": [
    "# IMDB MOVIE EXERCISE"
   ]
  },
  {
   "cell_type": "markdown",
   "metadata": {},
   "source": [
    "Import library and load the data and take a look at some sample"
   ]
  },
  {
   "cell_type": "code",
   "execution_count": 1,
   "metadata": {
    "ExecuteTime": {
     "end_time": "2019-10-23T08:44:18.791000Z",
     "start_time": "2019-10-23T08:44:17.315000Z"
    },
    "scrolled": false
   },
   "outputs": [
    {
     "data": {
      "text/html": [
       "<div>\n",
       "<style scoped>\n",
       "    .dataframe tbody tr th:only-of-type {\n",
       "        vertical-align: middle;\n",
       "    }\n",
       "\n",
       "    .dataframe tbody tr th {\n",
       "        vertical-align: top;\n",
       "    }\n",
       "\n",
       "    .dataframe thead th {\n",
       "        text-align: right;\n",
       "    }\n",
       "</style>\n",
       "<table border=\"1\" class=\"dataframe\">\n",
       "  <thead>\n",
       "    <tr style=\"text-align: right;\">\n",
       "      <th></th>\n",
       "      <th>movie_title</th>\n",
       "      <th>duration</th>\n",
       "      <th>color</th>\n",
       "      <th>title_year</th>\n",
       "      <th>country</th>\n",
       "      <th>language</th>\n",
       "      <th>content_rating</th>\n",
       "      <th>budget_USD</th>\n",
       "      <th>gross_USD</th>\n",
       "      <th>net_USD</th>\n",
       "      <th>...</th>\n",
       "      <th>actor_3_facebook?</th>\n",
       "      <th>actor_3_facebook_likes</th>\n",
       "      <th>cast_total_facebook_likes</th>\n",
       "      <th>movie_facebook?</th>\n",
       "      <th>movie_facebook_likes;</th>\n",
       "      <th>facenumber_in_poster</th>\n",
       "      <th>num_voted_users</th>\n",
       "      <th>num_user_for_reviews</th>\n",
       "      <th>imdb_score</th>\n",
       "      <th>imdb_top_250</th>\n",
       "    </tr>\n",
       "    <tr>\n",
       "      <th>movie_ID</th>\n",
       "      <th></th>\n",
       "      <th></th>\n",
       "      <th></th>\n",
       "      <th></th>\n",
       "      <th></th>\n",
       "      <th></th>\n",
       "      <th></th>\n",
       "      <th></th>\n",
       "      <th></th>\n",
       "      <th></th>\n",
       "      <th></th>\n",
       "      <th></th>\n",
       "      <th></th>\n",
       "      <th></th>\n",
       "      <th></th>\n",
       "      <th></th>\n",
       "      <th></th>\n",
       "      <th></th>\n",
       "      <th></th>\n",
       "      <th></th>\n",
       "      <th></th>\n",
       "    </tr>\n",
       "  </thead>\n",
       "  <tbody>\n",
       "    <tr>\n",
       "      <th>1</th>\n",
       "      <td>Avatar</td>\n",
       "      <td>178</td>\n",
       "      <td>1</td>\n",
       "      <td>2009</td>\n",
       "      <td>USA</td>\n",
       "      <td>English</td>\n",
       "      <td>PG-13</td>\n",
       "      <td>237000000</td>\n",
       "      <td>760505847</td>\n",
       "      <td>523505847</td>\n",
       "      <td>...</td>\n",
       "      <td>1</td>\n",
       "      <td>855</td>\n",
       "      <td>4834</td>\n",
       "      <td>1</td>\n",
       "      <td>33000</td>\n",
       "      <td>0</td>\n",
       "      <td>886204</td>\n",
       "      <td>3054</td>\n",
       "      <td>7.9</td>\n",
       "      <td>0</td>\n",
       "    </tr>\n",
       "    <tr>\n",
       "      <th>2</th>\n",
       "      <td>Pirates of the Caribbean: At World's End</td>\n",
       "      <td>169</td>\n",
       "      <td>1</td>\n",
       "      <td>2007</td>\n",
       "      <td>USA</td>\n",
       "      <td>English</td>\n",
       "      <td>PG-13</td>\n",
       "      <td>300000000</td>\n",
       "      <td>309404152</td>\n",
       "      <td>9404152</td>\n",
       "      <td>...</td>\n",
       "      <td>1</td>\n",
       "      <td>1000</td>\n",
       "      <td>48350</td>\n",
       "      <td>0</td>\n",
       "      <td>0</td>\n",
       "      <td>0</td>\n",
       "      <td>471220</td>\n",
       "      <td>1238</td>\n",
       "      <td>7.1</td>\n",
       "      <td>0</td>\n",
       "    </tr>\n",
       "    <tr>\n",
       "      <th>3</th>\n",
       "      <td>The Dark Knight Rises</td>\n",
       "      <td>164</td>\n",
       "      <td>1</td>\n",
       "      <td>2012</td>\n",
       "      <td>USA</td>\n",
       "      <td>English</td>\n",
       "      <td>PG-13</td>\n",
       "      <td>250000000</td>\n",
       "      <td>448130642</td>\n",
       "      <td>198130642</td>\n",
       "      <td>...</td>\n",
       "      <td>1</td>\n",
       "      <td>23000</td>\n",
       "      <td>106759</td>\n",
       "      <td>1</td>\n",
       "      <td>164000</td>\n",
       "      <td>0</td>\n",
       "      <td>1144337</td>\n",
       "      <td>2701</td>\n",
       "      <td>8.5</td>\n",
       "      <td>1</td>\n",
       "    </tr>\n",
       "    <tr>\n",
       "      <th>4</th>\n",
       "      <td>Spider-Man 3</td>\n",
       "      <td>156</td>\n",
       "      <td>1</td>\n",
       "      <td>2007</td>\n",
       "      <td>USA</td>\n",
       "      <td>English</td>\n",
       "      <td>PG-13</td>\n",
       "      <td>258000000</td>\n",
       "      <td>336530303</td>\n",
       "      <td>78530303</td>\n",
       "      <td>...</td>\n",
       "      <td>1</td>\n",
       "      <td>4000</td>\n",
       "      <td>46055</td>\n",
       "      <td>0</td>\n",
       "      <td>0</td>\n",
       "      <td>0</td>\n",
       "      <td>383056</td>\n",
       "      <td>1902</td>\n",
       "      <td>6.2</td>\n",
       "      <td>0</td>\n",
       "    </tr>\n",
       "    <tr>\n",
       "      <th>5</th>\n",
       "      <td>Batman v Superman: Dawn of Justice</td>\n",
       "      <td>183</td>\n",
       "      <td>1</td>\n",
       "      <td>2016</td>\n",
       "      <td>USA</td>\n",
       "      <td>English</td>\n",
       "      <td>PG-13</td>\n",
       "      <td>250000000</td>\n",
       "      <td>330249062</td>\n",
       "      <td>80249062</td>\n",
       "      <td>...</td>\n",
       "      <td>1</td>\n",
       "      <td>2000</td>\n",
       "      <td>24450</td>\n",
       "      <td>1</td>\n",
       "      <td>197000</td>\n",
       "      <td>0</td>\n",
       "      <td>371639</td>\n",
       "      <td>3018</td>\n",
       "      <td>6.9</td>\n",
       "      <td>0</td>\n",
       "    </tr>\n",
       "  </tbody>\n",
       "</table>\n",
       "<p>5 rows × 35 columns</p>\n",
       "</div>"
      ],
      "text/plain": [
       "                                       movie_title  duration  color  \\\n",
       "movie_ID                                                              \n",
       "1                                           Avatar       178      1   \n",
       "2         Pirates of the Caribbean: At World's End       169      1   \n",
       "3                            The Dark Knight Rises       164      1   \n",
       "4                                     Spider-Man 3       156      1   \n",
       "5               Batman v Superman: Dawn of Justice       183      1   \n",
       "\n",
       "          title_year country language content_rating  budget_USD  gross_USD  \\\n",
       "movie_ID                                                                      \n",
       "1               2009     USA  English          PG-13   237000000  760505847   \n",
       "2               2007     USA  English          PG-13   300000000  309404152   \n",
       "3               2012     USA  English          PG-13   250000000  448130642   \n",
       "4               2007     USA  English          PG-13   258000000  336530303   \n",
       "5               2016     USA  English          PG-13   250000000  330249062   \n",
       "\n",
       "            net_USD  ...  actor_3_facebook? actor_3_facebook_likes  \\\n",
       "movie_ID             ...                                             \n",
       "1         523505847  ...                  1                    855   \n",
       "2           9404152  ...                  1                   1000   \n",
       "3         198130642  ...                  1                  23000   \n",
       "4          78530303  ...                  1                   4000   \n",
       "5          80249062  ...                  1                   2000   \n",
       "\n",
       "         cast_total_facebook_likes  movie_facebook?  movie_facebook_likes;  \\\n",
       "movie_ID                                                                     \n",
       "1                             4834                1                  33000   \n",
       "2                            48350                0                      0   \n",
       "3                           106759                1                 164000   \n",
       "4                            46055                0                      0   \n",
       "5                            24450                1                 197000   \n",
       "\n",
       "         facenumber_in_poster  num_voted_users  num_user_for_reviews  \\\n",
       "movie_ID                                                               \n",
       "1                           0           886204                  3054   \n",
       "2                           0           471220                  1238   \n",
       "3                           0          1144337                  2701   \n",
       "4                           0           383056                  1902   \n",
       "5                           0           371639                  3018   \n",
       "\n",
       "          imdb_score imdb_top_250  \n",
       "movie_ID                           \n",
       "1                7.9            0  \n",
       "2                7.1            0  \n",
       "3                8.5            1  \n",
       "4                6.2            0  \n",
       "5                6.9            0  \n",
       "\n",
       "[5 rows x 35 columns]"
      ]
     },
     "metadata": {},
     "output_type": "display_data"
    },
    {
     "data": {
      "text/html": [
       "<div>\n",
       "<style scoped>\n",
       "    .dataframe tbody tr th:only-of-type {\n",
       "        vertical-align: middle;\n",
       "    }\n",
       "\n",
       "    .dataframe tbody tr th {\n",
       "        vertical-align: top;\n",
       "    }\n",
       "\n",
       "    .dataframe thead th {\n",
       "        text-align: right;\n",
       "    }\n",
       "</style>\n",
       "<table border=\"1\" class=\"dataframe\">\n",
       "  <thead>\n",
       "    <tr style=\"text-align: right;\">\n",
       "      <th></th>\n",
       "      <th>movie_title</th>\n",
       "      <th>duration</th>\n",
       "      <th>color</th>\n",
       "      <th>title_year</th>\n",
       "      <th>country</th>\n",
       "      <th>language</th>\n",
       "      <th>content_rating</th>\n",
       "      <th>budget_USD</th>\n",
       "      <th>gross_USD</th>\n",
       "      <th>net_USD</th>\n",
       "      <th>...</th>\n",
       "      <th>actor_3_facebook?</th>\n",
       "      <th>actor_3_facebook_likes</th>\n",
       "      <th>cast_total_facebook_likes</th>\n",
       "      <th>movie_facebook?</th>\n",
       "      <th>movie_facebook_likes;</th>\n",
       "      <th>facenumber_in_poster</th>\n",
       "      <th>num_voted_users</th>\n",
       "      <th>num_user_for_reviews</th>\n",
       "      <th>imdb_score</th>\n",
       "      <th>imdb_top_250</th>\n",
       "    </tr>\n",
       "    <tr>\n",
       "      <th>movie_ID</th>\n",
       "      <th></th>\n",
       "      <th></th>\n",
       "      <th></th>\n",
       "      <th></th>\n",
       "      <th></th>\n",
       "      <th></th>\n",
       "      <th></th>\n",
       "      <th></th>\n",
       "      <th></th>\n",
       "      <th></th>\n",
       "      <th></th>\n",
       "      <th></th>\n",
       "      <th></th>\n",
       "      <th></th>\n",
       "      <th></th>\n",
       "      <th></th>\n",
       "      <th></th>\n",
       "      <th></th>\n",
       "      <th></th>\n",
       "      <th></th>\n",
       "      <th></th>\n",
       "    </tr>\n",
       "  </thead>\n",
       "  <tbody>\n",
       "    <tr>\n",
       "      <th>3777</th>\n",
       "      <td>New Year's Eve</td>\n",
       "      <td>113</td>\n",
       "      <td>1</td>\n",
       "      <td>2011</td>\n",
       "      <td>USA</td>\n",
       "      <td>English</td>\n",
       "      <td>PG-13</td>\n",
       "      <td>56000000</td>\n",
       "      <td>54540525</td>\n",
       "      <td>-1459475</td>\n",
       "      <td>...</td>\n",
       "      <td>1</td>\n",
       "      <td>307</td>\n",
       "      <td>23456</td>\n",
       "      <td>1</td>\n",
       "      <td>20000</td>\n",
       "      <td>15</td>\n",
       "      <td>66579</td>\n",
       "      <td>134</td>\n",
       "      <td>5.7</td>\n",
       "      <td>0</td>\n",
       "    </tr>\n",
       "    <tr>\n",
       "      <th>3778</th>\n",
       "      <td>Boogie Nights</td>\n",
       "      <td>155</td>\n",
       "      <td>1</td>\n",
       "      <td>1997</td>\n",
       "      <td>USA</td>\n",
       "      <td>English</td>\n",
       "      <td>R</td>\n",
       "      <td>15000000</td>\n",
       "      <td>26384919</td>\n",
       "      <td>11384919</td>\n",
       "      <td>...</td>\n",
       "      <td>1</td>\n",
       "      <td>170</td>\n",
       "      <td>3677</td>\n",
       "      <td>0</td>\n",
       "      <td>0</td>\n",
       "      <td>15</td>\n",
       "      <td>189032</td>\n",
       "      <td>560</td>\n",
       "      <td>7.9</td>\n",
       "      <td>0</td>\n",
       "    </tr>\n",
       "    <tr>\n",
       "      <th>3779</th>\n",
       "      <td>Battle of the Year</td>\n",
       "      <td>110</td>\n",
       "      <td>1</td>\n",
       "      <td>2013</td>\n",
       "      <td>USA</td>\n",
       "      <td>English</td>\n",
       "      <td>PG-13</td>\n",
       "      <td>20000000</td>\n",
       "      <td>8888355</td>\n",
       "      <td>-11111645</td>\n",
       "      <td>...</td>\n",
       "      <td>1</td>\n",
       "      <td>826</td>\n",
       "      <td>3177</td>\n",
       "      <td>0</td>\n",
       "      <td>0</td>\n",
       "      <td>19</td>\n",
       "      <td>7894</td>\n",
       "      <td>25</td>\n",
       "      <td>5.0</td>\n",
       "      <td>0</td>\n",
       "    </tr>\n",
       "    <tr>\n",
       "      <th>3780</th>\n",
       "      <td>The Master</td>\n",
       "      <td>144</td>\n",
       "      <td>1</td>\n",
       "      <td>2012</td>\n",
       "      <td>USA</td>\n",
       "      <td>English</td>\n",
       "      <td>R</td>\n",
       "      <td>32000000</td>\n",
       "      <td>16377274</td>\n",
       "      <td>-15622726</td>\n",
       "      <td>...</td>\n",
       "      <td>1</td>\n",
       "      <td>15</td>\n",
       "      <td>427</td>\n",
       "      <td>1</td>\n",
       "      <td>27000</td>\n",
       "      <td>31</td>\n",
       "      <td>105144</td>\n",
       "      <td>405</td>\n",
       "      <td>7.1</td>\n",
       "      <td>0</td>\n",
       "    </tr>\n",
       "    <tr>\n",
       "      <th>3781</th>\n",
       "      <td>500 Days of Summer</td>\n",
       "      <td>95</td>\n",
       "      <td>1</td>\n",
       "      <td>2009</td>\n",
       "      <td>USA</td>\n",
       "      <td>English</td>\n",
       "      <td>PG-13</td>\n",
       "      <td>7500000</td>\n",
       "      <td>32391374</td>\n",
       "      <td>24891374</td>\n",
       "      <td>...</td>\n",
       "      <td>1</td>\n",
       "      <td>11000</td>\n",
       "      <td>54075</td>\n",
       "      <td>1</td>\n",
       "      <td>40000</td>\n",
       "      <td>43</td>\n",
       "      <td>376600</td>\n",
       "      <td>494</td>\n",
       "      <td>7.7</td>\n",
       "      <td>0</td>\n",
       "    </tr>\n",
       "  </tbody>\n",
       "</table>\n",
       "<p>5 rows × 35 columns</p>\n",
       "</div>"
      ],
      "text/plain": [
       "                 movie_title  duration  color  title_year country language  \\\n",
       "movie_ID                                                                     \n",
       "3777          New Year's Eve       113      1        2011     USA  English   \n",
       "3778           Boogie Nights       155      1        1997     USA  English   \n",
       "3779      Battle of the Year       110      1        2013     USA  English   \n",
       "3780              The Master       144      1        2012     USA  English   \n",
       "3781      500 Days of Summer        95      1        2009     USA  English   \n",
       "\n",
       "         content_rating  budget_USD  gross_USD   net_USD  ...  \\\n",
       "movie_ID                                                  ...   \n",
       "3777              PG-13    56000000   54540525  -1459475  ...   \n",
       "3778                  R    15000000   26384919  11384919  ...   \n",
       "3779              PG-13    20000000    8888355 -11111645  ...   \n",
       "3780                  R    32000000   16377274 -15622726  ...   \n",
       "3781              PG-13     7500000   32391374  24891374  ...   \n",
       "\n",
       "          actor_3_facebook? actor_3_facebook_likes cast_total_facebook_likes  \\\n",
       "movie_ID                                                                       \n",
       "3777                      1                    307                     23456   \n",
       "3778                      1                    170                      3677   \n",
       "3779                      1                    826                      3177   \n",
       "3780                      1                     15                       427   \n",
       "3781                      1                  11000                     54075   \n",
       "\n",
       "          movie_facebook?  movie_facebook_likes; facenumber_in_poster  \\\n",
       "movie_ID                                                                \n",
       "3777                    1                  20000                   15   \n",
       "3778                    0                      0                   15   \n",
       "3779                    0                      0                   19   \n",
       "3780                    1                  27000                   31   \n",
       "3781                    1                  40000                   43   \n",
       "\n",
       "          num_voted_users  num_user_for_reviews  imdb_score imdb_top_250  \n",
       "movie_ID                                                                  \n",
       "3777                66579                   134         5.7            0  \n",
       "3778               189032                   560         7.9            0  \n",
       "3779                 7894                    25         5.0            0  \n",
       "3780               105144                   405         7.1            0  \n",
       "3781               376600                   494         7.7            0  \n",
       "\n",
       "[5 rows x 35 columns]"
      ]
     },
     "metadata": {},
     "output_type": "display_data"
    }
   ],
   "source": [
    "import pandas as pd\n",
    "\n",
    "imdb = pd.read_csv('./IMDB-database-update.csv', encoding='latin1', index_col='movie_ID')\n",
    "\n",
    "display(imdb.head())\n",
    "display(imdb.tail())"
   ]
  },
  {
   "cell_type": "markdown",
   "metadata": {},
   "source": [
    "## How many rows and columns reflected on dataset file IMDB-database-update.csv?"
   ]
  },
  {
   "cell_type": "code",
   "execution_count": 6,
   "metadata": {
    "ExecuteTime": {
     "end_time": "2019-10-23T08:47:49.577000Z",
     "start_time": "2019-10-23T08:47:49.547000Z"
    }
   },
   "outputs": [
    {
     "name": "stdout",
     "output_type": "stream",
     "text": [
      "The dataset have 3781 rows, and 35 columns\n"
     ]
    }
   ],
   "source": [
    "print('The dataset have {} rows, and {} columns'.format(imdb.shape[0],imdb.shape[1]))"
   ]
  },
  {
   "cell_type": "markdown",
   "metadata": {},
   "source": [
    "## What are the top 3 movies with highest nett profit in 2016?"
   ]
  },
  {
   "cell_type": "code",
   "execution_count": 12,
   "metadata": {
    "ExecuteTime": {
     "end_time": "2019-10-23T08:50:43.906000Z",
     "start_time": "2019-10-23T08:50:43.874000Z"
    }
   },
   "outputs": [
    {
     "data": {
      "text/html": [
       "<div>\n",
       "<style scoped>\n",
       "    .dataframe tbody tr th:only-of-type {\n",
       "        vertical-align: middle;\n",
       "    }\n",
       "\n",
       "    .dataframe tbody tr th {\n",
       "        vertical-align: top;\n",
       "    }\n",
       "\n",
       "    .dataframe thead th {\n",
       "        text-align: right;\n",
       "    }\n",
       "</style>\n",
       "<table border=\"1\" class=\"dataframe\">\n",
       "  <thead>\n",
       "    <tr style=\"text-align: right;\">\n",
       "      <th></th>\n",
       "      <th>movie_title</th>\n",
       "      <th>net_USD</th>\n",
       "    </tr>\n",
       "    <tr>\n",
       "      <th>movie_ID</th>\n",
       "      <th></th>\n",
       "      <th></th>\n",
       "    </tr>\n",
       "  </thead>\n",
       "  <tbody>\n",
       "    <tr>\n",
       "      <th>356</th>\n",
       "      <td>Deadpool</td>\n",
       "      <td>305024263</td>\n",
       "    </tr>\n",
       "    <tr>\n",
       "      <th>236</th>\n",
       "      <td>The Secret Life of Pets</td>\n",
       "      <td>248505540</td>\n",
       "    </tr>\n",
       "    <tr>\n",
       "      <th>37</th>\n",
       "      <td>The Jungle Book</td>\n",
       "      <td>187645141</td>\n",
       "    </tr>\n",
       "  </tbody>\n",
       "</table>\n",
       "</div>"
      ],
      "text/plain": [
       "                      movie_title    net_USD\n",
       "movie_ID                                    \n",
       "356                      Deadpool  305024263\n",
       "236       The Secret Life of Pets  248505540\n",
       "37                The Jungle Book  187645141"
      ]
     },
     "metadata": {},
     "output_type": "display_data"
    },
    {
     "name": "stdout",
     "output_type": "stream",
     "text": [
      "The top 3 movies are: \n",
      "['Deadpool', 'The Secret Life of Pets', 'The Jungle Book']\n"
     ]
    }
   ],
   "source": [
    "tmp1 = imdb.loc[imdb['title_year']==2016, ['movie_title','net_USD']].sort_values(by='net_USD', ascending=False)[0:3]\n",
    "display(tmp1)\n",
    "print('The top 3 movies are: \\n{}'.format(tmp1['movie_title'].tolist()))"
   ]
  },
  {
   "cell_type": "markdown",
   "metadata": {},
   "source": [
    "## What are the top 3 movies with highest gross profit in 2017? "
   ]
  },
  {
   "cell_type": "code",
   "execution_count": 15,
   "metadata": {
    "ExecuteTime": {
     "end_time": "2019-10-23T08:52:26.091000Z",
     "start_time": "2019-10-23T08:52:26.059000Z"
    }
   },
   "outputs": [
    {
     "data": {
      "text/html": [
       "<div>\n",
       "<style scoped>\n",
       "    .dataframe tbody tr th:only-of-type {\n",
       "        vertical-align: middle;\n",
       "    }\n",
       "\n",
       "    .dataframe tbody tr th {\n",
       "        vertical-align: top;\n",
       "    }\n",
       "\n",
       "    .dataframe thead th {\n",
       "        text-align: right;\n",
       "    }\n",
       "</style>\n",
       "<table border=\"1\" class=\"dataframe\">\n",
       "  <thead>\n",
       "    <tr style=\"text-align: right;\">\n",
       "      <th></th>\n",
       "      <th>movie_title</th>\n",
       "      <th>gross_USD</th>\n",
       "    </tr>\n",
       "    <tr>\n",
       "      <th>movie_ID</th>\n",
       "      <th></th>\n",
       "      <th></th>\n",
       "    </tr>\n",
       "  </thead>\n",
       "  <tbody>\n",
       "  </tbody>\n",
       "</table>\n",
       "</div>"
      ],
      "text/plain": [
       "Empty DataFrame\n",
       "Columns: [movie_title, gross_USD]\n",
       "Index: []"
      ]
     },
     "metadata": {},
     "output_type": "display_data"
    },
    {
     "name": "stdout",
     "output_type": "stream",
     "text": [
      "\n",
      "Hmmm, something is wrong\n"
     ]
    }
   ],
   "source": [
    "tmp2 = imdb.loc[imdb['title_year']==2017, ['movie_title','gross_USD']].sort_values(by='gross_USD', ascending=False)[0:3]\n",
    "display(tmp2)\n",
    "print('\\nHmmm, something is wrong')"
   ]
  },
  {
   "cell_type": "code",
   "execution_count": 20,
   "metadata": {
    "ExecuteTime": {
     "end_time": "2019-10-23T08:54:11.012000Z",
     "start_time": "2019-10-23T08:54:10.996000Z"
    }
   },
   "outputs": [
    {
     "name": "stdout",
     "output_type": "stream",
     "text": [
      "The highest year in the dataset is: 2016\n"
     ]
    }
   ],
   "source": [
    "print('The highest year in the dataset is: {}'.format(max(imdb['title_year'])))"
   ]
  },
  {
   "cell_type": "markdown",
   "metadata": {},
   "source": [
    "There is no data with title_year == 2017"
   ]
  },
  {
   "cell_type": "markdown",
   "metadata": {},
   "source": [
    "## How many non-english movies are in the dataset? "
   ]
  },
  {
   "cell_type": "code",
   "execution_count": 22,
   "metadata": {
    "ExecuteTime": {
     "end_time": "2019-10-23T08:56:18.765000Z",
     "start_time": "2019-10-23T08:56:18.739000Z"
    }
   },
   "outputs": [
    {
     "name": "stdout",
     "output_type": "stream",
     "text": [
      "There are 153 of non-english movies in the dataset\n"
     ]
    }
   ],
   "source": [
    "tmp3 = imdb.loc[imdb['language']!='English', 'movie_title'].count()\n",
    "print('There are {} of non-english movies in the dataset'.format(tmp3))"
   ]
  },
  {
   "cell_type": "markdown",
   "metadata": {},
   "source": [
    "## What are top 3 languages in the data set aside English (based on number of movies)?"
   ]
  },
  {
   "cell_type": "code",
   "execution_count": 41,
   "metadata": {
    "ExecuteTime": {
     "end_time": "2019-10-23T09:03:08.842000Z",
     "start_time": "2019-10-23T09:03:08.814000Z"
    }
   },
   "outputs": [
    {
     "data": {
      "text/plain": [
       "French      33\n",
       "Spanish     23\n",
       "Mandarin    14\n",
       "Name: language, dtype: int64"
      ]
     },
     "metadata": {},
     "output_type": "display_data"
    },
    {
     "name": "stdout",
     "output_type": "stream",
     "text": [
      "The top 3 languages are:\n",
      "['French', 'Spanish', 'Mandarin']\n"
     ]
    }
   ],
   "source": [
    "tmp4 = imdb.loc[imdb['language']!='English']['language'].value_counts()[:3]\n",
    "display(tmp4)\n",
    "print('The top 3 languages are:\\n{}'.format(tmp4.index.values.tolist()))"
   ]
  },
  {
   "cell_type": "markdown",
   "metadata": {},
   "source": [
    "## What are the top 3 countries with the highest nett profit in all dataset times?"
   ]
  },
  {
   "cell_type": "code",
   "execution_count": 56,
   "metadata": {
    "ExecuteTime": {
     "end_time": "2019-10-23T09:08:04.932000Z",
     "start_time": "2019-10-23T09:08:04.887000Z"
    }
   },
   "outputs": [
    {
     "data": {
      "text/html": [
       "<div>\n",
       "<style scoped>\n",
       "    .dataframe tbody tr th:only-of-type {\n",
       "        vertical-align: middle;\n",
       "    }\n",
       "\n",
       "    .dataframe tbody tr th {\n",
       "        vertical-align: top;\n",
       "    }\n",
       "\n",
       "    .dataframe thead th {\n",
       "        text-align: right;\n",
       "    }\n",
       "</style>\n",
       "<table border=\"1\" class=\"dataframe\">\n",
       "  <thead>\n",
       "    <tr style=\"text-align: right;\">\n",
       "      <th></th>\n",
       "      <th>net_USD</th>\n",
       "    </tr>\n",
       "    <tr>\n",
       "      <th>country</th>\n",
       "      <th></th>\n",
       "    </tr>\n",
       "  </thead>\n",
       "  <tbody>\n",
       "    <tr>\n",
       "      <th>USA</th>\n",
       "      <td>52003933174</td>\n",
       "    </tr>\n",
       "    <tr>\n",
       "      <th>UK</th>\n",
       "      <td>1531614524</td>\n",
       "    </tr>\n",
       "    <tr>\n",
       "      <th>Australia</th>\n",
       "      <td>252571616</td>\n",
       "    </tr>\n",
       "  </tbody>\n",
       "</table>\n",
       "</div>"
      ],
      "text/plain": [
       "               net_USD\n",
       "country               \n",
       "USA        52003933174\n",
       "UK          1531614524\n",
       "Australia    252571616"
      ]
     },
     "metadata": {},
     "output_type": "display_data"
    },
    {
     "name": "stdout",
     "output_type": "stream",
     "text": [
      "The top 3 countries are:\n",
      "['USA', 'UK', 'Australia']\n"
     ]
    }
   ],
   "source": [
    "tmp5 = imdb.groupby(by='country').sum()[['net_USD']].sort_values(by='net_USD', ascending=False)[0:3]\n",
    "display(tmp5)\n",
    "print('The top 3 countries are:\\n{}'.format(tmp5.index.values.tolist()))"
   ]
  },
  {
   "cell_type": "markdown",
   "metadata": {},
   "source": [
    "## What are the average budget of all movies in dataset in 2016?"
   ]
  },
  {
   "cell_type": "code",
   "execution_count": 67,
   "metadata": {
    "ExecuteTime": {
     "end_time": "2019-10-23T09:13:07.998000Z",
     "start_time": "2019-10-23T09:13:07.968000Z"
    }
   },
   "outputs": [
    {
     "name": "stdout",
     "output_type": "stream",
     "text": [
      "The average budget is: 69225757.58\n"
     ]
    }
   ],
   "source": [
    "avg_bud_2016 = imdb.loc[imdb['title_year']==2016][['budget_USD']].mean()[0]\n",
    "print('The average budget is: {:.2f}'.format(avg_bud_2016))"
   ]
  },
  {
   "cell_type": "markdown",
   "metadata": {},
   "source": [
    "## What are the average budget of all movies in dataset in 2017? "
   ]
  },
  {
   "cell_type": "code",
   "execution_count": 66,
   "metadata": {
    "ExecuteTime": {
     "end_time": "2019-10-23T09:12:42.847000Z",
     "start_time": "2019-10-23T09:12:42.821000Z"
    }
   },
   "outputs": [
    {
     "name": "stdout",
     "output_type": "stream",
     "text": [
      "The average budget is: nan\n"
     ]
    }
   ],
   "source": [
    "avg_bud_2017 = imdb.loc[imdb['title_year']==2017][['budget_USD']].mean()[0]\n",
    "print('The average budget is: {:.2f}'.format(avg_bud_2017))"
   ]
  },
  {
   "cell_type": "markdown",
   "metadata": {},
   "source": [
    "Same reason as problem 3, there is no data in 2017"
   ]
  },
  {
   "cell_type": "markdown",
   "metadata": {},
   "source": [
    "## Which one is higher, average budget of all movies in dataset in 2016 or 2017?"
   ]
  },
  {
   "cell_type": "code",
   "execution_count": 68,
   "metadata": {
    "ExecuteTime": {
     "end_time": "2019-10-23T09:14:46.607000Z",
     "start_time": "2019-10-23T09:14:46.591000Z"
    }
   },
   "outputs": [
    {
     "name": "stdout",
     "output_type": "stream",
     "text": [
      "2016 average budget is higher than 2017\n"
     ]
    }
   ],
   "source": [
    "if avg_bud_2016 > avg_bud_2017: print('2016 average budget is higher than 2017')\n",
    "else: print('2016 average budget is higher than 2017')"
   ]
  },
  {
   "cell_type": "markdown",
   "metadata": {},
   "source": [
    "## What movie that resulted highest nett profit of all dataset times? How much did the movie make?"
   ]
  },
  {
   "cell_type": "code",
   "execution_count": 72,
   "metadata": {
    "ExecuteTime": {
     "end_time": "2019-10-23T09:17:02.642000Z",
     "start_time": "2019-10-23T09:17:02.622000Z"
    }
   },
   "outputs": [
    {
     "data": {
      "text/html": [
       "<div>\n",
       "<style scoped>\n",
       "    .dataframe tbody tr th:only-of-type {\n",
       "        vertical-align: middle;\n",
       "    }\n",
       "\n",
       "    .dataframe tbody tr th {\n",
       "        vertical-align: top;\n",
       "    }\n",
       "\n",
       "    .dataframe thead th {\n",
       "        text-align: right;\n",
       "    }\n",
       "</style>\n",
       "<table border=\"1\" class=\"dataframe\">\n",
       "  <thead>\n",
       "    <tr style=\"text-align: right;\">\n",
       "      <th></th>\n",
       "      <th>movie_title</th>\n",
       "      <th>net_USD</th>\n",
       "    </tr>\n",
       "    <tr>\n",
       "      <th>movie_ID</th>\n",
       "      <th></th>\n",
       "      <th></th>\n",
       "    </tr>\n",
       "  </thead>\n",
       "  <tbody>\n",
       "    <tr>\n",
       "      <th>1</th>\n",
       "      <td>Avatar</td>\n",
       "      <td>523505847</td>\n",
       "    </tr>\n",
       "  </tbody>\n",
       "</table>\n",
       "</div>"
      ],
      "text/plain": [
       "         movie_title    net_USD\n",
       "movie_ID                       \n",
       "1             Avatar  523505847"
      ]
     },
     "metadata": {},
     "output_type": "display_data"
    },
    {
     "name": "stdout",
     "output_type": "stream",
     "text": [
      "The movie that resulted highest nett profit is: ['Avatar']\n"
     ]
    }
   ],
   "source": [
    "tmp6 = imdb.sort_values(by='net_USD',ascending=False)[['movie_title', 'net_USD']][0:1]\n",
    "display(tmp6)\n",
    "print('The movie that resulted highest nett profit is: {}'.format(tmp6['movie_title'].tolist()))"
   ]
  },
  {
   "cell_type": "markdown",
   "metadata": {},
   "source": [
    "***"
   ]
  },
  {
   "cell_type": "markdown",
   "metadata": {},
   "source": [
    "Use Case: High Rating Movies Criteria"
   ]
  },
  {
   "cell_type": "markdown",
   "metadata": {},
   "source": [
    "Masking the index data based on their score"
   ]
  },
  {
   "cell_type": "code",
   "execution_count": 73,
   "metadata": {
    "ExecuteTime": {
     "end_time": "2019-10-23T09:20:35.115000Z",
     "start_time": "2019-10-23T09:20:35.104000Z"
    }
   },
   "outputs": [],
   "source": [
    "high_rated = imdb['imdb_score']> 7.5\n",
    "low_rated = imdb['imdb_score']<=7.5"
   ]
  },
  {
   "cell_type": "markdown",
   "metadata": {},
   "source": [
    "Using the `corr` function we can get the correlation values from each features"
   ]
  },
  {
   "cell_type": "code",
   "execution_count": 81,
   "metadata": {
    "ExecuteTime": {
     "end_time": "2019-10-23T09:26:33.463000Z",
     "start_time": "2019-10-23T09:26:33.429000Z"
    }
   },
   "outputs": [
    {
     "data": {
      "text/plain": [
       "imdb_score                   1.000000\n",
       "num_voted_users              0.675634\n",
       "num_user_for_reviews         0.476970\n",
       "movie_facebook?              0.305574\n",
       "duration                     0.260806\n",
       "movie_facebook_likes;        0.255836\n",
       "director_facebook_likes      0.240776\n",
       "gross_USD                    0.207790\n",
       "actor_3_facebook_likes       0.158614\n",
       "actor_top20?.2               0.142728\n",
       "cast_total_facebook_likes    0.128971\n",
       "actor_2_facebook_likes       0.096369\n",
       "actor_1_facebook_likes       0.091108\n",
       "profitable                   0.089360\n",
       "actor_top20?                 0.082246\n",
       "net_USD                      0.074719\n",
       "actor_top20?.1               0.069040\n",
       "budget_USD                   0.025142\n",
       "actor_3_facebook?           -0.001405\n",
       "actor_2_facebook?           -0.018154\n",
       "facenumber_in_poster        -0.018754\n",
       "director_facebook?          -0.111492\n",
       "color                       -0.112406\n",
       "title_year                  -0.199376\n",
       "actor_1_facebook?                 NaN\n",
       "Name: imdb_score, dtype: float64"
      ]
     },
     "metadata": {},
     "output_type": "display_data"
    }
   ],
   "source": [
    "tmp7 = imdb[high_rated][imdb.columns[1:-1]].corr()['imdb_score'][:].sort_values(ascending=False)\n",
    "display(tmp7)"
   ]
  },
  {
   "cell_type": "markdown",
   "metadata": {},
   "source": [
    "from above result we can get the 5 - 10 top result"
   ]
  },
  {
   "cell_type": "code",
   "execution_count": 86,
   "metadata": {
    "ExecuteTime": {
     "end_time": "2019-10-23T09:28:38.204000Z",
     "start_time": "2019-10-23T09:28:38.181000Z"
    }
   },
   "outputs": [
    {
     "name": "stdout",
     "output_type": "stream",
     "text": [
      "Top 5 variables to analyze:\n",
      "['num_voted_users', 'num_user_for_reviews', 'movie_facebook?', 'duration', 'movie_facebook_likes;']\n"
     ]
    }
   ],
   "source": [
    "tmp8 = tmp7.index.values.tolist()[1:6]\n",
    "print('Top 5 variables to analyze:\\n{}'.format(tmp8))"
   ]
  },
  {
   "cell_type": "code",
   "execution_count": 97,
   "metadata": {
    "ExecuteTime": {
     "end_time": "2019-10-23T09:39:10.934000Z",
     "start_time": "2019-10-23T09:39:10.858000Z"
    },
    "scrolled": false
   },
   "outputs": [
    {
     "data": {
      "text/html": [
       "<div>\n",
       "<style scoped>\n",
       "    .dataframe tbody tr th:only-of-type {\n",
       "        vertical-align: middle;\n",
       "    }\n",
       "\n",
       "    .dataframe tbody tr th {\n",
       "        vertical-align: top;\n",
       "    }\n",
       "\n",
       "    .dataframe thead th {\n",
       "        text-align: right;\n",
       "    }\n",
       "</style>\n",
       "<table border=\"1\" class=\"dataframe\">\n",
       "  <thead>\n",
       "    <tr style=\"text-align: right;\">\n",
       "      <th></th>\n",
       "      <th>num_voted_users</th>\n",
       "      <th>num_user_for_reviews</th>\n",
       "      <th>movie_facebook?</th>\n",
       "      <th>duration</th>\n",
       "      <th>movie_facebook_likes;</th>\n",
       "    </tr>\n",
       "  </thead>\n",
       "  <tbody>\n",
       "    <tr>\n",
       "      <th>count</th>\n",
       "      <td>5.340000e+02</td>\n",
       "      <td>534.000000</td>\n",
       "      <td>534.000000</td>\n",
       "      <td>534.000000</td>\n",
       "      <td>534.000000</td>\n",
       "    </tr>\n",
       "    <tr>\n",
       "      <th>mean</th>\n",
       "      <td>2.970237e+05</td>\n",
       "      <td>694.608614</td>\n",
       "      <td>0.664794</td>\n",
       "      <td>125.621723</td>\n",
       "      <td>24948.932584</td>\n",
       "    </tr>\n",
       "    <tr>\n",
       "      <th>std</th>\n",
       "      <td>2.761334e+05</td>\n",
       "      <td>655.144627</td>\n",
       "      <td>0.472505</td>\n",
       "      <td>31.474508</td>\n",
       "      <td>37593.279978</td>\n",
       "    </tr>\n",
       "    <tr>\n",
       "      <th>min</th>\n",
       "      <td>5.780000e+02</td>\n",
       "      <td>9.000000</td>\n",
       "      <td>0.000000</td>\n",
       "      <td>37.000000</td>\n",
       "      <td>0.000000</td>\n",
       "    </tr>\n",
       "    <tr>\n",
       "      <th>25%</th>\n",
       "      <td>9.305925e+04</td>\n",
       "      <td>281.000000</td>\n",
       "      <td>0.000000</td>\n",
       "      <td>105.000000</td>\n",
       "      <td>0.000000</td>\n",
       "    </tr>\n",
       "    <tr>\n",
       "      <th>50%</th>\n",
       "      <td>2.213400e+05</td>\n",
       "      <td>514.000000</td>\n",
       "      <td>1.000000</td>\n",
       "      <td>121.000000</td>\n",
       "      <td>13000.000000</td>\n",
       "    </tr>\n",
       "    <tr>\n",
       "      <th>75%</th>\n",
       "      <td>4.137778e+05</td>\n",
       "      <td>870.000000</td>\n",
       "      <td>1.000000</td>\n",
       "      <td>139.000000</td>\n",
       "      <td>31000.000000</td>\n",
       "    </tr>\n",
       "    <tr>\n",
       "      <th>max</th>\n",
       "      <td>1.689764e+06</td>\n",
       "      <td>5060.000000</td>\n",
       "      <td>1.000000</td>\n",
       "      <td>293.000000</td>\n",
       "      <td>349000.000000</td>\n",
       "    </tr>\n",
       "  </tbody>\n",
       "</table>\n",
       "</div>"
      ],
      "text/plain": [
       "       num_voted_users  num_user_for_reviews  movie_facebook?    duration  \\\n",
       "count     5.340000e+02            534.000000       534.000000  534.000000   \n",
       "mean      2.970237e+05            694.608614         0.664794  125.621723   \n",
       "std       2.761334e+05            655.144627         0.472505   31.474508   \n",
       "min       5.780000e+02              9.000000         0.000000   37.000000   \n",
       "25%       9.305925e+04            281.000000         0.000000  105.000000   \n",
       "50%       2.213400e+05            514.000000         1.000000  121.000000   \n",
       "75%       4.137778e+05            870.000000         1.000000  139.000000   \n",
       "max       1.689764e+06           5060.000000         1.000000  293.000000   \n",
       "\n",
       "       movie_facebook_likes;  \n",
       "count             534.000000  \n",
       "mean            24948.932584  \n",
       "std             37593.279978  \n",
       "min                 0.000000  \n",
       "25%                 0.000000  \n",
       "50%             13000.000000  \n",
       "75%             31000.000000  \n",
       "max            349000.000000  "
      ]
     },
     "metadata": {},
     "output_type": "display_data"
    },
    {
     "data": {
      "text/html": [
       "<div>\n",
       "<style scoped>\n",
       "    .dataframe tbody tr th:only-of-type {\n",
       "        vertical-align: middle;\n",
       "    }\n",
       "\n",
       "    .dataframe tbody tr th {\n",
       "        vertical-align: top;\n",
       "    }\n",
       "\n",
       "    .dataframe thead th {\n",
       "        text-align: right;\n",
       "    }\n",
       "</style>\n",
       "<table border=\"1\" class=\"dataframe\">\n",
       "  <thead>\n",
       "    <tr style=\"text-align: right;\">\n",
       "      <th></th>\n",
       "      <th>num_voted_users</th>\n",
       "      <th>num_user_for_reviews</th>\n",
       "      <th>movie_facebook?</th>\n",
       "      <th>duration</th>\n",
       "      <th>movie_facebook_likes;</th>\n",
       "    </tr>\n",
       "  </thead>\n",
       "  <tbody>\n",
       "    <tr>\n",
       "      <th>count</th>\n",
       "      <td>3247.000000</td>\n",
       "      <td>3247.00000</td>\n",
       "      <td>3247.000000</td>\n",
       "      <td>3247.000000</td>\n",
       "      <td>3247.000000</td>\n",
       "    </tr>\n",
       "    <tr>\n",
       "      <th>mean</th>\n",
       "      <td>72233.044041</td>\n",
       "      <td>272.20542</td>\n",
       "      <td>0.518325</td>\n",
       "      <td>107.372960</td>\n",
       "      <td>6684.635048</td>\n",
       "    </tr>\n",
       "    <tr>\n",
       "      <th>std</th>\n",
       "      <td>83780.202278</td>\n",
       "      <td>316.50674</td>\n",
       "      <td>0.499741</td>\n",
       "      <td>19.218427</td>\n",
       "      <td>15938.019189</td>\n",
       "    </tr>\n",
       "    <tr>\n",
       "      <th>min</th>\n",
       "      <td>22.000000</td>\n",
       "      <td>1.00000</td>\n",
       "      <td>0.000000</td>\n",
       "      <td>45.000000</td>\n",
       "      <td>0.000000</td>\n",
       "    </tr>\n",
       "    <tr>\n",
       "      <th>25%</th>\n",
       "      <td>15549.500000</td>\n",
       "      <td>97.00000</td>\n",
       "      <td>0.000000</td>\n",
       "      <td>95.000000</td>\n",
       "      <td>0.000000</td>\n",
       "    </tr>\n",
       "    <tr>\n",
       "      <th>50%</th>\n",
       "      <td>43376.000000</td>\n",
       "      <td>181.00000</td>\n",
       "      <td>1.000000</td>\n",
       "      <td>104.000000</td>\n",
       "      <td>117.000000</td>\n",
       "    </tr>\n",
       "    <tr>\n",
       "      <th>75%</th>\n",
       "      <td>94459.500000</td>\n",
       "      <td>326.00000</td>\n",
       "      <td>1.000000</td>\n",
       "      <td>116.000000</td>\n",
       "      <td>2500.000000</td>\n",
       "    </tr>\n",
       "    <tr>\n",
       "      <th>max</th>\n",
       "      <td>701607.000000</td>\n",
       "      <td>3597.00000</td>\n",
       "      <td>1.000000</td>\n",
       "      <td>325.000000</td>\n",
       "      <td>197000.000000</td>\n",
       "    </tr>\n",
       "  </tbody>\n",
       "</table>\n",
       "</div>"
      ],
      "text/plain": [
       "       num_voted_users  num_user_for_reviews  movie_facebook?     duration  \\\n",
       "count      3247.000000            3247.00000      3247.000000  3247.000000   \n",
       "mean      72233.044041             272.20542         0.518325   107.372960   \n",
       "std       83780.202278             316.50674         0.499741    19.218427   \n",
       "min          22.000000               1.00000         0.000000    45.000000   \n",
       "25%       15549.500000              97.00000         0.000000    95.000000   \n",
       "50%       43376.000000             181.00000         1.000000   104.000000   \n",
       "75%       94459.500000             326.00000         1.000000   116.000000   \n",
       "max      701607.000000            3597.00000         1.000000   325.000000   \n",
       "\n",
       "       movie_facebook_likes;  \n",
       "count            3247.000000  \n",
       "mean             6684.635048  \n",
       "std             15938.019189  \n",
       "min                 0.000000  \n",
       "25%                 0.000000  \n",
       "50%               117.000000  \n",
       "75%              2500.000000  \n",
       "max            197000.000000  "
      ]
     },
     "metadata": {},
     "output_type": "display_data"
    }
   ],
   "source": [
    "display(imdb[high_rated][tmp8].describe())\n",
    "display(imdb[low_rated][tmp8].describe())"
   ]
  },
  {
   "cell_type": "markdown",
   "metadata": {},
   "source": [
    "From above results we can see that higher rated movies tend to have more num_voted_users, num_user_for_reviews, and movie_facebook_likes"
   ]
  },
  {
   "cell_type": "code",
   "execution_count": 98,
   "metadata": {
    "ExecuteTime": {
     "end_time": "2019-10-23T09:39:49.653000Z",
     "start_time": "2019-10-23T09:39:49.637000Z"
    }
   },
   "outputs": [
    {
     "name": "stdout",
     "output_type": "stream",
     "text": [
      "Top 10 variables to analyze:\n",
      "['num_voted_users', 'num_user_for_reviews', 'movie_facebook?', 'duration', 'movie_facebook_likes;']\n"
     ]
    }
   ],
   "source": [
    "tmp9 = tmp7.index.values.tolist()[1:11]\n",
    "print('Top 10 variables to analyze:\\n{}'.format(tmp8))"
   ]
  },
  {
   "cell_type": "code",
   "execution_count": 99,
   "metadata": {
    "ExecuteTime": {
     "end_time": "2019-10-23T09:40:03.414000Z",
     "start_time": "2019-10-23T09:40:03.289000Z"
    }
   },
   "outputs": [
    {
     "data": {
      "text/html": [
       "<div>\n",
       "<style scoped>\n",
       "    .dataframe tbody tr th:only-of-type {\n",
       "        vertical-align: middle;\n",
       "    }\n",
       "\n",
       "    .dataframe tbody tr th {\n",
       "        vertical-align: top;\n",
       "    }\n",
       "\n",
       "    .dataframe thead th {\n",
       "        text-align: right;\n",
       "    }\n",
       "</style>\n",
       "<table border=\"1\" class=\"dataframe\">\n",
       "  <thead>\n",
       "    <tr style=\"text-align: right;\">\n",
       "      <th></th>\n",
       "      <th>num_voted_users</th>\n",
       "      <th>num_user_for_reviews</th>\n",
       "      <th>movie_facebook?</th>\n",
       "      <th>duration</th>\n",
       "      <th>movie_facebook_likes;</th>\n",
       "      <th>director_facebook_likes</th>\n",
       "      <th>gross_USD</th>\n",
       "      <th>actor_3_facebook_likes</th>\n",
       "      <th>actor_top20?.2</th>\n",
       "      <th>cast_total_facebook_likes</th>\n",
       "    </tr>\n",
       "  </thead>\n",
       "  <tbody>\n",
       "    <tr>\n",
       "      <th>count</th>\n",
       "      <td>5.340000e+02</td>\n",
       "      <td>534.000000</td>\n",
       "      <td>534.000000</td>\n",
       "      <td>534.000000</td>\n",
       "      <td>534.000000</td>\n",
       "      <td>534.000000</td>\n",
       "      <td>5.340000e+02</td>\n",
       "      <td>534.000000</td>\n",
       "      <td>534.000000</td>\n",
       "      <td>534.000000</td>\n",
       "    </tr>\n",
       "    <tr>\n",
       "      <th>mean</th>\n",
       "      <td>2.970237e+05</td>\n",
       "      <td>694.608614</td>\n",
       "      <td>0.664794</td>\n",
       "      <td>125.621723</td>\n",
       "      <td>24948.932584</td>\n",
       "      <td>2205.614232</td>\n",
       "      <td>8.558745e+07</td>\n",
       "      <td>994.825843</td>\n",
       "      <td>0.014981</td>\n",
       "      <td>13603.840824</td>\n",
       "    </tr>\n",
       "    <tr>\n",
       "      <th>std</th>\n",
       "      <td>2.761334e+05</td>\n",
       "      <td>655.144627</td>\n",
       "      <td>0.472505</td>\n",
       "      <td>31.474508</td>\n",
       "      <td>37593.279978</td>\n",
       "      <td>5330.116199</td>\n",
       "      <td>1.098360e+08</td>\n",
       "      <td>2781.370000</td>\n",
       "      <td>0.121592</td>\n",
       "      <td>16830.847573</td>\n",
       "    </tr>\n",
       "    <tr>\n",
       "      <th>min</th>\n",
       "      <td>5.780000e+02</td>\n",
       "      <td>9.000000</td>\n",
       "      <td>0.000000</td>\n",
       "      <td>37.000000</td>\n",
       "      <td>0.000000</td>\n",
       "      <td>0.000000</td>\n",
       "      <td>1.111000e+03</td>\n",
       "      <td>0.000000</td>\n",
       "      <td>0.000000</td>\n",
       "      <td>2.000000</td>\n",
       "    </tr>\n",
       "    <tr>\n",
       "      <th>25%</th>\n",
       "      <td>9.305925e+04</td>\n",
       "      <td>281.000000</td>\n",
       "      <td>0.000000</td>\n",
       "      <td>105.000000</td>\n",
       "      <td>0.000000</td>\n",
       "      <td>0.000000</td>\n",
       "      <td>1.132178e+07</td>\n",
       "      <td>114.750000</td>\n",
       "      <td>0.000000</td>\n",
       "      <td>1510.500000</td>\n",
       "    </tr>\n",
       "    <tr>\n",
       "      <th>50%</th>\n",
       "      <td>2.213400e+05</td>\n",
       "      <td>514.000000</td>\n",
       "      <td>1.000000</td>\n",
       "      <td>121.000000</td>\n",
       "      <td>13000.000000</td>\n",
       "      <td>132.500000</td>\n",
       "      <td>4.317500e+07</td>\n",
       "      <td>402.000000</td>\n",
       "      <td>0.000000</td>\n",
       "      <td>5088.500000</td>\n",
       "    </tr>\n",
       "    <tr>\n",
       "      <th>75%</th>\n",
       "      <td>4.137778e+05</td>\n",
       "      <td>870.000000</td>\n",
       "      <td>1.000000</td>\n",
       "      <td>139.000000</td>\n",
       "      <td>31000.000000</td>\n",
       "      <td>569.000000</td>\n",
       "      <td>1.202719e+08</td>\n",
       "      <td>669.750000</td>\n",
       "      <td>0.000000</td>\n",
       "      <td>20390.250000</td>\n",
       "    </tr>\n",
       "    <tr>\n",
       "      <th>max</th>\n",
       "      <td>1.689764e+06</td>\n",
       "      <td>5060.000000</td>\n",
       "      <td>1.000000</td>\n",
       "      <td>293.000000</td>\n",
       "      <td>349000.000000</td>\n",
       "      <td>22000.000000</td>\n",
       "      <td>7.605058e+08</td>\n",
       "      <td>23000.000000</td>\n",
       "      <td>1.000000</td>\n",
       "      <td>106759.000000</td>\n",
       "    </tr>\n",
       "  </tbody>\n",
       "</table>\n",
       "</div>"
      ],
      "text/plain": [
       "       num_voted_users  num_user_for_reviews  movie_facebook?    duration  \\\n",
       "count     5.340000e+02            534.000000       534.000000  534.000000   \n",
       "mean      2.970237e+05            694.608614         0.664794  125.621723   \n",
       "std       2.761334e+05            655.144627         0.472505   31.474508   \n",
       "min       5.780000e+02              9.000000         0.000000   37.000000   \n",
       "25%       9.305925e+04            281.000000         0.000000  105.000000   \n",
       "50%       2.213400e+05            514.000000         1.000000  121.000000   \n",
       "75%       4.137778e+05            870.000000         1.000000  139.000000   \n",
       "max       1.689764e+06           5060.000000         1.000000  293.000000   \n",
       "\n",
       "       movie_facebook_likes;  director_facebook_likes     gross_USD  \\\n",
       "count             534.000000               534.000000  5.340000e+02   \n",
       "mean            24948.932584              2205.614232  8.558745e+07   \n",
       "std             37593.279978              5330.116199  1.098360e+08   \n",
       "min                 0.000000                 0.000000  1.111000e+03   \n",
       "25%                 0.000000                 0.000000  1.132178e+07   \n",
       "50%             13000.000000               132.500000  4.317500e+07   \n",
       "75%             31000.000000               569.000000  1.202719e+08   \n",
       "max            349000.000000             22000.000000  7.605058e+08   \n",
       "\n",
       "       actor_3_facebook_likes  actor_top20?.2  cast_total_facebook_likes  \n",
       "count              534.000000      534.000000                 534.000000  \n",
       "mean               994.825843        0.014981               13603.840824  \n",
       "std               2781.370000        0.121592               16830.847573  \n",
       "min                  0.000000        0.000000                   2.000000  \n",
       "25%                114.750000        0.000000                1510.500000  \n",
       "50%                402.000000        0.000000                5088.500000  \n",
       "75%                669.750000        0.000000               20390.250000  \n",
       "max              23000.000000        1.000000              106759.000000  "
      ]
     },
     "metadata": {},
     "output_type": "display_data"
    },
    {
     "data": {
      "text/html": [
       "<div>\n",
       "<style scoped>\n",
       "    .dataframe tbody tr th:only-of-type {\n",
       "        vertical-align: middle;\n",
       "    }\n",
       "\n",
       "    .dataframe tbody tr th {\n",
       "        vertical-align: top;\n",
       "    }\n",
       "\n",
       "    .dataframe thead th {\n",
       "        text-align: right;\n",
       "    }\n",
       "</style>\n",
       "<table border=\"1\" class=\"dataframe\">\n",
       "  <thead>\n",
       "    <tr style=\"text-align: right;\">\n",
       "      <th></th>\n",
       "      <th>num_voted_users</th>\n",
       "      <th>num_user_for_reviews</th>\n",
       "      <th>movie_facebook?</th>\n",
       "      <th>duration</th>\n",
       "      <th>movie_facebook_likes;</th>\n",
       "      <th>director_facebook_likes</th>\n",
       "      <th>gross_USD</th>\n",
       "      <th>actor_3_facebook_likes</th>\n",
       "      <th>actor_top20?.2</th>\n",
       "      <th>cast_total_facebook_likes</th>\n",
       "    </tr>\n",
       "  </thead>\n",
       "  <tbody>\n",
       "    <tr>\n",
       "      <th>count</th>\n",
       "      <td>3247.000000</td>\n",
       "      <td>3247.00000</td>\n",
       "      <td>3247.000000</td>\n",
       "      <td>3247.000000</td>\n",
       "      <td>3247.000000</td>\n",
       "      <td>3247.000000</td>\n",
       "      <td>3.247000e+03</td>\n",
       "      <td>3247.000000</td>\n",
       "      <td>3247.000000</td>\n",
       "      <td>3247.000000</td>\n",
       "    </tr>\n",
       "    <tr>\n",
       "      <th>mean</th>\n",
       "      <td>72233.044041</td>\n",
       "      <td>272.20542</td>\n",
       "      <td>0.518325</td>\n",
       "      <td>107.372960</td>\n",
       "      <td>6684.635048</td>\n",
       "      <td>570.708962</td>\n",
       "      <td>4.626664e+07</td>\n",
       "      <td>726.427164</td>\n",
       "      <td>0.003696</td>\n",
       "      <td>11057.744071</td>\n",
       "    </tr>\n",
       "    <tr>\n",
       "      <th>std</th>\n",
       "      <td>83780.202278</td>\n",
       "      <td>316.50674</td>\n",
       "      <td>0.499741</td>\n",
       "      <td>19.218427</td>\n",
       "      <td>15938.019189</td>\n",
       "      <td>2419.200012</td>\n",
       "      <td>5.926974e+07</td>\n",
       "      <td>1691.358255</td>\n",
       "      <td>0.060689</td>\n",
       "      <td>19393.684921</td>\n",
       "    </tr>\n",
       "    <tr>\n",
       "      <th>min</th>\n",
       "      <td>22.000000</td>\n",
       "      <td>1.00000</td>\n",
       "      <td>0.000000</td>\n",
       "      <td>45.000000</td>\n",
       "      <td>0.000000</td>\n",
       "      <td>0.000000</td>\n",
       "      <td>1.620000e+02</td>\n",
       "      <td>0.000000</td>\n",
       "      <td>0.000000</td>\n",
       "      <td>0.000000</td>\n",
       "    </tr>\n",
       "    <tr>\n",
       "      <th>25%</th>\n",
       "      <td>15549.500000</td>\n",
       "      <td>97.00000</td>\n",
       "      <td>0.000000</td>\n",
       "      <td>95.000000</td>\n",
       "      <td>0.000000</td>\n",
       "      <td>12.000000</td>\n",
       "      <td>7.158040e+06</td>\n",
       "      <td>202.000000</td>\n",
       "      <td>0.000000</td>\n",
       "      <td>1943.500000</td>\n",
       "    </tr>\n",
       "    <tr>\n",
       "      <th>50%</th>\n",
       "      <td>43376.000000</td>\n",
       "      <td>181.00000</td>\n",
       "      <td>1.000000</td>\n",
       "      <td>104.000000</td>\n",
       "      <td>117.000000</td>\n",
       "      <td>56.000000</td>\n",
       "      <td>2.714196e+07</td>\n",
       "      <td>434.000000</td>\n",
       "      <td>0.000000</td>\n",
       "      <td>3889.000000</td>\n",
       "    </tr>\n",
       "    <tr>\n",
       "      <th>75%</th>\n",
       "      <td>94459.500000</td>\n",
       "      <td>326.00000</td>\n",
       "      <td>1.000000</td>\n",
       "      <td>116.000000</td>\n",
       "      <td>2500.000000</td>\n",
       "      <td>199.500000</td>\n",
       "      <td>6.110391e+07</td>\n",
       "      <td>691.000000</td>\n",
       "      <td>0.000000</td>\n",
       "      <td>15648.000000</td>\n",
       "    </tr>\n",
       "    <tr>\n",
       "      <th>max</th>\n",
       "      <td>701607.000000</td>\n",
       "      <td>3597.00000</td>\n",
       "      <td>1.000000</td>\n",
       "      <td>325.000000</td>\n",
       "      <td>197000.000000</td>\n",
       "      <td>23000.000000</td>\n",
       "      <td>6.521773e+08</td>\n",
       "      <td>19000.000000</td>\n",
       "      <td>1.000000</td>\n",
       "      <td>656730.000000</td>\n",
       "    </tr>\n",
       "  </tbody>\n",
       "</table>\n",
       "</div>"
      ],
      "text/plain": [
       "       num_voted_users  num_user_for_reviews  movie_facebook?     duration  \\\n",
       "count      3247.000000            3247.00000      3247.000000  3247.000000   \n",
       "mean      72233.044041             272.20542         0.518325   107.372960   \n",
       "std       83780.202278             316.50674         0.499741    19.218427   \n",
       "min          22.000000               1.00000         0.000000    45.000000   \n",
       "25%       15549.500000              97.00000         0.000000    95.000000   \n",
       "50%       43376.000000             181.00000         1.000000   104.000000   \n",
       "75%       94459.500000             326.00000         1.000000   116.000000   \n",
       "max      701607.000000            3597.00000         1.000000   325.000000   \n",
       "\n",
       "       movie_facebook_likes;  director_facebook_likes     gross_USD  \\\n",
       "count            3247.000000              3247.000000  3.247000e+03   \n",
       "mean             6684.635048               570.708962  4.626664e+07   \n",
       "std             15938.019189              2419.200012  5.926974e+07   \n",
       "min                 0.000000                 0.000000  1.620000e+02   \n",
       "25%                 0.000000                12.000000  7.158040e+06   \n",
       "50%               117.000000                56.000000  2.714196e+07   \n",
       "75%              2500.000000               199.500000  6.110391e+07   \n",
       "max            197000.000000             23000.000000  6.521773e+08   \n",
       "\n",
       "       actor_3_facebook_likes  actor_top20?.2  cast_total_facebook_likes  \n",
       "count             3247.000000     3247.000000                3247.000000  \n",
       "mean               726.427164        0.003696               11057.744071  \n",
       "std               1691.358255        0.060689               19393.684921  \n",
       "min                  0.000000        0.000000                   0.000000  \n",
       "25%                202.000000        0.000000                1943.500000  \n",
       "50%                434.000000        0.000000                3889.000000  \n",
       "75%                691.000000        0.000000               15648.000000  \n",
       "max              19000.000000        1.000000              656730.000000  "
      ]
     },
     "metadata": {},
     "output_type": "display_data"
    }
   ],
   "source": [
    "display(imdb[high_rated][tmp9].describe())\n",
    "display(imdb[low_rated][tmp9].describe())"
   ]
  },
  {
   "cell_type": "markdown",
   "metadata": {},
   "source": [
    "From above results we can see that higher rated movies tend to have more likes, make more money, and top actor"
   ]
  }
 ],
 "metadata": {
  "kernelspec": {
   "display_name": "Python 3",
   "language": "python",
   "name": "python3"
  },
  "language_info": {
   "codemirror_mode": {
    "name": "ipython",
    "version": 3
   },
   "file_extension": ".py",
   "mimetype": "text/x-python",
   "name": "python",
   "nbconvert_exporter": "python",
   "pygments_lexer": "ipython3",
   "version": "3.7.3"
  },
  "latex_envs": {
   "LaTeX_envs_menu_present": true,
   "autoclose": false,
   "autocomplete": true,
   "bibliofile": "biblio.bib",
   "cite_by": "apalike",
   "current_citInitial": 1,
   "eqLabelWithNumbers": true,
   "eqNumInitial": 1,
   "hotkeys": {
    "equation": "Ctrl-E",
    "itemize": "Ctrl-I"
   },
   "labels_anchors": false,
   "latex_user_defs": false,
   "report_style_numbering": false,
   "user_envs_cfg": false
  },
  "toc": {
   "base_numbering": 1,
   "nav_menu": {},
   "number_sections": true,
   "sideBar": true,
   "skip_h1_title": false,
   "title_cell": "Table of Contents",
   "title_sidebar": "Contents",
   "toc_cell": false,
   "toc_position": {},
   "toc_section_display": true,
   "toc_window_display": false
  }
 },
 "nbformat": 4,
 "nbformat_minor": 2
}
