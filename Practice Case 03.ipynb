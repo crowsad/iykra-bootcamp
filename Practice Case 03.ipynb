{
 "cells": [
  {
   "cell_type": "markdown",
   "metadata": {},
   "source": [
    "# Sentiment Analysis on Comments Data from Hacker News Website"
   ]
  },
  {
   "cell_type": "markdown",
   "metadata": {},
   "source": [
    "**Import the libraries and get the data**"
   ]
  },
  {
   "cell_type": "code",
   "execution_count": 125,
   "metadata": {
    "ExecuteTime": {
     "end_time": "2019-10-31T09:49:03.282000Z",
     "start_time": "2019-10-31T09:49:02.442000Z"
    }
   },
   "outputs": [
    {
     "name": "stdout",
     "output_type": "stream",
     "text": [
      "<html op=\"newcomments\"><head><meta name=\"referrer\" content=\"origin\"><meta name=\"viewport\" content=\"width=device-width, initial-scale=1.0\"><link rel=\"stylesheet\" type=\"text/css\" href=\"news.css?tThICE41XKkC2yDxMVKx\">\n",
      "            <link rel=\"shortcut icon\" href=\"favicon.ico\">\n",
      "        <title>New Comments | Hacker News</title></head><body><center><table id=\"hnmain\" border=\"0\" cellpadding=\"0\" cellspacing=\"0\" width=\"85%\" bgcolor=\"#f6f6ef\">\n",
      "        <tr><td bgcolor=\"#ff6600\"><table border=\"0\" cellpadding=\"0\" cellspacing=\"0\" width=\"100%\" style=\"padding:2px\"><tr><td style=\"width:18px;padding-right:4px\"><a href=\"https://news.ycombinator.com\"><img src=\"y18.gif\" width=\"18\" height=\"18\" style=\"border:1px white solid;\"></a></td>\n",
      "                  <td style=\"line-height:12pt; height:10px;\"><span class=\"pagetop\"><b class=\"hnname\"><a href=\"news\">Hacker News</a></b>\n",
      "              <a href=\"newest\">new</a> | <a href=\"front\">past</a> | <span class=\"topsel\"><a href=\"newcomments\">comments</a></span> | <a href=\"ask\">ask</a> | <a href=\"show\">show</a> | <a href=\"jobs\">jobs</a> | <a href=\"submit\">submit</a>            </span></td><td style=\"text-align:right;padding-right:4px;\"><span class=\"pagetop\">\n",
      "                              <a href=\"login?goto=newcomments\">login</a>\n",
      "                          </span></td>\n",
      "              </tr></table></td></tr>\n",
      "<tr id=\"pagespace\" title=\"New Comments\" style=\"height:10px\"></tr><tr><td><table border=\"0\" cellpadding=\"0\" cellspacing=\"0\" class=\"itemlist\">\n",
      "          <tr class='athing' id='21407061'>    <td class='ind'></td><td valign=\"top\" class=\"votelinks\"><center><a id='up_21407061' href='vote?id=21407061&amp;how=up&amp;goto=newcomments'><div class='votearrow' title='upvote'></div></a></center></td><td class=\"default\"><div style=\"margin-top:2px; margin-bottom:-10px;\"><span class=\"comhead\">\n",
      "          <a href=\"user?id=m1k1\" class=\"hnuser\">m1k1</a> <span class=\"age\"><a href=\"item?id=21407061\">0 minutes ago</a></span> <span id=\"unv_21407061\"></span><span class=\"par\"> | <a href=\"item?id=21407047\">parent</a></span> <a class=\"togg\" n=\"1\" href=\"javascript:void(0)\" onclick=\"return toggle(event, 21407061)\"></a>          <span class='storyon'> | on: <a href=\"item?id=21401198\">Microsoft Access: The Database Software That Won't...</a></span>\n",
      "                  </span></div><br><div class=\"comment\">\n",
      "                  <span class=\"commtext c00\">I even had point and click access on &quot;information technology&quot; course on the life sciences faculy on of the biggest polish university ~7 years ago</span>\n",
      "              <div class='reply'></div></div></td></tr>\n",
      "    <tr class=\"spacer\" style=\"height:15px\"></tr>\n",
      "            <tr class='athing' id='21407060'>    <td class='ind'></td><td valign=\"top\" class=\"votelinks\"><center><a id='up_21407060' href='vote?id=21407060&amp;how=up&amp;goto=newcomments'><div class='votearrow' title='upvote'></div></a></center></td><td class=\"default\"><div style=\"margin-top:2px; margin-bottom:-10px;\"><span class=\"comhead\">\n",
      "          <a href=\"user?id=cryptica\" class=\"hnuser\">cryptica</a> <span class=\"age\"><a href=\"item?id=21407060\">0 minutes ago</a></span> <span id=\"unv_21407060\"></span><span class=\"par\"> | <a href=\"item?id=21403628\">parent</a></span> <a class=\"togg\" n=\"1\" href=\"javascript:void(0)\" onclick=\"return toggle(event, 21407060)\"></a>          <span class='storyon'> | on: <a href=\"item?id=21400376\">The crisis in physics is not only about physics</a></span>\n",
      "                  </span></div><br><div class=\"comment\">\n",
      "                  <span class=\"commtext c00\">Please respect the people who have to work grueling, repetitive and unpleasant jobs to put food on your table and a roof over your head. Scientists are responsible for those people.</span>\n",
      "              <div class='reply'></div></div></td></tr>\n",
      "    <tr class=\"spacer\" style=\"height:15px\"></tr>\n",
      "            <tr class='athing' id='21407059'>    <td class='ind'></td><td valign=\"top\" class=\"votelinks\"><center><a id='up_21407059' href='vote?id=21407059&amp;how=up&amp;goto=newcomments'><div class='votearrow' title='upvote'></div></a></center></td><td class=\"default\"><div style=\"margin-top:2px; margin-bottom:-10px;\"><span class=\"comhead\">\n",
      "          <a href=\"user?id=ivanhoe\" class=\"hnuser\">ivanhoe</a> <span class=\"age\"><a href=\"item?id=21407059\">0 minutes ago</a></span> <span id=\"unv_21407059\"></span><span class=\"par\"> | <a href=\"item?id=21405907\">parent</a></span> <a class=\"togg\" n=\"1\" href=\"javascript:void(0)\" onclick=\"return toggle(event, 21407059)\"></a>          <span class='storyon'> | on: <a href=\"item?id=21405907\">Foie Gras, Served in 1k Restaurants in NYC, Is Ban...</a></span>\n",
      "                  </span></div><br><div class=\"comment\">\n",
      "                  <span class=\"commtext c00\">Weird that there seems to be much more debate in US about force feeding geese than force-feeding prisoners.</span>\n",
      "              <div class='reply'></div></div></td></tr>\n",
      "    <tr class=\"spacer\" style=\"height:15px\"></tr>\n",
      "            <tr class='athing' id='21407058'>    <td class='ind'></td><td valign=\"top\" class=\"votelinks\"><center><a id='up_21407058' href='vote?id=21407058&amp;how=up&amp;goto=newcomments'><div class='votearrow' title='upvote'></div></a></center></td><td class=\"default\"><div style=\"margin-top:2px; margin-bottom:-10px;\"><span class=\"comhead\">\n",
      "          <a href=\"user?id=ColinWright\" class=\"hnuser\">ColinWright</a> <span class=\"age\"><a href=\"item?id=21407058\">0 minutes ago</a></span> <span id=\"unv_21407058\"></span><span class=\"par\"> | <a href=\"item?id=21406726\">parent</a></span> <a class=\"togg\" n=\"1\" href=\"javascript:void(0)\" onclick=\"return toggle(event, 21407058)\"></a>          <span class='storyon'> | on: <a href=\"item?id=21406726\">Ask HN: How to Measure Software Quality?</a></span>\n",
      "                  </span></div><br><div class=\"comment\">\n",
      "                  <span class=\"commtext c00\">Your infrequent reminder:<p><i>Goodhart’s curse: Every metric that can be tracked gets incentivized and ultimately gamed.</i><p>Beware what you choose to measure.</span>\n",
      "              <div class='reply'></div></div></td></tr>\n",
      "    <tr class=\"spacer\" style=\"height:15px\"></tr>\n",
      "            <tr class='athing' id='21407057'>    <td class='ind'></td><td valign=\"top\" class=\"votelinks\"><center><a id='up_21407057' href='vote?id=21407057&amp;how=up&amp;goto=newcomments'><div class='votearrow' title='upvote'></div></a></center></td><td class=\"default\"><div style=\"margin-top:2px; margin-bottom:-10px;\"><span class=\"comhead\">\n",
      "          <a href=\"user?id=pbhjpbhj\" class=\"hnuser\">pbhjpbhj</a> <span class=\"age\"><a href=\"item?id=21407057\">0 minutes ago</a></span> <span id=\"unv_21407057\"></span><span class=\"par\"> | <a href=\"item?id=21404532\">parent</a></span> <a class=\"togg\" n=\"1\" href=\"javascript:void(0)\" onclick=\"return toggle(event, 21407057)\"></a>          <span class='storyon'> | on: <a href=\"item?id=21400376\">The crisis in physics is not only about physics</a></span>\n",
      "                  </span></div><br><div class=\"comment\">\n",
      "                  <span class=\"commtext c00\">Do you (always?) realise that need before the product is made?</span>\n",
      "              <div class='reply'></div></div></td></tr>\n",
      "    <tr class=\"spacer\" style=\"height:15px\"></tr>\n",
      "            <tr class='athing' id='21407055'>    <td class='ind'></td><td valign=\"top\" class=\"votelinks\"><center><a id='up_21407055' href='vote?id=21407055&amp;how=up&amp;goto=newcomments'><div class='votearrow' title='upvote'></div></a></center></td><td class=\"default\"><div style=\"margin-top:2px; margin-bottom:-10px;\"><span class=\"comhead\">\n",
      "          <a href=\"user?id=ClumsyPilot\" class=\"hnuser\">ClumsyPilot</a> <span class=\"age\"><a href=\"item?id=21407055\">1 minute ago</a></span> <span id=\"unv_21407055\"></span><span class=\"par\"> | <a href=\"item?id=21405587\">parent</a></span> <a class=\"togg\" n=\"1\" href=\"javascript:void(0)\" onclick=\"return toggle(event, 21407055)\"></a>          <span class='storyon'> | on: <a href=\"item?id=21401973\">Twitter to ban political advertising</a></span>\n",
      "                  </span></div><br><div class=\"comment\">\n",
      "                  <span class=\"commtext c00\">This is an absurd claim. Any charity advocates something, from planting trees to helping the poor.<p>One would have to have a purposefully obtuse definition of political speech to outlaw ads by charities but allow Shell.</span>\n",
      "              <div class='reply'></div></div></td></tr>\n",
      "    <tr class=\"spacer\" style=\"height:15px\"></tr>\n",
      "            <tr class='athing' id='21407054'>    <td class='ind'></td><td valign=\"top\" class=\"votelinks\"><center><a id='up_21407054' href='vote?id=21407054&amp;how=up&amp;goto=newcomments'><div class='votearrow' title='upvote'></div></a></center></td><td class=\"default\"><div style=\"margin-top:2px; margin-bottom:-10px;\"><span class=\"comhead\">\n",
      "          <a href=\"user?id=hootbootscoot\" class=\"hnuser\">hootbootscoot</a> <span class=\"age\"><a href=\"item?id=21407054\">1 minute ago</a></span> <span id=\"unv_21407054\"></span><span class=\"par\"> | <a href=\"item?id=21406176\">parent</a></span> <a class=\"togg\" n=\"1\" href=\"javascript:void(0)\" onclick=\"return toggle(event, 21407054)\"></a>          <span class='storyon'> | on: <a href=\"item?id=21406176\">Germany's Giant Windmills Are Unpopular</a></span>\n",
      "                  </span></div><br><div class=\"comment\">\n",
      "                  <span class=\"commtext c00\">bloomberg has an anti-renewables article at least once a week since,  I dunno, 1 year or so?<p>It&#x27;s ridiculous.\n",
      "No one hates renewables generally, anywhere, this is largely a propaganda item being pushed by big oil.\n",
      "Bloomberg should show some leadership instead.<p>Cue last weeks study in which offshore wind farm development even in only the select windiest stretches of global coastline provide over 30 trillion megawatt hours, aka about 10 trillion more than projected demand for next year or the year after, I forget which.<p>Cue Mark Carney, governor of Bank of England saying that the companies that don&#x27;t adapt to the climate crisis fast enough will go bankrupt, as it will cost increasingly more the longer one waits.\n",
      "He also suggested, vis-a-vis the current state of the global economy and downturn concerns trade war etc, that this is actually the PERFECT time to invest in Green New Deals everywhere, lot&#x27;s of investment, big projects, now, keep that balloon open and use that momentum to effect the necessary change NOW!</span>\n",
      "              <div class='reply'></div></div></td></tr>\n",
      "    <tr class=\"spacer\" style=\"height:15px\"></tr>\n",
      "            <tr class='athing' id='21407053'>    <td class='ind'></td><td valign=\"top\" class=\"votelinks\"><center><a id='up_21407053' href='vote?id=21407053&amp;how=up&amp;goto=newcomments'><div class='votearrow' title='upvote'></div></a></center></td><td class=\"default\"><div style=\"margin-top:2px; margin-bottom:-10px;\"><span class=\"comhead\">\n",
      "          <a href=\"user?id=mrmrcoleman\" class=\"hnuser\">mrmrcoleman</a> <span class=\"age\"><a href=\"item?id=21407053\">1 minute ago</a></span> <span id=\"unv_21407053\"></span><span class=\"par\"> | <a href=\"item?id=21406879\">parent</a></span> <a class=\"togg\" n=\"1\" href=\"javascript:void(0)\" onclick=\"return toggle(event, 21407053)\"></a>          <span class='storyon'> | on: <a href=\"item?id=21404693\">A Western Sydney Gang Got Hold of Military-Grade R...</a></span>\n",
      "                  </span></div><br><div class=\"comment\">\n",
      "                  <span class=\"commtext c00\">I’d never heard of that but we used to make something similar as kids with an aerosol can, a metal drain and whatever you want to fire, arrange upright like a mortar and with a small fire at the bottom.</span>\n",
      "              <div class='reply'></div></div></td></tr>\n",
      "    <tr class=\"spacer\" style=\"height:15px\"></tr>\n",
      "            <tr class='athing' id='21407052'>    <td class='ind'></td><td valign=\"top\" class=\"votelinks\"><center><a id='up_21407052' href='vote?id=21407052&amp;how=up&amp;goto=newcomments'><div class='votearrow' title='upvote'></div></a></center></td><td class=\"default\"><div style=\"margin-top:2px; margin-bottom:-10px;\"><span class=\"comhead\">\n",
      "          <a href=\"user?id=yiyus\" class=\"hnuser\">yiyus</a> <span class=\"age\"><a href=\"item?id=21407052\">1 minute ago</a></span> <span id=\"unv_21407052\"></span><span class=\"par\"> | <a href=\"item?id=21401691\">parent</a></span> <a class=\"togg\" n=\"1\" href=\"javascript:void(0)\" onclick=\"return toggle(event, 21407052)\"></a>          <span class='storyon'> | on: <a href=\"item?id=21395629\">Spanish government orders GitHub to take down Tsun...</a></span>\n",
      "                  </span></div><br><div class=\"comment\">\n",
      "                  <span class=\"commtext c00\">It&#x27;s curious how every example you mention refers to colonies. But Catalonia is not a colony.<p>Also, in every case you mention, there were international support for the secession, while the Catalan independist movement, in spite of its strong efforts, has got almost zero support. By the way, this is the same international community who thinks that Spanish laws are not undemocratic or unjust.</span>\n",
      "              <div class='reply'></div></div></td></tr>\n",
      "    <tr class=\"spacer\" style=\"height:15px\"></tr>\n",
      "            <tr class='athing' id='21407051'>    <td class='ind'></td><td valign=\"top\" class=\"votelinks\"><center><a id='up_21407051' href='vote?id=21407051&amp;how=up&amp;goto=newcomments'><div class='votearrow' title='upvote'></div></a></center></td><td class=\"default\"><div style=\"margin-top:2px; margin-bottom:-10px;\"><span class=\"comhead\">\n",
      "          <a href=\"user?id=SapporoChris\" class=\"hnuser\">SapporoChris</a> <span class=\"age\"><a href=\"item?id=21407051\">2 minutes ago</a></span> <span id=\"unv_21407051\"></span><span class=\"par\"> | <a href=\"item?id=21406998\">parent</a></span> <a class=\"togg\" n=\"1\" href=\"javascript:void(0)\" onclick=\"return toggle(event, 21407051)\"></a>          <span class='storyon'> | on: <a href=\"item?id=21406312\">Police Owe Nothing to Man Whose Home They Blew Up,...</a></span>\n",
      "                  </span></div><br><div class=\"comment\">\n",
      "                  <span class=\"commtext c00\">You realize the suspect was firing at police officers? I am in no way defending the destruction of a home. However, I do realize this is not a situation where a couple of officers can be posted outside the home and wait the situation out. An armed suspect firing out of a home is a clear and present danger to the community.</span>\n",
      "              <div class='reply'></div></div></td></tr>\n",
      "    <tr class=\"spacer\" style=\"height:15px\"></tr>\n",
      "            <tr class='athing' id='21407050'>    <td class='ind'></td><td valign=\"top\" class=\"votelinks\"><center><a id='up_21407050' href='vote?id=21407050&amp;how=up&amp;goto=newcomments'><div class='votearrow' title='upvote'></div></a></center></td><td class=\"default\"><div style=\"margin-top:2px; margin-bottom:-10px;\"><span class=\"comhead\">\n",
      "          <a href=\"user?id=madaxe_again\" class=\"hnuser\">madaxe_again</a> <span class=\"age\"><a href=\"item?id=21407050\">2 minutes ago</a></span> <span id=\"unv_21407050\"></span><span class=\"par\"> | <a href=\"item?id=21406724\">parent</a></span> <a class=\"togg\" n=\"1\" href=\"javascript:void(0)\" onclick=\"return toggle(event, 21407050)\"></a>          <span class='storyon'> | on: <a href=\"item?id=21401973\">Twitter to ban political advertising</a></span>\n",
      "                  </span></div><br><div class=\"comment\">\n",
      "                  <span class=\"commtext c00\">&gt; Wouldn&#x27;t it be great if you would have a powerful centralized body<p>No. It wouldn’t. When that kind of power (arbiter of truth) is placed in a single point, that point will become the highly contested point of control. Eventually, inevitably, the body would end up turned to some ruthless power of the day, and would serve as the most phenomenal propaganda machine.<p>“The Ministry of Truth is pleased to announce that bootlace production is up a thousandfold this quarter, due to the heroic efforts of the King. You may now cheer.”<p>Total decentralisation is the only sane route - you build a bulwark out of billions of human minds, and you build inertia into your system such that emotional volatility led by events or propaganda efforts is smoothed out.<p>This is basically the concept of democracy and electoral cycles - group consensus on what reality is and how it should be responded to, with a temporal buffer (the election cycle length) to smooth out rash decisions.<p>Our systems need amendment to better smooth our inherent volatility, which has been provoked by our exponentially growing sphere of information - but this can’t come at the cost of handing control over something as fundamental as the idea of truth to some technocratic committee. That’s how you end up with gulags.</span>\n",
      "              <div class='reply'></div></div></td></tr>\n",
      "    <tr class=\"spacer\" style=\"height:15px\"></tr>\n",
      "            <tr class='athing' id='21407049'>    <td class='ind'></td><td valign=\"top\" class=\"votelinks\"><center><a id='up_21407049' href='vote?id=21407049&amp;how=up&amp;goto=newcomments'><div class='votearrow' title='upvote'></div></a></center></td><td class=\"default\"><div style=\"margin-top:2px; margin-bottom:-10px;\"><span class=\"comhead\">\n",
      "          <a href=\"user?id=aitchnyu\" class=\"hnuser\">aitchnyu</a> <span class=\"age\"><a href=\"item?id=21407049\">2 minutes ago</a></span> <span id=\"unv_21407049\"></span><span class=\"par\"> | <a href=\"item?id=21398893\">parent</a></span> <a class=\"togg\" n=\"1\" href=\"javascript:void(0)\" onclick=\"return toggle(event, 21407049)\"></a>          <span class='storyon'> | on: <a href=\"item?id=21398893\"> A military historian’s analysis of Spartan myth</a></span>\n",
      "                  </span></div><br><div class=\"comment\">\n",
      "                  <span class=\"commtext c00\">When did historians finally strip Sparta of its great image? When Roman Stoics praised Spartans, did they treat them as perfect role models or as a cruel people who had certain qualities to emulate?</span>\n",
      "              <div class='reply'></div></div></td></tr>\n",
      "    <tr class=\"spacer\" style=\"height:15px\"></tr>\n",
      "            <tr class='athing' id='21407047'>    <td class='ind'></td><td valign=\"top\" class=\"votelinks\"><center><a id='up_21407047' href='vote?id=21407047&amp;how=up&amp;goto=newcomments'><div class='votearrow' title='upvote'></div></a></center></td><td class=\"default\"><div style=\"margin-top:2px; margin-bottom:-10px;\"><span class=\"comhead\">\n",
      "          <a href=\"user?id=miki123211\" class=\"hnuser\">miki123211</a> <span class=\"age\"><a href=\"item?id=21407047\">2 minutes ago</a></span> <span id=\"unv_21407047\"></span><span class=\"par\"> | <a href=\"item?id=21401198\">parent</a></span> <a class=\"togg\" n=\"2\" href=\"javascript:void(0)\" onclick=\"return toggle(event, 21407047)\"></a>          <span class='storyon'> | on: <a href=\"item?id=21401198\">Microsoft Access: The Database Software That Won't...</a></span>\n",
      "                  </span></div><br><div class=\"comment\">\n",
      "                  <span class=\"commtext c00\">In polish high schools, Access is still a part of the computer science curriculum (for those who take CS). It doesn&#x27;t have to be Access specifically, but it is in 99% of cases. You can&#x27;t really avoid it, as it&#x27;s required on the Matura exam. I&#x27;ve heard rumors that some teachers even teach the point and click interface instead of SQL.</span>\n",
      "              <div class='reply'></div></div></td></tr>\n",
      "    <tr class=\"spacer\" style=\"height:15px\"></tr>\n",
      "            <tr class='athing' id='21407044'>    <td class='ind'></td><td valign=\"top\" class=\"votelinks\"><center><a id='up_21407044' href='vote?id=21407044&amp;how=up&amp;goto=newcomments'><div class='votearrow' title='upvote'></div></a></center></td><td class=\"default\"><div style=\"margin-top:2px; margin-bottom:-10px;\"><span class=\"comhead\">\n",
      "          <a href=\"user?id=ben_w\" class=\"hnuser\">ben_w</a> <span class=\"age\"><a href=\"item?id=21407044\">4 minutes ago</a></span> <span id=\"unv_21407044\"></span><span class=\"par\"> | <a href=\"item?id=21406680\">parent</a></span> <a class=\"togg\" n=\"1\" href=\"javascript:void(0)\" onclick=\"return toggle(event, 21407044)\"></a>          <span class='storyon'> | on: <a href=\"item?id=21403022\">Military Has Been Researching \"Anti-Gravity\" For N...</a></span>\n",
      "                  </span></div><br><div class=\"comment\">\n",
      "                  <span class=\"commtext c00\">&gt; Gravity is very similar to magnetism<p>The analogy doesn’t help, even ignoring that what we experience day-to-day is more like an electric field and there is a different gravitational analogy for magnetism, AKA gravitomagetism. It’s harder to notice than gravitational time dilation.<p>&gt; easy via fields<p>Only for people who find non-Euclidian geometry that mixes time and space and is defined by a bunch of 4x4 tensors to be “easy”.<p>&gt; [particles bad fields good]<p>“Particle” is a convenient human-scale name for things, but everything’s fields these days anyway. Even the Higgs.<p>In fact, GR is field-only — it’s QM which says “by the way, those things you call particles are a certain type of excitation in a field” and “if the gravity field has a particle it must be a massless spin-2 boson, also every massless spin-2 field is indistinguishable from gravity”.<p>&gt; doesn’t explain dark matter<p>Doesn’t need to. It says there’s something to look for. GR is “stuff does X”, the observation is “X”, so there must be stuff. We’re can’t see stuff, but GR doesn’t say we have to be able to see it.<p>&gt; fast rotating magnets<p>I don’t know what you’re referring to, the closest pattern I am matching your words to is Podkletnov whose work was never reproducible by third parties, and you can bet SpaceX will have tried.<p>&gt; better gravity field theories out there, but they are lacking experimental verification<p>Science doesn’t use verification, it uses falsification. When an hypothesis can’t be falsified even in principle it isn’t science; when it can but only in principle, it’s a hypothesis; when it has been tested and the attempt to falsify it results in evidence that persistently doesn’t falsify it to a standard of statistical significance, then it gets published and perhaps elevated to the level of “theory”.</span>\n",
      "              <div class='reply'></div></div></td></tr>\n",
      "    <tr class=\"spacer\" style=\"height:15px\"></tr>\n",
      "            <tr class='athing' id='21407043'>    <td class='ind'></td><td valign=\"top\" class=\"votelinks\"><center><a id='up_21407043' href='vote?id=21407043&amp;how=up&amp;goto=newcomments'><div class='votearrow' title='upvote'></div></a></center></td><td class=\"default\"><div style=\"margin-top:2px; margin-bottom:-10px;\"><span class=\"comhead\">\n",
      "          <a href=\"user?id=mattacular\" class=\"hnuser\">mattacular</a> <span class=\"age\"><a href=\"item?id=21407043\">5 minutes ago</a></span> <span id=\"unv_21407043\"></span><span class=\"par\"> | <a href=\"item?id=21406993\">parent</a></span> <a class=\"togg\" n=\"1\" href=\"javascript:void(0)\" onclick=\"return toggle(event, 21407043)\"></a>          <span class='storyon'> | on: <a href=\"item?id=21406312\">Police Owe Nothing to Man Whose Home They Blew Up,...</a></span>\n",
      "                  </span></div><br><div class=\"comment\">\n",
      "                  <span class=\"commtext c00\">I&#x27;m on my phone so it is a bit hard to collect the links as much of what I&#x27;ve seen has been from Twitter but if you go on there and search &quot;NYPD subway&quot; you&#x27;ll find numerous videos and recent accounts.</span>\n",
      "              <div class='reply'></div></div></td></tr>\n",
      "    <tr class=\"spacer\" style=\"height:15px\"></tr>\n",
      "            <tr class='athing' id='21407042'>    <td class='ind'></td><td valign=\"top\" class=\"votelinks\"><center><a id='up_21407042' href='vote?id=21407042&amp;how=up&amp;goto=newcomments'><div class='votearrow' title='upvote'></div></a></center></td><td class=\"default\"><div style=\"margin-top:2px; margin-bottom:-10px;\"><span class=\"comhead\">\n",
      "          <a href=\"user?id=pbhjpbhj\" class=\"hnuser\">pbhjpbhj</a> <span class=\"age\"><a href=\"item?id=21407042\">5 minutes ago</a></span> <span id=\"unv_21407042\"></span><span class=\"par\"> | <a href=\"item?id=21403427\">parent</a></span> <a class=\"togg\" n=\"1\" href=\"javascript:void(0)\" onclick=\"return toggle(event, 21407042)\"></a>          <span class='storyon'> | on: <a href=\"item?id=21400376\">The crisis in physics is not only about physics</a></span>\n",
      "                  </span></div><br><div class=\"comment\">\n",
      "                  <span class=\"commtext c00\">Isn&#x27;t the &#x27;problem&#x27; (for the wider population) that physicists are motivated towards answering the big questions (that&#x27;s a valid outlay for $billions IMO, just like, say how we spend billions on football&#x2F;soccer). So effectively what we&#x27;re doing is allowing that because we know there are positive repercussions that come along with such exploration.<p>(Also a BSc in TPhys (&amp; maths), fwiw.)</span>\n",
      "              <div class='reply'></div></div></td></tr>\n",
      "    <tr class=\"spacer\" style=\"height:15px\"></tr>\n",
      "            <tr class='athing' id='21407041'>    <td class='ind'></td><td valign=\"top\" class=\"votelinks\"><center><a id='up_21407041' href='vote?id=21407041&amp;how=up&amp;goto=newcomments'><div class='votearrow' title='upvote'></div></a></center></td><td class=\"default\"><div style=\"margin-top:2px; margin-bottom:-10px;\"><span class=\"comhead\">\n",
      "          <a href=\"user?id=dejv\" class=\"hnuser\">dejv</a> <span class=\"age\"><a href=\"item?id=21407041\">5 minutes ago</a></span> <span id=\"unv_21407041\"></span><span class=\"par\"> | <a href=\"item?id=21401911\">parent</a></span> <a class=\"togg\" n=\"1\" href=\"javascript:void(0)\" onclick=\"return toggle(event, 21407041)\"></a>          <span class='storyon'> | on: <a href=\"item?id=21401614\">Early Retirement May Speed Up Cognitive Decline: S...</a></span>\n",
      "                  </span></div><br><div class=\"comment\">\n",
      "                  <span class=\"commtext c00\">Yoga do miracles to your body, my uncle (or whatever the term is for brother of my grandmother) is 89 and is practicing yoga since 1940s and still having straight posture, much better than me in my 30s. He is also still working fulltime, being oldest professor on his university, teaching like 8 classes a year.</span>\n",
      "              <div class='reply'></div></div></td></tr>\n",
      "    <tr class=\"spacer\" style=\"height:15px\"></tr>\n",
      "            <tr class='athing' id='21407038'>    <td class='ind'></td><td valign=\"top\" class=\"votelinks\"><center><a id='up_21407038' href='vote?id=21407038&amp;how=up&amp;goto=newcomments'><div class='votearrow' title='upvote'></div></a></center></td><td class=\"default\"><div style=\"margin-top:2px; margin-bottom:-10px;\"><span class=\"comhead\">\n",
      "          <a href=\"user?id=ballenf\" class=\"hnuser\">ballenf</a> <span class=\"age\"><a href=\"item?id=21407038\">6 minutes ago</a></span> <span id=\"unv_21407038\"></span><span class=\"par\"> | <a href=\"item?id=21406907\">parent</a></span> <a class=\"togg\" n=\"1\" href=\"javascript:void(0)\" onclick=\"return toggle(event, 21407038)\"></a>          <span class='storyon'> | on: <a href=\"item?id=21405779\">CleanFlicks</a></span>\n",
      "                  </span></div><br><div class=\"comment\">\n",
      "                  <span class=\"commtext c00\">Are you against ad blockers too?</span>\n",
      "              <div class='reply'></div></div></td></tr>\n",
      "    <tr class=\"spacer\" style=\"height:15px\"></tr>\n",
      "            <tr class='athing' id='21407036'>    <td class='ind'></td><td valign=\"top\" class=\"votelinks\"><center><a id='up_21407036' href='vote?id=21407036&amp;how=up&amp;goto=newcomments'><div class='votearrow' title='upvote'></div></a></center></td><td class=\"default\"><div style=\"margin-top:2px; margin-bottom:-10px;\"><span class=\"comhead\">\n",
      "          <a href=\"user?id=flohofwoe\" class=\"hnuser\">flohofwoe</a> <span class=\"age\"><a href=\"item?id=21407036\">6 minutes ago</a></span> <span id=\"unv_21407036\"></span><span class=\"par\"> | <a href=\"item?id=21403247\">parent</a></span> <a class=\"togg\" n=\"1\" href=\"javascript:void(0)\" onclick=\"return toggle(event, 21407036)\"></a>          <span class='storyon'> | on: <a href=\"item?id=21383083\">Mapping the World of Amiga Samples</a></span>\n",
      "                  </span></div><br><div class=\"comment\">\n",
      "                  <span class=\"commtext c00\">There&#x27;s an initiative by the &quot;European Federation of Game Archives, Museums and Preservation Projects&quot; to get the Demo Scene on the &quot;UNESCO Cultural Heritage of Humanity&quot; list:<p><a href=\"https:&#x2F;&#x2F;efgamp.eu&#x2F;2019&#x2F;05&#x2F;20&#x2F;efgamp-launches-campaign-to-promote-the-demoscene-as-unesco-cultural-heritage-of-humanity&#x2F;\" rel=\"nofollow\">https:&#x2F;&#x2F;efgamp.eu&#x2F;2019&#x2F;05&#x2F;20&#x2F;efgamp-launches-campaign-to-pro...</a></span>\n",
      "              <div class='reply'></div></div></td></tr>\n",
      "    <tr class=\"spacer\" style=\"height:15px\"></tr>\n",
      "            <tr class='athing' id='21407035'>    <td class='ind'></td><td valign=\"top\" class=\"votelinks\"><center><a id='up_21407035' href='vote?id=21407035&amp;how=up&amp;goto=newcomments'><div class='votearrow' title='upvote'></div></a></center></td><td class=\"default\"><div style=\"margin-top:2px; margin-bottom:-10px;\"><span class=\"comhead\">\n",
      "          <a href=\"user?id=caseymarquis\" class=\"hnuser\">caseymarquis</a> <span class=\"age\"><a href=\"item?id=21407035\">6 minutes ago</a></span> <span id=\"unv_21407035\"></span><span class=\"par\"> | <a href=\"item?id=21404023\">parent</a></span> <a class=\"togg\" n=\"1\" href=\"javascript:void(0)\" onclick=\"return toggle(event, 21407035)\"></a>          <span class='storyon'> | on: <a href=\"item?id=21401198\">Microsoft Access: The Database Software That Won't...</a></span>\n",
      "                  </span></div><br><div class=\"comment\">\n",
      "                  <span class=\"commtext c00\">I have a good amount of experience with both winforms and modern web development. I would pick winforms over vanilla html and js. However, I would easily pick vuejs (or any comparable component based web framework) over winforms. Having maintained legacy VB apps with multiple 5000+ line forms, inscrutable multidirectional event chaining, and tangled up business logic and view logic, I&#x27;ve become a huge fan of forced separation of concerns.<p>The big problem is that there is much more of a learning curve. The first useful software I wrote used VB6 and winforms. Getting started was easy and intuitive, with a gentle learning curve. With virtually no experience, I was making neat things in hours. Within days I was making full applications. That says something about the power of that platform.<p>To be truly effective with modern web development took me a year or so. That was after years of professional experience.<p>At this point I can build web applications faster than I can build desktop software, but it took a huge time investment to reach this point, and I had to build multiple tools to make it possible.<p>I agree that there&#x27;s a niche that needs filling. I want all the benefits of modern web development, and I want a learning curve like VB6 with Access.</span>\n",
      "              <div class='reply'></div></div></td></tr>\n",
      "    <tr class=\"spacer\" style=\"height:15px\"></tr>\n",
      "            <tr class='athing' id='21407033'>    <td class='ind'></td><td valign=\"top\" class=\"votelinks\"><center><a id='up_21407033' href='vote?id=21407033&amp;how=up&amp;goto=newcomments'><div class='votearrow' title='upvote'></div></a></center></td><td class=\"default\"><div style=\"margin-top:2px; margin-bottom:-10px;\"><span class=\"comhead\">\n",
      "          <a href=\"user?id=Jaruzel\" class=\"hnuser\">Jaruzel</a> <span class=\"age\"><a href=\"item?id=21407033\">7 minutes ago</a></span> <span id=\"unv_21407033\"></span><span class=\"par\"> | <a href=\"item?id=21406165\">parent</a></span> <a class=\"togg\" n=\"1\" href=\"javascript:void(0)\" onclick=\"return toggle(event, 21407033)\"></a>          <span class='storyon'> | on: <a href=\"item?id=21402518\">I Miss the Old Internet</a></span>\n",
      "                  </span></div><br><div class=\"comment\">\n",
      "                  <span class=\"commtext c00\">I stick with BBC News, but I balance it out with news from other sources, and somewhere in the middle of it all, is the &#x27;real&#x27; story. In so far as the media are prepared to tell it.</span>\n",
      "              <div class='reply'></div></div></td></tr>\n",
      "    <tr class=\"spacer\" style=\"height:15px\"></tr>\n",
      "            <tr class='athing' id='21407032'>    <td class='ind'></td><td valign=\"top\" class=\"votelinks\"><center><a id='up_21407032' href='vote?id=21407032&amp;how=up&amp;goto=newcomments'><div class='votearrow' title='upvote'></div></a></center></td><td class=\"default\"><div style=\"margin-top:2px; margin-bottom:-10px;\"><span class=\"comhead\">\n",
      "          <a href=\"user?id=lethologica\" class=\"hnuser\">lethologica</a> <span class=\"age\"><a href=\"item?id=21407032\">7 minutes ago</a></span> <span id=\"unv_21407032\"></span><span class=\"par\"> | <a href=\"item?id=21406590\">parent</a></span> <a class=\"togg\" n=\"1\" href=\"javascript:void(0)\" onclick=\"return toggle(event, 21407032)\"></a>          <span class='storyon'> | on: <a href=\"item?id=21402518\">I Miss the Old Internet</a></span>\n",
      "                  </span></div><br><div class=\"comment\">\n",
      "                  <span class=\"commtext c00\">Think along the lines of those recipe pages that have 2000 words of backstory that no one cares about but is considered good SEO practice in Googles eyes.</span>\n",
      "              <div class='reply'></div></div></td></tr>\n",
      "    <tr class=\"spacer\" style=\"height:15px\"></tr>\n",
      "            <tr class='athing' id='21407031'>    <td class='ind'></td><td valign=\"top\" class=\"votelinks\"><center><a id='up_21407031' href='vote?id=21407031&amp;how=up&amp;goto=newcomments'><div class='votearrow' title='upvote'></div></a></center></td><td class=\"default\"><div style=\"margin-top:2px; margin-bottom:-10px;\"><span class=\"comhead\">\n",
      "          <a href=\"user?id=Boulth\" class=\"hnuser\">Boulth</a> <span class=\"age\"><a href=\"item?id=21407031\">8 minutes ago</a></span> <span id=\"unv_21407031\"></span><span class=\"par\"> | <a href=\"item?id=21406799\">parent</a></span> <a class=\"togg\" n=\"1\" href=\"javascript:void(0)\" onclick=\"return toggle(event, 21407031)\"></a>          <span class='storyon'> | on: <a href=\"item?id=21404694\">Getting Started with Security Keys</a></span>\n",
      "                  </span></div><br><div class=\"comment\">\n",
      "                  <span class=\"commtext c00\">Yeah but U2F is more secure (non exportable key, non phishable). With AWS OTP is the only viable option.</span>\n",
      "              <div class='reply'></div></div></td></tr>\n",
      "    <tr class=\"spacer\" style=\"height:15px\"></tr>\n",
      "            <tr class='athing' id='21407030'>    <td class='ind'></td><td valign=\"top\" class=\"votelinks\"><center><a id='up_21407030' href='vote?id=21407030&amp;how=up&amp;goto=newcomments'><div class='votearrow' title='upvote'></div></a></center></td><td class=\"default\"><div style=\"margin-top:2px; margin-bottom:-10px;\"><span class=\"comhead\">\n",
      "          <a href=\"user?id=Kiro\" class=\"hnuser\">Kiro</a> <span class=\"age\"><a href=\"item?id=21407030\">8 minutes ago</a></span> <span id=\"unv_21407030\"></span><span class=\"par\"> | <a href=\"item?id=21406818\">parent</a></span> <a class=\"togg\" n=\"1\" href=\"javascript:void(0)\" onclick=\"return toggle(event, 21407030)\"></a>          <span class='storyon'> | on: <a href=\"item?id=21401973\">Twitter to ban political advertising</a></span>\n",
      "                  </span></div><br><div class=\"comment\">\n",
      "                  <span class=\"commtext c00\"><a href=\"https:&#x2F;&#x2F;www.theguardian.com&#x2F;lifeandstyle&#x2F;2019&#x2F;may&#x2F;10&#x2F;and-the-least-feminist-nation-in-the-world-is-denmark\" rel=\"nofollow\">https:&#x2F;&#x2F;www.theguardian.com&#x2F;lifeandstyle&#x2F;2019&#x2F;may&#x2F;10&#x2F;and-the...</a></span>\n",
      "              <div class='reply'></div></div></td></tr>\n",
      "    <tr class=\"spacer\" style=\"height:15px\"></tr>\n",
      "            <tr class='athing' id='21407029'>    <td class='ind'></td><td valign=\"top\" class=\"votelinks\"><center><a id='up_21407029' href='vote?id=21407029&amp;how=up&amp;goto=newcomments'><div class='votearrow' title='upvote'></div></a></center></td><td class=\"default\"><div style=\"margin-top:2px; margin-bottom:-10px;\"><span class=\"comhead\">\n",
      "          <a href=\"user?id=onefuncman\" class=\"hnuser\">onefuncman</a> <span class=\"age\"><a href=\"item?id=21407029\">8 minutes ago</a></span> <span id=\"unv_21407029\"></span><span class=\"par\"> | <a href=\"item?id=21402551\">parent</a></span> <a class=\"togg\" n=\"1\" href=\"javascript:void(0)\" onclick=\"return toggle(event, 21407029)\"></a>          <span class='storyon'> | on: <a href=\"item?id=21401198\">Microsoft Access: The Database Software That Won't...</a></span>\n",
      "                  </span></div><br><div class=\"comment\">\n",
      "                  <span class=\"commtext c00\">i have no affiliation but like the product -- try <a href=\"https:&#x2F;&#x2F;airtable.com&#x2F;\" rel=\"nofollow\">https:&#x2F;&#x2F;airtable.com&#x2F;</a></span>\n",
      "              <div class='reply'></div></div></td></tr>\n",
      "    <tr class=\"spacer\" style=\"height:15px\"></tr>\n",
      "            <tr class='athing' id='21407028'>    <td class='ind'></td><td valign=\"top\" class=\"votelinks\"><center><a id='up_21407028' href='vote?id=21407028&amp;how=up&amp;goto=newcomments'><div class='votearrow' title='upvote'></div></a></center></td><td class=\"default\"><div style=\"margin-top:2px; margin-bottom:-10px;\"><span class=\"comhead\">\n",
      "          <a href=\"user?id=glun\" class=\"hnuser\">glun</a> <span class=\"age\"><a href=\"item?id=21407028\">8 minutes ago</a></span> <span id=\"unv_21407028\"></span><span class=\"par\"> | <a href=\"item?id=21405962\">parent</a></span> <a class=\"togg\" n=\"1\" href=\"javascript:void(0)\" onclick=\"return toggle(event, 21407028)\"></a>          <span class='storyon'> | on: <a href=\"item?id=21405962\">Dependency injection is dynamic scoping in disguis...</a></span>\n",
      "                  </span></div><br><div class=\"comment\">\n",
      "                  <span class=\"commtext c00\">Author here. After posting this to reddit I realized that the original title is wrong, and poorly reflects the actual point I&#x27;m trying to make. Dependency injection is not dynamic scoping, but the latter can be used to achieve the former. I&#x27;m drafting an update to better reflect this. I&#x27;m also going to pull out reader monads and env passing into separate sections and give reader monads a better treatment in general.</span>\n",
      "              <div class='reply'></div></div></td></tr>\n",
      "    <tr class=\"spacer\" style=\"height:15px\"></tr>\n",
      "            <tr class='athing' id='21407027'>    <td class='ind'></td><td valign=\"top\" class=\"votelinks\"><center><a id='up_21407027' href='vote?id=21407027&amp;how=up&amp;goto=newcomments'><div class='votearrow' title='upvote'></div></a></center></td><td class=\"default\"><div style=\"margin-top:2px; margin-bottom:-10px;\"><span class=\"comhead\">\n",
      "          <a href=\"user?id=sharpneli\" class=\"hnuser\">sharpneli</a> <span class=\"age\"><a href=\"item?id=21407027\">8 minutes ago</a></span> <span id=\"unv_21407027\"></span><span class=\"par\"> | <a href=\"item?id=21404693\">parent</a></span> <a class=\"togg\" n=\"1\" href=\"javascript:void(0)\" onclick=\"return toggle(event, 21407027)\"></a>          <span class='storyon'> | on: <a href=\"item?id=21404693\">A Western Sydney Gang Got Hold of Military-Grade R...</a></span>\n",
      "                  </span></div><br><div class=\"comment\">\n",
      "                  <span class=\"commtext c00\">M72 LAW. I&#x27;ve actually shot a live one during my mandatory time at the military as a practice shot (We destroy our aging stock by making conscripts shoot them as a training exercise).<p>As a weapon it&#x27;s the typical shaped charge warhead. It would be really dangerous against any normal non tank vehicle in short ranges. Against a tank it&#x27;s useless nowadays. But the semi militarized armored cars used by some police forces would be disabled rather easily with one. Not blown up to smithereens, but a hit to the engine space would wreck that or a hit to the passenger compartment would kill some if not all inside.<p>Not that good against a building. A hand-grenade would do way more harm inside. So it&#x27;s more of a trophy thing, or a really nasty surprise against SWAT truck assuming the culprit manages to hit with it.<p>The lax security Australia has towards these is rather hilarious.</span>\n",
      "              <div class='reply'></div></div></td></tr>\n",
      "    <tr class=\"spacer\" style=\"height:15px\"></tr>\n",
      "            <tr class='athing' id='21407026'>    <td class='ind'></td><td valign=\"top\" class=\"votelinks\"><center><a id='up_21407026' href='vote?id=21407026&amp;how=up&amp;goto=newcomments'><div class='votearrow' title='upvote'></div></a></center></td><td class=\"default\"><div style=\"margin-top:2px; margin-bottom:-10px;\"><span class=\"comhead\">\n",
      "          <a href=\"user?id=mikorym\" class=\"hnuser\">mikorym</a> <span class=\"age\"><a href=\"item?id=21407026\">8 minutes ago</a></span> <span id=\"unv_21407026\"></span><span class=\"par\"> | <a href=\"item?id=21406433\">parent</a></span> <a class=\"togg\" n=\"1\" href=\"javascript:void(0)\" onclick=\"return toggle(event, 21407026)\"></a>          <span class='storyon'> | on: <a href=\"item?id=21406116\">Extreme haunted house McKamey Manor is a torture c...</a></span>\n",
      "                  </span></div><br><div class=\"comment\">\n",
      "                  <span class=\"commtext c00\">Yeah I also think the article is a waste of time. Who wrote the petition? Apparently it&#x27;s not a haunted house anyway but a &quot;mobile experience&quot;. After reading the article I don&#x27;t think I&#x27;ve really learnt any facts apart from something that some people do that other people have a petition against that starts in Tennessee and ends in Alabama, but no-one has got to Alabama?</span>\n",
      "              <div class='reply'></div></div></td></tr>\n",
      "    <tr class=\"spacer\" style=\"height:15px\"></tr>\n",
      "            <tr class='athing' id='21407025'>    <td class='ind'></td><td valign=\"top\" class=\"votelinks\"><center><a id='up_21407025' href='vote?id=21407025&amp;how=up&amp;goto=newcomments'><div class='votearrow' title='upvote'></div></a></center></td><td class=\"default\"><div style=\"margin-top:2px; margin-bottom:-10px;\"><span class=\"comhead\">\n",
      "          <a href=\"user?id=highprofittrade\" class=\"hnuser\">highprofittrade</a> <span class=\"age\"><a href=\"item?id=21407025\">9 minutes ago</a></span> <span id=\"unv_21407025\"></span><span class=\"par\"> | <a href=\"item?id=21406312\">parent</a></span> <a class=\"togg\" n=\"1\" href=\"javascript:void(0)\" onclick=\"return toggle(event, 21407025)\"></a>          <span class='storyon'> | on: <a href=\"item?id=21406312\">Police Owe Nothing to Man Whose Home They Blew Up,...</a></span>\n",
      "                  </span></div><br><div class=\"comment\">\n",
      "                  <span class=\"commtext c00\">Another sign of authoritative police state with absolute power over citizens. We allowed this through the people we elected. Shame.</span>\n",
      "              <div class='reply'></div></div></td></tr>\n",
      "    <tr class=\"spacer\" style=\"height:15px\"></tr>\n",
      "            <tr class='athing' id='21407024'>    <td class='ind'></td><td valign=\"top\" class=\"votelinks\"><center><a id='up_21407024' href='vote?id=21407024&amp;how=up&amp;goto=newcomments'><div class='votearrow' title='upvote'></div></a></center></td><td class=\"default\"><div style=\"margin-top:2px; margin-bottom:-10px;\"><span class=\"comhead\">\n",
      "          <a href=\"user?id=Nodraak\" class=\"hnuser\">Nodraak</a> <span class=\"age\"><a href=\"item?id=21407024\">9 minutes ago</a></span> <span id=\"unv_21407024\"></span><span class=\"par\"> | <a href=\"item?id=21406571\">parent</a></span> <a class=\"togg\" n=\"1\" href=\"javascript:void(0)\" onclick=\"return toggle(event, 21407024)\"></a>          <span class='storyon'> | on: <a href=\"item?id=21391238\">The Tyranny of the Rocket Equation (2012)</a></span>\n",
      "                  </span></div><br><div class=\"comment\">\n",
      "                  <span class=\"commtext c00\">It&#x27;s not only about altitude (<i>going</i> to space is easy), it&#x27;s also about horizontal velocity (<i>staying</i> in space is hard: 8 km&#x2F;sec is a lot).<p>I dont recall the exact number, but I think that altitude is 50% of the energy, the other 50% is horizontal velocity. So building a rocket on top of the Everest would save us maybe 5% (10 km vs 100 km altitude), that&#x27;s not much</span>\n",
      "              <div class='reply'></div></div></td></tr>\n",
      "    <tr class=\"spacer\" style=\"height:15px\"></tr>\n",
      "            <tr class=\"morespace\" style=\"height:10px\"></tr><tr><td colspan=\"2\"></td><td class=\"title\"><a href=\"newcomments?next=21407023\" class=\"morelink\" rel=\"next\">More</a></td></tr>\n",
      "  </table>\n",
      "</td></tr>\n",
      "<tr><td><img src=\"s.gif\" height=\"10\" width=\"0\"><table width=\"100%\" cellspacing=\"0\" cellpadding=\"1\"><tr><td bgcolor=\"#ff6600\"></td></tr></table><br><center><span class=\"yclinks\"><a href=\"newsguidelines.html\">Guidelines</a>\n",
      "        | <a href=\"newsfaq.html\">FAQ</a>\n",
      "        | <a href=\"mailto:hn@ycombinator.com\">Support</a>\n",
      "        | <a href=\"https://github.com/HackerNews/API\">API</a>\n",
      "        | <a href=\"security.html\">Security</a>\n",
      "        | <a href=\"lists\">Lists</a>\n",
      "        | <a href=\"bookmarklet.html\" rel=\"nofollow\">Bookmarklet</a>\n",
      "        | <a href=\"http://www.ycombinator.com/legal/\">Legal</a>\n",
      "        | <a href=\"http://www.ycombinator.com/apply/\">Apply to YC</a>\n",
      "        | <a href=\"mailto:hn@ycombinator.com\">Contact</a></span><br><br><form method=\"get\" action=\"//hn.algolia.com/\">Search:\n",
      "          <input type=\"text\" name=\"q\" value=\"\" size=\"17\" autocorrect=\"off\" spellcheck=\"false\" autocapitalize=\"off\" autocomplete=\"false\"></form>\n",
      "            </center></td></tr>\n",
      "      </table></center></body><script type='text/javascript' src='hn.js?tThICE41XKkC2yDxMVKx'></script>\n",
      "  </html>\n",
      "\n"
     ]
    }
   ],
   "source": [
    "# Import the libraries\n",
    "import requests\n",
    "import json\n",
    "import pandas as pd\n",
    "import time\n",
    "from random import randint\n",
    "from bs4 import BeautifulSoup\n",
    "from textblob import Word\n",
    "from nltk.corpus import stopwords\n",
    "\n",
    "# Fetch a web page\n",
    "r = requests.get(\"https://news.ycombinator.com/newcomments\")\n",
    "print(r.text)"
   ]
  },
  {
   "cell_type": "markdown",
   "metadata": {},
   "source": [
    "**Remove the HTML tags**"
   ]
  },
  {
   "cell_type": "code",
   "execution_count": 126,
   "metadata": {
    "ExecuteTime": {
     "end_time": "2019-10-31T09:49:04.028000Z",
     "start_time": "2019-10-31T09:49:03.917000Z"
    }
   },
   "outputs": [
    {
     "name": "stdout",
     "output_type": "stream",
     "text": [
      "\n",
      "            \n",
      "        New Comments | Hacker News\n",
      "        \n",
      "                  Hacker News\n",
      "              new | past | comments | ask | show | jobs | submit            \n",
      "                              login\n",
      "                          \n",
      "              \n",
      "\n",
      "              \n",
      "          m1k1 0 minutes ago  | parent            | on: Microsoft Access: The Database Software That Won't...\n",
      "                  \n",
      "                  I even had point and click access on \"information technology\" course on the life sciences faculy on of the biggest polish university ~7 years ago\n",
      "              \n",
      "    \n",
      "                \n",
      "          cryptica 0 minutes ago  | parent            | on: The crisis in physics is not only about physics\n",
      "                  \n",
      "                  Please respect the people who have to work grueling, repetitive and unpleasant jobs to put food on your table and a roof over your head. Scientists are responsible for those people.\n",
      "              \n",
      "    \n",
      "                \n",
      "          ivanhoe 0 minutes ago  | parent            | on: Foie Gras, Served in 1k Restaurants in NYC, Is Ban...\n",
      "                  \n",
      "                  Weird that there seems to be much more debate in US about force feeding geese than force-feeding prisoners.\n",
      "              \n",
      "    \n",
      "                \n",
      "          ColinWright 0 minutes ago  | parent            | on: Ask HN: How to Measure Software Quality?\n",
      "                  \n",
      "                  Your infrequent reminder:Goodhart’s curse: Every metric that can be tracked gets incentivized and ultimately gamed.Beware what you choose to measure.\n",
      "              \n",
      "    \n",
      "                \n",
      "          pbhjpbhj 0 minutes ago  | parent            | on: The crisis in physics is not only about physics\n",
      "                  \n",
      "                  Do you (always?) realise that need before the product is made?\n",
      "              \n",
      "    \n",
      "                \n",
      "          ClumsyPilot 1 minute ago  | parent            | on: Twitter to ban political advertising\n",
      "                  \n",
      "                  This is an absurd claim. Any charity advocates something, from planting trees to helping the poor.One would have to have a purposefully obtuse definition of political speech to outlaw ads by charities but allow Shell.\n",
      "              \n",
      "    \n",
      "                \n",
      "          hootbootscoot 1 minute ago  | parent            | on: Germany's Giant Windmills Are Unpopular\n",
      "                  \n",
      "                  bloomberg has an anti-renewables article at least once a week since,  I dunno, 1 year or so?It's ridiculous.\n",
      "No one hates renewables generally, anywhere, this is largely a propaganda item being pushed by big oil.\n",
      "Bloomberg should show some leadership instead.Cue last weeks study in which offshore wind farm development even in only the select windiest stretches of global coastline provide over 30 trillion megawatt hours, aka about 10 trillion more than projected demand for next year or the year after, I forget which.Cue Mark Carney, governor of Bank of England saying that the companies that don't adapt to the climate crisis fast enough will go bankrupt, as it will cost increasingly more the longer one waits.\n",
      "He also suggested, vis-a-vis the current state of the global economy and downturn concerns trade war etc, that this is actually the PERFECT time to invest in Green New Deals everywhere, lot's of investment, big projects, now, keep that balloon open and use that momentum to effect the necessary change NOW!\n",
      "              \n",
      "    \n",
      "                \n",
      "          mrmrcoleman 1 minute ago  | parent            | on: A Western Sydney Gang Got Hold of Military-Grade R...\n",
      "                  \n",
      "                  I’d never heard of that but we used to make something similar as kids with an aerosol can, a metal drain and whatever you want to fire, arrange upright like a mortar and with a small fire at the bottom.\n",
      "              \n",
      "    \n",
      "                \n",
      "          yiyus 1 minute ago  | parent            | on: Spanish government orders GitHub to take down Tsun...\n",
      "                  \n",
      "                  It's curious how every example you mention refers to colonies. But Catalonia is not a colony.Also, in every case you mention, there were international support for the secession, while the Catalan independist movement, in spite of its strong efforts, has got almost zero support. By the way, this is the same international community who thinks that Spanish laws are not undemocratic or unjust.\n",
      "              \n",
      "    \n",
      "                \n",
      "          SapporoChris 2 minutes ago  | parent            | on: Police Owe Nothing to Man Whose Home They Blew Up,...\n",
      "                  \n",
      "                  You realize the suspect was firing at police officers? I am in no way defending the destruction of a home. However, I do realize this is not a situation where a couple of officers can be posted outside the home and wait the situation out. An armed suspect firing out of a home is a clear and present danger to the community.\n",
      "              \n",
      "    \n",
      "                \n",
      "          madaxe_again 2 minutes ago  | parent            | on: Twitter to ban political advertising\n",
      "                  \n",
      "                  > Wouldn't it be great if you would have a powerful centralized bodyNo. It wouldn’t. When that kind of power (arbiter of truth) is placed in a single point, that point will become the highly contested point of control. Eventually, inevitably, the body would end up turned to some ruthless power of the day, and would serve as the most phenomenal propaganda machine.“The Ministry of Truth is pleased to announce that bootlace production is up a thousandfold this quarter, due to the heroic efforts of the King. You may now cheer.”Total decentralisation is the only sane route - you build a bulwark out of billions of human minds, and you build inertia into your system such that emotional volatility led by events or propaganda efforts is smoothed out.This is basically the concept of democracy and electoral cycles - group consensus on what reality is and how it should be responded to, with a temporal buffer (the election cycle length) to smooth out rash decisions.Our systems need amendment to better smooth our inherent volatility, which has been provoked by our exponentially growing sphere of information - but this can’t come at the cost of handing control over something as fundamental as the idea of truth to some technocratic committee. That’s how you end up with gulags.\n",
      "              \n",
      "    \n",
      "                \n",
      "          aitchnyu 2 minutes ago  | parent            | on:  A military historian’s analysis of Spartan myth\n",
      "                  \n",
      "                  When did historians finally strip Sparta of its great image? When Roman Stoics praised Spartans, did they treat them as perfect role models or as a cruel people who had certain qualities to emulate?\n",
      "              \n",
      "    \n",
      "                \n",
      "          miki123211 2 minutes ago  | parent            | on: Microsoft Access: The Database Software That Won't...\n",
      "                  \n",
      "                  In polish high schools, Access is still a part of the computer science curriculum (for those who take CS). It doesn't have to be Access specifically, but it is in 99% of cases. You can't really avoid it, as it's required on the Matura exam. I've heard rumors that some teachers even teach the point and click interface instead of SQL.\n",
      "              \n",
      "    \n",
      "                \n",
      "          ben_w 4 minutes ago  | parent            | on: Military Has Been Researching \"Anti-Gravity\" For N...\n",
      "                  \n",
      "                  > Gravity is very similar to magnetismThe analogy doesn’t help, even ignoring that what we experience day-to-day is more like an electric field and there is a different gravitational analogy for magnetism, AKA gravitomagetism. It’s harder to notice than gravitational time dilation.> easy via fieldsOnly for people who find non-Euclidian geometry that mixes time and space and is defined by a bunch of 4x4 tensors to be “easy”.> [particles bad fields good]“Particle” is a convenient human-scale name for things, but everything’s fields these days anyway. Even the Higgs.In fact, GR is field-only — it’s QM which says “by the way, those things you call particles are a certain type of excitation in a field” and “if the gravity field has a particle it must be a massless spin-2 boson, also every massless spin-2 field is indistinguishable from gravity”.> doesn’t explain dark matterDoesn’t need to. It says there’s something to look for. GR is “stuff does X”, the observation is “X”, so there must be stuff. We’re can’t see stuff, but GR doesn’t say we have to be able to see it.> fast rotating magnetsI don’t know what you’re referring to, the closest pattern I am matching your words to is Podkletnov whose work was never reproducible by third parties, and you can bet SpaceX will have tried.> better gravity field theories out there, but they are lacking experimental verificationScience doesn’t use verification, it uses falsification. When an hypothesis can’t be falsified even in principle it isn’t science; when it can but only in principle, it’s a hypothesis; when it has been tested and the attempt to falsify it results in evidence that persistently doesn’t falsify it to a standard of statistical significance, then it gets published and perhaps elevated to the level of “theory”.\n",
      "              \n",
      "    \n",
      "                \n",
      "          mattacular 5 minutes ago  | parent            | on: Police Owe Nothing to Man Whose Home They Blew Up,...\n",
      "                  \n",
      "                  I'm on my phone so it is a bit hard to collect the links as much of what I've seen has been from Twitter but if you go on there and search \"NYPD subway\" you'll find numerous videos and recent accounts.\n",
      "              \n",
      "    \n",
      "                \n",
      "          pbhjpbhj 5 minutes ago  | parent            | on: The crisis in physics is not only about physics\n",
      "                  \n",
      "                  Isn't the 'problem' (for the wider population) that physicists are motivated towards answering the big questions (that's a valid outlay for $billions IMO, just like, say how we spend billions on football/soccer). So effectively what we're doing is allowing that because we know there are positive repercussions that come along with such exploration.(Also a BSc in TPhys (& maths), fwiw.)\n",
      "              \n",
      "    \n",
      "                \n",
      "          dejv 5 minutes ago  | parent            | on: Early Retirement May Speed Up Cognitive Decline: S...\n",
      "                  \n",
      "                  Yoga do miracles to your body, my uncle (or whatever the term is for brother of my grandmother) is 89 and is practicing yoga since 1940s and still having straight posture, much better than me in my 30s. He is also still working fulltime, being oldest professor on his university, teaching like 8 classes a year.\n",
      "              \n",
      "    \n",
      "                \n",
      "          ballenf 6 minutes ago  | parent            | on: CleanFlicks\n",
      "                  \n",
      "                  Are you against ad blockers too?\n",
      "              \n",
      "    \n",
      "                \n",
      "          flohofwoe 6 minutes ago  | parent            | on: Mapping the World of Amiga Samples\n",
      "                  \n",
      "                  There's an initiative by the \"European Federation of Game Archives, Museums and Preservation Projects\" to get the Demo Scene on the \"UNESCO Cultural Heritage of Humanity\" list:https://efgamp.eu/2019/05/20/efgamp-launches-campaign-to-pro...\n",
      "              \n",
      "    \n",
      "                \n",
      "          caseymarquis 6 minutes ago  | parent            | on: Microsoft Access: The Database Software That Won't...\n",
      "                  \n",
      "                  I have a good amount of experience with both winforms and modern web development. I would pick winforms over vanilla html and js. However, I would easily pick vuejs (or any comparable component based web framework) over winforms. Having maintained legacy VB apps with multiple 5000+ line forms, inscrutable multidirectional event chaining, and tangled up business logic and view logic, I've become a huge fan of forced separation of concerns.The big problem is that there is much more of a learning curve. The first useful software I wrote used VB6 and winforms. Getting started was easy and intuitive, with a gentle learning curve. With virtually no experience, I was making neat things in hours. Within days I was making full applications. That says something about the power of that platform.To be truly effective with modern web development took me a year or so. That was after years of professional experience.At this point I can build web applications faster than I can build desktop software, but it took a huge time investment to reach this point, and I had to build multiple tools to make it possible.I agree that there's a niche that needs filling. I want all the benefits of modern web development, and I want a learning curve like VB6 with Access.\n",
      "              \n",
      "    \n",
      "                \n",
      "          Jaruzel 7 minutes ago  | parent            | on: I Miss the Old Internet\n",
      "                  \n",
      "                  I stick with BBC News, but I balance it out with news from other sources, and somewhere in the middle of it all, is the 'real' story. In so far as the media are prepared to tell it.\n",
      "              \n",
      "    \n",
      "                \n",
      "          lethologica 7 minutes ago  | parent            | on: I Miss the Old Internet\n",
      "                  \n",
      "                  Think along the lines of those recipe pages that have 2000 words of backstory that no one cares about but is considered good SEO practice in Googles eyes.\n",
      "              \n",
      "    \n",
      "                \n",
      "          Boulth 8 minutes ago  | parent            | on: Getting Started with Security Keys\n",
      "                  \n",
      "                  Yeah but U2F is more secure (non exportable key, non phishable). With AWS OTP is the only viable option.\n",
      "              \n",
      "    \n",
      "                \n",
      "          Kiro 8 minutes ago  | parent            | on: Twitter to ban political advertising\n",
      "                  \n",
      "                  https://www.theguardian.com/lifeandstyle/2019/may/10/and-the...\n",
      "              \n",
      "    \n",
      "                \n",
      "          onefuncman 8 minutes ago  | parent            | on: Microsoft Access: The Database Software That Won't...\n",
      "                  \n",
      "                  i have no affiliation but like the product -- try https://airtable.com/\n",
      "              \n",
      "    \n",
      "                \n",
      "          glun 8 minutes ago  | parent            | on: Dependency injection is dynamic scoping in disguis...\n",
      "                  \n",
      "                  Author here. After posting this to reddit I realized that the original title is wrong, and poorly reflects the actual point I'm trying to make. Dependency injection is not dynamic scoping, but the latter can be used to achieve the former. I'm drafting an update to better reflect this. I'm also going to pull out reader monads and env passing into separate sections and give reader monads a better treatment in general.\n",
      "              \n",
      "    \n",
      "                \n",
      "          sharpneli 8 minutes ago  | parent            | on: A Western Sydney Gang Got Hold of Military-Grade R...\n",
      "                  \n",
      "                  M72 LAW. I've actually shot a live one during my mandatory time at the military as a practice shot (We destroy our aging stock by making conscripts shoot them as a training exercise).As a weapon it's the typical shaped charge warhead. It would be really dangerous against any normal non tank vehicle in short ranges. Against a tank it's useless nowadays. But the semi militarized armored cars used by some police forces would be disabled rather easily with one. Not blown up to smithereens, but a hit to the engine space would wreck that or a hit to the passenger compartment would kill some if not all inside.Not that good against a building. A hand-grenade would do way more harm inside. So it's more of a trophy thing, or a really nasty surprise against SWAT truck assuming the culprit manages to hit with it.The lax security Australia has towards these is rather hilarious.\n",
      "              \n",
      "    \n",
      "                \n",
      "          mikorym 8 minutes ago  | parent            | on: Extreme haunted house McKamey Manor is a torture c...\n",
      "                  \n",
      "                  Yeah I also think the article is a waste of time. Who wrote the petition? Apparently it's not a haunted house anyway but a \"mobile experience\". After reading the article I don't think I've really learnt any facts apart from something that some people do that other people have a petition against that starts in Tennessee and ends in Alabama, but no-one has got to Alabama?\n",
      "              \n",
      "    \n",
      "                \n",
      "          highprofittrade 9 minutes ago  | parent            | on: Police Owe Nothing to Man Whose Home They Blew Up,...\n",
      "                  \n",
      "                  Another sign of authoritative police state with absolute power over citizens. We allowed this through the people we elected. Shame.\n",
      "              \n",
      "    \n",
      "                \n",
      "          Nodraak 9 minutes ago  | parent            | on: The Tyranny of the Rocket Equation (2012)\n",
      "                  \n",
      "                  It's not only about altitude (going to space is easy), it's also about horizontal velocity (staying in space is hard: 8 km/sec is a lot).I dont recall the exact number, but I think that altitude is 50% of the energy, the other 50% is horizontal velocity. So building a rocket on top of the Everest would save us maybe 5% (10 km vs 100 km altitude), that's not much\n",
      "              \n",
      "    \n",
      "            More\n",
      "  \n",
      "\n",
      "Guidelines\n",
      "        | FAQ\n",
      "        | Support\n",
      "        | API\n",
      "        | Security\n",
      "        | Lists\n",
      "        | Bookmarklet\n",
      "        | Legal\n",
      "        | Apply to YC\n",
      "        | ContactSearch:\n",
      "          \n",
      "            \n",
      "      \n",
      "  \n",
      "\n"
     ]
    }
   ],
   "source": [
    "# Remove HTML tags using Beautiful Soup library\n",
    "soup = BeautifulSoup(r.text, \"html5lib\")\n",
    "print(soup.get_text())"
   ]
  },
  {
   "cell_type": "markdown",
   "metadata": {},
   "source": [
    "**Find the comments**"
   ]
  },
  {
   "cell_type": "code",
   "execution_count": 129,
   "metadata": {
    "ExecuteTime": {
     "end_time": "2019-10-31T09:49:28.647000Z",
     "start_time": "2019-10-31T09:49:28.619000Z"
    }
   },
   "outputs": [
    {
     "name": "stdout",
     "output_type": "stream",
     "text": [
      "There are 30 number of comments found on the first page\n",
      "[<div class=\"comment\">\n",
      "                  <span class=\"commtext c00\">I even had point and click access on \"information technology\" course on the life sciences faculy on of the biggest polish university ~7 years ago</span>\n",
      "              <div class=\"reply\"></div></div>, <div class=\"comment\">\n",
      "                  <span class=\"commtext c00\">Please respect the people who have to work grueling, repetitive and unpleasant jobs to put food on your table and a roof over your head. Scientists are responsible for those people.</span>\n",
      "              <div class=\"reply\"></div></div>, <div class=\"comment\">\n",
      "                  <span class=\"commtext c00\">Weird that there seems to be much more debate in US about force feeding geese than force-feeding prisoners.</span>\n",
      "              <div class=\"reply\"></div></div>, <div class=\"comment\">\n",
      "                  <span class=\"commtext c00\">Your infrequent reminder:<p><i>Goodhart’s curse: Every metric that can be tracked gets incentivized and ultimately gamed.</i></p><p>Beware what you choose to measure.\n",
      "              </p><div class=\"reply\"></div></span></div>, <div class=\"comment\">\n",
      "                  <span class=\"commtext c00\">Do you (always?) realise that need before the product is made?</span>\n",
      "              <div class=\"reply\"></div></div>, <div class=\"comment\">\n",
      "                  <span class=\"commtext c00\">This is an absurd claim. Any charity advocates something, from planting trees to helping the poor.<p>One would have to have a purposefully obtuse definition of political speech to outlaw ads by charities but allow Shell.\n",
      "              </p><div class=\"reply\"></div></span></div>, <div class=\"comment\">\n",
      "                  <span class=\"commtext c00\">bloomberg has an anti-renewables article at least once a week since,  I dunno, 1 year or so?<p>It's ridiculous.\n",
      "No one hates renewables generally, anywhere, this is largely a propaganda item being pushed by big oil.\n",
      "Bloomberg should show some leadership instead.</p><p>Cue last weeks study in which offshore wind farm development even in only the select windiest stretches of global coastline provide over 30 trillion megawatt hours, aka about 10 trillion more than projected demand for next year or the year after, I forget which.</p><p>Cue Mark Carney, governor of Bank of England saying that the companies that don't adapt to the climate crisis fast enough will go bankrupt, as it will cost increasingly more the longer one waits.\n",
      "He also suggested, vis-a-vis the current state of the global economy and downturn concerns trade war etc, that this is actually the PERFECT time to invest in Green New Deals everywhere, lot's of investment, big projects, now, keep that balloon open and use that momentum to effect the necessary change NOW!\n",
      "              </p><div class=\"reply\"></div></span></div>, <div class=\"comment\">\n",
      "                  <span class=\"commtext c00\">I’d never heard of that but we used to make something similar as kids with an aerosol can, a metal drain and whatever you want to fire, arrange upright like a mortar and with a small fire at the bottom.</span>\n",
      "              <div class=\"reply\"></div></div>, <div class=\"comment\">\n",
      "                  <span class=\"commtext c00\">It's curious how every example you mention refers to colonies. But Catalonia is not a colony.<p>Also, in every case you mention, there were international support for the secession, while the Catalan independist movement, in spite of its strong efforts, has got almost zero support. By the way, this is the same international community who thinks that Spanish laws are not undemocratic or unjust.\n",
      "              </p><div class=\"reply\"></div></span></div>, <div class=\"comment\">\n",
      "                  <span class=\"commtext c00\">You realize the suspect was firing at police officers? I am in no way defending the destruction of a home. However, I do realize this is not a situation where a couple of officers can be posted outside the home and wait the situation out. An armed suspect firing out of a home is a clear and present danger to the community.</span>\n",
      "              <div class=\"reply\"></div></div>, <div class=\"comment\">\n",
      "                  <span class=\"commtext c00\">&gt; Wouldn't it be great if you would have a powerful centralized body<p>No. It wouldn’t. When that kind of power (arbiter of truth) is placed in a single point, that point will become the highly contested point of control. Eventually, inevitably, the body would end up turned to some ruthless power of the day, and would serve as the most phenomenal propaganda machine.</p><p>“The Ministry of Truth is pleased to announce that bootlace production is up a thousandfold this quarter, due to the heroic efforts of the King. You may now cheer.”</p><p>Total decentralisation is the only sane route - you build a bulwark out of billions of human minds, and you build inertia into your system such that emotional volatility led by events or propaganda efforts is smoothed out.</p><p>This is basically the concept of democracy and electoral cycles - group consensus on what reality is and how it should be responded to, with a temporal buffer (the election cycle length) to smooth out rash decisions.</p><p>Our systems need amendment to better smooth our inherent volatility, which has been provoked by our exponentially growing sphere of information - but this can’t come at the cost of handing control over something as fundamental as the idea of truth to some technocratic committee. That’s how you end up with gulags.\n",
      "              </p><div class=\"reply\"></div></span></div>, <div class=\"comment\">\n",
      "                  <span class=\"commtext c00\">When did historians finally strip Sparta of its great image? When Roman Stoics praised Spartans, did they treat them as perfect role models or as a cruel people who had certain qualities to emulate?</span>\n",
      "              <div class=\"reply\"></div></div>, <div class=\"comment\">\n",
      "                  <span class=\"commtext c00\">In polish high schools, Access is still a part of the computer science curriculum (for those who take CS). It doesn't have to be Access specifically, but it is in 99% of cases. You can't really avoid it, as it's required on the Matura exam. I've heard rumors that some teachers even teach the point and click interface instead of SQL.</span>\n",
      "              <div class=\"reply\"></div></div>, <div class=\"comment\">\n",
      "                  <span class=\"commtext c00\">&gt; Gravity is very similar to magnetism<p>The analogy doesn’t help, even ignoring that what we experience day-to-day is more like an electric field and there is a different gravitational analogy for magnetism, AKA gravitomagetism. It’s harder to notice than gravitational time dilation.</p><p>&gt; easy via fields</p><p>Only for people who find non-Euclidian geometry that mixes time and space and is defined by a bunch of 4x4 tensors to be “easy”.</p><p>&gt; [particles bad fields good]</p><p>“Particle” is a convenient human-scale name for things, but everything’s fields these days anyway. Even the Higgs.</p><p>In fact, GR is field-only — it’s QM which says “by the way, those things you call particles are a certain type of excitation in a field” and “if the gravity field has a particle it must be a massless spin-2 boson, also every massless spin-2 field is indistinguishable from gravity”.</p><p>&gt; doesn’t explain dark matter</p><p>Doesn’t need to. It says there’s something to look for. GR is “stuff does X”, the observation is “X”, so there must be stuff. We’re can’t see stuff, but GR doesn’t say we have to be able to see it.</p><p>&gt; fast rotating magnets</p><p>I don’t know what you’re referring to, the closest pattern I am matching your words to is Podkletnov whose work was never reproducible by third parties, and you can bet SpaceX will have tried.</p><p>&gt; better gravity field theories out there, but they are lacking experimental verification</p><p>Science doesn’t use verification, it uses falsification. When an hypothesis can’t be falsified even in principle it isn’t science; when it can but only in principle, it’s a hypothesis; when it has been tested and the attempt to falsify it results in evidence that persistently doesn’t falsify it to a standard of statistical significance, then it gets published and perhaps elevated to the level of “theory”.\n",
      "              </p><div class=\"reply\"></div></span></div>, <div class=\"comment\">\n",
      "                  <span class=\"commtext c00\">I'm on my phone so it is a bit hard to collect the links as much of what I've seen has been from Twitter but if you go on there and search \"NYPD subway\" you'll find numerous videos and recent accounts.</span>\n",
      "              <div class=\"reply\"></div></div>, <div class=\"comment\">\n",
      "                  <span class=\"commtext c00\">Isn't the 'problem' (for the wider population) that physicists are motivated towards answering the big questions (that's a valid outlay for $billions IMO, just like, say how we spend billions on football/soccer). So effectively what we're doing is allowing that because we know there are positive repercussions that come along with such exploration.<p>(Also a BSc in TPhys (&amp; maths), fwiw.)\n",
      "              </p><div class=\"reply\"></div></span></div>, <div class=\"comment\">\n",
      "                  <span class=\"commtext c00\">Yoga do miracles to your body, my uncle (or whatever the term is for brother of my grandmother) is 89 and is practicing yoga since 1940s and still having straight posture, much better than me in my 30s. He is also still working fulltime, being oldest professor on his university, teaching like 8 classes a year.</span>\n",
      "              <div class=\"reply\"></div></div>, <div class=\"comment\">\n",
      "                  <span class=\"commtext c00\">Are you against ad blockers too?</span>\n",
      "              <div class=\"reply\"></div></div>, <div class=\"comment\">\n",
      "                  <span class=\"commtext c00\">There's an initiative by the \"European Federation of Game Archives, Museums and Preservation Projects\" to get the Demo Scene on the \"UNESCO Cultural Heritage of Humanity\" list:<p><a href=\"https://efgamp.eu/2019/05/20/efgamp-launches-campaign-to-promote-the-demoscene-as-unesco-cultural-heritage-of-humanity/\" rel=\"nofollow\">https://efgamp.eu/2019/05/20/efgamp-launches-campaign-to-pro...</a>\n",
      "              </p><div class=\"reply\"></div></span></div>, <div class=\"comment\">\n",
      "                  <span class=\"commtext c00\">I have a good amount of experience with both winforms and modern web development. I would pick winforms over vanilla html and js. However, I would easily pick vuejs (or any comparable component based web framework) over winforms. Having maintained legacy VB apps with multiple 5000+ line forms, inscrutable multidirectional event chaining, and tangled up business logic and view logic, I've become a huge fan of forced separation of concerns.<p>The big problem is that there is much more of a learning curve. The first useful software I wrote used VB6 and winforms. Getting started was easy and intuitive, with a gentle learning curve. With virtually no experience, I was making neat things in hours. Within days I was making full applications. That says something about the power of that platform.</p><p>To be truly effective with modern web development took me a year or so. That was after years of professional experience.</p><p>At this point I can build web applications faster than I can build desktop software, but it took a huge time investment to reach this point, and I had to build multiple tools to make it possible.</p><p>I agree that there's a niche that needs filling. I want all the benefits of modern web development, and I want a learning curve like VB6 with Access.\n",
      "              </p><div class=\"reply\"></div></span></div>, <div class=\"comment\">\n",
      "                  <span class=\"commtext c00\">I stick with BBC News, but I balance it out with news from other sources, and somewhere in the middle of it all, is the 'real' story. In so far as the media are prepared to tell it.</span>\n",
      "              <div class=\"reply\"></div></div>, <div class=\"comment\">\n",
      "                  <span class=\"commtext c00\">Think along the lines of those recipe pages that have 2000 words of backstory that no one cares about but is considered good SEO practice in Googles eyes.</span>\n",
      "              <div class=\"reply\"></div></div>, <div class=\"comment\">\n",
      "                  <span class=\"commtext c00\">Yeah but U2F is more secure (non exportable key, non phishable). With AWS OTP is the only viable option.</span>\n",
      "              <div class=\"reply\"></div></div>, <div class=\"comment\">\n",
      "                  <span class=\"commtext c00\"><a href=\"https://www.theguardian.com/lifeandstyle/2019/may/10/and-the-least-feminist-nation-in-the-world-is-denmark\" rel=\"nofollow\">https://www.theguardian.com/lifeandstyle/2019/may/10/and-the...</a></span>\n",
      "              <div class=\"reply\"></div></div>, <div class=\"comment\">\n",
      "                  <span class=\"commtext c00\">i have no affiliation but like the product -- try <a href=\"https://airtable.com/\" rel=\"nofollow\">https://airtable.com/</a></span>\n",
      "              <div class=\"reply\"></div></div>, <div class=\"comment\">\n",
      "                  <span class=\"commtext c00\">Author here. After posting this to reddit I realized that the original title is wrong, and poorly reflects the actual point I'm trying to make. Dependency injection is not dynamic scoping, but the latter can be used to achieve the former. I'm drafting an update to better reflect this. I'm also going to pull out reader monads and env passing into separate sections and give reader monads a better treatment in general.</span>\n",
      "              <div class=\"reply\"></div></div>, <div class=\"comment\">\n",
      "                  <span class=\"commtext c00\">M72 LAW. I've actually shot a live one during my mandatory time at the military as a practice shot (We destroy our aging stock by making conscripts shoot them as a training exercise).<p>As a weapon it's the typical shaped charge warhead. It would be really dangerous against any normal non tank vehicle in short ranges. Against a tank it's useless nowadays. But the semi militarized armored cars used by some police forces would be disabled rather easily with one. Not blown up to smithereens, but a hit to the engine space would wreck that or a hit to the passenger compartment would kill some if not all inside.</p><p>Not that good against a building. A hand-grenade would do way more harm inside. So it's more of a trophy thing, or a really nasty surprise against SWAT truck assuming the culprit manages to hit with it.</p><p>The lax security Australia has towards these is rather hilarious.\n",
      "              </p><div class=\"reply\"></div></span></div>, <div class=\"comment\">\n",
      "                  <span class=\"commtext c00\">Yeah I also think the article is a waste of time. Who wrote the petition? Apparently it's not a haunted house anyway but a \"mobile experience\". After reading the article I don't think I've really learnt any facts apart from something that some people do that other people have a petition against that starts in Tennessee and ends in Alabama, but no-one has got to Alabama?</span>\n",
      "              <div class=\"reply\"></div></div>, <div class=\"comment\">\n",
      "                  <span class=\"commtext c00\">Another sign of authoritative police state with absolute power over citizens. We allowed this through the people we elected. Shame.</span>\n",
      "              <div class=\"reply\"></div></div>, <div class=\"comment\">\n",
      "                  <span class=\"commtext c00\">It's not only about altitude (<i>going</i> to space is easy), it's also about horizontal velocity (<i>staying</i> in space is hard: 8 km/sec is a lot).<p>I dont recall the exact number, but I think that altitude is 50% of the energy, the other 50% is horizontal velocity. So building a rocket on top of the Everest would save us maybe 5% (10 km vs 100 km altitude), that's not much\n",
      "              </p><div class=\"reply\"></div></span></div>]\n"
     ]
    }
   ],
   "source": [
    "# Find all comments\n",
    "comments = soup.find_all('div', class_='comment')\n",
    "print('There are {} number of comments found on the first page'.format(len(comments)))\n",
    "print(comments)"
   ]
  },
  {
   "cell_type": "code",
   "execution_count": 130,
   "metadata": {
    "ExecuteTime": {
     "end_time": "2019-10-31T09:49:36.069000Z",
     "start_time": "2019-10-31T09:49:36.054000Z"
    }
   },
   "outputs": [
    {
     "data": {
      "text/plain": [
       "'I even had point and click access on \"information technology\" course on the life sciences faculy on of the biggest polish university ~7 years ago'"
      ]
     },
     "execution_count": 130,
     "metadata": {},
     "output_type": "execute_result"
    }
   ],
   "source": [
    "# Example of the comment\n",
    "comments[0].find(\"span\", class_=\"commtext c00\").get_text().strip()"
   ]
  },
  {
   "cell_type": "code",
   "execution_count": 131,
   "metadata": {
    "ExecuteTime": {
     "end_time": "2019-10-31T09:49:39.609000Z",
     "start_time": "2019-10-31T09:49:39.588000Z"
    }
   },
   "outputs": [
    {
     "name": "stdout",
     "output_type": "stream",
     "text": [
      "30 Article summaries found. Sample:\n",
      "I even had point and click access on \"information technology\" course on the life sciences faculy on of the biggest polish university ~7 years ago\n"
     ]
    }
   ],
   "source": [
    "# Extract all comments\n",
    "clean_comments = []\n",
    "for comment in comments:\n",
    "    tmp = comment.find(\"span\", class_=\"commtext c00\").get_text().strip()\n",
    "    clean_comments.append(tmp)\n",
    "\n",
    "print(len(clean_comments), \"Article summaries found. Sample:\")\n",
    "print(clean_comments[0])"
   ]
  },
  {
   "cell_type": "code",
   "execution_count": 132,
   "metadata": {
    "ExecuteTime": {
     "end_time": "2019-10-31T09:49:44.484000Z",
     "start_time": "2019-10-31T09:49:44.470000Z"
    }
   },
   "outputs": [],
   "source": [
    "# Create unique id for each comment\n",
    "id_comments = [i for i in range(len(clean_comments))]"
   ]
  },
  {
   "cell_type": "code",
   "execution_count": 133,
   "metadata": {
    "ExecuteTime": {
     "end_time": "2019-10-31T09:49:46.437000Z",
     "start_time": "2019-10-31T09:49:46.414000Z"
    }
   },
   "outputs": [
    {
     "data": {
      "text/html": [
       "<div>\n",
       "<style scoped>\n",
       "    .dataframe tbody tr th:only-of-type {\n",
       "        vertical-align: middle;\n",
       "    }\n",
       "\n",
       "    .dataframe tbody tr th {\n",
       "        vertical-align: top;\n",
       "    }\n",
       "\n",
       "    .dataframe thead th {\n",
       "        text-align: right;\n",
       "    }\n",
       "</style>\n",
       "<table border=\"1\" class=\"dataframe\">\n",
       "  <thead>\n",
       "    <tr style=\"text-align: right;\">\n",
       "      <th></th>\n",
       "      <th>id</th>\n",
       "      <th>comment</th>\n",
       "    </tr>\n",
       "  </thead>\n",
       "  <tbody>\n",
       "    <tr>\n",
       "      <th>0</th>\n",
       "      <td>0</td>\n",
       "      <td>I even had point and click access on \"informat...</td>\n",
       "    </tr>\n",
       "    <tr>\n",
       "      <th>1</th>\n",
       "      <td>1</td>\n",
       "      <td>Please respect the people who have to work gru...</td>\n",
       "    </tr>\n",
       "    <tr>\n",
       "      <th>2</th>\n",
       "      <td>2</td>\n",
       "      <td>Weird that there seems to be much more debate ...</td>\n",
       "    </tr>\n",
       "    <tr>\n",
       "      <th>3</th>\n",
       "      <td>3</td>\n",
       "      <td>Your infrequent reminder:Goodhart’s curse: Eve...</td>\n",
       "    </tr>\n",
       "    <tr>\n",
       "      <th>4</th>\n",
       "      <td>4</td>\n",
       "      <td>Do you (always?) realise that need before the ...</td>\n",
       "    </tr>\n",
       "  </tbody>\n",
       "</table>\n",
       "</div>"
      ],
      "text/plain": [
       "   id                                            comment\n",
       "0   0  I even had point and click access on \"informat...\n",
       "1   1  Please respect the people who have to work gru...\n",
       "2   2  Weird that there seems to be much more debate ...\n",
       "3   3  Your infrequent reminder:Goodhart’s curse: Eve...\n",
       "4   4  Do you (always?) realise that need before the ..."
      ]
     },
     "metadata": {},
     "output_type": "display_data"
    }
   ],
   "source": [
    "# Create dataframe from the data\n",
    "df_dict = {'id':id_comments, 'comment':clean_comments}\n",
    "data = pd.DataFrame(df_dict)\n",
    "display(data.head())"
   ]
  },
  {
   "cell_type": "markdown",
   "metadata": {},
   "source": [
    "**Case normalization**"
   ]
  },
  {
   "cell_type": "code",
   "execution_count": 134,
   "metadata": {
    "ExecuteTime": {
     "end_time": "2019-10-31T09:49:50.976000Z",
     "start_time": "2019-10-31T09:49:50.949000Z"
    }
   },
   "outputs": [
    {
     "data": {
      "text/html": [
       "<div>\n",
       "<style scoped>\n",
       "    .dataframe tbody tr th:only-of-type {\n",
       "        vertical-align: middle;\n",
       "    }\n",
       "\n",
       "    .dataframe tbody tr th {\n",
       "        vertical-align: top;\n",
       "    }\n",
       "\n",
       "    .dataframe thead th {\n",
       "        text-align: right;\n",
       "    }\n",
       "</style>\n",
       "<table border=\"1\" class=\"dataframe\">\n",
       "  <thead>\n",
       "    <tr style=\"text-align: right;\">\n",
       "      <th></th>\n",
       "      <th>id</th>\n",
       "      <th>comment</th>\n",
       "    </tr>\n",
       "  </thead>\n",
       "  <tbody>\n",
       "    <tr>\n",
       "      <th>0</th>\n",
       "      <td>0</td>\n",
       "      <td>i even had point and click access on \"informat...</td>\n",
       "    </tr>\n",
       "    <tr>\n",
       "      <th>1</th>\n",
       "      <td>1</td>\n",
       "      <td>please respect the people who have to work gru...</td>\n",
       "    </tr>\n",
       "    <tr>\n",
       "      <th>2</th>\n",
       "      <td>2</td>\n",
       "      <td>weird that there seems to be much more debate ...</td>\n",
       "    </tr>\n",
       "    <tr>\n",
       "      <th>3</th>\n",
       "      <td>3</td>\n",
       "      <td>your infrequent reminder:goodhart’s curse: eve...</td>\n",
       "    </tr>\n",
       "    <tr>\n",
       "      <th>4</th>\n",
       "      <td>4</td>\n",
       "      <td>do you (always?) realise that need before the ...</td>\n",
       "    </tr>\n",
       "  </tbody>\n",
       "</table>\n",
       "</div>"
      ],
      "text/plain": [
       "   id                                            comment\n",
       "0   0  i even had point and click access on \"informat...\n",
       "1   1  please respect the people who have to work gru...\n",
       "2   2  weird that there seems to be much more debate ...\n",
       "3   3  your infrequent reminder:goodhart’s curse: eve...\n",
       "4   4  do you (always?) realise that need before the ..."
      ]
     },
     "metadata": {},
     "output_type": "display_data"
    }
   ],
   "source": [
    "# Convert to lowercase\n",
    "data['comment'] = data['comment'].str.lower()\n",
    "display(data.head())"
   ]
  },
  {
   "cell_type": "markdown",
   "metadata": {},
   "source": [
    "**Punctuation removal**"
   ]
  },
  {
   "cell_type": "code",
   "execution_count": 135,
   "metadata": {
    "ExecuteTime": {
     "end_time": "2019-10-31T09:49:53.863000Z",
     "start_time": "2019-10-31T09:49:53.831000Z"
    }
   },
   "outputs": [
    {
     "data": {
      "text/html": [
       "<div>\n",
       "<style scoped>\n",
       "    .dataframe tbody tr th:only-of-type {\n",
       "        vertical-align: middle;\n",
       "    }\n",
       "\n",
       "    .dataframe tbody tr th {\n",
       "        vertical-align: top;\n",
       "    }\n",
       "\n",
       "    .dataframe thead th {\n",
       "        text-align: right;\n",
       "    }\n",
       "</style>\n",
       "<table border=\"1\" class=\"dataframe\">\n",
       "  <thead>\n",
       "    <tr style=\"text-align: right;\">\n",
       "      <th></th>\n",
       "      <th>id</th>\n",
       "      <th>comment</th>\n",
       "    </tr>\n",
       "  </thead>\n",
       "  <tbody>\n",
       "    <tr>\n",
       "      <th>0</th>\n",
       "      <td>0</td>\n",
       "      <td>i even had point and click access on  informat...</td>\n",
       "    </tr>\n",
       "    <tr>\n",
       "      <th>1</th>\n",
       "      <td>1</td>\n",
       "      <td>please respect the people who have to work gru...</td>\n",
       "    </tr>\n",
       "    <tr>\n",
       "      <th>2</th>\n",
       "      <td>2</td>\n",
       "      <td>weird that there seems to be much more debate ...</td>\n",
       "    </tr>\n",
       "    <tr>\n",
       "      <th>3</th>\n",
       "      <td>3</td>\n",
       "      <td>your infrequent reminder goodhart s curse  eve...</td>\n",
       "    </tr>\n",
       "    <tr>\n",
       "      <th>4</th>\n",
       "      <td>4</td>\n",
       "      <td>do you  always   realise that need before the ...</td>\n",
       "    </tr>\n",
       "  </tbody>\n",
       "</table>\n",
       "</div>"
      ],
      "text/plain": [
       "   id                                            comment\n",
       "0   0  i even had point and click access on  informat...\n",
       "1   1  please respect the people who have to work gru...\n",
       "2   2  weird that there seems to be much more debate ...\n",
       "3   3  your infrequent reminder goodhart s curse  eve...\n",
       "4   4  do you  always   realise that need before the ..."
      ]
     },
     "metadata": {},
     "output_type": "display_data"
    }
   ],
   "source": [
    "# Punctuation removal\n",
    "data['comment'] = data['comment'].str.replace('[^a-zA-Z0-9]', ' ')\n",
    "display(data.head())"
   ]
  },
  {
   "cell_type": "markdown",
   "metadata": {},
   "source": [
    "**Remove stop words**"
   ]
  },
  {
   "cell_type": "code",
   "execution_count": 136,
   "metadata": {
    "ExecuteTime": {
     "end_time": "2019-10-31T09:49:57.358000Z",
     "start_time": "2019-10-31T09:49:56.198000Z"
    }
   },
   "outputs": [
    {
     "data": {
      "text/html": [
       "<div>\n",
       "<style scoped>\n",
       "    .dataframe tbody tr th:only-of-type {\n",
       "        vertical-align: middle;\n",
       "    }\n",
       "\n",
       "    .dataframe tbody tr th {\n",
       "        vertical-align: top;\n",
       "    }\n",
       "\n",
       "    .dataframe thead th {\n",
       "        text-align: right;\n",
       "    }\n",
       "</style>\n",
       "<table border=\"1\" class=\"dataframe\">\n",
       "  <thead>\n",
       "    <tr style=\"text-align: right;\">\n",
       "      <th></th>\n",
       "      <th>id</th>\n",
       "      <th>comment</th>\n",
       "    </tr>\n",
       "  </thead>\n",
       "  <tbody>\n",
       "    <tr>\n",
       "      <th>0</th>\n",
       "      <td>0</td>\n",
       "      <td>even point click access information technology...</td>\n",
       "    </tr>\n",
       "    <tr>\n",
       "      <th>1</th>\n",
       "      <td>1</td>\n",
       "      <td>please respect people work grueling repetitive...</td>\n",
       "    </tr>\n",
       "    <tr>\n",
       "      <th>2</th>\n",
       "      <td>2</td>\n",
       "      <td>weird seems much debate us force feeding geese...</td>\n",
       "    </tr>\n",
       "    <tr>\n",
       "      <th>3</th>\n",
       "      <td>3</td>\n",
       "      <td>infrequent reminder goodhart curse every metri...</td>\n",
       "    </tr>\n",
       "    <tr>\n",
       "      <th>4</th>\n",
       "      <td>4</td>\n",
       "      <td>always realise need product made</td>\n",
       "    </tr>\n",
       "  </tbody>\n",
       "</table>\n",
       "</div>"
      ],
      "text/plain": [
       "   id                                            comment\n",
       "0   0  even point click access information technology...\n",
       "1   1  please respect people work grueling repetitive...\n",
       "2   2  weird seems much debate us force feeding geese...\n",
       "3   3  infrequent reminder goodhart curse every metri...\n",
       "4   4                   always realise need product made"
      ]
     },
     "metadata": {},
     "output_type": "display_data"
    }
   ],
   "source": [
    "# Remove stop words\n",
    "data['comment'] = data['comment'].apply(lambda x: \" \".join(x for x in x.split() if x not in stopwords.words('english')))\n",
    "display(data.head())"
   ]
  },
  {
   "cell_type": "markdown",
   "metadata": {},
   "source": [
    "**Lemmatization**"
   ]
  },
  {
   "cell_type": "code",
   "execution_count": 137,
   "metadata": {
    "ExecuteTime": {
     "end_time": "2019-10-31T09:49:59.943000Z",
     "start_time": "2019-10-31T09:49:59.904000Z"
    }
   },
   "outputs": [
    {
     "data": {
      "text/html": [
       "<div>\n",
       "<style scoped>\n",
       "    .dataframe tbody tr th:only-of-type {\n",
       "        vertical-align: middle;\n",
       "    }\n",
       "\n",
       "    .dataframe tbody tr th {\n",
       "        vertical-align: top;\n",
       "    }\n",
       "\n",
       "    .dataframe thead th {\n",
       "        text-align: right;\n",
       "    }\n",
       "</style>\n",
       "<table border=\"1\" class=\"dataframe\">\n",
       "  <thead>\n",
       "    <tr style=\"text-align: right;\">\n",
       "      <th></th>\n",
       "      <th>id</th>\n",
       "      <th>comment</th>\n",
       "    </tr>\n",
       "  </thead>\n",
       "  <tbody>\n",
       "    <tr>\n",
       "      <th>0</th>\n",
       "      <td>0</td>\n",
       "      <td>even point click access information technology...</td>\n",
       "    </tr>\n",
       "    <tr>\n",
       "      <th>1</th>\n",
       "      <td>1</td>\n",
       "      <td>please respect people work grueling repetitive...</td>\n",
       "    </tr>\n",
       "    <tr>\n",
       "      <th>2</th>\n",
       "      <td>2</td>\n",
       "      <td>weird seems much debate u force feeding goose ...</td>\n",
       "    </tr>\n",
       "    <tr>\n",
       "      <th>3</th>\n",
       "      <td>3</td>\n",
       "      <td>infrequent reminder goodhart curse every metri...</td>\n",
       "    </tr>\n",
       "    <tr>\n",
       "      <th>4</th>\n",
       "      <td>4</td>\n",
       "      <td>always realise need product made</td>\n",
       "    </tr>\n",
       "  </tbody>\n",
       "</table>\n",
       "</div>"
      ],
      "text/plain": [
       "   id                                            comment\n",
       "0   0  even point click access information technology...\n",
       "1   1  please respect people work grueling repetitive...\n",
       "2   2  weird seems much debate u force feeding goose ...\n",
       "3   3  infrequent reminder goodhart curse every metri...\n",
       "4   4                   always realise need product made"
      ]
     },
     "metadata": {},
     "output_type": "display_data"
    }
   ],
   "source": [
    "# Lemmatize each words\n",
    "data['comment'] = data['comment'].apply(lambda x: \" \".join([Word(word).lemmatize() for word in x.split()]))\n",
    "display(data.head())"
   ]
  },
  {
   "cell_type": "markdown",
   "metadata": {},
   "source": [
    "**Sentiment labeling**"
   ]
  },
  {
   "cell_type": "code",
   "execution_count": 138,
   "metadata": {
    "ExecuteTime": {
     "end_time": "2019-10-31T09:50:02.477000Z",
     "start_time": "2019-10-31T09:50:02.470000Z"
    }
   },
   "outputs": [],
   "source": [
    "data_label = data.copy()\n",
    "text = data_label['comment']"
   ]
  },
  {
   "cell_type": "code",
   "execution_count": 139,
   "metadata": {
    "ExecuteTime": {
     "end_time": "2019-10-31T09:50:04.238000Z",
     "start_time": "2019-10-31T09:50:04.204000Z"
    }
   },
   "outputs": [
    {
     "name": "stderr",
     "output_type": "stream",
     "text": [
      "C:\\Users\\mpadmanagara\\AppData\\Local\\Continuum\\anaconda3\\lib\\site-packages\\ipykernel_launcher.py:4: FutureWarning: set_value is deprecated and will be removed in a future release. Please use .at[] or .iat[] accessors instead\n",
      "  after removing the cwd from sys.path.\n",
      "C:\\Users\\mpadmanagara\\AppData\\Local\\Continuum\\anaconda3\\lib\\site-packages\\ipykernel_launcher.py:13: FutureWarning: set_value is deprecated and will be removed in a future release. Please use .at[] or .iat[] accessors instead\n",
      "  del sys.path[0]\n",
      "C:\\Users\\mpadmanagara\\AppData\\Local\\Continuum\\anaconda3\\lib\\site-packages\\ipykernel_launcher.py:7: FutureWarning: set_value is deprecated and will be removed in a future release. Please use .at[] or .iat[] accessors instead\n",
      "  import sys\n",
      "C:\\Users\\mpadmanagara\\AppData\\Local\\Continuum\\anaconda3\\lib\\site-packages\\ipykernel_launcher.py:10: FutureWarning: set_value is deprecated and will be removed in a future release. Please use .at[] or .iat[] accessors instead\n",
      "  # Remove the CWD from sys.path while we load stuff.\n"
     ]
    }
   ],
   "source": [
    "for i in range(0,len(text)):\n",
    "    textB = TextBlob(text[i])\n",
    "    sentiment = textB.sentiment.polarity\n",
    "    data_label.set_value(i,'sentiment', sentiment)\n",
    "    if sentiment < 0.00 :\n",
    "        sentimentclass = 'Negative'\n",
    "        data_label.set_value(i, 'sentimentclass', sentimentclass)\n",
    "    elif sentiment > 0.00 :\n",
    "        sentimentclass = 'Positive'\n",
    "        data_label.set_value(i, 'sentimentclass', sentimentclass)\n",
    "    else :\n",
    "        sentimentclass = ' Netral'\n",
    "        data_label.set_value(i, 'sentimentclass', sentimentclass)"
   ]
  },
  {
   "cell_type": "code",
   "execution_count": 140,
   "metadata": {
    "ExecuteTime": {
     "end_time": "2019-10-31T09:50:07.236000Z",
     "start_time": "2019-10-31T09:50:07.225000Z"
    }
   },
   "outputs": [
    {
     "data": {
      "text/html": [
       "<div>\n",
       "<style scoped>\n",
       "    .dataframe tbody tr th:only-of-type {\n",
       "        vertical-align: middle;\n",
       "    }\n",
       "\n",
       "    .dataframe tbody tr th {\n",
       "        vertical-align: top;\n",
       "    }\n",
       "\n",
       "    .dataframe thead th {\n",
       "        text-align: right;\n",
       "    }\n",
       "</style>\n",
       "<table border=\"1\" class=\"dataframe\">\n",
       "  <thead>\n",
       "    <tr style=\"text-align: right;\">\n",
       "      <th></th>\n",
       "      <th>id</th>\n",
       "      <th>comment</th>\n",
       "      <th>sentiment</th>\n",
       "      <th>sentimentclass</th>\n",
       "    </tr>\n",
       "  </thead>\n",
       "  <tbody>\n",
       "    <tr>\n",
       "      <th>0</th>\n",
       "      <td>0</td>\n",
       "      <td>even point click access information technology...</td>\n",
       "      <td>0.000000</td>\n",
       "      <td>Netral</td>\n",
       "    </tr>\n",
       "    <tr>\n",
       "      <th>1</th>\n",
       "      <td>1</td>\n",
       "      <td>please respect people work grueling repetitive...</td>\n",
       "      <td>-0.233333</td>\n",
       "      <td>Negative</td>\n",
       "    </tr>\n",
       "    <tr>\n",
       "      <th>2</th>\n",
       "      <td>2</td>\n",
       "      <td>weird seems much debate u force feeding goose ...</td>\n",
       "      <td>-0.150000</td>\n",
       "      <td>Negative</td>\n",
       "    </tr>\n",
       "    <tr>\n",
       "      <th>3</th>\n",
       "      <td>3</td>\n",
       "      <td>infrequent reminder goodhart curse every metri...</td>\n",
       "      <td>0.000000</td>\n",
       "      <td>Netral</td>\n",
       "    </tr>\n",
       "    <tr>\n",
       "      <th>4</th>\n",
       "      <td>4</td>\n",
       "      <td>always realise need product made</td>\n",
       "      <td>0.000000</td>\n",
       "      <td>Netral</td>\n",
       "    </tr>\n",
       "  </tbody>\n",
       "</table>\n",
       "</div>"
      ],
      "text/plain": [
       "   id                                            comment  sentiment  \\\n",
       "0   0  even point click access information technology...   0.000000   \n",
       "1   1  please respect people work grueling repetitive...  -0.233333   \n",
       "2   2  weird seems much debate u force feeding goose ...  -0.150000   \n",
       "3   3  infrequent reminder goodhart curse every metri...   0.000000   \n",
       "4   4                   always realise need product made   0.000000   \n",
       "\n",
       "  sentimentclass  \n",
       "0         Netral  \n",
       "1       Negative  \n",
       "2       Negative  \n",
       "3         Netral  \n",
       "4         Netral  "
      ]
     },
     "execution_count": 140,
     "metadata": {},
     "output_type": "execute_result"
    }
   ],
   "source": [
    "data_label.head()"
   ]
  },
  {
   "cell_type": "markdown",
   "metadata": {},
   "source": [
    "**Sentiments distribution**"
   ]
  },
  {
   "cell_type": "code",
   "execution_count": 141,
   "metadata": {
    "ExecuteTime": {
     "end_time": "2019-10-31T09:50:10.408000Z",
     "start_time": "2019-10-31T09:50:10.376000Z"
    }
   },
   "outputs": [
    {
     "data": {
      "text/html": [
       "<div>\n",
       "<style scoped>\n",
       "    .dataframe tbody tr th:only-of-type {\n",
       "        vertical-align: middle;\n",
       "    }\n",
       "\n",
       "    .dataframe tbody tr th {\n",
       "        vertical-align: top;\n",
       "    }\n",
       "\n",
       "    .dataframe thead th {\n",
       "        text-align: right;\n",
       "    }\n",
       "</style>\n",
       "<table border=\"1\" class=\"dataframe\">\n",
       "  <thead>\n",
       "    <tr style=\"text-align: right;\">\n",
       "      <th></th>\n",
       "      <th>sentimentclass</th>\n",
       "      <th>comments_count</th>\n",
       "      <th>percent</th>\n",
       "    </tr>\n",
       "  </thead>\n",
       "  <tbody>\n",
       "    <tr>\n",
       "      <th>0</th>\n",
       "      <td>Netral</td>\n",
       "      <td>6</td>\n",
       "      <td>0.200000</td>\n",
       "    </tr>\n",
       "    <tr>\n",
       "      <th>1</th>\n",
       "      <td>Negative</td>\n",
       "      <td>8</td>\n",
       "      <td>0.266667</td>\n",
       "    </tr>\n",
       "    <tr>\n",
       "      <th>2</th>\n",
       "      <td>Positive</td>\n",
       "      <td>16</td>\n",
       "      <td>0.533333</td>\n",
       "    </tr>\n",
       "  </tbody>\n",
       "</table>\n",
       "</div>"
      ],
      "text/plain": [
       "  sentimentclass  comments_count   percent\n",
       "0         Netral               6  0.200000\n",
       "1       Negative               8  0.266667\n",
       "2       Positive              16  0.533333"
      ]
     },
     "metadata": {},
     "output_type": "display_data"
    }
   ],
   "source": [
    "#count sentiment \n",
    "sentiment = data_label.groupby(['sentimentclass'])['sentimentclass'].count()\n",
    "\n",
    "#make dataframe that will be created a chart \n",
    "chart = pd.DataFrame(sentiment)\n",
    "chart['comments_count'] = chart['sentimentclass']\n",
    "chart.drop(['sentimentclass'], axis = 1, inplace = True )\n",
    "chart = chart.reset_index()\n",
    "\n",
    "#make a proportion of the number of tweet of each sentiment \n",
    "chart['percent'] = chart['comments_count']/chart['comments_count'].sum()\n",
    "display(chart)"
   ]
  },
  {
   "cell_type": "markdown",
   "metadata": {},
   "source": [
    "**Plot sentiments distribution**"
   ]
  },
  {
   "cell_type": "code",
   "execution_count": 142,
   "metadata": {
    "ExecuteTime": {
     "end_time": "2019-10-31T09:50:14.128000Z",
     "start_time": "2019-10-31T09:50:13.911000Z"
    }
   },
   "outputs": [
    {
     "data": {
      "image/png": "[encoded data removed]",
      "text/plain": [
       "<Figure size 1080x360 with 1 Axes>"
      ]
     },
     "metadata": {
      "needs_background": "light"
     },
     "output_type": "display_data"
    }
   ],
   "source": [
    "import seaborn as sns\n",
    "import matplotlib.pyplot as plt\n",
    "#make a barchar\n",
    "plt.figure(figsize=(15,5 ))\n",
    "ax = sns.barplot(x= 'sentimentclass', y='comments_count', data=chart)\n",
    "ax = ax.set_title('The number of sentiment for each class') "
   ]
  }
 ],
 "metadata": {
  "kernelspec": {
   "display_name": "Python 3",
   "language": "python",
   "name": "python3"
  },
  "language_info": {
   "codemirror_mode": {
    "name": "ipython",
    "version": 3
   },
   "file_extension": ".py",
   "mimetype": "text/x-python",
   "name": "python",
   "nbconvert_exporter": "python",
   "pygments_lexer": "ipython3",
   "version": "3.7.3"
  },
  "latex_envs": {
   "LaTeX_envs_menu_present": true,
   "autoclose": false,
   "autocomplete": true,
   "bibliofile": "biblio.bib",
   "cite_by": "apalike",
   "current_citInitial": 1,
   "eqLabelWithNumbers": true,
   "eqNumInitial": 1,
   "hotkeys": {
    "equation": "Ctrl-E",
    "itemize": "Ctrl-I"
   },
   "labels_anchors": false,
   "latex_user_defs": false,
   "report_style_numbering": false,
   "user_envs_cfg": false
  },
  "toc": {
   "base_numbering": 1,
   "nav_menu": {},
   "number_sections": true,
   "sideBar": true,
   "skip_h1_title": false,
   "title_cell": "Table of Contents",
   "title_sidebar": "Contents",
   "toc_cell": false,
   "toc_position": {},
   "toc_section_display": true,
   "toc_window_display": false
  }
 },
 "nbformat": 4,
 "nbformat_minor": 2
}
