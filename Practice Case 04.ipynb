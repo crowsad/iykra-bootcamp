{
 "cells": [
  {
   "cell_type": "markdown",
   "metadata": {},
   "source": [
    "# Foundation of Machine Learning Practice Case\n",
    "***\n",
    "All the task below will be answered using the given dataset which is provided in the e-Learning System\n",
    "Dataset is a historical flight data in Malaysia from Oct 2018 – Nov 2018\n",
    "Data consist of information of flight such as:\n",
    "1. Date of flight\n",
    "2. Date of arrival\n",
    "3. Departure Delay\n",
    "4. Tail Number\n",
    "5. Airline Name\n",
    "6. Departure Location\n",
    "7. Arrival Location\n",
    "8. Flight Number\n",
    "9. Delay\n",
    "\n",
    "You can add any outsource data to help your task, but you need to put the source of the data in the\n",
    "glossary\n",
    "***\n",
    "There are 3 models that you have to make:\n",
    "1. Linear Regression\n",
    "2. Logistic Regression\n",
    "3. 1 Supervised model you choose\n"
   ]
  },
  {
   "cell_type": "code",
   "execution_count": 1,
   "metadata": {
    "ExecuteTime": {
     "end_time": "2019-11-04T12:37:56.905000Z",
     "start_time": "2019-11-04T12:37:52.805000Z"
    }
   },
   "outputs": [],
   "source": [
    "# Import the libraries and load the data\n",
    "import pandas as pd\n",
    "import numpy as np\n",
    "import matplotlib.pyplot as plt\n",
    "import seaborn as sns\n",
    "%matplotlib inline\n",
    "from IPython.display import display, Markdown\n",
    "pd.options.display.max_columns = None\n",
    "pd.options.display.max_rows = 15\n",
    "\n",
    "data_train = pd.read_csv(r'./dataset/training_dataset.csv', index_col='id')\n",
    "data_test = pd.read_csv(r'./dataset/test_dataset.csv', index_col='id')"
   ]
  },
  {
   "cell_type": "code",
   "execution_count": 2,
   "metadata": {
    "ExecuteTime": {
     "end_time": "2019-11-04T12:37:56.968000Z",
     "start_time": "2019-11-04T12:37:56.907000Z"
    }
   },
   "outputs": [
    {
     "data": {
      "text/html": [
       "<div>\n",
       "<style scoped>\n",
       "    .dataframe tbody tr th:only-of-type {\n",
       "        vertical-align: middle;\n",
       "    }\n",
       "\n",
       "    .dataframe tbody tr th {\n",
       "        vertical-align: top;\n",
       "    }\n",
       "\n",
       "    .dataframe thead th {\n",
       "        text-align: right;\n",
       "    }\n",
       "</style>\n",
       "<table border=\"1\" class=\"dataframe\">\n",
       "  <thead>\n",
       "    <tr style=\"text-align: right;\">\n",
       "      <th></th>\n",
       "      <th>number</th>\n",
       "      <th>airline</th>\n",
       "      <th>airline_name</th>\n",
       "      <th>scheduled_departure_time</th>\n",
       "      <th>scheduled_arrival_time</th>\n",
       "      <th>departure_airport_city</th>\n",
       "      <th>departure_airport_code</th>\n",
       "      <th>departure_airport_country</th>\n",
       "      <th>departure_airport_gate</th>\n",
       "      <th>departure_airport_name</th>\n",
       "      <th>departure_airport_region</th>\n",
       "      <th>departure_airport_terminal</th>\n",
       "      <th>departure_airport_timezone</th>\n",
       "      <th>arrival_airport_city</th>\n",
       "      <th>arrival_airport_code</th>\n",
       "      <th>arrival_airport_country</th>\n",
       "      <th>arrival_airport_gate</th>\n",
       "      <th>arrival_airport_name</th>\n",
       "      <th>arrival_airport_region</th>\n",
       "      <th>arrival_airport_terminal</th>\n",
       "      <th>arrival_airport_timezone</th>\n",
       "      <th>flight_equipment_iata</th>\n",
       "      <th>flight_equipment_name</th>\n",
       "      <th>flight_duration</th>\n",
       "      <th>delay</th>\n",
       "    </tr>\n",
       "    <tr>\n",
       "      <th>id</th>\n",
       "      <th></th>\n",
       "      <th></th>\n",
       "      <th></th>\n",
       "      <th></th>\n",
       "      <th></th>\n",
       "      <th></th>\n",
       "      <th></th>\n",
       "      <th></th>\n",
       "      <th></th>\n",
       "      <th></th>\n",
       "      <th></th>\n",
       "      <th></th>\n",
       "      <th></th>\n",
       "      <th></th>\n",
       "      <th></th>\n",
       "      <th></th>\n",
       "      <th></th>\n",
       "      <th></th>\n",
       "      <th></th>\n",
       "      <th></th>\n",
       "      <th></th>\n",
       "      <th></th>\n",
       "      <th></th>\n",
       "      <th></th>\n",
       "      <th></th>\n",
       "    </tr>\n",
       "  </thead>\n",
       "  <tbody>\n",
       "    <tr>\n",
       "      <th>1</th>\n",
       "      <td>AK6430</td>\n",
       "      <td>AK</td>\n",
       "      <td>AirAsia</td>\n",
       "      <td>2018-10-05 22:00:00</td>\n",
       "      <td>2018-10-05 23:05:00</td>\n",
       "      <td>Kuala Lumpur</td>\n",
       "      <td>KUL</td>\n",
       "      <td>MY</td>\n",
       "      <td>J15</td>\n",
       "      <td>Kuala Lumpur International Airport</td>\n",
       "      <td>Asia</td>\n",
       "      <td>2</td>\n",
       "      <td>Asia/Kuala_Lumpur</td>\n",
       "      <td>Kota Bharu</td>\n",
       "      <td>KBR</td>\n",
       "      <td>MY</td>\n",
       "      <td>2</td>\n",
       "      <td>Sultan Ismail Petra Airport</td>\n",
       "      <td>Asia</td>\n",
       "      <td>NaN</td>\n",
       "      <td>Asia/Kuala_Lumpur</td>\n",
       "      <td>32S</td>\n",
       "      <td>Airbus A318 / A319 / A320 / A321</td>\n",
       "      <td>58m</td>\n",
       "      <td>2</td>\n",
       "    </tr>\n",
       "    <tr>\n",
       "      <th>2</th>\n",
       "      <td>ID*7164</td>\n",
       "      <td>ID*</td>\n",
       "      <td>Batik Air</td>\n",
       "      <td>2018-10-05 22:00:00</td>\n",
       "      <td>2018-10-05 23:55:00</td>\n",
       "      <td>Kuala Lumpur</td>\n",
       "      <td>KUL</td>\n",
       "      <td>MY</td>\n",
       "      <td>C33</td>\n",
       "      <td>Kuala Lumpur International Airport</td>\n",
       "      <td>Asia</td>\n",
       "      <td>M</td>\n",
       "      <td>Asia/Kuala_Lumpur</td>\n",
       "      <td>Jakarta</td>\n",
       "      <td>CGK</td>\n",
       "      <td>ID</td>\n",
       "      <td>5</td>\n",
       "      <td>Soekarno-Hatta International Airport</td>\n",
       "      <td>Asia</td>\n",
       "      <td>2</td>\n",
       "      <td>Asia/Jakarta</td>\n",
       "      <td>32S</td>\n",
       "      <td>Airbus A318 / A319 / A320 / A321</td>\n",
       "      <td>1h 55m</td>\n",
       "      <td>8</td>\n",
       "    </tr>\n",
       "    <tr>\n",
       "      <th>3</th>\n",
       "      <td>MXD9116</td>\n",
       "      <td>MXD</td>\n",
       "      <td>Malindo Air</td>\n",
       "      <td>2018-10-05 22:00:00</td>\n",
       "      <td>2018-10-05 23:55:00</td>\n",
       "      <td>Kuala Lumpur</td>\n",
       "      <td>KUL</td>\n",
       "      <td>MY</td>\n",
       "      <td>C33</td>\n",
       "      <td>Kuala Lumpur International Airport</td>\n",
       "      <td>Asia</td>\n",
       "      <td>M</td>\n",
       "      <td>Asia/Kuala_Lumpur</td>\n",
       "      <td>Jakarta</td>\n",
       "      <td>CGK</td>\n",
       "      <td>ID</td>\n",
       "      <td>5</td>\n",
       "      <td>Soekarno-Hatta International Airport</td>\n",
       "      <td>Asia</td>\n",
       "      <td>2</td>\n",
       "      <td>Asia/Jakarta</td>\n",
       "      <td>32S</td>\n",
       "      <td>Airbus A318 / A319 / A320 / A321</td>\n",
       "      <td>1h 55m</td>\n",
       "      <td>8</td>\n",
       "    </tr>\n",
       "    <tr>\n",
       "      <th>4</th>\n",
       "      <td>AK5198</td>\n",
       "      <td>AK</td>\n",
       "      <td>AirAsia</td>\n",
       "      <td>2018-10-05 22:05:00</td>\n",
       "      <td>2018-10-06 01:00:00</td>\n",
       "      <td>Kuala Lumpur</td>\n",
       "      <td>KUL</td>\n",
       "      <td>MY</td>\n",
       "      <td>J9</td>\n",
       "      <td>Kuala Lumpur International Airport</td>\n",
       "      <td>Asia</td>\n",
       "      <td>2</td>\n",
       "      <td>Asia/Kuala_Lumpur</td>\n",
       "      <td>Sandakan</td>\n",
       "      <td>SDK</td>\n",
       "      <td>MY</td>\n",
       "      <td>INT</td>\n",
       "      <td>Sandakan Airport</td>\n",
       "      <td>Asia</td>\n",
       "      <td>NaN</td>\n",
       "      <td>Asia/Kuala_Lumpur</td>\n",
       "      <td>32S</td>\n",
       "      <td>Airbus A318 / A319 / A320 / A321</td>\n",
       "      <td>2h 54m</td>\n",
       "      <td>0</td>\n",
       "    </tr>\n",
       "    <tr>\n",
       "      <th>5</th>\n",
       "      <td>AK516</td>\n",
       "      <td>AK</td>\n",
       "      <td>AirAsia</td>\n",
       "      <td>2018-10-05 22:10:00</td>\n",
       "      <td>2018-10-06 01:25:00</td>\n",
       "      <td>Kuala Lumpur</td>\n",
       "      <td>KUL</td>\n",
       "      <td>MY</td>\n",
       "      <td>P1</td>\n",
       "      <td>Kuala Lumpur International Airport</td>\n",
       "      <td>Asia</td>\n",
       "      <td>2</td>\n",
       "      <td>Asia/Kuala_Lumpur</td>\n",
       "      <td>Hanoi</td>\n",
       "      <td>HAN</td>\n",
       "      <td>VN</td>\n",
       "      <td>NaN</td>\n",
       "      <td>Noi Bai International Airport</td>\n",
       "      <td>Asia</td>\n",
       "      <td>T2</td>\n",
       "      <td>Asia/Ho_Chi_Minh</td>\n",
       "      <td>32S</td>\n",
       "      <td>Airbus A318 / A319 / A320 / A321</td>\n",
       "      <td>3h 17m</td>\n",
       "      <td>0</td>\n",
       "    </tr>\n",
       "  </tbody>\n",
       "</table>\n",
       "</div>"
      ],
      "text/plain": [
       "     number airline airline_name scheduled_departure_time  \\\n",
       "id                                                          \n",
       "1    AK6430      AK      AirAsia      2018-10-05 22:00:00   \n",
       "2   ID*7164     ID*    Batik Air      2018-10-05 22:00:00   \n",
       "3   MXD9116     MXD  Malindo Air      2018-10-05 22:00:00   \n",
       "4    AK5198      AK      AirAsia      2018-10-05 22:05:00   \n",
       "5     AK516      AK      AirAsia      2018-10-05 22:10:00   \n",
       "\n",
       "   scheduled_arrival_time departure_airport_city departure_airport_code  \\\n",
       "id                                                                        \n",
       "1     2018-10-05 23:05:00           Kuala Lumpur                    KUL   \n",
       "2     2018-10-05 23:55:00           Kuala Lumpur                    KUL   \n",
       "3     2018-10-05 23:55:00           Kuala Lumpur                    KUL   \n",
       "4     2018-10-06 01:00:00           Kuala Lumpur                    KUL   \n",
       "5     2018-10-06 01:25:00           Kuala Lumpur                    KUL   \n",
       "\n",
       "   departure_airport_country departure_airport_gate  \\\n",
       "id                                                    \n",
       "1                         MY                    J15   \n",
       "2                         MY                    C33   \n",
       "3                         MY                    C33   \n",
       "4                         MY                     J9   \n",
       "5                         MY                     P1   \n",
       "\n",
       "                departure_airport_name departure_airport_region  \\\n",
       "id                                                                \n",
       "1   Kuala Lumpur International Airport                     Asia   \n",
       "2   Kuala Lumpur International Airport                     Asia   \n",
       "3   Kuala Lumpur International Airport                     Asia   \n",
       "4   Kuala Lumpur International Airport                     Asia   \n",
       "5   Kuala Lumpur International Airport                     Asia   \n",
       "\n",
       "   departure_airport_terminal departure_airport_timezone arrival_airport_city  \\\n",
       "id                                                                              \n",
       "1                           2          Asia/Kuala_Lumpur           Kota Bharu   \n",
       "2                           M          Asia/Kuala_Lumpur              Jakarta   \n",
       "3                           M          Asia/Kuala_Lumpur              Jakarta   \n",
       "4                           2          Asia/Kuala_Lumpur             Sandakan   \n",
       "5                           2          Asia/Kuala_Lumpur                Hanoi   \n",
       "\n",
       "   arrival_airport_code arrival_airport_country arrival_airport_gate  \\\n",
       "id                                                                     \n",
       "1                   KBR                      MY                    2   \n",
       "2                   CGK                      ID                    5   \n",
       "3                   CGK                      ID                    5   \n",
       "4                   SDK                      MY                  INT   \n",
       "5                   HAN                      VN                  NaN   \n",
       "\n",
       "                    arrival_airport_name arrival_airport_region  \\\n",
       "id                                                                \n",
       "1            Sultan Ismail Petra Airport                   Asia   \n",
       "2   Soekarno-Hatta International Airport                   Asia   \n",
       "3   Soekarno-Hatta International Airport                   Asia   \n",
       "4                       Sandakan Airport                   Asia   \n",
       "5          Noi Bai International Airport                   Asia   \n",
       "\n",
       "   arrival_airport_terminal arrival_airport_timezone flight_equipment_iata  \\\n",
       "id                                                                           \n",
       "1                       NaN        Asia/Kuala_Lumpur                   32S   \n",
       "2                         2             Asia/Jakarta                   32S   \n",
       "3                         2             Asia/Jakarta                   32S   \n",
       "4                       NaN        Asia/Kuala_Lumpur                   32S   \n",
       "5                        T2         Asia/Ho_Chi_Minh                   32S   \n",
       "\n",
       "               flight_equipment_name flight_duration  delay  \n",
       "id                                                           \n",
       "1   Airbus A318 / A319 / A320 / A321             58m      2  \n",
       "2   Airbus A318 / A319 / A320 / A321          1h 55m      8  \n",
       "3   Airbus A318 / A319 / A320 / A321          1h 55m      8  \n",
       "4   Airbus A318 / A319 / A320 / A321          2h 54m      0  \n",
       "5   Airbus A318 / A319 / A320 / A321          3h 17m      0  "
      ]
     },
     "metadata": {},
     "output_type": "display_data"
    },
    {
     "data": {
      "text/html": [
       "<div>\n",
       "<style scoped>\n",
       "    .dataframe tbody tr th:only-of-type {\n",
       "        vertical-align: middle;\n",
       "    }\n",
       "\n",
       "    .dataframe tbody tr th {\n",
       "        vertical-align: top;\n",
       "    }\n",
       "\n",
       "    .dataframe thead th {\n",
       "        text-align: right;\n",
       "    }\n",
       "</style>\n",
       "<table border=\"1\" class=\"dataframe\">\n",
       "  <thead>\n",
       "    <tr style=\"text-align: right;\">\n",
       "      <th></th>\n",
       "      <th>number</th>\n",
       "      <th>airline</th>\n",
       "      <th>airline_name</th>\n",
       "      <th>scheduled_departure_time</th>\n",
       "      <th>scheduled_arrival_time</th>\n",
       "      <th>departure_airport_city</th>\n",
       "      <th>departure_airport_code</th>\n",
       "      <th>departure_airport_country</th>\n",
       "      <th>departure_airport_gate</th>\n",
       "      <th>departure_airport_name</th>\n",
       "      <th>departure_airport_region</th>\n",
       "      <th>departure_airport_terminal</th>\n",
       "      <th>departure_airport_timezone</th>\n",
       "      <th>arrival_airport_city</th>\n",
       "      <th>arrival_airport_code</th>\n",
       "      <th>arrival_airport_country</th>\n",
       "      <th>arrival_airport_gate</th>\n",
       "      <th>arrival_airport_name</th>\n",
       "      <th>arrival_airport_region</th>\n",
       "      <th>arrival_airport_terminal</th>\n",
       "      <th>arrival_airport_timezone</th>\n",
       "      <th>flight_equipment_iata</th>\n",
       "      <th>flight_equipment_name</th>\n",
       "      <th>flight_duration</th>\n",
       "      <th>delay</th>\n",
       "    </tr>\n",
       "    <tr>\n",
       "      <th>id</th>\n",
       "      <th></th>\n",
       "      <th></th>\n",
       "      <th></th>\n",
       "      <th></th>\n",
       "      <th></th>\n",
       "      <th></th>\n",
       "      <th></th>\n",
       "      <th></th>\n",
       "      <th></th>\n",
       "      <th></th>\n",
       "      <th></th>\n",
       "      <th></th>\n",
       "      <th></th>\n",
       "      <th></th>\n",
       "      <th></th>\n",
       "      <th></th>\n",
       "      <th></th>\n",
       "      <th></th>\n",
       "      <th></th>\n",
       "      <th></th>\n",
       "      <th></th>\n",
       "      <th></th>\n",
       "      <th></th>\n",
       "      <th></th>\n",
       "      <th></th>\n",
       "    </tr>\n",
       "  </thead>\n",
       "  <tbody>\n",
       "    <tr>\n",
       "      <th>483244</th>\n",
       "      <td>CZ7412</td>\n",
       "      <td>CZ</td>\n",
       "      <td>China Southern Airlines</td>\n",
       "      <td>2018-12-01 00:00:00</td>\n",
       "      <td>2018-12-01 04:40:00</td>\n",
       "      <td>Kuala Lumpur</td>\n",
       "      <td>KUL</td>\n",
       "      <td>MY</td>\n",
       "      <td>C11</td>\n",
       "      <td>Kuala Lumpur International Airport</td>\n",
       "      <td>Asia</td>\n",
       "      <td>1</td>\n",
       "      <td>Asia/Kuala_Lumpur</td>\n",
       "      <td>Fuzhou</td>\n",
       "      <td>FOC</td>\n",
       "      <td>CN</td>\n",
       "      <td>NaN</td>\n",
       "      <td>Changle International Airport</td>\n",
       "      <td>Asia</td>\n",
       "      <td>NaN</td>\n",
       "      <td>Asia/Shanghai</td>\n",
       "      <td>738</td>\n",
       "      <td>Boeing 737-800 Passenger</td>\n",
       "      <td>4h 40m</td>\n",
       "      <td>15</td>\n",
       "    </tr>\n",
       "    <tr>\n",
       "      <th>483245</th>\n",
       "      <td>MH5712</td>\n",
       "      <td>MH</td>\n",
       "      <td>Malaysia Airlines</td>\n",
       "      <td>2018-12-01 00:00:00</td>\n",
       "      <td>2018-12-01 04:40:00</td>\n",
       "      <td>Kuala Lumpur</td>\n",
       "      <td>KUL</td>\n",
       "      <td>MY</td>\n",
       "      <td>C11</td>\n",
       "      <td>Kuala Lumpur International Airport</td>\n",
       "      <td>Asia</td>\n",
       "      <td>1</td>\n",
       "      <td>Asia/Kuala_Lumpur</td>\n",
       "      <td>Fuzhou</td>\n",
       "      <td>FOC</td>\n",
       "      <td>CN</td>\n",
       "      <td>NaN</td>\n",
       "      <td>Changle International Airport</td>\n",
       "      <td>Asia</td>\n",
       "      <td>NaN</td>\n",
       "      <td>Asia/Shanghai</td>\n",
       "      <td>738</td>\n",
       "      <td>Boeing 737-800 Passenger</td>\n",
       "      <td>4h 40m</td>\n",
       "      <td>15</td>\n",
       "    </tr>\n",
       "    <tr>\n",
       "      <th>483246</th>\n",
       "      <td>TK8186</td>\n",
       "      <td>TK</td>\n",
       "      <td>Turkish Airlines</td>\n",
       "      <td>2018-12-01 00:00:00</td>\n",
       "      <td>2018-12-01 02:40:00</td>\n",
       "      <td>Kuala Lumpur</td>\n",
       "      <td>KUL</td>\n",
       "      <td>MY</td>\n",
       "      <td>A4</td>\n",
       "      <td>Kuala Lumpur International Airport</td>\n",
       "      <td>Asia</td>\n",
       "      <td>1</td>\n",
       "      <td>Asia/Kuala_Lumpur</td>\n",
       "      <td>Kota Kinabalu</td>\n",
       "      <td>BKI</td>\n",
       "      <td>MY</td>\n",
       "      <td>NaN</td>\n",
       "      <td>Kota Kinabalu International Airport</td>\n",
       "      <td>Asia</td>\n",
       "      <td>NaN</td>\n",
       "      <td>Asia/Kuala_Lumpur</td>\n",
       "      <td>738</td>\n",
       "      <td>Boeing 737-800 Passenger</td>\n",
       "      <td>2h 40m</td>\n",
       "      <td>27</td>\n",
       "    </tr>\n",
       "    <tr>\n",
       "      <th>483247</th>\n",
       "      <td>AK6324</td>\n",
       "      <td>AK</td>\n",
       "      <td>AirAsia</td>\n",
       "      <td>2018-12-01 00:00:00</td>\n",
       "      <td>2018-12-01 01:05:00</td>\n",
       "      <td>Kuala Lumpur</td>\n",
       "      <td>KUL</td>\n",
       "      <td>MY</td>\n",
       "      <td>J1</td>\n",
       "      <td>Kuala Lumpur International Airport</td>\n",
       "      <td>Asia</td>\n",
       "      <td>2</td>\n",
       "      <td>Asia/Kuala_Lumpur</td>\n",
       "      <td>Langkawi</td>\n",
       "      <td>LGK</td>\n",
       "      <td>MY</td>\n",
       "      <td>NaN</td>\n",
       "      <td>Langkawi International Airport</td>\n",
       "      <td>Asia</td>\n",
       "      <td>NaN</td>\n",
       "      <td>Asia/Kuala_Lumpur</td>\n",
       "      <td>32S</td>\n",
       "      <td>Airbus A318 / A319 / A320 / A321</td>\n",
       "      <td>1h 10m</td>\n",
       "      <td>95</td>\n",
       "    </tr>\n",
       "    <tr>\n",
       "      <th>483248</th>\n",
       "      <td>UA7967</td>\n",
       "      <td>UA</td>\n",
       "      <td>United Airlines</td>\n",
       "      <td>2018-12-01 00:00:00</td>\n",
       "      <td>2018-12-01 06:40:00</td>\n",
       "      <td>Kuala Lumpur</td>\n",
       "      <td>KUL</td>\n",
       "      <td>MY</td>\n",
       "      <td>C22</td>\n",
       "      <td>Kuala Lumpur International Airport</td>\n",
       "      <td>Asia</td>\n",
       "      <td>1</td>\n",
       "      <td>Asia/Kuala_Lumpur</td>\n",
       "      <td>Tokyo</td>\n",
       "      <td>NRT</td>\n",
       "      <td>JP</td>\n",
       "      <td>58B</td>\n",
       "      <td>Narita International Airport</td>\n",
       "      <td>Asia</td>\n",
       "      <td>1</td>\n",
       "      <td>Asia/Tokyo</td>\n",
       "      <td>788</td>\n",
       "      <td>Boeing 787-8</td>\n",
       "      <td>6h 23m</td>\n",
       "      <td>20</td>\n",
       "    </tr>\n",
       "  </tbody>\n",
       "</table>\n",
       "</div>"
      ],
      "text/plain": [
       "        number airline             airline_name scheduled_departure_time  \\\n",
       "id                                                                         \n",
       "483244  CZ7412      CZ  China Southern Airlines      2018-12-01 00:00:00   \n",
       "483245  MH5712      MH        Malaysia Airlines      2018-12-01 00:00:00   \n",
       "483246  TK8186      TK         Turkish Airlines      2018-12-01 00:00:00   \n",
       "483247  AK6324      AK                  AirAsia      2018-12-01 00:00:00   \n",
       "483248  UA7967      UA          United Airlines      2018-12-01 00:00:00   \n",
       "\n",
       "       scheduled_arrival_time departure_airport_city departure_airport_code  \\\n",
       "id                                                                            \n",
       "483244    2018-12-01 04:40:00           Kuala Lumpur                    KUL   \n",
       "483245    2018-12-01 04:40:00           Kuala Lumpur                    KUL   \n",
       "483246    2018-12-01 02:40:00           Kuala Lumpur                    KUL   \n",
       "483247    2018-12-01 01:05:00           Kuala Lumpur                    KUL   \n",
       "483248    2018-12-01 06:40:00           Kuala Lumpur                    KUL   \n",
       "\n",
       "       departure_airport_country departure_airport_gate  \\\n",
       "id                                                        \n",
       "483244                        MY                    C11   \n",
       "483245                        MY                    C11   \n",
       "483246                        MY                     A4   \n",
       "483247                        MY                     J1   \n",
       "483248                        MY                    C22   \n",
       "\n",
       "                    departure_airport_name departure_airport_region  \\\n",
       "id                                                                    \n",
       "483244  Kuala Lumpur International Airport                     Asia   \n",
       "483245  Kuala Lumpur International Airport                     Asia   \n",
       "483246  Kuala Lumpur International Airport                     Asia   \n",
       "483247  Kuala Lumpur International Airport                     Asia   \n",
       "483248  Kuala Lumpur International Airport                     Asia   \n",
       "\n",
       "       departure_airport_terminal departure_airport_timezone  \\\n",
       "id                                                             \n",
       "483244                          1          Asia/Kuala_Lumpur   \n",
       "483245                          1          Asia/Kuala_Lumpur   \n",
       "483246                          1          Asia/Kuala_Lumpur   \n",
       "483247                          2          Asia/Kuala_Lumpur   \n",
       "483248                          1          Asia/Kuala_Lumpur   \n",
       "\n",
       "       arrival_airport_city arrival_airport_code arrival_airport_country  \\\n",
       "id                                                                         \n",
       "483244               Fuzhou                  FOC                      CN   \n",
       "483245               Fuzhou                  FOC                      CN   \n",
       "483246        Kota Kinabalu                  BKI                      MY   \n",
       "483247             Langkawi                  LGK                      MY   \n",
       "483248                Tokyo                  NRT                      JP   \n",
       "\n",
       "       arrival_airport_gate                 arrival_airport_name  \\\n",
       "id                                                                 \n",
       "483244                  NaN        Changle International Airport   \n",
       "483245                  NaN        Changle International Airport   \n",
       "483246                  NaN  Kota Kinabalu International Airport   \n",
       "483247                  NaN       Langkawi International Airport   \n",
       "483248                  58B         Narita International Airport   \n",
       "\n",
       "       arrival_airport_region arrival_airport_terminal  \\\n",
       "id                                                       \n",
       "483244                   Asia                      NaN   \n",
       "483245                   Asia                      NaN   \n",
       "483246                   Asia                      NaN   \n",
       "483247                   Asia                      NaN   \n",
       "483248                   Asia                        1   \n",
       "\n",
       "       arrival_airport_timezone flight_equipment_iata  \\\n",
       "id                                                      \n",
       "483244            Asia/Shanghai                   738   \n",
       "483245            Asia/Shanghai                   738   \n",
       "483246        Asia/Kuala_Lumpur                   738   \n",
       "483247        Asia/Kuala_Lumpur                   32S   \n",
       "483248               Asia/Tokyo                   788   \n",
       "\n",
       "                   flight_equipment_name flight_duration  delay  \n",
       "id                                                               \n",
       "483244          Boeing 737-800 Passenger          4h 40m     15  \n",
       "483245          Boeing 737-800 Passenger          4h 40m     15  \n",
       "483246          Boeing 737-800 Passenger          2h 40m     27  \n",
       "483247  Airbus A318 / A319 / A320 / A321          1h 10m     95  \n",
       "483248                      Boeing 787-8          6h 23m     20  "
      ]
     },
     "metadata": {},
     "output_type": "display_data"
    }
   ],
   "source": [
    "display(data_train.head())\n",
    "display(data_test.head())"
   ]
  },
  {
   "cell_type": "markdown",
   "metadata": {},
   "source": [
    "## Exploratory Data Analysis"
   ]
  },
  {
   "cell_type": "code",
   "execution_count": 3,
   "metadata": {
    "ExecuteTime": {
     "end_time": "2019-11-04T12:37:57.166000Z",
     "start_time": "2019-11-04T12:37:56.971000Z"
    }
   },
   "outputs": [
    {
     "name": "stdout",
     "output_type": "stream",
     "text": [
      "The training data have shape of (111068, 25)\n",
      "The testing data have shape of (41557, 25)\n",
      "<class 'pandas.core.frame.DataFrame'>\n",
      "Int64Index: 111068 entries, 1 to 496596\n",
      "Data columns (total 25 columns):\n",
      "number                        111068 non-null object\n",
      "airline                       111068 non-null object\n",
      "airline_name                  111068 non-null object\n",
      "scheduled_departure_time      111068 non-null object\n",
      "scheduled_arrival_time        111063 non-null object\n",
      "departure_airport_city        111068 non-null object\n",
      "departure_airport_code        111068 non-null object\n",
      "departure_airport_country     111068 non-null object\n",
      "departure_airport_gate        66859 non-null object\n",
      "departure_airport_name        111068 non-null object\n",
      "departure_airport_region      111068 non-null object\n",
      "departure_airport_terminal    69728 non-null object\n",
      "departure_airport_timezone    111068 non-null object\n",
      "arrival_airport_city          111068 non-null object\n",
      "arrival_airport_code          111068 non-null object\n",
      "arrival_airport_country       111068 non-null object\n",
      "arrival_airport_gate          12087 non-null object\n",
      "arrival_airport_name          111068 non-null object\n",
      "arrival_airport_region        111068 non-null object\n",
      "arrival_airport_terminal      53050 non-null object\n",
      "arrival_airport_timezone      111068 non-null object\n",
      "flight_equipment_iata         111049 non-null object\n",
      "flight_equipment_name         111049 non-null object\n",
      "flight_duration               111065 non-null object\n",
      "delay                         111068 non-null int64\n",
      "dtypes: int64(1), object(24)\n",
      "memory usage: 22.0+ MB\n"
     ]
    },
    {
     "data": {
      "text/plain": [
       "None"
      ]
     },
     "metadata": {},
     "output_type": "display_data"
    }
   ],
   "source": [
    "# Show the dataset info\n",
    "print('The training data have shape of {}'.format(data_train.shape))\n",
    "print('The testing data have shape of {}'.format(data_test.shape))\n",
    "display(data_train.info())"
   ]
  },
  {
   "cell_type": "markdown",
   "metadata": {},
   "source": [
    "From above result we can see that the dataset have 25 columns and most of them are object, and some of the columns have `null` value. We should take a closer look at this."
   ]
  },
  {
   "cell_type": "code",
   "execution_count": 4,
   "metadata": {
    "ExecuteTime": {
     "end_time": "2019-11-04T12:37:57.658000Z",
     "start_time": "2019-11-04T12:37:57.174000Z"
    }
   },
   "outputs": [],
   "source": [
    "# Convert scheduled_departure_time & scheduled_arrival_time type to datetime\n",
    "data_train['scheduled_departure_time'] = pd.to_datetime(data_train['scheduled_departure_time'])\n",
    "data_train['scheduled_arrival_time'] = pd.to_datetime(data_train['scheduled_arrival_time'])\n",
    "data_test['scheduled_departure_time'] = pd.to_datetime(data_test['scheduled_departure_time'])\n",
    "data_test['scheduled_arrival_time'] = pd.to_datetime(data_test['scheduled_arrival_time'])"
   ]
  },
  {
   "cell_type": "code",
   "execution_count": 5,
   "metadata": {
    "ExecuteTime": {
     "end_time": "2019-11-04T12:37:57.679000Z",
     "start_time": "2019-11-04T12:37:57.661000Z"
    }
   },
   "outputs": [
    {
     "data": {
      "text/plain": [
       "scheduled_departure_time    datetime64[ns]\n",
       "scheduled_arrival_time      datetime64[ns]\n",
       "dtype: object"
      ]
     },
     "metadata": {},
     "output_type": "display_data"
    },
    {
     "data": {
      "text/plain": [
       "scheduled_departure_time    datetime64[ns]\n",
       "scheduled_arrival_time      datetime64[ns]\n",
       "dtype: object"
      ]
     },
     "metadata": {},
     "output_type": "display_data"
    }
   ],
   "source": [
    "# Check the results\n",
    "display(data_train[['scheduled_departure_time', 'scheduled_arrival_time']].dtypes)\n",
    "display(data_test[['scheduled_departure_time', 'scheduled_arrival_time']].dtypes)"
   ]
  },
  {
   "cell_type": "markdown",
   "metadata": {},
   "source": [
    "## Features Engineering"
   ]
  },
  {
   "cell_type": "code",
   "execution_count": 6,
   "metadata": {
    "ExecuteTime": {
     "end_time": "2019-11-04T12:37:57.757000Z",
     "start_time": "2019-11-04T12:37:57.681000Z"
    }
   },
   "outputs": [],
   "source": [
    "# Create departure to arrival column\n",
    "data_train['departure_arrival_aiport_code'] = data_train['departure_airport_code'] + ' : ' + data_train['arrival_airport_code']\n",
    "data_test['departure_arrival_aiport_code'] = data_test['departure_airport_code'] + ' : ' + data_test['arrival_airport_code']"
   ]
  },
  {
   "cell_type": "code",
   "execution_count": 7,
   "metadata": {
    "ExecuteTime": {
     "end_time": "2019-11-04T12:37:57.780000Z",
     "start_time": "2019-11-04T12:37:57.761000Z"
    }
   },
   "outputs": [],
   "source": [
    "# Flight duration based on the ticket\n",
    "data_train['ticket_flight_duration'] = (data_train['scheduled_arrival_time'] - data_train['scheduled_departure_time']).astype('timedelta64[m]')\n",
    "data_test['ticket_flight_duration'] = (data_test['scheduled_arrival_time'] - data_test['scheduled_departure_time']).astype('timedelta64[m]')"
   ]
  },
  {
   "cell_type": "code",
   "execution_count": 8,
   "metadata": {
    "ExecuteTime": {
     "end_time": "2019-11-04T12:37:59.506000Z",
     "start_time": "2019-11-04T12:37:58.503000Z"
    }
   },
   "outputs": [],
   "source": [
    "# Change the flight_duration column format to minutes\n",
    "data_train['flight_duration'] = pd.to_timedelta(data_train['flight_duration']).astype('timedelta64[m]')\n",
    "data_test['flight_duration'] = pd.to_timedelta(data_train['flight_duration']).astype('timedelta64[m]')"
   ]
  },
  {
   "cell_type": "code",
   "execution_count": 9,
   "metadata": {
    "ExecuteTime": {
     "end_time": "2019-11-04T12:37:59.531000Z",
     "start_time": "2019-11-04T12:37:59.508000Z"
    }
   },
   "outputs": [
    {
     "data": {
      "text/plain": [
       "KUL : SIN    7938\n",
       "KUL : BKI    3540\n",
       "KUL : PEN    3501\n",
       "PEN : KUL    3448\n",
       "BKI : KUL    3241\n",
       "KUL : KCH    3017\n",
       "KUL : CGK    2920\n",
       "             ... \n",
       "JHB : SYX       3\n",
       "SZB : XSP       2\n",
       "KUL : CNS       2\n",
       "LBU : KCH       2\n",
       "KUL : GUM       1\n",
       "KUL : LUX       1\n",
       "KUL : AVV       1\n",
       "Name: departure_arrival_aiport_code, Length: 303, dtype: int64"
      ]
     },
     "metadata": {},
     "output_type": "display_data"
    }
   ],
   "source": [
    "# Check the most common flights\n",
    "display(data_train['departure_arrival_aiport_code'].value_counts())"
   ]
  },
  {
   "cell_type": "code",
   "execution_count": 10,
   "metadata": {
    "ExecuteTime": {
     "end_time": "2019-11-04T12:38:00.371000Z",
     "start_time": "2019-11-04T12:38:00.251000Z"
    },
    "scrolled": false
   },
   "outputs": [
    {
     "data": {
      "text/html": [
       "<div>\n",
       "<style scoped>\n",
       "    .dataframe tbody tr th:only-of-type {\n",
       "        vertical-align: middle;\n",
       "    }\n",
       "\n",
       "    .dataframe tbody tr th {\n",
       "        vertical-align: top;\n",
       "    }\n",
       "\n",
       "    .dataframe thead th {\n",
       "        text-align: right;\n",
       "    }\n",
       "</style>\n",
       "<table border=\"1\" class=\"dataframe\">\n",
       "  <thead>\n",
       "    <tr style=\"text-align: right;\">\n",
       "      <th></th>\n",
       "      <th>flight_duration</th>\n",
       "      <th>ticket_flight_duration</th>\n",
       "      <th>delay</th>\n",
       "    </tr>\n",
       "    <tr>\n",
       "      <th>id</th>\n",
       "      <th></th>\n",
       "      <th></th>\n",
       "      <th></th>\n",
       "    </tr>\n",
       "  </thead>\n",
       "  <tbody>\n",
       "    <tr>\n",
       "      <th>1</th>\n",
       "      <td>58.0</td>\n",
       "      <td>65.0</td>\n",
       "      <td>2</td>\n",
       "    </tr>\n",
       "    <tr>\n",
       "      <th>2</th>\n",
       "      <td>115.0</td>\n",
       "      <td>115.0</td>\n",
       "      <td>8</td>\n",
       "    </tr>\n",
       "    <tr>\n",
       "      <th>3</th>\n",
       "      <td>115.0</td>\n",
       "      <td>115.0</td>\n",
       "      <td>8</td>\n",
       "    </tr>\n",
       "    <tr>\n",
       "      <th>4</th>\n",
       "      <td>174.0</td>\n",
       "      <td>175.0</td>\n",
       "      <td>0</td>\n",
       "    </tr>\n",
       "    <tr>\n",
       "      <th>5</th>\n",
       "      <td>197.0</td>\n",
       "      <td>195.0</td>\n",
       "      <td>0</td>\n",
       "    </tr>\n",
       "    <tr>\n",
       "      <th>6</th>\n",
       "      <td>59.0</td>\n",
       "      <td>70.0</td>\n",
       "      <td>0</td>\n",
       "    </tr>\n",
       "    <tr>\n",
       "      <th>7</th>\n",
       "      <td>61.0</td>\n",
       "      <td>65.0</td>\n",
       "      <td>0</td>\n",
       "    </tr>\n",
       "    <tr>\n",
       "      <th>...</th>\n",
       "      <td>...</td>\n",
       "      <td>...</td>\n",
       "      <td>...</td>\n",
       "    </tr>\n",
       "    <tr>\n",
       "      <th>496495</th>\n",
       "      <td>30.0</td>\n",
       "      <td>30.0</td>\n",
       "      <td>0</td>\n",
       "    </tr>\n",
       "    <tr>\n",
       "      <th>496553</th>\n",
       "      <td>74.0</td>\n",
       "      <td>60.0</td>\n",
       "      <td>0</td>\n",
       "    </tr>\n",
       "    <tr>\n",
       "      <th>496554</th>\n",
       "      <td>74.0</td>\n",
       "      <td>60.0</td>\n",
       "      <td>0</td>\n",
       "    </tr>\n",
       "    <tr>\n",
       "      <th>496555</th>\n",
       "      <td>74.0</td>\n",
       "      <td>60.0</td>\n",
       "      <td>0</td>\n",
       "    </tr>\n",
       "    <tr>\n",
       "      <th>496556</th>\n",
       "      <td>74.0</td>\n",
       "      <td>60.0</td>\n",
       "      <td>0</td>\n",
       "    </tr>\n",
       "    <tr>\n",
       "      <th>496557</th>\n",
       "      <td>66.0</td>\n",
       "      <td>65.0</td>\n",
       "      <td>7</td>\n",
       "    </tr>\n",
       "    <tr>\n",
       "      <th>496596</th>\n",
       "      <td>37.0</td>\n",
       "      <td>35.0</td>\n",
       "      <td>0</td>\n",
       "    </tr>\n",
       "  </tbody>\n",
       "</table>\n",
       "<p>111068 rows × 3 columns</p>\n",
       "</div>"
      ],
      "text/plain": [
       "        flight_duration  ticket_flight_duration  delay\n",
       "id                                                    \n",
       "1                  58.0                    65.0      2\n",
       "2                 115.0                   115.0      8\n",
       "3                 115.0                   115.0      8\n",
       "4                 174.0                   175.0      0\n",
       "5                 197.0                   195.0      0\n",
       "6                  59.0                    70.0      0\n",
       "7                  61.0                    65.0      0\n",
       "...                 ...                     ...    ...\n",
       "496495             30.0                    30.0      0\n",
       "496553             74.0                    60.0      0\n",
       "496554             74.0                    60.0      0\n",
       "496555             74.0                    60.0      0\n",
       "496556             74.0                    60.0      0\n",
       "496557             66.0                    65.0      7\n",
       "496596             37.0                    35.0      0\n",
       "\n",
       "[111068 rows x 3 columns]"
      ]
     },
     "metadata": {},
     "output_type": "display_data"
    }
   ],
   "source": [
    "# Check the actual flight duration, ticket flight duration, and delay\n",
    "display(data_train[['flight_duration','ticket_flight_duration', 'delay']])"
   ]
  },
  {
   "cell_type": "code",
   "execution_count": 11,
   "metadata": {
    "ExecuteTime": {
     "end_time": "2019-11-04T12:38:03.800000Z",
     "start_time": "2019-11-04T12:38:03.765000Z"
    }
   },
   "outputs": [
    {
     "data": {
      "text/plain": [
       "count    111068.000000\n",
       "mean         11.540210\n",
       "std          26.806913\n",
       "min           0.000000\n",
       "25%           0.000000\n",
       "50%           1.000000\n",
       "75%          13.000000\n",
       "max         978.000000\n",
       "Name: delay, dtype: float64"
      ]
     },
     "metadata": {},
     "output_type": "display_data"
    }
   ],
   "source": [
    "# Distribution of the delay\n",
    "display(data_train['delay'].describe())"
   ]
  },
  {
   "cell_type": "code",
   "execution_count": 12,
   "metadata": {
    "ExecuteTime": {
     "end_time": "2019-11-04T12:38:04.283000Z",
     "start_time": "2019-11-04T12:38:04.244000Z"
    }
   },
   "outputs": [],
   "source": [
    "# Categorize the delay\n",
    "data_train['delay_cat'] = pd.cut(data_train['delay'], bins=(0, 1, 13, 978), labels=['low', 'medium', 'high'], include_lowest=True)\n",
    "data_test['delay_cat'] = pd.cut(data_test['delay'], bins=(0, 1, 13, 978), labels=['low', 'medium', 'high'], include_lowest=True)"
   ]
  },
  {
   "cell_type": "code",
   "execution_count": 13,
   "metadata": {
    "ExecuteTime": {
     "end_time": "2019-11-04T12:38:04.757000Z",
     "start_time": "2019-11-04T12:38:04.711000Z"
    }
   },
   "outputs": [],
   "source": [
    "# Categorize the departure time\n",
    "data_train['departure_time_cat'] = pd.cut(data_train['scheduled_departure_time'].dt.hour, bins=(0, 6, 12, 18, 24), labels=['6to12', '12to18', '18to24', '24to6'], include_lowest=True)\n",
    "data_test['departure_time_cat'] = pd.cut(data_test['scheduled_departure_time'].dt.hour, bins=(0, 6, 12, 18, 24), labels=['6to12', '12to18', '18to24', '24to6'], include_lowest=True)"
   ]
  },
  {
   "cell_type": "markdown",
   "metadata": {},
   "source": [
    "**1. Provide travel recommendation to passenger (best time to take a flight or best airline), so they will\n",
    "not get caught in delay. Each recommendation has to be supported by at least 1 graph**"
   ]
  },
  {
   "cell_type": "code",
   "execution_count": 14,
   "metadata": {
    "ExecuteTime": {
     "end_time": "2019-11-04T12:38:10.581000Z",
     "start_time": "2019-11-04T12:38:07.911000Z"
    }
   },
   "outputs": [
    {
     "data": {
      "image/png": "[encoded data removed]",
      "text/plain": [
       "<Figure size 1224x720 with 1 Axes>"
      ]
     },
     "metadata": {
      "needs_background": "light"
     },
     "output_type": "display_data"
    }
   ],
   "source": [
    "fig, ax = plt.subplots(figsize=(17,10))\n",
    "data_train.groupby(by='airline_name')['delay_cat'].value_counts().unstack().plot(ax=ax, kind='bar')\n",
    "plt.show()"
   ]
  },
  {
   "cell_type": "code",
   "execution_count": 15,
   "metadata": {
    "ExecuteTime": {
     "end_time": "2019-11-04T12:38:15.583000Z",
     "start_time": "2019-11-04T12:38:15.235000Z"
    }
   },
   "outputs": [
    {
     "data": {
      "image/png": "[encoded data removed]",
      "text/plain": [
       "<Figure size 1224x720 with 1 Axes>"
      ]
     },
     "metadata": {
      "needs_background": "light"
     },
     "output_type": "display_data"
    }
   ],
   "source": [
    "fig, ax = plt.subplots(figsize=(17,10))\n",
    "data_train.groupby(by='departure_time_cat')['delay_cat'].value_counts().unstack().plot(ax=ax, kind='bar')\n",
    "plt.show()"
   ]
  },
  {
   "cell_type": "code",
   "execution_count": 16,
   "metadata": {
    "ExecuteTime": {
     "end_time": "2019-11-04T12:38:18.153000Z",
     "start_time": "2019-11-04T12:38:18.029000Z"
    }
   },
   "outputs": [
    {
     "name": "stdout",
     "output_type": "stream",
     "text": [
      "Airlines with highest percentage of low delay:\n"
     ]
    },
    {
     "data": {
      "text/plain": [
       "airline_name\n",
       "Hong Kong Airlines             1.000000\n",
       "Guangxi Beibu Gulf Airlines    1.000000\n",
       "Firefly                        1.000000\n",
       "YTO Cargo                      1.000000\n",
       "Silk Way West                  1.000000\n",
       "TAP Portugal                   0.885714\n",
       "Raya Airways                   0.879699\n",
       "Spring Airlines                0.685714\n",
       "EgyptAir                       0.666667\n",
       "Royal Brunei Airlines          0.639698\n",
       "Malaysia Airlines              0.623545\n",
       "Air Mauritius                  0.620172\n",
       "Air India                      0.610390\n",
       "Emirates                       0.606106\n",
       "Vietnam Airlines               0.605505\n",
       "Name: low, dtype: float64"
      ]
     },
     "metadata": {},
     "output_type": "display_data"
    },
    {
     "name": "stdout",
     "output_type": "stream",
     "text": [
      "Airlines with lowest percentage of low delay:\n"
     ]
    },
    {
     "data": {
      "text/plain": [
       "airline_name\n",
       "Iraqi Airways        0.111111\n",
       "Nepal Airlines       0.107143\n",
       "Turkish Airlines     0.100733\n",
       "EASTAR JET           0.100000\n",
       "Condor               0.076923\n",
       "Sriwijaya Air        0.070175\n",
       "Air Seychelles       0.020408\n",
       "Alitalia             0.017544\n",
       "flynas               0.017544\n",
       "Air China                 NaN\n",
       "Air Seoul                 NaN\n",
       "Asiana Airlines           NaN\n",
       "Shenzhen Airlines         NaN\n",
       "VietJet Air               NaN\n",
       "Volga-Dnepr               NaN\n",
       "Name: low, dtype: float64"
      ]
     },
     "metadata": {},
     "output_type": "display_data"
    }
   ],
   "source": [
    "# Low delay airline\n",
    "print('Airlines with highest percentage of low delay:')\n",
    "display(data_train.groupby(by='airline_name')['delay_cat'].value_counts(normalize=True).unstack()['low'].sort_values(ascending=False).head(15))\n",
    "print('Airlines with lowest percentage of low delay:')\n",
    "display(data_train.groupby(by='airline_name')['delay_cat'].value_counts(normalize=True).unstack()['low'].sort_values(ascending=False).tail(15))"
   ]
  },
  {
   "cell_type": "code",
   "execution_count": 17,
   "metadata": {
    "ExecuteTime": {
     "end_time": "2019-11-04T12:38:20.822000Z",
     "start_time": "2019-11-04T12:38:20.657000Z"
    }
   },
   "outputs": [
    {
     "name": "stdout",
     "output_type": "stream",
     "text": [
      "Airlines with highest percentage of medium delay:\n"
     ]
    },
    {
     "data": {
      "text/plain": [
       "airline_name\n",
       "Volga-Dnepr                   1.000000\n",
       "Iraqi Airways                 0.555556\n",
       "EASTAR JET                    0.544444\n",
       "Condor                        0.538462\n",
       "Citilink                      0.508772\n",
       "Thai Smile                    0.412791\n",
       "SAS                           0.403509\n",
       "Lufthansa                     0.403509\n",
       "Shenzhen Airlines             0.388889\n",
       "Xiamen Airlines               0.375734\n",
       "Austrian                      0.370370\n",
       "IndiGo                        0.366667\n",
       "Thai Airways International    0.366165\n",
       "Air China                     0.364486\n",
       "China Southern Airlines       0.362007\n",
       "Name: medium, dtype: float64"
      ]
     },
     "metadata": {},
     "output_type": "display_data"
    },
    {
     "name": "stdout",
     "output_type": "stream",
     "text": [
      "Airlines with lowest percentage of medium delay:\n"
     ]
    },
    {
     "data": {
      "text/plain": [
       "airline_name\n",
       "Mahan Air                          0.152174\n",
       "Himalaya Airlines                  0.136364\n",
       "Regent Airways                     0.135593\n",
       "Air Astana                         0.120000\n",
       "Nepal Airlines                     0.107143\n",
       "TAP Portugal                       0.057143\n",
       "Raya Airways                       0.041353\n",
       "VietJet Air                        0.017544\n",
       "Cargolux                                NaN\n",
       "Firefly                                 NaN\n",
       "Guangxi Beibu Gulf Airlines             NaN\n",
       "Hong Kong Airlines                      NaN\n",
       "Pakistan International Airlines         NaN\n",
       "Silk Way West                           NaN\n",
       "YTO Cargo                               NaN\n",
       "Name: medium, dtype: float64"
      ]
     },
     "metadata": {},
     "output_type": "display_data"
    }
   ],
   "source": [
    "# Medium delay airline\n",
    "print('Airlines with highest percentage of medium delay:')\n",
    "display(data_train.groupby(by='airline_name')['delay_cat'].value_counts(normalize=True).unstack()['medium'].sort_values(ascending=False).head(15))\n",
    "print('Airlines with lowest percentage of medium delay:')\n",
    "display(data_train.groupby(by='airline_name')['delay_cat'].value_counts(normalize=True).unstack()['medium'].sort_values(ascending=False).tail(15))"
   ]
  },
  {
   "cell_type": "code",
   "execution_count": 18,
   "metadata": {
    "ExecuteTime": {
     "end_time": "2019-11-04T12:38:21.607000Z",
     "start_time": "2019-11-04T12:38:21.450000Z"
    }
   },
   "outputs": [
    {
     "name": "stdout",
     "output_type": "stream",
     "text": [
      "Airlines with highest percentage of high delay:\n"
     ]
    },
    {
     "data": {
      "text/plain": [
       "airline_name\n",
       "VietJet Air                        0.982456\n",
       "Asiana Airlines                    0.800000\n",
       "Air Seoul                          0.800000\n",
       "Nepal Airlines                     0.785714\n",
       "Alitalia                           0.719298\n",
       "flynas                             0.719298\n",
       "Air Seychelles                     0.714286\n",
       "Pakistan International Airlines    0.708333\n",
       "Sriwijaya Air                      0.649123\n",
       "Air China                          0.635514\n",
       "Shenzhen Airlines                  0.611111\n",
       "Scoot                              0.608076\n",
       "Philippines AirAsia                0.602871\n",
       "Lion Air                           0.602362\n",
       "Turkish Airlines                   0.595238\n",
       "Name: high, dtype: float64"
      ]
     },
     "metadata": {},
     "output_type": "display_data"
    },
    {
     "name": "stdout",
     "output_type": "stream",
     "text": [
      "Airlines with lowest percentage of high delay:\n"
     ]
    },
    {
     "data": {
      "text/plain": [
       "airline_name\n",
       "Air Mauritius                  0.124464\n",
       "ANA                            0.117647\n",
       "Jeju Air                       0.114286\n",
       "Air India                      0.103896\n",
       "EgyptAir                       0.083333\n",
       "Raya Airways                   0.078947\n",
       "Austrian                       0.074074\n",
       "TAP Portugal                   0.057143\n",
       "Lufthansa                      0.052632\n",
       "Firefly                             NaN\n",
       "Guangxi Beibu Gulf Airlines         NaN\n",
       "Hong Kong Airlines                  NaN\n",
       "Silk Way West                       NaN\n",
       "Volga-Dnepr                         NaN\n",
       "YTO Cargo                           NaN\n",
       "Name: high, dtype: float64"
      ]
     },
     "metadata": {},
     "output_type": "display_data"
    }
   ],
   "source": [
    "# High delay airline\n",
    "print('Airlines with highest percentage of high delay:')\n",
    "display(data_train.groupby(by='airline_name')['delay_cat'].value_counts(normalize=True).unstack()['high'].sort_values(ascending=False).head(15))\n",
    "print('Airlines with lowest percentage of high delay:')\n",
    "display(data_train.groupby(by='airline_name')['delay_cat'].value_counts(normalize=True).unstack()['high'].sort_values(ascending=False).tail(15))"
   ]
  },
  {
   "cell_type": "code",
   "execution_count": 19,
   "metadata": {
    "ExecuteTime": {
     "end_time": "2019-11-04T12:38:22.482000Z",
     "start_time": "2019-11-04T12:38:22.320000Z"
    }
   },
   "outputs": [
    {
     "name": "stdout",
     "output_type": "stream",
     "text": [
      "Depart time percentage of low delay:\n"
     ]
    },
    {
     "data": {
      "text/plain": [
       "departure_time_cat\n",
       "24to6     0.737265\n",
       "6to12     0.535613\n",
       "12to18    0.467819\n",
       "18to24    0.412516\n",
       "Name: low, dtype: float64"
      ]
     },
     "metadata": {},
     "output_type": "display_data"
    },
    {
     "name": "stdout",
     "output_type": "stream",
     "text": [
      "Depart time percentage of high delay:\n"
     ]
    },
    {
     "data": {
      "text/plain": [
       "departure_time_cat\n",
       "18to24    0.326654\n",
       "12to18    0.300994\n",
       "6to12     0.216785\n",
       "24to6     0.087731\n",
       "Name: high, dtype: float64"
      ]
     },
     "metadata": {},
     "output_type": "display_data"
    }
   ],
   "source": [
    "print('Depart time percentage of low delay:')\n",
    "display(data_train.groupby(by='departure_time_cat')['delay_cat'].value_counts(normalize=True).unstack()['low'].sort_values(ascending=False))\n",
    "print('Depart time percentage of high delay:')\n",
    "display(data_train.groupby(by='departure_time_cat')['delay_cat'].value_counts(normalize=True).unstack()['high'].sort_values(ascending=False))"
   ]
  },
  {
   "cell_type": "markdown",
   "metadata": {},
   "source": [
    "From above results we can see the distribution delay categories for each of the airlines, remember that the categories of the delay is:\n",
    "\n",
    "| delay_cat | binning |\n",
    "|--------|----------|\n",
    "| low | 0 - 1   |\n",
    "| medium | 1 - 13 |\n",
    "| high | 13 - 978 |\n",
    "\n",
    "So for some peoples low to medium delay still tolerable, from above table you can see the percentage of low to high delay for each airlines. For example I can recommend that a passenger use `Hongkong Airlines` since all of their flights are in low delay category. Another example is `Malaysia Airlines` have a good percentage of low delay flights which is above 60%, and if we combine this with the most highest percentage of low delay from departure time which is `24to6` with value above 70%, we will have a good faith that the flight won't delay.\n",
    "\n",
    "The vice versa of this is of course to avoid the airlines that have a high percentage of high delay category, for example `Asiana Airlines` and `Air Seoul` since the data showed that most of the flights from this airlines are in the high delay category. We also want to avoid the `18to24` departure time, since this time window have the most percentage of high delay."
   ]
  },
  {
   "cell_type": "markdown",
   "metadata": {},
   "source": [
    "**2. Create a model to estimate the delay duration ( Linear Regression )**"
   ]
  },
  {
   "cell_type": "code",
   "execution_count": 20,
   "metadata": {
    "ExecuteTime": {
     "end_time": "2019-11-04T12:38:26.670000Z",
     "start_time": "2019-11-04T12:38:26.379000Z"
    }
   },
   "outputs": [
    {
     "data": {
      "text/plain": [
       "scheduled_arrival_time           14210\n",
       "scheduled_departure_time         12912\n",
       "number                            2515\n",
       "flight_duration                    692\n",
       "delay                              350\n",
       "departure_arrival_aiport_code      303\n",
       "arrival_airport_gate               267\n",
       "                                 ...  \n",
       "departure_airport_terminal           6\n",
       "arrival_airport_region               4\n",
       "departure_time_cat                   4\n",
       "delay_cat                            3\n",
       "departure_airport_country            1\n",
       "departure_airport_region             1\n",
       "departure_airport_timezone           1\n",
       "Length: 29, dtype: int64"
      ]
     },
     "metadata": {},
     "output_type": "display_data"
    }
   ],
   "source": [
    "display(data_train.nunique().sort_values(ascending=False))"
   ]
  },
  {
   "cell_type": "code",
   "execution_count": 21,
   "metadata": {
    "ExecuteTime": {
     "end_time": "2019-11-04T12:38:29.040000Z",
     "start_time": "2019-11-04T12:38:28.878000Z"
    }
   },
   "outputs": [],
   "source": [
    "data_lr_train = data_train.dropna(axis=0, subset=['ticket_flight_duration', 'flight_equipment_iata'])\n",
    "data_lr_test = data_test.dropna(axis=0, subset=['ticket_flight_duration', 'flight_equipment_iata'])\n",
    "X_train = data_lr_train.drop(['number', 'airline_name', 'scheduled_departure_time',\n",
    "       'scheduled_arrival_time', 'departure_airport_city',\n",
    "       'departure_airport_code', 'departure_airport_country',\n",
    "       'departure_airport_gate', 'departure_airport_name',\n",
    "       'departure_airport_region', 'departure_airport_terminal',\n",
    "       'departure_airport_timezone', 'arrival_airport_city',\n",
    "       'arrival_airport_code', 'arrival_airport_country',\n",
    "       'arrival_airport_gate', 'arrival_airport_name',\n",
    "       'arrival_airport_region', 'arrival_airport_terminal',\n",
    "       'arrival_airport_timezone','flight_equipment_name',\n",
    "       'flight_duration', 'delay', 'delay_cat'], axis=1)\n",
    "y_train = data_lr_train['delay']\n",
    "X_test = data_lr_test.drop(['number', 'airline_name', 'scheduled_departure_time',\n",
    "       'scheduled_arrival_time', 'departure_airport_city',\n",
    "       'departure_airport_code', 'departure_airport_country',\n",
    "       'departure_airport_gate', 'departure_airport_name',\n",
    "       'departure_airport_region', 'departure_airport_terminal',\n",
    "       'departure_airport_timezone', 'arrival_airport_city',\n",
    "       'arrival_airport_code', 'arrival_airport_country',\n",
    "       'arrival_airport_gate', 'arrival_airport_name',\n",
    "       'arrival_airport_region', 'arrival_airport_terminal',\n",
    "       'arrival_airport_timezone','flight_equipment_name',\n",
    "       'flight_duration', 'delay', 'delay_cat'], axis=1)\n",
    "y_test = data_lr_test['delay']"
   ]
  },
  {
   "cell_type": "code",
   "execution_count": 22,
   "metadata": {
    "ExecuteTime": {
     "end_time": "2019-11-04T12:38:30.296000Z",
     "start_time": "2019-11-04T12:38:29.403000Z"
    }
   },
   "outputs": [],
   "source": [
    "X_train = pd.get_dummies(X_train, dummy_na=True, drop_first=True)\n",
    "X_test = pd.get_dummies(X_test, dummy_na=True, drop_first=True)\n",
    "# Get missing columns in the training test\n",
    "missing_cols = set(X_train.columns) - set(X_test.columns )\n",
    "# Add a missing column in test set with default value equal to 0\n",
    "for col in missing_cols:\n",
    "    X_test[col] = 0\n",
    "# Ensure the order of column in the test set is in the same order than in train set\n",
    "X_test = X_test[X_train.columns]"
   ]
  },
  {
   "cell_type": "code",
   "execution_count": 23,
   "metadata": {
    "ExecuteTime": {
     "end_time": "2019-11-04T12:38:37.051000Z",
     "start_time": "2019-11-04T12:38:32.115000Z"
    }
   },
   "outputs": [
    {
     "data": {
      "text/plain": [
       "LinearRegression(copy_X=True, fit_intercept=True, n_jobs=None, normalize=False)"
      ]
     },
     "execution_count": 23,
     "metadata": {},
     "output_type": "execute_result"
    }
   ],
   "source": [
    "from sklearn.linear_model import LinearRegression\n",
    "\n",
    "classifier_lr = LinearRegression()\n",
    "classifier_lr.fit(X_train, y_train)"
   ]
  },
  {
   "cell_type": "code",
   "execution_count": 24,
   "metadata": {
    "ExecuteTime": {
     "end_time": "2019-11-04T12:38:38.101000Z",
     "start_time": "2019-11-04T12:38:37.863000Z"
    }
   },
   "outputs": [],
   "source": [
    "y_pred = classifier_lr.predict(X_test)"
   ]
  },
  {
   "cell_type": "code",
   "execution_count": 25,
   "metadata": {
    "ExecuteTime": {
     "end_time": "2019-11-04T12:38:38.379000Z",
     "start_time": "2019-11-04T12:38:38.361000Z"
    }
   },
   "outputs": [
    {
     "name": "stdout",
     "output_type": "stream",
     "text": [
      "MAE: 15.111666410476774\n"
     ]
    }
   ],
   "source": [
    "from sklearn.metrics import mean_absolute_error\n",
    "\n",
    "print('MAE:' , mean_absolute_error(y_test, y_pred))"
   ]
  },
  {
   "cell_type": "markdown",
   "metadata": {},
   "source": [
    "**3. Create a model to predict delay > 60 min ( Logistic regression and another supervised model you\n",
    "choosing )**"
   ]
  },
  {
   "cell_type": "code",
   "execution_count": 26,
   "metadata": {
    "ExecuteTime": {
     "end_time": "2019-11-04T12:38:45.366000Z",
     "start_time": "2019-11-04T12:38:45.287000Z"
    }
   },
   "outputs": [],
   "source": [
    "from sklearn.linear_model import LogisticRegression\n",
    "\n",
    "y_train = data_lr_train['delay'].apply(lambda x: 1 if x > 60 else 0)\n",
    "y_test = data_lr_test['delay'].apply(lambda x: 1 if x > 60 else 0)"
   ]
  },
  {
   "cell_type": "code",
   "execution_count": 27,
   "metadata": {
    "ExecuteTime": {
     "end_time": "2019-11-04T12:38:47.531000Z",
     "start_time": "2019-11-04T12:38:46.086000Z"
    }
   },
   "outputs": [
    {
     "name": "stderr",
     "output_type": "stream",
     "text": [
      "C:\\Users\\mpadmanagara\\AppData\\Local\\Continuum\\anaconda3\\lib\\site-packages\\sklearn\\linear_model\\logistic.py:432: FutureWarning: Default solver will be changed to 'lbfgs' in 0.22. Specify a solver to silence this warning.\n",
      "  FutureWarning)\n"
     ]
    },
    {
     "data": {
      "text/plain": [
       "LogisticRegression(C=1.0, class_weight=None, dual=False, fit_intercept=True,\n",
       "                   intercept_scaling=1, l1_ratio=None, max_iter=100,\n",
       "                   multi_class='warn', n_jobs=None, penalty='l2',\n",
       "                   random_state=None, solver='warn', tol=0.0001, verbose=0,\n",
       "                   warm_start=False)"
      ]
     },
     "execution_count": 27,
     "metadata": {},
     "output_type": "execute_result"
    }
   ],
   "source": [
    "classifier_lor = LogisticRegression()\n",
    "classifier_lor.fit(X_train, y_train)"
   ]
  },
  {
   "cell_type": "code",
   "execution_count": 67,
   "metadata": {
    "ExecuteTime": {
     "end_time": "2019-11-04T12:53:08.019000Z",
     "start_time": "2019-11-04T12:53:07.827000Z"
    }
   },
   "outputs": [],
   "source": [
    "y_pred = classifier_lor.predict(X_test)"
   ]
  },
  {
   "cell_type": "code",
   "execution_count": 29,
   "metadata": {
    "ExecuteTime": {
     "end_time": "2019-11-04T12:38:50.501000Z",
     "start_time": "2019-11-04T12:38:50.484000Z"
    }
   },
   "outputs": [
    {
     "name": "stdout",
     "output_type": "stream",
     "text": [
      "accuracy: 0.9407277277759061\n"
     ]
    }
   ],
   "source": [
    "from sklearn.metrics import accuracy_score\n",
    "\n",
    "score = accuracy_score(y_test, y_pred)\n",
    "print('accuracy:', score)"
   ]
  },
  {
   "cell_type": "code",
   "execution_count": 31,
   "metadata": {
    "ExecuteTime": {
     "end_time": "2019-11-04T12:40:05.861000Z",
     "start_time": "2019-11-04T12:40:04.401000Z"
    }
   },
   "outputs": [
    {
     "data": {
      "text/plain": [
       "DecisionTreeClassifier(class_weight=None, criterion='gini', max_depth=3,\n",
       "                       max_features=None, max_leaf_nodes=None,\n",
       "                       min_impurity_decrease=0.0, min_impurity_split=None,\n",
       "                       min_samples_leaf=1, min_samples_split=2,\n",
       "                       min_weight_fraction_leaf=0.0, presort=False,\n",
       "                       random_state=None, splitter='best')"
      ]
     },
     "execution_count": 31,
     "metadata": {},
     "output_type": "execute_result"
    }
   ],
   "source": [
    "from sklearn.tree import DecisionTreeClassifier\n",
    "\n",
    "classifier_dt = DecisionTreeClassifier(max_depth=3)\n",
    "classifier_dt.fit(X_train, y_train)"
   ]
  },
  {
   "cell_type": "code",
   "execution_count": 32,
   "metadata": {
    "ExecuteTime": {
     "end_time": "2019-11-04T12:40:26.857000Z",
     "start_time": "2019-11-04T12:40:26.586000Z"
    }
   },
   "outputs": [],
   "source": [
    "y_pred = classifier_dt.predict(X_test)"
   ]
  },
  {
   "cell_type": "code",
   "execution_count": 33,
   "metadata": {
    "ExecuteTime": {
     "end_time": "2019-11-04T12:40:41.380000Z",
     "start_time": "2019-11-04T12:40:41.351000Z"
    }
   },
   "outputs": [
    {
     "name": "stdout",
     "output_type": "stream",
     "text": [
      "accuracy: 0.9414978100784521\n"
     ]
    }
   ],
   "source": [
    "score = accuracy_score(y_test, y_pred)\n",
    "print('accuracy:', score)"
   ]
  },
  {
   "cell_type": "markdown",
   "metadata": {},
   "source": [
    "**4. Did you do some feature engineering on the dataset ? if yes, please give the reason for each\n",
    "feature you created**\n",
    "\n",
    "***\n",
    "1. The code combination of departure and arrival airport, because I want to look if certain departure and arrival combo have any effect on the delay\n",
    "2. Ticket flight duration, we can compare it to the flight duration and use it as predictor (because we can't use flight duration as it is a future data)\n",
    "3. Bin the departure time into four categories, I want to see if certain departure time have effect on the delay. Also for answering question 1\n",
    "4. Bin the delay into three categories, reason is the same as number 3"
   ]
  },
  {
   "cell_type": "markdown",
   "metadata": {},
   "source": [
    "**5. Using those models predict delay that will happened in December for delay >60**"
   ]
  },
  {
   "cell_type": "code",
   "execution_count": 72,
   "metadata": {
    "ExecuteTime": {
     "end_time": "2019-11-04T12:54:11.176000Z",
     "start_time": "2019-11-04T12:54:10.975000Z"
    }
   },
   "outputs": [],
   "source": [
    "# Using the logistic regression model\n",
    "y_pred = classifier_lor.predict(X_test)\n",
    "data_pred = X_test.copy()"
   ]
  },
  {
   "cell_type": "code",
   "execution_count": 73,
   "metadata": {
    "ExecuteTime": {
     "end_time": "2019-11-04T12:54:16.233000Z",
     "start_time": "2019-11-04T12:54:16.221000Z"
    }
   },
   "outputs": [],
   "source": [
    "data_pred['delay_pred'] = y_pred"
   ]
  },
  {
   "cell_type": "code",
   "execution_count": 82,
   "metadata": {
    "ExecuteTime": {
     "end_time": "2019-11-04T12:57:30.362000Z",
     "start_time": "2019-11-04T12:57:30.234000Z"
    }
   },
   "outputs": [
    {
     "data": {
      "text/html": [
       "<div>\n",
       "<style scoped>\n",
       "    .dataframe tbody tr th:only-of-type {\n",
       "        vertical-align: middle;\n",
       "    }\n",
       "\n",
       "    .dataframe tbody tr th {\n",
       "        vertical-align: top;\n",
       "    }\n",
       "\n",
       "    .dataframe thead th {\n",
       "        text-align: right;\n",
       "    }\n",
       "</style>\n",
       "<table border=\"1\" class=\"dataframe\">\n",
       "  <thead>\n",
       "    <tr style=\"text-align: right;\">\n",
       "      <th></th>\n",
       "      <th>number</th>\n",
       "      <th>airline</th>\n",
       "      <th>airline_name</th>\n",
       "      <th>scheduled_departure_time</th>\n",
       "      <th>scheduled_arrival_time</th>\n",
       "      <th>departure_airport_city</th>\n",
       "      <th>departure_airport_code</th>\n",
       "      <th>departure_airport_country</th>\n",
       "      <th>departure_airport_gate</th>\n",
       "      <th>departure_airport_name</th>\n",
       "      <th>departure_airport_region</th>\n",
       "      <th>departure_airport_terminal</th>\n",
       "      <th>departure_airport_timezone</th>\n",
       "      <th>arrival_airport_city</th>\n",
       "      <th>arrival_airport_code</th>\n",
       "      <th>arrival_airport_country</th>\n",
       "      <th>arrival_airport_gate</th>\n",
       "      <th>arrival_airport_name</th>\n",
       "      <th>arrival_airport_region</th>\n",
       "      <th>arrival_airport_terminal</th>\n",
       "      <th>arrival_airport_timezone</th>\n",
       "      <th>flight_equipment_iata</th>\n",
       "      <th>flight_equipment_name</th>\n",
       "      <th>flight_duration</th>\n",
       "      <th>delay</th>\n",
       "      <th>departure_arrival_aiport_code</th>\n",
       "      <th>ticket_flight_duration</th>\n",
       "      <th>delay_cat</th>\n",
       "      <th>departure_time_cat</th>\n",
       "    </tr>\n",
       "    <tr>\n",
       "      <th>id</th>\n",
       "      <th></th>\n",
       "      <th></th>\n",
       "      <th></th>\n",
       "      <th></th>\n",
       "      <th></th>\n",
       "      <th></th>\n",
       "      <th></th>\n",
       "      <th></th>\n",
       "      <th></th>\n",
       "      <th></th>\n",
       "      <th></th>\n",
       "      <th></th>\n",
       "      <th></th>\n",
       "      <th></th>\n",
       "      <th></th>\n",
       "      <th></th>\n",
       "      <th></th>\n",
       "      <th></th>\n",
       "      <th></th>\n",
       "      <th></th>\n",
       "      <th></th>\n",
       "      <th></th>\n",
       "      <th></th>\n",
       "      <th></th>\n",
       "      <th></th>\n",
       "      <th></th>\n",
       "      <th></th>\n",
       "      <th></th>\n",
       "      <th></th>\n",
       "    </tr>\n",
       "  </thead>\n",
       "  <tbody>\n",
       "    <tr>\n",
       "      <th>483818</th>\n",
       "      <td>SV3841</td>\n",
       "      <td>SV</td>\n",
       "      <td>Saudia</td>\n",
       "      <td>2018-12-01 07:30:00</td>\n",
       "      <td>2018-12-01 17:00:00</td>\n",
       "      <td>Kuala Lumpur</td>\n",
       "      <td>KUL</td>\n",
       "      <td>MY</td>\n",
       "      <td>C14</td>\n",
       "      <td>Kuala Lumpur International Airport</td>\n",
       "      <td>Asia</td>\n",
       "      <td>1</td>\n",
       "      <td>Asia/Kuala_Lumpur</td>\n",
       "      <td>Madinah</td>\n",
       "      <td>MED</td>\n",
       "      <td>SA</td>\n",
       "      <td>NaN</td>\n",
       "      <td>Prince Mohammad Bin Abdulaziz International Ai...</td>\n",
       "      <td>Middle East</td>\n",
       "      <td>NaN</td>\n",
       "      <td>Asia/Riyadh</td>\n",
       "      <td>332</td>\n",
       "      <td>Airbus A330-200</td>\n",
       "      <td>NaN</td>\n",
       "      <td>31</td>\n",
       "      <td>KUL : MED</td>\n",
       "      <td>570.0</td>\n",
       "      <td>high</td>\n",
       "      <td>12to18</td>\n",
       "    </tr>\n",
       "    <tr>\n",
       "      <th>483868</th>\n",
       "      <td>SV3843</td>\n",
       "      <td>SV</td>\n",
       "      <td>Saudia</td>\n",
       "      <td>2018-12-01 08:30:00</td>\n",
       "      <td>2018-12-01 18:00:00</td>\n",
       "      <td>Kuala Lumpur</td>\n",
       "      <td>KUL</td>\n",
       "      <td>MY</td>\n",
       "      <td>C3</td>\n",
       "      <td>Kuala Lumpur International Airport</td>\n",
       "      <td>Asia</td>\n",
       "      <td>1</td>\n",
       "      <td>Asia/Kuala_Lumpur</td>\n",
       "      <td>Madinah</td>\n",
       "      <td>MED</td>\n",
       "      <td>SA</td>\n",
       "      <td>NaN</td>\n",
       "      <td>Prince Mohammad Bin Abdulaziz International Ai...</td>\n",
       "      <td>Middle East</td>\n",
       "      <td>NaN</td>\n",
       "      <td>Asia/Riyadh</td>\n",
       "      <td>332</td>\n",
       "      <td>Airbus A330-200</td>\n",
       "      <td>NaN</td>\n",
       "      <td>31</td>\n",
       "      <td>KUL : MED</td>\n",
       "      <td>570.0</td>\n",
       "      <td>high</td>\n",
       "      <td>12to18</td>\n",
       "    </tr>\n",
       "    <tr>\n",
       "      <th>495189</th>\n",
       "      <td>SV3805</td>\n",
       "      <td>SV</td>\n",
       "      <td>Saudia</td>\n",
       "      <td>2018-12-02 07:30:00</td>\n",
       "      <td>2018-12-02 17:00:00</td>\n",
       "      <td>Kuala Lumpur</td>\n",
       "      <td>KUL</td>\n",
       "      <td>MY</td>\n",
       "      <td>C1</td>\n",
       "      <td>Kuala Lumpur International Airport</td>\n",
       "      <td>Asia</td>\n",
       "      <td>1</td>\n",
       "      <td>Asia/Kuala_Lumpur</td>\n",
       "      <td>Madinah</td>\n",
       "      <td>MED</td>\n",
       "      <td>SA</td>\n",
       "      <td>NaN</td>\n",
       "      <td>Prince Mohammad Bin Abdulaziz International Ai...</td>\n",
       "      <td>Middle East</td>\n",
       "      <td>NaN</td>\n",
       "      <td>Asia/Riyadh</td>\n",
       "      <td>332</td>\n",
       "      <td>Airbus A330-200</td>\n",
       "      <td>NaN</td>\n",
       "      <td>14</td>\n",
       "      <td>KUL : MED</td>\n",
       "      <td>570.0</td>\n",
       "      <td>high</td>\n",
       "      <td>12to18</td>\n",
       "    </tr>\n",
       "    <tr>\n",
       "      <th>495235</th>\n",
       "      <td>SV3807</td>\n",
       "      <td>SV</td>\n",
       "      <td>Saudia</td>\n",
       "      <td>2018-12-02 08:30:00</td>\n",
       "      <td>2018-12-02 18:00:00</td>\n",
       "      <td>Kuala Lumpur</td>\n",
       "      <td>KUL</td>\n",
       "      <td>MY</td>\n",
       "      <td>C4</td>\n",
       "      <td>Kuala Lumpur International Airport</td>\n",
       "      <td>Asia</td>\n",
       "      <td>1</td>\n",
       "      <td>Asia/Kuala_Lumpur</td>\n",
       "      <td>Madinah</td>\n",
       "      <td>MED</td>\n",
       "      <td>SA</td>\n",
       "      <td>NaN</td>\n",
       "      <td>Prince Mohammad Bin Abdulaziz International Ai...</td>\n",
       "      <td>Middle East</td>\n",
       "      <td>NaN</td>\n",
       "      <td>Asia/Riyadh</td>\n",
       "      <td>332</td>\n",
       "      <td>Airbus A330-200</td>\n",
       "      <td>NaN</td>\n",
       "      <td>17</td>\n",
       "      <td>KUL : MED</td>\n",
       "      <td>570.0</td>\n",
       "      <td>high</td>\n",
       "      <td>12to18</td>\n",
       "    </tr>\n",
       "    <tr>\n",
       "      <th>506760</th>\n",
       "      <td>SV3843</td>\n",
       "      <td>SV</td>\n",
       "      <td>Saudia</td>\n",
       "      <td>2018-12-03 07:30:00</td>\n",
       "      <td>2018-12-03 17:00:00</td>\n",
       "      <td>Kuala Lumpur</td>\n",
       "      <td>KUL</td>\n",
       "      <td>MY</td>\n",
       "      <td>C4</td>\n",
       "      <td>Kuala Lumpur International Airport</td>\n",
       "      <td>Asia</td>\n",
       "      <td>1</td>\n",
       "      <td>Asia/Kuala_Lumpur</td>\n",
       "      <td>Madinah</td>\n",
       "      <td>MED</td>\n",
       "      <td>SA</td>\n",
       "      <td>NaN</td>\n",
       "      <td>Prince Mohammad Bin Abdulaziz International Ai...</td>\n",
       "      <td>Middle East</td>\n",
       "      <td>NaN</td>\n",
       "      <td>Asia/Riyadh</td>\n",
       "      <td>332</td>\n",
       "      <td>Airbus A330-200</td>\n",
       "      <td>NaN</td>\n",
       "      <td>41</td>\n",
       "      <td>KUL : MED</td>\n",
       "      <td>570.0</td>\n",
       "      <td>high</td>\n",
       "      <td>12to18</td>\n",
       "    </tr>\n",
       "    <tr>\n",
       "      <th>506805</th>\n",
       "      <td>SV3845</td>\n",
       "      <td>SV</td>\n",
       "      <td>Saudia</td>\n",
       "      <td>2018-12-03 08:30:00</td>\n",
       "      <td>2018-12-03 18:00:00</td>\n",
       "      <td>Kuala Lumpur</td>\n",
       "      <td>KUL</td>\n",
       "      <td>MY</td>\n",
       "      <td>C1</td>\n",
       "      <td>Kuala Lumpur International Airport</td>\n",
       "      <td>Asia</td>\n",
       "      <td>1</td>\n",
       "      <td>Asia/Kuala_Lumpur</td>\n",
       "      <td>Madinah</td>\n",
       "      <td>MED</td>\n",
       "      <td>SA</td>\n",
       "      <td>NaN</td>\n",
       "      <td>Prince Mohammad Bin Abdulaziz International Ai...</td>\n",
       "      <td>Middle East</td>\n",
       "      <td>NaN</td>\n",
       "      <td>Asia/Riyadh</td>\n",
       "      <td>332</td>\n",
       "      <td>Airbus A330-200</td>\n",
       "      <td>NaN</td>\n",
       "      <td>13</td>\n",
       "      <td>KUL : MED</td>\n",
       "      <td>570.0</td>\n",
       "      <td>medium</td>\n",
       "      <td>12to18</td>\n",
       "    </tr>\n",
       "    <tr>\n",
       "      <th>518157</th>\n",
       "      <td>SV3829</td>\n",
       "      <td>SV</td>\n",
       "      <td>Saudia</td>\n",
       "      <td>2018-12-04 07:30:00</td>\n",
       "      <td>2018-12-04 17:00:00</td>\n",
       "      <td>Kuala Lumpur</td>\n",
       "      <td>KUL</td>\n",
       "      <td>MY</td>\n",
       "      <td>C1</td>\n",
       "      <td>Kuala Lumpur International Airport</td>\n",
       "      <td>Asia</td>\n",
       "      <td>1</td>\n",
       "      <td>Asia/Kuala_Lumpur</td>\n",
       "      <td>Madinah</td>\n",
       "      <td>MED</td>\n",
       "      <td>SA</td>\n",
       "      <td>NaN</td>\n",
       "      <td>Prince Mohammad Bin Abdulaziz International Ai...</td>\n",
       "      <td>Middle East</td>\n",
       "      <td>NaN</td>\n",
       "      <td>Asia/Riyadh</td>\n",
       "      <td>332</td>\n",
       "      <td>Airbus A330-200</td>\n",
       "      <td>NaN</td>\n",
       "      <td>29</td>\n",
       "      <td>KUL : MED</td>\n",
       "      <td>570.0</td>\n",
       "      <td>high</td>\n",
       "      <td>12to18</td>\n",
       "    </tr>\n",
       "    <tr>\n",
       "      <th>...</th>\n",
       "      <td>...</td>\n",
       "      <td>...</td>\n",
       "      <td>...</td>\n",
       "      <td>...</td>\n",
       "      <td>...</td>\n",
       "      <td>...</td>\n",
       "      <td>...</td>\n",
       "      <td>...</td>\n",
       "      <td>...</td>\n",
       "      <td>...</td>\n",
       "      <td>...</td>\n",
       "      <td>...</td>\n",
       "      <td>...</td>\n",
       "      <td>...</td>\n",
       "      <td>...</td>\n",
       "      <td>...</td>\n",
       "      <td>...</td>\n",
       "      <td>...</td>\n",
       "      <td>...</td>\n",
       "      <td>...</td>\n",
       "      <td>...</td>\n",
       "      <td>...</td>\n",
       "      <td>...</td>\n",
       "      <td>...</td>\n",
       "      <td>...</td>\n",
       "      <td>...</td>\n",
       "      <td>...</td>\n",
       "      <td>...</td>\n",
       "      <td>...</td>\n",
       "    </tr>\n",
       "    <tr>\n",
       "      <th>656755</th>\n",
       "      <td>CI6596</td>\n",
       "      <td>CI</td>\n",
       "      <td>China Airlines</td>\n",
       "      <td>2018-12-16 06:00:00</td>\n",
       "      <td>2018-12-16 09:00:00</td>\n",
       "      <td>Penang</td>\n",
       "      <td>PEN</td>\n",
       "      <td>MY</td>\n",
       "      <td>NaN</td>\n",
       "      <td>Penang International Airport</td>\n",
       "      <td>Asia</td>\n",
       "      <td>NaN</td>\n",
       "      <td>Asia/Kuala_Lumpur</td>\n",
       "      <td>Hanoi</td>\n",
       "      <td>HAN</td>\n",
       "      <td>VN</td>\n",
       "      <td>NaN</td>\n",
       "      <td>Noi Bai International Airport</td>\n",
       "      <td>Asia</td>\n",
       "      <td>T2</td>\n",
       "      <td>Asia/Ho_Chi_Minh</td>\n",
       "      <td>747</td>\n",
       "      <td>Boeing 747 Passenger</td>\n",
       "      <td>NaN</td>\n",
       "      <td>29</td>\n",
       "      <td>PEN : HAN</td>\n",
       "      <td>180.0</td>\n",
       "      <td>high</td>\n",
       "      <td>6to12</td>\n",
       "    </tr>\n",
       "    <tr>\n",
       "      <th>661169</th>\n",
       "      <td>CI6596</td>\n",
       "      <td>CI</td>\n",
       "      <td>China Airlines</td>\n",
       "      <td>2018-12-16 06:00:00</td>\n",
       "      <td>2018-12-16 09:00:00</td>\n",
       "      <td>Penang</td>\n",
       "      <td>PEN</td>\n",
       "      <td>MY</td>\n",
       "      <td>NaN</td>\n",
       "      <td>Penang International Airport</td>\n",
       "      <td>Asia</td>\n",
       "      <td>NaN</td>\n",
       "      <td>Asia/Kuala_Lumpur</td>\n",
       "      <td>Hanoi</td>\n",
       "      <td>HAN</td>\n",
       "      <td>VN</td>\n",
       "      <td>NaN</td>\n",
       "      <td>Noi Bai International Airport</td>\n",
       "      <td>Asia</td>\n",
       "      <td>T2</td>\n",
       "      <td>Asia/Ho_Chi_Minh</td>\n",
       "      <td>747</td>\n",
       "      <td>Boeing 747 Passenger</td>\n",
       "      <td>NaN</td>\n",
       "      <td>29</td>\n",
       "      <td>PEN : HAN</td>\n",
       "      <td>180.0</td>\n",
       "      <td>high</td>\n",
       "      <td>6to12</td>\n",
       "    </tr>\n",
       "    <tr>\n",
       "      <th>661171</th>\n",
       "      <td>CI6596</td>\n",
       "      <td>CI</td>\n",
       "      <td>China Airlines</td>\n",
       "      <td>2018-12-16 06:00:00</td>\n",
       "      <td>2018-12-16 09:00:00</td>\n",
       "      <td>Penang</td>\n",
       "      <td>PEN</td>\n",
       "      <td>MY</td>\n",
       "      <td>NaN</td>\n",
       "      <td>Penang International Airport</td>\n",
       "      <td>Asia</td>\n",
       "      <td>NaN</td>\n",
       "      <td>Asia/Kuala_Lumpur</td>\n",
       "      <td>Hanoi</td>\n",
       "      <td>HAN</td>\n",
       "      <td>VN</td>\n",
       "      <td>NaN</td>\n",
       "      <td>Noi Bai International Airport</td>\n",
       "      <td>Asia</td>\n",
       "      <td>T2</td>\n",
       "      <td>Asia/Ho_Chi_Minh</td>\n",
       "      <td>747</td>\n",
       "      <td>Boeing 747 Passenger</td>\n",
       "      <td>NaN</td>\n",
       "      <td>29</td>\n",
       "      <td>PEN : HAN</td>\n",
       "      <td>180.0</td>\n",
       "      <td>high</td>\n",
       "      <td>6to12</td>\n",
       "    </tr>\n",
       "    <tr>\n",
       "      <th>667698</th>\n",
       "      <td>SV3819</td>\n",
       "      <td>SV</td>\n",
       "      <td>Saudia</td>\n",
       "      <td>2018-12-17 07:30:00</td>\n",
       "      <td>2018-12-17 17:00:00</td>\n",
       "      <td>Kuala Lumpur</td>\n",
       "      <td>KUL</td>\n",
       "      <td>MY</td>\n",
       "      <td>C1</td>\n",
       "      <td>Kuala Lumpur International Airport</td>\n",
       "      <td>Asia</td>\n",
       "      <td>1</td>\n",
       "      <td>Asia/Kuala_Lumpur</td>\n",
       "      <td>Madinah</td>\n",
       "      <td>MED</td>\n",
       "      <td>SA</td>\n",
       "      <td>NaN</td>\n",
       "      <td>Prince Mohammad Bin Abdulaziz International Ai...</td>\n",
       "      <td>Middle East</td>\n",
       "      <td>NaN</td>\n",
       "      <td>Asia/Riyadh</td>\n",
       "      <td>332</td>\n",
       "      <td>Airbus A330-200</td>\n",
       "      <td>NaN</td>\n",
       "      <td>33</td>\n",
       "      <td>KUL : MED</td>\n",
       "      <td>570.0</td>\n",
       "      <td>high</td>\n",
       "      <td>12to18</td>\n",
       "    </tr>\n",
       "    <tr>\n",
       "      <th>690748</th>\n",
       "      <td>SV3827</td>\n",
       "      <td>SV</td>\n",
       "      <td>Saudia</td>\n",
       "      <td>2018-12-19 08:30:00</td>\n",
       "      <td>2018-12-19 18:00:00</td>\n",
       "      <td>Kuala Lumpur</td>\n",
       "      <td>KUL</td>\n",
       "      <td>MY</td>\n",
       "      <td>C32</td>\n",
       "      <td>Kuala Lumpur International Airport</td>\n",
       "      <td>Asia</td>\n",
       "      <td>1</td>\n",
       "      <td>Asia/Kuala_Lumpur</td>\n",
       "      <td>Madinah</td>\n",
       "      <td>MED</td>\n",
       "      <td>SA</td>\n",
       "      <td>NaN</td>\n",
       "      <td>Prince Mohammad Bin Abdulaziz International Ai...</td>\n",
       "      <td>Middle East</td>\n",
       "      <td>NaN</td>\n",
       "      <td>Asia/Riyadh</td>\n",
       "      <td>332</td>\n",
       "      <td>Airbus A330-200</td>\n",
       "      <td>NaN</td>\n",
       "      <td>37</td>\n",
       "      <td>KUL : MED</td>\n",
       "      <td>570.0</td>\n",
       "      <td>high</td>\n",
       "      <td>12to18</td>\n",
       "    </tr>\n",
       "    <tr>\n",
       "      <th>702627</th>\n",
       "      <td>CI5854</td>\n",
       "      <td>CI</td>\n",
       "      <td>China Airlines</td>\n",
       "      <td>2018-12-20 12:10:00</td>\n",
       "      <td>2018-12-20 16:30:00</td>\n",
       "      <td>Kuala Lumpur</td>\n",
       "      <td>KUL</td>\n",
       "      <td>MY</td>\n",
       "      <td>NaN</td>\n",
       "      <td>Kuala Lumpur International Airport</td>\n",
       "      <td>Asia</td>\n",
       "      <td>NaN</td>\n",
       "      <td>Asia/Kuala_Lumpur</td>\n",
       "      <td>Taipei</td>\n",
       "      <td>TPE</td>\n",
       "      <td>TW</td>\n",
       "      <td>NaN</td>\n",
       "      <td>Taiwan Taoyuan International Airport</td>\n",
       "      <td>Asia</td>\n",
       "      <td>NaN</td>\n",
       "      <td>Asia/Taipei</td>\n",
       "      <td>747</td>\n",
       "      <td>Boeing 747 Passenger</td>\n",
       "      <td>NaN</td>\n",
       "      <td>42</td>\n",
       "      <td>KUL : TPE</td>\n",
       "      <td>260.0</td>\n",
       "      <td>high</td>\n",
       "      <td>12to18</td>\n",
       "    </tr>\n",
       "    <tr>\n",
       "      <th>704448</th>\n",
       "      <td>CI5854</td>\n",
       "      <td>CI</td>\n",
       "      <td>China Airlines</td>\n",
       "      <td>2018-12-20 12:10:00</td>\n",
       "      <td>2018-12-20 16:30:00</td>\n",
       "      <td>Kuala Lumpur</td>\n",
       "      <td>KUL</td>\n",
       "      <td>MY</td>\n",
       "      <td>NaN</td>\n",
       "      <td>Kuala Lumpur International Airport</td>\n",
       "      <td>Asia</td>\n",
       "      <td>NaN</td>\n",
       "      <td>Asia/Kuala_Lumpur</td>\n",
       "      <td>Taipei</td>\n",
       "      <td>TPE</td>\n",
       "      <td>TW</td>\n",
       "      <td>NaN</td>\n",
       "      <td>Taiwan Taoyuan International Airport</td>\n",
       "      <td>Asia</td>\n",
       "      <td>NaN</td>\n",
       "      <td>Asia/Taipei</td>\n",
       "      <td>747</td>\n",
       "      <td>Boeing 747 Passenger</td>\n",
       "      <td>NaN</td>\n",
       "      <td>42</td>\n",
       "      <td>KUL : TPE</td>\n",
       "      <td>260.0</td>\n",
       "      <td>high</td>\n",
       "      <td>12to18</td>\n",
       "    </tr>\n",
       "  </tbody>\n",
       "</table>\n",
       "<p>42 rows × 29 columns</p>\n",
       "</div>"
      ],
      "text/plain": [
       "        number airline    airline_name scheduled_departure_time  \\\n",
       "id                                                                \n",
       "483818  SV3841      SV          Saudia      2018-12-01 07:30:00   \n",
       "483868  SV3843      SV          Saudia      2018-12-01 08:30:00   \n",
       "495189  SV3805      SV          Saudia      2018-12-02 07:30:00   \n",
       "495235  SV3807      SV          Saudia      2018-12-02 08:30:00   \n",
       "506760  SV3843      SV          Saudia      2018-12-03 07:30:00   \n",
       "506805  SV3845      SV          Saudia      2018-12-03 08:30:00   \n",
       "518157  SV3829      SV          Saudia      2018-12-04 07:30:00   \n",
       "...        ...     ...             ...                      ...   \n",
       "656755  CI6596      CI  China Airlines      2018-12-16 06:00:00   \n",
       "661169  CI6596      CI  China Airlines      2018-12-16 06:00:00   \n",
       "661171  CI6596      CI  China Airlines      2018-12-16 06:00:00   \n",
       "667698  SV3819      SV          Saudia      2018-12-17 07:30:00   \n",
       "690748  SV3827      SV          Saudia      2018-12-19 08:30:00   \n",
       "702627  CI5854      CI  China Airlines      2018-12-20 12:10:00   \n",
       "704448  CI5854      CI  China Airlines      2018-12-20 12:10:00   \n",
       "\n",
       "       scheduled_arrival_time departure_airport_city departure_airport_code  \\\n",
       "id                                                                            \n",
       "483818    2018-12-01 17:00:00           Kuala Lumpur                    KUL   \n",
       "483868    2018-12-01 18:00:00           Kuala Lumpur                    KUL   \n",
       "495189    2018-12-02 17:00:00           Kuala Lumpur                    KUL   \n",
       "495235    2018-12-02 18:00:00           Kuala Lumpur                    KUL   \n",
       "506760    2018-12-03 17:00:00           Kuala Lumpur                    KUL   \n",
       "506805    2018-12-03 18:00:00           Kuala Lumpur                    KUL   \n",
       "518157    2018-12-04 17:00:00           Kuala Lumpur                    KUL   \n",
       "...                       ...                    ...                    ...   \n",
       "656755    2018-12-16 09:00:00                 Penang                    PEN   \n",
       "661169    2018-12-16 09:00:00                 Penang                    PEN   \n",
       "661171    2018-12-16 09:00:00                 Penang                    PEN   \n",
       "667698    2018-12-17 17:00:00           Kuala Lumpur                    KUL   \n",
       "690748    2018-12-19 18:00:00           Kuala Lumpur                    KUL   \n",
       "702627    2018-12-20 16:30:00           Kuala Lumpur                    KUL   \n",
       "704448    2018-12-20 16:30:00           Kuala Lumpur                    KUL   \n",
       "\n",
       "       departure_airport_country departure_airport_gate  \\\n",
       "id                                                        \n",
       "483818                        MY                    C14   \n",
       "483868                        MY                     C3   \n",
       "495189                        MY                     C1   \n",
       "495235                        MY                     C4   \n",
       "506760                        MY                     C4   \n",
       "506805                        MY                     C1   \n",
       "518157                        MY                     C1   \n",
       "...                          ...                    ...   \n",
       "656755                        MY                    NaN   \n",
       "661169                        MY                    NaN   \n",
       "661171                        MY                    NaN   \n",
       "667698                        MY                     C1   \n",
       "690748                        MY                    C32   \n",
       "702627                        MY                    NaN   \n",
       "704448                        MY                    NaN   \n",
       "\n",
       "                    departure_airport_name departure_airport_region  \\\n",
       "id                                                                    \n",
       "483818  Kuala Lumpur International Airport                     Asia   \n",
       "483868  Kuala Lumpur International Airport                     Asia   \n",
       "495189  Kuala Lumpur International Airport                     Asia   \n",
       "495235  Kuala Lumpur International Airport                     Asia   \n",
       "506760  Kuala Lumpur International Airport                     Asia   \n",
       "506805  Kuala Lumpur International Airport                     Asia   \n",
       "518157  Kuala Lumpur International Airport                     Asia   \n",
       "...                                    ...                      ...   \n",
       "656755        Penang International Airport                     Asia   \n",
       "661169        Penang International Airport                     Asia   \n",
       "661171        Penang International Airport                     Asia   \n",
       "667698  Kuala Lumpur International Airport                     Asia   \n",
       "690748  Kuala Lumpur International Airport                     Asia   \n",
       "702627  Kuala Lumpur International Airport                     Asia   \n",
       "704448  Kuala Lumpur International Airport                     Asia   \n",
       "\n",
       "       departure_airport_terminal departure_airport_timezone  \\\n",
       "id                                                             \n",
       "483818                          1          Asia/Kuala_Lumpur   \n",
       "483868                          1          Asia/Kuala_Lumpur   \n",
       "495189                          1          Asia/Kuala_Lumpur   \n",
       "495235                          1          Asia/Kuala_Lumpur   \n",
       "506760                          1          Asia/Kuala_Lumpur   \n",
       "506805                          1          Asia/Kuala_Lumpur   \n",
       "518157                          1          Asia/Kuala_Lumpur   \n",
       "...                           ...                        ...   \n",
       "656755                        NaN          Asia/Kuala_Lumpur   \n",
       "661169                        NaN          Asia/Kuala_Lumpur   \n",
       "661171                        NaN          Asia/Kuala_Lumpur   \n",
       "667698                          1          Asia/Kuala_Lumpur   \n",
       "690748                          1          Asia/Kuala_Lumpur   \n",
       "702627                        NaN          Asia/Kuala_Lumpur   \n",
       "704448                        NaN          Asia/Kuala_Lumpur   \n",
       "\n",
       "       arrival_airport_city arrival_airport_code arrival_airport_country  \\\n",
       "id                                                                         \n",
       "483818              Madinah                  MED                      SA   \n",
       "483868              Madinah                  MED                      SA   \n",
       "495189              Madinah                  MED                      SA   \n",
       "495235              Madinah                  MED                      SA   \n",
       "506760              Madinah                  MED                      SA   \n",
       "506805              Madinah                  MED                      SA   \n",
       "518157              Madinah                  MED                      SA   \n",
       "...                     ...                  ...                     ...   \n",
       "656755                Hanoi                  HAN                      VN   \n",
       "661169                Hanoi                  HAN                      VN   \n",
       "661171                Hanoi                  HAN                      VN   \n",
       "667698              Madinah                  MED                      SA   \n",
       "690748              Madinah                  MED                      SA   \n",
       "702627               Taipei                  TPE                      TW   \n",
       "704448               Taipei                  TPE                      TW   \n",
       "\n",
       "       arrival_airport_gate  \\\n",
       "id                            \n",
       "483818                  NaN   \n",
       "483868                  NaN   \n",
       "495189                  NaN   \n",
       "495235                  NaN   \n",
       "506760                  NaN   \n",
       "506805                  NaN   \n",
       "518157                  NaN   \n",
       "...                     ...   \n",
       "656755                  NaN   \n",
       "661169                  NaN   \n",
       "661171                  NaN   \n",
       "667698                  NaN   \n",
       "690748                  NaN   \n",
       "702627                  NaN   \n",
       "704448                  NaN   \n",
       "\n",
       "                                     arrival_airport_name  \\\n",
       "id                                                          \n",
       "483818  Prince Mohammad Bin Abdulaziz International Ai...   \n",
       "483868  Prince Mohammad Bin Abdulaziz International Ai...   \n",
       "495189  Prince Mohammad Bin Abdulaziz International Ai...   \n",
       "495235  Prince Mohammad Bin Abdulaziz International Ai...   \n",
       "506760  Prince Mohammad Bin Abdulaziz International Ai...   \n",
       "506805  Prince Mohammad Bin Abdulaziz International Ai...   \n",
       "518157  Prince Mohammad Bin Abdulaziz International Ai...   \n",
       "...                                                   ...   \n",
       "656755                      Noi Bai International Airport   \n",
       "661169                      Noi Bai International Airport   \n",
       "661171                      Noi Bai International Airport   \n",
       "667698  Prince Mohammad Bin Abdulaziz International Ai...   \n",
       "690748  Prince Mohammad Bin Abdulaziz International Ai...   \n",
       "702627               Taiwan Taoyuan International Airport   \n",
       "704448               Taiwan Taoyuan International Airport   \n",
       "\n",
       "       arrival_airport_region arrival_airport_terminal  \\\n",
       "id                                                       \n",
       "483818            Middle East                      NaN   \n",
       "483868            Middle East                      NaN   \n",
       "495189            Middle East                      NaN   \n",
       "495235            Middle East                      NaN   \n",
       "506760            Middle East                      NaN   \n",
       "506805            Middle East                      NaN   \n",
       "518157            Middle East                      NaN   \n",
       "...                       ...                      ...   \n",
       "656755                   Asia                       T2   \n",
       "661169                   Asia                       T2   \n",
       "661171                   Asia                       T2   \n",
       "667698            Middle East                      NaN   \n",
       "690748            Middle East                      NaN   \n",
       "702627                   Asia                      NaN   \n",
       "704448                   Asia                      NaN   \n",
       "\n",
       "       arrival_airport_timezone flight_equipment_iata flight_equipment_name  \\\n",
       "id                                                                            \n",
       "483818              Asia/Riyadh                   332       Airbus A330-200   \n",
       "483868              Asia/Riyadh                   332       Airbus A330-200   \n",
       "495189              Asia/Riyadh                   332       Airbus A330-200   \n",
       "495235              Asia/Riyadh                   332       Airbus A330-200   \n",
       "506760              Asia/Riyadh                   332       Airbus A330-200   \n",
       "506805              Asia/Riyadh                   332       Airbus A330-200   \n",
       "518157              Asia/Riyadh                   332       Airbus A330-200   \n",
       "...                         ...                   ...                   ...   \n",
       "656755         Asia/Ho_Chi_Minh                   747  Boeing 747 Passenger   \n",
       "661169         Asia/Ho_Chi_Minh                   747  Boeing 747 Passenger   \n",
       "661171         Asia/Ho_Chi_Minh                   747  Boeing 747 Passenger   \n",
       "667698              Asia/Riyadh                   332       Airbus A330-200   \n",
       "690748              Asia/Riyadh                   332       Airbus A330-200   \n",
       "702627              Asia/Taipei                   747  Boeing 747 Passenger   \n",
       "704448              Asia/Taipei                   747  Boeing 747 Passenger   \n",
       "\n",
       "        flight_duration  delay departure_arrival_aiport_code  \\\n",
       "id                                                             \n",
       "483818              NaN     31                     KUL : MED   \n",
       "483868              NaN     31                     KUL : MED   \n",
       "495189              NaN     14                     KUL : MED   \n",
       "495235              NaN     17                     KUL : MED   \n",
       "506760              NaN     41                     KUL : MED   \n",
       "506805              NaN     13                     KUL : MED   \n",
       "518157              NaN     29                     KUL : MED   \n",
       "...                 ...    ...                           ...   \n",
       "656755              NaN     29                     PEN : HAN   \n",
       "661169              NaN     29                     PEN : HAN   \n",
       "661171              NaN     29                     PEN : HAN   \n",
       "667698              NaN     33                     KUL : MED   \n",
       "690748              NaN     37                     KUL : MED   \n",
       "702627              NaN     42                     KUL : TPE   \n",
       "704448              NaN     42                     KUL : TPE   \n",
       "\n",
       "        ticket_flight_duration delay_cat departure_time_cat  \n",
       "id                                                           \n",
       "483818                   570.0      high             12to18  \n",
       "483868                   570.0      high             12to18  \n",
       "495189                   570.0      high             12to18  \n",
       "495235                   570.0      high             12to18  \n",
       "506760                   570.0      high             12to18  \n",
       "506805                   570.0    medium             12to18  \n",
       "518157                   570.0      high             12to18  \n",
       "...                        ...       ...                ...  \n",
       "656755                   180.0      high              6to12  \n",
       "661169                   180.0      high              6to12  \n",
       "661171                   180.0      high              6to12  \n",
       "667698                   570.0      high             12to18  \n",
       "690748                   570.0      high             12to18  \n",
       "702627                   260.0      high             12to18  \n",
       "704448                   260.0      high             12to18  \n",
       "\n",
       "[42 rows x 29 columns]"
      ]
     },
     "execution_count": 82,
     "metadata": {},
     "output_type": "execute_result"
    }
   ],
   "source": [
    "# Show the flight that predicted will suffer delay > 60mins\n",
    "display(data_lr_test.loc[data_pred['delay_pred']==1])"
   ]
  }
 ],
 "metadata": {
  "kernelspec": {
   "display_name": "Python 3",
   "language": "python",
   "name": "python3"
  },
  "language_info": {
   "codemirror_mode": {
    "name": "ipython",
    "version": 3
   },
   "file_extension": ".py",
   "mimetype": "text/x-python",
   "name": "python",
   "nbconvert_exporter": "python",
   "pygments_lexer": "ipython3",
   "version": "3.7.3"
  },
  "latex_envs": {
   "LaTeX_envs_menu_present": true,
   "autoclose": false,
   "autocomplete": true,
   "bibliofile": "biblio.bib",
   "cite_by": "apalike",
   "current_citInitial": 1,
   "eqLabelWithNumbers": true,
   "eqNumInitial": 1,
   "hotkeys": {
    "equation": "Ctrl-E",
    "itemize": "Ctrl-I"
   },
   "labels_anchors": false,
   "latex_user_defs": false,
   "report_style_numbering": false,
   "user_envs_cfg": false
  },
  "toc": {
   "base_numbering": 1,
   "nav_menu": {},
   "number_sections": true,
   "sideBar": true,
   "skip_h1_title": false,
   "title_cell": "Table of Contents",
   "title_sidebar": "Contents",
   "toc_cell": false,
   "toc_position": {},
   "toc_section_display": true,
   "toc_window_display": false
  }
 },
 "nbformat": 4,
 "nbformat_minor": 2
}
